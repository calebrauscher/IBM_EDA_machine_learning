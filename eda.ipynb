{
 "cells": [
  {
   "cell_type": "markdown",
   "metadata": {},
   "source": [
    "# Exploratory Data Analysis for Machine Learning\n",
    "\n",
    "## About Dataset\n",
    "\n",
    "The data contains running activity data from March 2022 to December 2023. The data has been downloaded using the Strava API.\n",
    "\n",
    "The data consists of 105 rows and 19 variables. With 4 float variables, 8 integer variables, and 7 categorical variables."
   ]
  },
  {
   "cell_type": "code",
   "execution_count": 41,
   "metadata": {},
   "outputs": [],
   "source": [
    "from IPython.display import clear_output"
   ]
  },
  {
   "cell_type": "code",
   "execution_count": 55,
   "metadata": {},
   "outputs": [],
   "source": [
    "%pip install kagglehub\n",
    "%pip install pandas\n",
    "%pip install openpyxl\n",
    "%pip install seaborn\n",
    "%pip install plotly\n",
    "%pip install scikit-learn\n",
    "%pip install geopandas\n",
    "%pip install \"nbformat>=4.2.0\"\n",
    "clear_output() "
   ]
  },
  {
   "cell_type": "code",
   "execution_count": 56,
   "metadata": {},
   "outputs": [],
   "source": [
    "import kagglehub\n",
    "from pathlib import Path\n",
    "import pandas as pd\n",
    "import seaborn as sns\n",
    "import plotly.express as px\n",
    "import numpy as np\n",
    "from scipy.stats import skew, kurtosis\n",
    "import geopandas as gpd\n",
    "import matplotlib.pyplot as plt"
   ]
  },
  {
   "cell_type": "code",
   "execution_count": 2,
   "metadata": {},
   "outputs": [
    {
     "name": "stdout",
     "output_type": "stream",
     "text": [
      "Path to dataset files: data\\Strava Running Data.xlsx\\Strava Running Data.xlsx\n"
     ]
    }
   ],
   "source": [
    "# Download latest version\n",
    "path = kagglehub.dataset_download(\"ajitjadhav1/strava-running-activity-data\")\n",
    "\n",
    "try:\n",
    "    Path(path).rename(r\"data\\Strava Running Data.xlsx\")\n",
    "except FileExistsError:\n",
    "    print(\n",
    "        \"Path to dataset files:\",\n",
    "        r\"data\\Strava Running Data.xlsx\\Strava Running Data.xlsx\",\n",
    "    )"
   ]
  },
  {
   "cell_type": "code",
   "execution_count": 60,
   "metadata": {},
   "outputs": [
    {
     "data": {
      "text/html": [
       "<div>\n",
       "<style scoped>\n",
       "    .dataframe tbody tr th:only-of-type {\n",
       "        vertical-align: middle;\n",
       "    }\n",
       "\n",
       "    .dataframe tbody tr th {\n",
       "        vertical-align: top;\n",
       "    }\n",
       "\n",
       "    .dataframe thead th {\n",
       "        text-align: right;\n",
       "    }\n",
       "</style>\n",
       "<table border=\"1\" class=\"dataframe\">\n",
       "  <thead>\n",
       "    <tr style=\"text-align: right;\">\n",
       "      <th></th>\n",
       "      <th>Sr. no.</th>\n",
       "      <th>start_date_local</th>\n",
       "      <th>type</th>\n",
       "      <th>distance</th>\n",
       "      <th>moving_time</th>\n",
       "      <th>elapsed_time</th>\n",
       "      <th>total_elevation_gain</th>\n",
       "      <th>start_latlng</th>\n",
       "      <th>end_latlng</th>\n",
       "      <th>sport_type</th>\n",
       "      <th>start_date</th>\n",
       "      <th>timezone</th>\n",
       "      <th>achievement_count</th>\n",
       "      <th>kudos_count</th>\n",
       "      <th>comment_count</th>\n",
       "      <th>athlete_count</th>\n",
       "      <th>photo_count</th>\n",
       "      <th>average_speed</th>\n",
       "      <th>max_speed</th>\n",
       "    </tr>\n",
       "  </thead>\n",
       "  <tbody>\n",
       "    <tr>\n",
       "      <th>0</th>\n",
       "      <td>1</td>\n",
       "      <td>2023-12-09T09:09:19Z</td>\n",
       "      <td>Run</td>\n",
       "      <td>10879.7</td>\n",
       "      <td>4023</td>\n",
       "      <td>4617</td>\n",
       "      <td>91.4</td>\n",
       "      <td>[40.70327935740352, -73.99619171395898]</td>\n",
       "      <td>[40.69340907968581, -73.97922154515982]</td>\n",
       "      <td>Run</td>\n",
       "      <td>2023-12-09T14:09:19Z</td>\n",
       "      <td>(GMT-05:00) America/New_York</td>\n",
       "      <td>4</td>\n",
       "      <td>4</td>\n",
       "      <td>0</td>\n",
       "      <td>3</td>\n",
       "      <td>0</td>\n",
       "      <td>2.704</td>\n",
       "      <td>6.228</td>\n",
       "    </tr>\n",
       "    <tr>\n",
       "      <th>1</th>\n",
       "      <td>2</td>\n",
       "      <td>2023-12-07T17:31:50Z</td>\n",
       "      <td>Run</td>\n",
       "      <td>1304.4</td>\n",
       "      <td>722</td>\n",
       "      <td>62993</td>\n",
       "      <td>0.0</td>\n",
       "      <td>[40.7220459356904, -74.03641730546951]</td>\n",
       "      <td>[40.719722136855125, -74.03257705271244]</td>\n",
       "      <td>Run</td>\n",
       "      <td>2023-12-07T22:31:50Z</td>\n",
       "      <td>(GMT-05:00) America/New_York</td>\n",
       "      <td>0</td>\n",
       "      <td>0</td>\n",
       "      <td>0</td>\n",
       "      <td>1</td>\n",
       "      <td>0</td>\n",
       "      <td>1.807</td>\n",
       "      <td>4.044</td>\n",
       "    </tr>\n",
       "    <tr>\n",
       "      <th>2</th>\n",
       "      <td>3</td>\n",
       "      <td>2023-12-03T09:18:13Z</td>\n",
       "      <td>Run</td>\n",
       "      <td>17503.0</td>\n",
       "      <td>7370</td>\n",
       "      <td>7462</td>\n",
       "      <td>68.4</td>\n",
       "      <td>[40.74991073459387, -73.98751585744321]</td>\n",
       "      <td>[40.73538766242564, -73.9793517999351]</td>\n",
       "      <td>Run</td>\n",
       "      <td>2023-12-03T14:18:13Z</td>\n",
       "      <td>(GMT-05:00) America/New_York</td>\n",
       "      <td>2</td>\n",
       "      <td>5</td>\n",
       "      <td>0</td>\n",
       "      <td>4</td>\n",
       "      <td>0</td>\n",
       "      <td>2.375</td>\n",
       "      <td>6.778</td>\n",
       "    </tr>\n",
       "    <tr>\n",
       "      <th>3</th>\n",
       "      <td>4</td>\n",
       "      <td>2023-12-02T09:41:14Z</td>\n",
       "      <td>Run</td>\n",
       "      <td>3457.8</td>\n",
       "      <td>1791</td>\n",
       "      <td>2170</td>\n",
       "      <td>3.9</td>\n",
       "      <td>[40.72203076444566, -74.03641068376601]</td>\n",
       "      <td>[40.71398631669581, -74.03902692720294]</td>\n",
       "      <td>Run</td>\n",
       "      <td>2023-12-02T14:41:14Z</td>\n",
       "      <td>(GMT-05:00) America/New_York</td>\n",
       "      <td>0</td>\n",
       "      <td>2</td>\n",
       "      <td>0</td>\n",
       "      <td>3</td>\n",
       "      <td>0</td>\n",
       "      <td>1.931</td>\n",
       "      <td>4.522</td>\n",
       "    </tr>\n",
       "    <tr>\n",
       "      <th>4</th>\n",
       "      <td>5</td>\n",
       "      <td>2023-12-01T17:06:05Z</td>\n",
       "      <td>Run</td>\n",
       "      <td>10108.2</td>\n",
       "      <td>4128</td>\n",
       "      <td>4221</td>\n",
       "      <td>6.3</td>\n",
       "      <td>[40.72190687991679, -74.03624514117837]</td>\n",
       "      <td>[40.71669920347631, -74.03264125809073]</td>\n",
       "      <td>Run</td>\n",
       "      <td>2023-12-01T22:06:05Z</td>\n",
       "      <td>(GMT-05:00) America/New_York</td>\n",
       "      <td>4</td>\n",
       "      <td>5</td>\n",
       "      <td>0</td>\n",
       "      <td>1</td>\n",
       "      <td>0</td>\n",
       "      <td>2.449</td>\n",
       "      <td>5.462</td>\n",
       "    </tr>\n",
       "    <tr>\n",
       "      <th>...</th>\n",
       "      <td>...</td>\n",
       "      <td>...</td>\n",
       "      <td>...</td>\n",
       "      <td>...</td>\n",
       "      <td>...</td>\n",
       "      <td>...</td>\n",
       "      <td>...</td>\n",
       "      <td>...</td>\n",
       "      <td>...</td>\n",
       "      <td>...</td>\n",
       "      <td>...</td>\n",
       "      <td>...</td>\n",
       "      <td>...</td>\n",
       "      <td>...</td>\n",
       "      <td>...</td>\n",
       "      <td>...</td>\n",
       "      <td>...</td>\n",
       "      <td>...</td>\n",
       "      <td>...</td>\n",
       "    </tr>\n",
       "    <tr>\n",
       "      <th>100</th>\n",
       "      <td>101</td>\n",
       "      <td>2022-06-12T09:20:44Z</td>\n",
       "      <td>Run</td>\n",
       "      <td>7857.2</td>\n",
       "      <td>3900</td>\n",
       "      <td>4113</td>\n",
       "      <td>116.6</td>\n",
       "      <td>[39.27252494730055, -76.69631998054683]</td>\n",
       "      <td>[39.27245143800974, -76.69639013707638]</td>\n",
       "      <td>Run</td>\n",
       "      <td>2022-06-12T13:20:44Z</td>\n",
       "      <td>(GMT-05:00) America/New_York</td>\n",
       "      <td>6</td>\n",
       "      <td>0</td>\n",
       "      <td>0</td>\n",
       "      <td>1</td>\n",
       "      <td>0</td>\n",
       "      <td>2.015</td>\n",
       "      <td>3.326</td>\n",
       "    </tr>\n",
       "    <tr>\n",
       "      <th>101</th>\n",
       "      <td>102</td>\n",
       "      <td>2022-05-28T11:11:38Z</td>\n",
       "      <td>Run</td>\n",
       "      <td>6067.2</td>\n",
       "      <td>3334</td>\n",
       "      <td>3555</td>\n",
       "      <td>88.2</td>\n",
       "      <td>[39.272494772449136, -76.69640866108239]</td>\n",
       "      <td>[39.27246367558837, -76.69636884704232]</td>\n",
       "      <td>Run</td>\n",
       "      <td>2022-05-28T15:11:38Z</td>\n",
       "      <td>(GMT-05:00) America/New_York</td>\n",
       "      <td>3</td>\n",
       "      <td>0</td>\n",
       "      <td>0</td>\n",
       "      <td>1</td>\n",
       "      <td>0</td>\n",
       "      <td>1.820</td>\n",
       "      <td>3.172</td>\n",
       "    </tr>\n",
       "    <tr>\n",
       "      <th>102</th>\n",
       "      <td>103</td>\n",
       "      <td>2022-05-22T07:13:30Z</td>\n",
       "      <td>Run</td>\n",
       "      <td>4587.6</td>\n",
       "      <td>2263</td>\n",
       "      <td>2478</td>\n",
       "      <td>56.6</td>\n",
       "      <td>[39.272621758282185, -76.69633297249675]</td>\n",
       "      <td>[39.27250734530389, -76.69635468162596]</td>\n",
       "      <td>Run</td>\n",
       "      <td>2022-05-22T11:13:30Z</td>\n",
       "      <td>(GMT-05:00) America/New_York</td>\n",
       "      <td>5</td>\n",
       "      <td>0</td>\n",
       "      <td>0</td>\n",
       "      <td>1</td>\n",
       "      <td>0</td>\n",
       "      <td>2.027</td>\n",
       "      <td>3.557</td>\n",
       "    </tr>\n",
       "    <tr>\n",
       "      <th>103</th>\n",
       "      <td>104</td>\n",
       "      <td>2022-05-21T07:27:40Z</td>\n",
       "      <td>Run</td>\n",
       "      <td>4313.6</td>\n",
       "      <td>2182</td>\n",
       "      <td>2426</td>\n",
       "      <td>55.0</td>\n",
       "      <td>[39.27257808856666, -76.69626507908106]</td>\n",
       "      <td>[39.27250818349421, -76.69635669328272]</td>\n",
       "      <td>Run</td>\n",
       "      <td>2022-05-21T11:27:40Z</td>\n",
       "      <td>(GMT-05:00) America/New_York</td>\n",
       "      <td>4</td>\n",
       "      <td>0</td>\n",
       "      <td>0</td>\n",
       "      <td>1</td>\n",
       "      <td>0</td>\n",
       "      <td>1.977</td>\n",
       "      <td>3.874</td>\n",
       "    </tr>\n",
       "    <tr>\n",
       "      <th>104</th>\n",
       "      <td>105</td>\n",
       "      <td>2022-03-16T12:12:54Z</td>\n",
       "      <td>Run</td>\n",
       "      <td>2764.0</td>\n",
       "      <td>955</td>\n",
       "      <td>1009</td>\n",
       "      <td>38.5</td>\n",
       "      <td>[39.25251114182174, -76.7134093400091]</td>\n",
       "      <td>[39.252579705789685, -76.71341864392161]</td>\n",
       "      <td>Run</td>\n",
       "      <td>2022-03-16T16:12:54Z</td>\n",
       "      <td>(GMT-05:00) America/New_York</td>\n",
       "      <td>0</td>\n",
       "      <td>0</td>\n",
       "      <td>0</td>\n",
       "      <td>2</td>\n",
       "      <td>0</td>\n",
       "      <td>2.739</td>\n",
       "      <td>4.770</td>\n",
       "    </tr>\n",
       "  </tbody>\n",
       "</table>\n",
       "<p>105 rows × 19 columns</p>\n",
       "</div>"
      ],
      "text/plain": [
       "     Sr. no.      start_date_local type  distance  moving_time  elapsed_time  \\\n",
       "0          1  2023-12-09T09:09:19Z  Run   10879.7         4023          4617   \n",
       "1          2  2023-12-07T17:31:50Z  Run    1304.4          722         62993   \n",
       "2          3  2023-12-03T09:18:13Z  Run   17503.0         7370          7462   \n",
       "3          4  2023-12-02T09:41:14Z  Run    3457.8         1791          2170   \n",
       "4          5  2023-12-01T17:06:05Z  Run   10108.2         4128          4221   \n",
       "..       ...                   ...  ...       ...          ...           ...   \n",
       "100      101  2022-06-12T09:20:44Z  Run    7857.2         3900          4113   \n",
       "101      102  2022-05-28T11:11:38Z  Run    6067.2         3334          3555   \n",
       "102      103  2022-05-22T07:13:30Z  Run    4587.6         2263          2478   \n",
       "103      104  2022-05-21T07:27:40Z  Run    4313.6         2182          2426   \n",
       "104      105  2022-03-16T12:12:54Z  Run    2764.0          955          1009   \n",
       "\n",
       "     total_elevation_gain                              start_latlng  \\\n",
       "0                    91.4   [40.70327935740352, -73.99619171395898]   \n",
       "1                     0.0    [40.7220459356904, -74.03641730546951]   \n",
       "2                    68.4   [40.74991073459387, -73.98751585744321]   \n",
       "3                     3.9   [40.72203076444566, -74.03641068376601]   \n",
       "4                     6.3   [40.72190687991679, -74.03624514117837]   \n",
       "..                    ...                                       ...   \n",
       "100                 116.6   [39.27252494730055, -76.69631998054683]   \n",
       "101                  88.2  [39.272494772449136, -76.69640866108239]   \n",
       "102                  56.6  [39.272621758282185, -76.69633297249675]   \n",
       "103                  55.0   [39.27257808856666, -76.69626507908106]   \n",
       "104                  38.5    [39.25251114182174, -76.7134093400091]   \n",
       "\n",
       "                                   end_latlng sport_type  \\\n",
       "0     [40.69340907968581, -73.97922154515982]        Run   \n",
       "1    [40.719722136855125, -74.03257705271244]        Run   \n",
       "2      [40.73538766242564, -73.9793517999351]        Run   \n",
       "3     [40.71398631669581, -74.03902692720294]        Run   \n",
       "4     [40.71669920347631, -74.03264125809073]        Run   \n",
       "..                                        ...        ...   \n",
       "100   [39.27245143800974, -76.69639013707638]        Run   \n",
       "101   [39.27246367558837, -76.69636884704232]        Run   \n",
       "102   [39.27250734530389, -76.69635468162596]        Run   \n",
       "103   [39.27250818349421, -76.69635669328272]        Run   \n",
       "104  [39.252579705789685, -76.71341864392161]        Run   \n",
       "\n",
       "               start_date                      timezone  achievement_count  \\\n",
       "0    2023-12-09T14:09:19Z  (GMT-05:00) America/New_York                  4   \n",
       "1    2023-12-07T22:31:50Z  (GMT-05:00) America/New_York                  0   \n",
       "2    2023-12-03T14:18:13Z  (GMT-05:00) America/New_York                  2   \n",
       "3    2023-12-02T14:41:14Z  (GMT-05:00) America/New_York                  0   \n",
       "4    2023-12-01T22:06:05Z  (GMT-05:00) America/New_York                  4   \n",
       "..                    ...                           ...                ...   \n",
       "100  2022-06-12T13:20:44Z  (GMT-05:00) America/New_York                  6   \n",
       "101  2022-05-28T15:11:38Z  (GMT-05:00) America/New_York                  3   \n",
       "102  2022-05-22T11:13:30Z  (GMT-05:00) America/New_York                  5   \n",
       "103  2022-05-21T11:27:40Z  (GMT-05:00) America/New_York                  4   \n",
       "104  2022-03-16T16:12:54Z  (GMT-05:00) America/New_York                  0   \n",
       "\n",
       "     kudos_count  comment_count  athlete_count  photo_count  average_speed  \\\n",
       "0              4              0              3            0          2.704   \n",
       "1              0              0              1            0          1.807   \n",
       "2              5              0              4            0          2.375   \n",
       "3              2              0              3            0          1.931   \n",
       "4              5              0              1            0          2.449   \n",
       "..           ...            ...            ...          ...            ...   \n",
       "100            0              0              1            0          2.015   \n",
       "101            0              0              1            0          1.820   \n",
       "102            0              0              1            0          2.027   \n",
       "103            0              0              1            0          1.977   \n",
       "104            0              0              2            0          2.739   \n",
       "\n",
       "     max_speed  \n",
       "0        6.228  \n",
       "1        4.044  \n",
       "2        6.778  \n",
       "3        4.522  \n",
       "4        5.462  \n",
       "..         ...  \n",
       "100      3.326  \n",
       "101      3.172  \n",
       "102      3.557  \n",
       "103      3.874  \n",
       "104      4.770  \n",
       "\n",
       "[105 rows x 19 columns]"
      ]
     },
     "execution_count": 60,
     "metadata": {},
     "output_type": "execute_result"
    }
   ],
   "source": [
    "data = pd.read_excel(r\"data\\Strava Running Data.xlsx\\Strava Running Data.xlsx\")\n",
    "data"
   ]
  },
  {
   "cell_type": "code",
   "execution_count": 4,
   "metadata": {},
   "outputs": [
    {
     "name": "stdout",
     "output_type": "stream",
     "text": [
      "<class 'pandas.core.frame.DataFrame'>\n",
      "RangeIndex: 105 entries, 0 to 104\n",
      "Data columns (total 19 columns):\n",
      " #   Column                Non-Null Count  Dtype  \n",
      "---  ------                --------------  -----  \n",
      " 0   Sr. no.               105 non-null    int64  \n",
      " 1   start_date_local      105 non-null    object \n",
      " 2   type                  105 non-null    object \n",
      " 3   distance              105 non-null    float64\n",
      " 4   moving_time           105 non-null    int64  \n",
      " 5   elapsed_time          105 non-null    int64  \n",
      " 6   total_elevation_gain  105 non-null    float64\n",
      " 7   start_latlng          105 non-null    object \n",
      " 8   end_latlng            105 non-null    object \n",
      " 9   sport_type            105 non-null    object \n",
      " 10  start_date            105 non-null    object \n",
      " 11  timezone              105 non-null    object \n",
      " 12  achievement_count     105 non-null    int64  \n",
      " 13  kudos_count           105 non-null    int64  \n",
      " 14  comment_count         105 non-null    int64  \n",
      " 15  athlete_count         105 non-null    int64  \n",
      " 16  photo_count           105 non-null    int64  \n",
      " 17  average_speed         105 non-null    float64\n",
      " 18  max_speed             105 non-null    float64\n",
      "dtypes: float64(4), int64(8), object(7)\n",
      "memory usage: 15.7+ KB\n"
     ]
    }
   ],
   "source": [
    "data.info()"
   ]
  },
  {
   "cell_type": "code",
   "execution_count": 5,
   "metadata": {},
   "outputs": [
    {
     "data": {
      "text/html": [
       "<div>\n",
       "<style scoped>\n",
       "    .dataframe tbody tr th:only-of-type {\n",
       "        vertical-align: middle;\n",
       "    }\n",
       "\n",
       "    .dataframe tbody tr th {\n",
       "        vertical-align: top;\n",
       "    }\n",
       "\n",
       "    .dataframe thead th {\n",
       "        text-align: right;\n",
       "    }\n",
       "</style>\n",
       "<table border=\"1\" class=\"dataframe\">\n",
       "  <thead>\n",
       "    <tr style=\"text-align: right;\">\n",
       "      <th></th>\n",
       "      <th>Sr. no.</th>\n",
       "      <th>distance</th>\n",
       "      <th>moving_time</th>\n",
       "      <th>elapsed_time</th>\n",
       "      <th>total_elevation_gain</th>\n",
       "      <th>achievement_count</th>\n",
       "      <th>kudos_count</th>\n",
       "      <th>comment_count</th>\n",
       "      <th>athlete_count</th>\n",
       "      <th>photo_count</th>\n",
       "      <th>average_speed</th>\n",
       "      <th>max_speed</th>\n",
       "    </tr>\n",
       "  </thead>\n",
       "  <tbody>\n",
       "    <tr>\n",
       "      <th>count</th>\n",
       "      <td>105.000000</td>\n",
       "      <td>105.000000</td>\n",
       "      <td>105.000000</td>\n",
       "      <td>105.000000</td>\n",
       "      <td>105.000000</td>\n",
       "      <td>105.000000</td>\n",
       "      <td>105.000000</td>\n",
       "      <td>105.000000</td>\n",
       "      <td>105.000000</td>\n",
       "      <td>105.0</td>\n",
       "      <td>105.000000</td>\n",
       "      <td>105.000000</td>\n",
       "    </tr>\n",
       "    <tr>\n",
       "      <th>mean</th>\n",
       "      <td>53.000000</td>\n",
       "      <td>7067.378095</td>\n",
       "      <td>3554.019048</td>\n",
       "      <td>4753.238095</td>\n",
       "      <td>31.277143</td>\n",
       "      <td>3.076190</td>\n",
       "      <td>0.866667</td>\n",
       "      <td>0.028571</td>\n",
       "      <td>1.628571</td>\n",
       "      <td>0.0</td>\n",
       "      <td>2.197362</td>\n",
       "      <td>4.988343</td>\n",
       "    </tr>\n",
       "    <tr>\n",
       "      <th>std</th>\n",
       "      <td>30.454885</td>\n",
       "      <td>5785.399832</td>\n",
       "      <td>2627.200905</td>\n",
       "      <td>6956.141991</td>\n",
       "      <td>50.915702</td>\n",
       "      <td>3.657698</td>\n",
       "      <td>1.092515</td>\n",
       "      <td>0.167398</td>\n",
       "      <td>3.000824</td>\n",
       "      <td>0.0</td>\n",
       "      <td>0.797553</td>\n",
       "      <td>2.857700</td>\n",
       "    </tr>\n",
       "    <tr>\n",
       "      <th>min</th>\n",
       "      <td>1.000000</td>\n",
       "      <td>0.000000</td>\n",
       "      <td>85.000000</td>\n",
       "      <td>217.000000</td>\n",
       "      <td>0.000000</td>\n",
       "      <td>0.000000</td>\n",
       "      <td>0.000000</td>\n",
       "      <td>0.000000</td>\n",
       "      <td>1.000000</td>\n",
       "      <td>0.0</td>\n",
       "      <td>0.000000</td>\n",
       "      <td>0.000000</td>\n",
       "    </tr>\n",
       "    <tr>\n",
       "      <th>25%</th>\n",
       "      <td>27.000000</td>\n",
       "      <td>3181.300000</td>\n",
       "      <td>1880.000000</td>\n",
       "      <td>2042.000000</td>\n",
       "      <td>0.000000</td>\n",
       "      <td>0.000000</td>\n",
       "      <td>0.000000</td>\n",
       "      <td>0.000000</td>\n",
       "      <td>1.000000</td>\n",
       "      <td>0.0</td>\n",
       "      <td>2.015000</td>\n",
       "      <td>3.800000</td>\n",
       "    </tr>\n",
       "    <tr>\n",
       "      <th>50%</th>\n",
       "      <td>53.000000</td>\n",
       "      <td>5266.200000</td>\n",
       "      <td>2564.000000</td>\n",
       "      <td>3058.000000</td>\n",
       "      <td>5.000000</td>\n",
       "      <td>2.000000</td>\n",
       "      <td>0.000000</td>\n",
       "      <td>0.000000</td>\n",
       "      <td>1.000000</td>\n",
       "      <td>0.0</td>\n",
       "      <td>2.375000</td>\n",
       "      <td>4.586000</td>\n",
       "    </tr>\n",
       "    <tr>\n",
       "      <th>75%</th>\n",
       "      <td>79.000000</td>\n",
       "      <td>10137.900000</td>\n",
       "      <td>4768.000000</td>\n",
       "      <td>5181.000000</td>\n",
       "      <td>55.000000</td>\n",
       "      <td>4.000000</td>\n",
       "      <td>2.000000</td>\n",
       "      <td>0.000000</td>\n",
       "      <td>1.000000</td>\n",
       "      <td>0.0</td>\n",
       "      <td>2.566000</td>\n",
       "      <td>5.714000</td>\n",
       "    </tr>\n",
       "    <tr>\n",
       "      <th>max</th>\n",
       "      <td>105.000000</td>\n",
       "      <td>32192.300000</td>\n",
       "      <td>14536.000000</td>\n",
       "      <td>62993.000000</td>\n",
       "      <td>290.400000</td>\n",
       "      <td>17.000000</td>\n",
       "      <td>5.000000</td>\n",
       "      <td>1.000000</td>\n",
       "      <td>27.000000</td>\n",
       "      <td>0.0</td>\n",
       "      <td>6.085000</td>\n",
       "      <td>18.281000</td>\n",
       "    </tr>\n",
       "  </tbody>\n",
       "</table>\n",
       "</div>"
      ],
      "text/plain": [
       "          Sr. no.      distance   moving_time  elapsed_time  \\\n",
       "count  105.000000    105.000000    105.000000    105.000000   \n",
       "mean    53.000000   7067.378095   3554.019048   4753.238095   \n",
       "std     30.454885   5785.399832   2627.200905   6956.141991   \n",
       "min      1.000000      0.000000     85.000000    217.000000   \n",
       "25%     27.000000   3181.300000   1880.000000   2042.000000   \n",
       "50%     53.000000   5266.200000   2564.000000   3058.000000   \n",
       "75%     79.000000  10137.900000   4768.000000   5181.000000   \n",
       "max    105.000000  32192.300000  14536.000000  62993.000000   \n",
       "\n",
       "       total_elevation_gain  achievement_count  kudos_count  comment_count  \\\n",
       "count            105.000000         105.000000   105.000000     105.000000   \n",
       "mean              31.277143           3.076190     0.866667       0.028571   \n",
       "std               50.915702           3.657698     1.092515       0.167398   \n",
       "min                0.000000           0.000000     0.000000       0.000000   \n",
       "25%                0.000000           0.000000     0.000000       0.000000   \n",
       "50%                5.000000           2.000000     0.000000       0.000000   \n",
       "75%               55.000000           4.000000     2.000000       0.000000   \n",
       "max              290.400000          17.000000     5.000000       1.000000   \n",
       "\n",
       "       athlete_count  photo_count  average_speed   max_speed  \n",
       "count     105.000000        105.0     105.000000  105.000000  \n",
       "mean        1.628571          0.0       2.197362    4.988343  \n",
       "std         3.000824          0.0       0.797553    2.857700  \n",
       "min         1.000000          0.0       0.000000    0.000000  \n",
       "25%         1.000000          0.0       2.015000    3.800000  \n",
       "50%         1.000000          0.0       2.375000    4.586000  \n",
       "75%         1.000000          0.0       2.566000    5.714000  \n",
       "max        27.000000          0.0       6.085000   18.281000  "
      ]
     },
     "execution_count": 5,
     "metadata": {},
     "output_type": "execute_result"
    }
   ],
   "source": [
    "data.describe()"
   ]
  },
  {
   "cell_type": "code",
   "execution_count": 6,
   "metadata": {},
   "outputs": [],
   "source": [
    "data[\"year\"] = pd.DatetimeIndex(data[\"start_date\"]).year\n",
    "data[\"month\"] = pd.DatetimeIndex(data[\"start_date\"]).month\n",
    "data[\"day\"] = pd.DatetimeIndex(data[\"start_date\"]).day"
   ]
  },
  {
   "cell_type": "markdown",
   "metadata": {},
   "source": [
    "## Initial Plan for the data\n",
    "\n",
    "The data will be analyzed over various variables per type."
   ]
  },
  {
   "cell_type": "code",
   "execution_count": 8,
   "metadata": {},
   "outputs": [
    {
     "data": {
      "application/vnd.plotly.v1+json": {
       "config": {
        "plotlyServerURL": "https://plot.ly"
       },
       "data": [
        {
         "hovertemplate": "type=Run<br>start_date=%{x}<br>distance=%{y}<extra></extra>",
         "legendgroup": "Run",
         "line": {
          "color": "#636efa",
          "dash": "solid"
         },
         "marker": {
          "symbol": "circle"
         },
         "mode": "lines",
         "name": "Run",
         "orientation": "v",
         "showlegend": true,
         "type": "scatter",
         "x": [
          "2023-12-09T14:09:19Z",
          "2023-12-07T22:31:50Z",
          "2023-12-03T14:18:13Z",
          "2023-12-02T14:41:14Z",
          "2023-12-01T22:06:05Z",
          "2023-11-29T22:22:51Z",
          "2023-11-26T14:16:39Z",
          "2023-11-09T22:46:38Z",
          "2023-11-07T22:31:51Z",
          "2023-11-04T20:20:18Z",
          "2023-11-02T22:25:15Z",
          "2023-11-01T22:08:35Z",
          "2023-10-31T22:13:17Z",
          "2023-10-29T22:03:13Z",
          "2023-10-28T12:55:44Z",
          "2023-10-23T13:11:55Z",
          "2023-10-19T23:22:33Z",
          "2023-10-12T22:27:56Z",
          "2023-10-10T22:46:51Z",
          "2023-10-10T22:46:43Z",
          "2023-10-08T22:26:49Z",
          "2023-10-04T22:33:38Z",
          "2023-10-01T22:22:23Z",
          "2023-09-28T21:54:23Z",
          "2023-09-26T22:13:37Z",
          "2023-09-20T22:22:55Z",
          "2023-09-12T23:33:27Z",
          "2023-09-10T23:01:35Z",
          "2023-09-07T23:41:00Z",
          "2023-09-05T23:19:51Z",
          "2023-09-03T10:40:50Z",
          "2023-08-31T22:51:40Z",
          "2023-08-18T21:45:19Z",
          "2023-08-17T22:38:25Z",
          "2023-08-06T11:28:11Z",
          "2023-08-02T22:36:39Z",
          "2023-07-31T23:10:00Z",
          "2023-07-27T12:00:00Z",
          "2023-07-25T23:33:05Z",
          "2023-07-23T11:16:58Z",
          "2023-07-17T22:17:37Z",
          "2023-07-14T22:17:07Z",
          "2023-07-13T22:54:20Z",
          "2023-07-12T13:11:57Z",
          "2023-07-09T21:20:57Z",
          "2023-07-07T22:17:30Z",
          "2023-07-05T21:34:26Z",
          "2023-06-29T22:35:40Z",
          "2023-06-25T23:18:27Z",
          "2023-06-23T22:39:04Z",
          "2023-06-18T12:39:23Z",
          "2023-06-11T18:01:45Z",
          "2023-05-28T11:02:45Z",
          "2023-05-14T21:10:38Z",
          "2023-05-14T11:56:01Z",
          "2023-05-12T21:50:00Z",
          "2023-05-07T21:55:57Z",
          "2023-04-26T21:24:37Z",
          "2023-04-22T12:39:51Z",
          "2023-04-16T13:10:51Z",
          "2023-04-09T13:15:51Z",
          "2023-03-19T13:29:19Z",
          "2023-03-05T12:07:47Z",
          "2023-03-02T11:38:12Z",
          "2023-02-19T21:51:04Z",
          "2023-02-12T12:06:05Z",
          "2022-12-21T19:20:42Z",
          "2022-12-03T20:41:28Z",
          "2022-11-23T11:31:44Z",
          "2022-11-13T11:59:20Z",
          "2022-10-15T12:03:03Z",
          "2022-10-09T11:52:32Z",
          "2022-09-18T11:13:06Z",
          "2022-09-07T11:03:40Z",
          "2022-08-31T13:17:10Z",
          "2022-08-27T12:22:34Z",
          "2022-08-24T12:32:16Z",
          "2022-08-20T12:28:52Z",
          "2022-08-07T11:02:21Z",
          "2022-08-03T11:44:12Z",
          "2022-07-31T12:24:41Z",
          "2022-07-24T12:47:17Z",
          "2022-07-18T12:38:45Z",
          "2022-07-10T14:40:05Z",
          "2022-07-10T12:53:17Z",
          "2022-07-03T14:10:13Z",
          "2022-07-03T12:31:25Z",
          "2022-06-25T13:04:56Z",
          "2022-06-18T13:43:07Z",
          "2022-06-12T13:20:44Z",
          "2022-05-28T15:11:38Z",
          "2022-05-22T11:13:30Z",
          "2022-05-21T11:27:40Z",
          "2022-03-16T16:12:54Z"
         ],
         "xaxis": "x",
         "y": [
          10879.7,
          1304.4,
          17503,
          3457.8,
          10108.2,
          6694.7,
          6518.5,
          10137.9,
          5065.6,
          32192.3,
          4900.2,
          10065.4,
          5080.1,
          5033.4,
          17774.7,
          5078.5,
          6090.6,
          4093,
          5087.6,
          5266.2,
          10078.3,
          5097.6,
          5317.7,
          5426.8,
          2948.4,
          3181.3,
          2976,
          22895.4,
          424.6,
          5043.5,
          16190.2,
          1611.9,
          3010.3,
          5044.5,
          21334,
          5049.4,
          5311.5,
          3130,
          5076.4,
          14991.3,
          6990.6,
          3294.3,
          5436.7,
          7523.6,
          7531.1,
          5474.7,
          2981.8,
          3080,
          11824.4,
          2222.6,
          10513.1,
          5341.4,
          7115.1,
          3374.6,
          2406.8,
          5149.9,
          10113.4,
          2342.1,
          2520.5,
          5230.5,
          4604.7,
          22201.9,
          21479,
          12240.6,
          6241,
          10207.3,
          21792.6,
          13223.8,
          13194.5,
          6934.9,
          10334.2,
          5145,
          10352.6,
          10255.8,
          517.2,
          10287.1,
          5058.2,
          12983.3,
          10386.5,
          5247.3,
          10011.2,
          9517.1,
          5376.1,
          1986.7,
          10250.2,
          3457.6,
          10300.5,
          7321.8,
          10564.2,
          7857.2,
          6067.2,
          4587.6,
          4313.6,
          2764
         ],
         "yaxis": "y"
        },
        {
         "hovertemplate": "type=Hike<br>start_date=%{x}<br>distance=%{y}<extra></extra>",
         "legendgroup": "Hike",
         "line": {
          "color": "#EF553B",
          "dash": "solid"
         },
         "marker": {
          "symbol": "circle"
         },
         "mode": "lines",
         "name": "Hike",
         "orientation": "v",
         "showlegend": true,
         "type": "scatter",
         "x": [
          "2023-10-21T15:02:30Z"
         ],
         "xaxis": "x",
         "y": [
          4584.9
         ],
         "yaxis": "y"
        },
        {
         "hovertemplate": "type=Workout<br>start_date=%{x}<br>distance=%{y}<extra></extra>",
         "legendgroup": "Workout",
         "line": {
          "color": "#00cc96",
          "dash": "solid"
         },
         "marker": {
          "symbol": "circle"
         },
         "mode": "lines",
         "name": "Workout",
         "orientation": "v",
         "showlegend": true,
         "type": "scatter",
         "x": [
          "2023-10-15T18:17:29Z",
          "2022-10-13T11:48:24Z",
          "2022-10-07T11:57:31Z",
          "2022-09-02T11:54:10Z",
          "2022-09-01T11:42:46Z",
          "2022-08-31T11:47:53Z",
          "2022-08-30T12:59:41Z"
         ],
         "xaxis": "x",
         "y": [
          0,
          0,
          0,
          0,
          0,
          0,
          0
         ],
         "yaxis": "y"
        },
        {
         "hovertemplate": "type=Walk<br>start_date=%{x}<br>distance=%{y}<extra></extra>",
         "legendgroup": "Walk",
         "line": {
          "color": "#ab63fa",
          "dash": "solid"
         },
         "marker": {
          "symbol": "circle"
         },
         "mode": "lines",
         "name": "Walk",
         "orientation": "v",
         "showlegend": true,
         "type": "scatter",
         "x": [
          "2023-10-01T23:25:32Z",
          "2022-11-13T12:54:52Z",
          "2022-10-15T15:04:34Z"
         ],
         "xaxis": "x",
         "y": [
          1864.9,
          570.7,
          1053.6
         ],
         "yaxis": "y"
        }
       ],
       "layout": {
        "legend": {
         "title": {
          "text": "type"
         },
         "tracegroupgap": 0
        },
        "margin": {
         "t": 60
        },
        "template": {
         "data": {
          "bar": [
           {
            "error_x": {
             "color": "#2a3f5f"
            },
            "error_y": {
             "color": "#2a3f5f"
            },
            "marker": {
             "line": {
              "color": "#E5ECF6",
              "width": 0.5
             },
             "pattern": {
              "fillmode": "overlay",
              "size": 10,
              "solidity": 0.2
             }
            },
            "type": "bar"
           }
          ],
          "barpolar": [
           {
            "marker": {
             "line": {
              "color": "#E5ECF6",
              "width": 0.5
             },
             "pattern": {
              "fillmode": "overlay",
              "size": 10,
              "solidity": 0.2
             }
            },
            "type": "barpolar"
           }
          ],
          "carpet": [
           {
            "aaxis": {
             "endlinecolor": "#2a3f5f",
             "gridcolor": "white",
             "linecolor": "white",
             "minorgridcolor": "white",
             "startlinecolor": "#2a3f5f"
            },
            "baxis": {
             "endlinecolor": "#2a3f5f",
             "gridcolor": "white",
             "linecolor": "white",
             "minorgridcolor": "white",
             "startlinecolor": "#2a3f5f"
            },
            "type": "carpet"
           }
          ],
          "choropleth": [
           {
            "colorbar": {
             "outlinewidth": 0,
             "ticks": ""
            },
            "type": "choropleth"
           }
          ],
          "contour": [
           {
            "colorbar": {
             "outlinewidth": 0,
             "ticks": ""
            },
            "colorscale": [
             [
              0,
              "#0d0887"
             ],
             [
              0.1111111111111111,
              "#46039f"
             ],
             [
              0.2222222222222222,
              "#7201a8"
             ],
             [
              0.3333333333333333,
              "#9c179e"
             ],
             [
              0.4444444444444444,
              "#bd3786"
             ],
             [
              0.5555555555555556,
              "#d8576b"
             ],
             [
              0.6666666666666666,
              "#ed7953"
             ],
             [
              0.7777777777777778,
              "#fb9f3a"
             ],
             [
              0.8888888888888888,
              "#fdca26"
             ],
             [
              1,
              "#f0f921"
             ]
            ],
            "type": "contour"
           }
          ],
          "contourcarpet": [
           {
            "colorbar": {
             "outlinewidth": 0,
             "ticks": ""
            },
            "type": "contourcarpet"
           }
          ],
          "heatmap": [
           {
            "colorbar": {
             "outlinewidth": 0,
             "ticks": ""
            },
            "colorscale": [
             [
              0,
              "#0d0887"
             ],
             [
              0.1111111111111111,
              "#46039f"
             ],
             [
              0.2222222222222222,
              "#7201a8"
             ],
             [
              0.3333333333333333,
              "#9c179e"
             ],
             [
              0.4444444444444444,
              "#bd3786"
             ],
             [
              0.5555555555555556,
              "#d8576b"
             ],
             [
              0.6666666666666666,
              "#ed7953"
             ],
             [
              0.7777777777777778,
              "#fb9f3a"
             ],
             [
              0.8888888888888888,
              "#fdca26"
             ],
             [
              1,
              "#f0f921"
             ]
            ],
            "type": "heatmap"
           }
          ],
          "heatmapgl": [
           {
            "colorbar": {
             "outlinewidth": 0,
             "ticks": ""
            },
            "colorscale": [
             [
              0,
              "#0d0887"
             ],
             [
              0.1111111111111111,
              "#46039f"
             ],
             [
              0.2222222222222222,
              "#7201a8"
             ],
             [
              0.3333333333333333,
              "#9c179e"
             ],
             [
              0.4444444444444444,
              "#bd3786"
             ],
             [
              0.5555555555555556,
              "#d8576b"
             ],
             [
              0.6666666666666666,
              "#ed7953"
             ],
             [
              0.7777777777777778,
              "#fb9f3a"
             ],
             [
              0.8888888888888888,
              "#fdca26"
             ],
             [
              1,
              "#f0f921"
             ]
            ],
            "type": "heatmapgl"
           }
          ],
          "histogram": [
           {
            "marker": {
             "pattern": {
              "fillmode": "overlay",
              "size": 10,
              "solidity": 0.2
             }
            },
            "type": "histogram"
           }
          ],
          "histogram2d": [
           {
            "colorbar": {
             "outlinewidth": 0,
             "ticks": ""
            },
            "colorscale": [
             [
              0,
              "#0d0887"
             ],
             [
              0.1111111111111111,
              "#46039f"
             ],
             [
              0.2222222222222222,
              "#7201a8"
             ],
             [
              0.3333333333333333,
              "#9c179e"
             ],
             [
              0.4444444444444444,
              "#bd3786"
             ],
             [
              0.5555555555555556,
              "#d8576b"
             ],
             [
              0.6666666666666666,
              "#ed7953"
             ],
             [
              0.7777777777777778,
              "#fb9f3a"
             ],
             [
              0.8888888888888888,
              "#fdca26"
             ],
             [
              1,
              "#f0f921"
             ]
            ],
            "type": "histogram2d"
           }
          ],
          "histogram2dcontour": [
           {
            "colorbar": {
             "outlinewidth": 0,
             "ticks": ""
            },
            "colorscale": [
             [
              0,
              "#0d0887"
             ],
             [
              0.1111111111111111,
              "#46039f"
             ],
             [
              0.2222222222222222,
              "#7201a8"
             ],
             [
              0.3333333333333333,
              "#9c179e"
             ],
             [
              0.4444444444444444,
              "#bd3786"
             ],
             [
              0.5555555555555556,
              "#d8576b"
             ],
             [
              0.6666666666666666,
              "#ed7953"
             ],
             [
              0.7777777777777778,
              "#fb9f3a"
             ],
             [
              0.8888888888888888,
              "#fdca26"
             ],
             [
              1,
              "#f0f921"
             ]
            ],
            "type": "histogram2dcontour"
           }
          ],
          "mesh3d": [
           {
            "colorbar": {
             "outlinewidth": 0,
             "ticks": ""
            },
            "type": "mesh3d"
           }
          ],
          "parcoords": [
           {
            "line": {
             "colorbar": {
              "outlinewidth": 0,
              "ticks": ""
             }
            },
            "type": "parcoords"
           }
          ],
          "pie": [
           {
            "automargin": true,
            "type": "pie"
           }
          ],
          "scatter": [
           {
            "fillpattern": {
             "fillmode": "overlay",
             "size": 10,
             "solidity": 0.2
            },
            "type": "scatter"
           }
          ],
          "scatter3d": [
           {
            "line": {
             "colorbar": {
              "outlinewidth": 0,
              "ticks": ""
             }
            },
            "marker": {
             "colorbar": {
              "outlinewidth": 0,
              "ticks": ""
             }
            },
            "type": "scatter3d"
           }
          ],
          "scattercarpet": [
           {
            "marker": {
             "colorbar": {
              "outlinewidth": 0,
              "ticks": ""
             }
            },
            "type": "scattercarpet"
           }
          ],
          "scattergeo": [
           {
            "marker": {
             "colorbar": {
              "outlinewidth": 0,
              "ticks": ""
             }
            },
            "type": "scattergeo"
           }
          ],
          "scattergl": [
           {
            "marker": {
             "colorbar": {
              "outlinewidth": 0,
              "ticks": ""
             }
            },
            "type": "scattergl"
           }
          ],
          "scattermapbox": [
           {
            "marker": {
             "colorbar": {
              "outlinewidth": 0,
              "ticks": ""
             }
            },
            "type": "scattermapbox"
           }
          ],
          "scatterpolar": [
           {
            "marker": {
             "colorbar": {
              "outlinewidth": 0,
              "ticks": ""
             }
            },
            "type": "scatterpolar"
           }
          ],
          "scatterpolargl": [
           {
            "marker": {
             "colorbar": {
              "outlinewidth": 0,
              "ticks": ""
             }
            },
            "type": "scatterpolargl"
           }
          ],
          "scatterternary": [
           {
            "marker": {
             "colorbar": {
              "outlinewidth": 0,
              "ticks": ""
             }
            },
            "type": "scatterternary"
           }
          ],
          "surface": [
           {
            "colorbar": {
             "outlinewidth": 0,
             "ticks": ""
            },
            "colorscale": [
             [
              0,
              "#0d0887"
             ],
             [
              0.1111111111111111,
              "#46039f"
             ],
             [
              0.2222222222222222,
              "#7201a8"
             ],
             [
              0.3333333333333333,
              "#9c179e"
             ],
             [
              0.4444444444444444,
              "#bd3786"
             ],
             [
              0.5555555555555556,
              "#d8576b"
             ],
             [
              0.6666666666666666,
              "#ed7953"
             ],
             [
              0.7777777777777778,
              "#fb9f3a"
             ],
             [
              0.8888888888888888,
              "#fdca26"
             ],
             [
              1,
              "#f0f921"
             ]
            ],
            "type": "surface"
           }
          ],
          "table": [
           {
            "cells": {
             "fill": {
              "color": "#EBF0F8"
             },
             "line": {
              "color": "white"
             }
            },
            "header": {
             "fill": {
              "color": "#C8D4E3"
             },
             "line": {
              "color": "white"
             }
            },
            "type": "table"
           }
          ]
         },
         "layout": {
          "annotationdefaults": {
           "arrowcolor": "#2a3f5f",
           "arrowhead": 0,
           "arrowwidth": 1
          },
          "autotypenumbers": "strict",
          "coloraxis": {
           "colorbar": {
            "outlinewidth": 0,
            "ticks": ""
           }
          },
          "colorscale": {
           "diverging": [
            [
             0,
             "#8e0152"
            ],
            [
             0.1,
             "#c51b7d"
            ],
            [
             0.2,
             "#de77ae"
            ],
            [
             0.3,
             "#f1b6da"
            ],
            [
             0.4,
             "#fde0ef"
            ],
            [
             0.5,
             "#f7f7f7"
            ],
            [
             0.6,
             "#e6f5d0"
            ],
            [
             0.7,
             "#b8e186"
            ],
            [
             0.8,
             "#7fbc41"
            ],
            [
             0.9,
             "#4d9221"
            ],
            [
             1,
             "#276419"
            ]
           ],
           "sequential": [
            [
             0,
             "#0d0887"
            ],
            [
             0.1111111111111111,
             "#46039f"
            ],
            [
             0.2222222222222222,
             "#7201a8"
            ],
            [
             0.3333333333333333,
             "#9c179e"
            ],
            [
             0.4444444444444444,
             "#bd3786"
            ],
            [
             0.5555555555555556,
             "#d8576b"
            ],
            [
             0.6666666666666666,
             "#ed7953"
            ],
            [
             0.7777777777777778,
             "#fb9f3a"
            ],
            [
             0.8888888888888888,
             "#fdca26"
            ],
            [
             1,
             "#f0f921"
            ]
           ],
           "sequentialminus": [
            [
             0,
             "#0d0887"
            ],
            [
             0.1111111111111111,
             "#46039f"
            ],
            [
             0.2222222222222222,
             "#7201a8"
            ],
            [
             0.3333333333333333,
             "#9c179e"
            ],
            [
             0.4444444444444444,
             "#bd3786"
            ],
            [
             0.5555555555555556,
             "#d8576b"
            ],
            [
             0.6666666666666666,
             "#ed7953"
            ],
            [
             0.7777777777777778,
             "#fb9f3a"
            ],
            [
             0.8888888888888888,
             "#fdca26"
            ],
            [
             1,
             "#f0f921"
            ]
           ]
          },
          "colorway": [
           "#636efa",
           "#EF553B",
           "#00cc96",
           "#ab63fa",
           "#FFA15A",
           "#19d3f3",
           "#FF6692",
           "#B6E880",
           "#FF97FF",
           "#FECB52"
          ],
          "font": {
           "color": "#2a3f5f"
          },
          "geo": {
           "bgcolor": "white",
           "lakecolor": "white",
           "landcolor": "#E5ECF6",
           "showlakes": true,
           "showland": true,
           "subunitcolor": "white"
          },
          "hoverlabel": {
           "align": "left"
          },
          "hovermode": "closest",
          "mapbox": {
           "style": "light"
          },
          "paper_bgcolor": "white",
          "plot_bgcolor": "#E5ECF6",
          "polar": {
           "angularaxis": {
            "gridcolor": "white",
            "linecolor": "white",
            "ticks": ""
           },
           "bgcolor": "#E5ECF6",
           "radialaxis": {
            "gridcolor": "white",
            "linecolor": "white",
            "ticks": ""
           }
          },
          "scene": {
           "xaxis": {
            "backgroundcolor": "#E5ECF6",
            "gridcolor": "white",
            "gridwidth": 2,
            "linecolor": "white",
            "showbackground": true,
            "ticks": "",
            "zerolinecolor": "white"
           },
           "yaxis": {
            "backgroundcolor": "#E5ECF6",
            "gridcolor": "white",
            "gridwidth": 2,
            "linecolor": "white",
            "showbackground": true,
            "ticks": "",
            "zerolinecolor": "white"
           },
           "zaxis": {
            "backgroundcolor": "#E5ECF6",
            "gridcolor": "white",
            "gridwidth": 2,
            "linecolor": "white",
            "showbackground": true,
            "ticks": "",
            "zerolinecolor": "white"
           }
          },
          "shapedefaults": {
           "line": {
            "color": "#2a3f5f"
           }
          },
          "ternary": {
           "aaxis": {
            "gridcolor": "white",
            "linecolor": "white",
            "ticks": ""
           },
           "baxis": {
            "gridcolor": "white",
            "linecolor": "white",
            "ticks": ""
           },
           "bgcolor": "#E5ECF6",
           "caxis": {
            "gridcolor": "white",
            "linecolor": "white",
            "ticks": ""
           }
          },
          "title": {
           "x": 0.05
          },
          "xaxis": {
           "automargin": true,
           "gridcolor": "white",
           "linecolor": "white",
           "ticks": "",
           "title": {
            "standoff": 15
           },
           "zerolinecolor": "white",
           "zerolinewidth": 2
          },
          "yaxis": {
           "automargin": true,
           "gridcolor": "white",
           "linecolor": "white",
           "ticks": "",
           "title": {
            "standoff": 15
           },
           "zerolinecolor": "white",
           "zerolinewidth": 2
          }
         }
        },
        "xaxis": {
         "anchor": "y",
         "domain": [
          0,
          1
         ],
         "title": {
          "text": "start_date"
         }
        },
        "yaxis": {
         "anchor": "x",
         "domain": [
          0,
          1
         ],
         "title": {
          "text": "distance"
         }
        }
       }
      }
     },
     "metadata": {},
     "output_type": "display_data"
    },
    {
     "data": {
      "application/vnd.plotly.v1+json": {
       "config": {
        "plotlyServerURL": "https://plot.ly"
       },
       "data": [
        {
         "alignmentgroup": "True",
         "bingroup": "x",
         "histfunc": "sum",
         "hovertemplate": "type=%{x}<br>sum of distance=%{y}<extra></extra>",
         "legendgroup": "",
         "marker": {
          "color": "#636efa",
          "pattern": {
           "shape": ""
          }
         },
         "name": "",
         "offsetgroup": "",
         "orientation": "v",
         "showlegend": false,
         "type": "histogram",
         "x": [
          "Run",
          "Run",
          "Run",
          "Run",
          "Run",
          "Run",
          "Run",
          "Run",
          "Run",
          "Run",
          "Run",
          "Run",
          "Run",
          "Run",
          "Run",
          "Run",
          "Hike",
          "Run",
          "Workout",
          "Run",
          "Run",
          "Run",
          "Run",
          "Run",
          "Walk",
          "Run",
          "Run",
          "Run",
          "Run",
          "Run",
          "Run",
          "Run",
          "Run",
          "Run",
          "Run",
          "Run",
          "Run",
          "Run",
          "Run",
          "Run",
          "Run",
          "Run",
          "Run",
          "Run",
          "Run",
          "Run",
          "Run",
          "Run",
          "Run",
          "Run",
          "Run",
          "Run",
          "Run",
          "Run",
          "Run",
          "Run",
          "Run",
          "Run",
          "Run",
          "Run",
          "Run",
          "Run",
          "Run",
          "Run",
          "Run",
          "Run",
          "Run",
          "Run",
          "Run",
          "Run",
          "Run",
          "Run",
          "Walk",
          "Run",
          "Walk",
          "Run",
          "Workout",
          "Run",
          "Workout",
          "Run",
          "Run",
          "Workout",
          "Workout",
          "Workout",
          "Run",
          "Workout",
          "Run",
          "Run",
          "Run",
          "Run",
          "Run",
          "Run",
          "Run",
          "Run",
          "Run",
          "Run",
          "Run",
          "Run",
          "Run",
          "Run",
          "Run",
          "Run",
          "Run",
          "Run",
          "Run"
         ],
         "xaxis": "x",
         "y": [
          10879.7,
          1304.4,
          17503,
          3457.8,
          10108.2,
          6694.7,
          6518.5,
          10137.9,
          5065.6,
          32192.3,
          4900.2,
          10065.4,
          5080.1,
          5033.4,
          17774.7,
          5078.5,
          4584.9,
          6090.6,
          0,
          4093,
          5087.6,
          5266.2,
          10078.3,
          5097.6,
          1864.9,
          5317.7,
          5426.8,
          2948.4,
          3181.3,
          2976,
          22895.4,
          424.6,
          5043.5,
          16190.2,
          1611.9,
          3010.3,
          5044.5,
          21334,
          5049.4,
          5311.5,
          3130,
          5076.4,
          14991.3,
          6990.6,
          3294.3,
          5436.7,
          7523.6,
          7531.1,
          5474.7,
          2981.8,
          3080,
          11824.4,
          2222.6,
          10513.1,
          5341.4,
          7115.1,
          3374.6,
          2406.8,
          5149.9,
          10113.4,
          2342.1,
          2520.5,
          5230.5,
          4604.7,
          22201.9,
          21479,
          12240.6,
          6241,
          10207.3,
          21792.6,
          13223.8,
          13194.5,
          570.7,
          6934.9,
          1053.6,
          10334.2,
          0,
          5145,
          0,
          10352.6,
          10255.8,
          0,
          0,
          0,
          517.2,
          0,
          10287.1,
          5058.2,
          12983.3,
          10386.5,
          5247.3,
          10011.2,
          9517.1,
          5376.1,
          1986.7,
          10250.2,
          3457.6,
          10300.5,
          7321.8,
          10564.2,
          7857.2,
          6067.2,
          4587.6,
          4313.6,
          2764
         ],
         "yaxis": "y"
        }
       ],
       "layout": {
        "barmode": "relative",
        "legend": {
         "tracegroupgap": 0
        },
        "margin": {
         "t": 60
        },
        "template": {
         "data": {
          "bar": [
           {
            "error_x": {
             "color": "#2a3f5f"
            },
            "error_y": {
             "color": "#2a3f5f"
            },
            "marker": {
             "line": {
              "color": "#E5ECF6",
              "width": 0.5
             },
             "pattern": {
              "fillmode": "overlay",
              "size": 10,
              "solidity": 0.2
             }
            },
            "type": "bar"
           }
          ],
          "barpolar": [
           {
            "marker": {
             "line": {
              "color": "#E5ECF6",
              "width": 0.5
             },
             "pattern": {
              "fillmode": "overlay",
              "size": 10,
              "solidity": 0.2
             }
            },
            "type": "barpolar"
           }
          ],
          "carpet": [
           {
            "aaxis": {
             "endlinecolor": "#2a3f5f",
             "gridcolor": "white",
             "linecolor": "white",
             "minorgridcolor": "white",
             "startlinecolor": "#2a3f5f"
            },
            "baxis": {
             "endlinecolor": "#2a3f5f",
             "gridcolor": "white",
             "linecolor": "white",
             "minorgridcolor": "white",
             "startlinecolor": "#2a3f5f"
            },
            "type": "carpet"
           }
          ],
          "choropleth": [
           {
            "colorbar": {
             "outlinewidth": 0,
             "ticks": ""
            },
            "type": "choropleth"
           }
          ],
          "contour": [
           {
            "colorbar": {
             "outlinewidth": 0,
             "ticks": ""
            },
            "colorscale": [
             [
              0,
              "#0d0887"
             ],
             [
              0.1111111111111111,
              "#46039f"
             ],
             [
              0.2222222222222222,
              "#7201a8"
             ],
             [
              0.3333333333333333,
              "#9c179e"
             ],
             [
              0.4444444444444444,
              "#bd3786"
             ],
             [
              0.5555555555555556,
              "#d8576b"
             ],
             [
              0.6666666666666666,
              "#ed7953"
             ],
             [
              0.7777777777777778,
              "#fb9f3a"
             ],
             [
              0.8888888888888888,
              "#fdca26"
             ],
             [
              1,
              "#f0f921"
             ]
            ],
            "type": "contour"
           }
          ],
          "contourcarpet": [
           {
            "colorbar": {
             "outlinewidth": 0,
             "ticks": ""
            },
            "type": "contourcarpet"
           }
          ],
          "heatmap": [
           {
            "colorbar": {
             "outlinewidth": 0,
             "ticks": ""
            },
            "colorscale": [
             [
              0,
              "#0d0887"
             ],
             [
              0.1111111111111111,
              "#46039f"
             ],
             [
              0.2222222222222222,
              "#7201a8"
             ],
             [
              0.3333333333333333,
              "#9c179e"
             ],
             [
              0.4444444444444444,
              "#bd3786"
             ],
             [
              0.5555555555555556,
              "#d8576b"
             ],
             [
              0.6666666666666666,
              "#ed7953"
             ],
             [
              0.7777777777777778,
              "#fb9f3a"
             ],
             [
              0.8888888888888888,
              "#fdca26"
             ],
             [
              1,
              "#f0f921"
             ]
            ],
            "type": "heatmap"
           }
          ],
          "heatmapgl": [
           {
            "colorbar": {
             "outlinewidth": 0,
             "ticks": ""
            },
            "colorscale": [
             [
              0,
              "#0d0887"
             ],
             [
              0.1111111111111111,
              "#46039f"
             ],
             [
              0.2222222222222222,
              "#7201a8"
             ],
             [
              0.3333333333333333,
              "#9c179e"
             ],
             [
              0.4444444444444444,
              "#bd3786"
             ],
             [
              0.5555555555555556,
              "#d8576b"
             ],
             [
              0.6666666666666666,
              "#ed7953"
             ],
             [
              0.7777777777777778,
              "#fb9f3a"
             ],
             [
              0.8888888888888888,
              "#fdca26"
             ],
             [
              1,
              "#f0f921"
             ]
            ],
            "type": "heatmapgl"
           }
          ],
          "histogram": [
           {
            "marker": {
             "pattern": {
              "fillmode": "overlay",
              "size": 10,
              "solidity": 0.2
             }
            },
            "type": "histogram"
           }
          ],
          "histogram2d": [
           {
            "colorbar": {
             "outlinewidth": 0,
             "ticks": ""
            },
            "colorscale": [
             [
              0,
              "#0d0887"
             ],
             [
              0.1111111111111111,
              "#46039f"
             ],
             [
              0.2222222222222222,
              "#7201a8"
             ],
             [
              0.3333333333333333,
              "#9c179e"
             ],
             [
              0.4444444444444444,
              "#bd3786"
             ],
             [
              0.5555555555555556,
              "#d8576b"
             ],
             [
              0.6666666666666666,
              "#ed7953"
             ],
             [
              0.7777777777777778,
              "#fb9f3a"
             ],
             [
              0.8888888888888888,
              "#fdca26"
             ],
             [
              1,
              "#f0f921"
             ]
            ],
            "type": "histogram2d"
           }
          ],
          "histogram2dcontour": [
           {
            "colorbar": {
             "outlinewidth": 0,
             "ticks": ""
            },
            "colorscale": [
             [
              0,
              "#0d0887"
             ],
             [
              0.1111111111111111,
              "#46039f"
             ],
             [
              0.2222222222222222,
              "#7201a8"
             ],
             [
              0.3333333333333333,
              "#9c179e"
             ],
             [
              0.4444444444444444,
              "#bd3786"
             ],
             [
              0.5555555555555556,
              "#d8576b"
             ],
             [
              0.6666666666666666,
              "#ed7953"
             ],
             [
              0.7777777777777778,
              "#fb9f3a"
             ],
             [
              0.8888888888888888,
              "#fdca26"
             ],
             [
              1,
              "#f0f921"
             ]
            ],
            "type": "histogram2dcontour"
           }
          ],
          "mesh3d": [
           {
            "colorbar": {
             "outlinewidth": 0,
             "ticks": ""
            },
            "type": "mesh3d"
           }
          ],
          "parcoords": [
           {
            "line": {
             "colorbar": {
              "outlinewidth": 0,
              "ticks": ""
             }
            },
            "type": "parcoords"
           }
          ],
          "pie": [
           {
            "automargin": true,
            "type": "pie"
           }
          ],
          "scatter": [
           {
            "fillpattern": {
             "fillmode": "overlay",
             "size": 10,
             "solidity": 0.2
            },
            "type": "scatter"
           }
          ],
          "scatter3d": [
           {
            "line": {
             "colorbar": {
              "outlinewidth": 0,
              "ticks": ""
             }
            },
            "marker": {
             "colorbar": {
              "outlinewidth": 0,
              "ticks": ""
             }
            },
            "type": "scatter3d"
           }
          ],
          "scattercarpet": [
           {
            "marker": {
             "colorbar": {
              "outlinewidth": 0,
              "ticks": ""
             }
            },
            "type": "scattercarpet"
           }
          ],
          "scattergeo": [
           {
            "marker": {
             "colorbar": {
              "outlinewidth": 0,
              "ticks": ""
             }
            },
            "type": "scattergeo"
           }
          ],
          "scattergl": [
           {
            "marker": {
             "colorbar": {
              "outlinewidth": 0,
              "ticks": ""
             }
            },
            "type": "scattergl"
           }
          ],
          "scattermapbox": [
           {
            "marker": {
             "colorbar": {
              "outlinewidth": 0,
              "ticks": ""
             }
            },
            "type": "scattermapbox"
           }
          ],
          "scatterpolar": [
           {
            "marker": {
             "colorbar": {
              "outlinewidth": 0,
              "ticks": ""
             }
            },
            "type": "scatterpolar"
           }
          ],
          "scatterpolargl": [
           {
            "marker": {
             "colorbar": {
              "outlinewidth": 0,
              "ticks": ""
             }
            },
            "type": "scatterpolargl"
           }
          ],
          "scatterternary": [
           {
            "marker": {
             "colorbar": {
              "outlinewidth": 0,
              "ticks": ""
             }
            },
            "type": "scatterternary"
           }
          ],
          "surface": [
           {
            "colorbar": {
             "outlinewidth": 0,
             "ticks": ""
            },
            "colorscale": [
             [
              0,
              "#0d0887"
             ],
             [
              0.1111111111111111,
              "#46039f"
             ],
             [
              0.2222222222222222,
              "#7201a8"
             ],
             [
              0.3333333333333333,
              "#9c179e"
             ],
             [
              0.4444444444444444,
              "#bd3786"
             ],
             [
              0.5555555555555556,
              "#d8576b"
             ],
             [
              0.6666666666666666,
              "#ed7953"
             ],
             [
              0.7777777777777778,
              "#fb9f3a"
             ],
             [
              0.8888888888888888,
              "#fdca26"
             ],
             [
              1,
              "#f0f921"
             ]
            ],
            "type": "surface"
           }
          ],
          "table": [
           {
            "cells": {
             "fill": {
              "color": "#EBF0F8"
             },
             "line": {
              "color": "white"
             }
            },
            "header": {
             "fill": {
              "color": "#C8D4E3"
             },
             "line": {
              "color": "white"
             }
            },
            "type": "table"
           }
          ]
         },
         "layout": {
          "annotationdefaults": {
           "arrowcolor": "#2a3f5f",
           "arrowhead": 0,
           "arrowwidth": 1
          },
          "autotypenumbers": "strict",
          "coloraxis": {
           "colorbar": {
            "outlinewidth": 0,
            "ticks": ""
           }
          },
          "colorscale": {
           "diverging": [
            [
             0,
             "#8e0152"
            ],
            [
             0.1,
             "#c51b7d"
            ],
            [
             0.2,
             "#de77ae"
            ],
            [
             0.3,
             "#f1b6da"
            ],
            [
             0.4,
             "#fde0ef"
            ],
            [
             0.5,
             "#f7f7f7"
            ],
            [
             0.6,
             "#e6f5d0"
            ],
            [
             0.7,
             "#b8e186"
            ],
            [
             0.8,
             "#7fbc41"
            ],
            [
             0.9,
             "#4d9221"
            ],
            [
             1,
             "#276419"
            ]
           ],
           "sequential": [
            [
             0,
             "#0d0887"
            ],
            [
             0.1111111111111111,
             "#46039f"
            ],
            [
             0.2222222222222222,
             "#7201a8"
            ],
            [
             0.3333333333333333,
             "#9c179e"
            ],
            [
             0.4444444444444444,
             "#bd3786"
            ],
            [
             0.5555555555555556,
             "#d8576b"
            ],
            [
             0.6666666666666666,
             "#ed7953"
            ],
            [
             0.7777777777777778,
             "#fb9f3a"
            ],
            [
             0.8888888888888888,
             "#fdca26"
            ],
            [
             1,
             "#f0f921"
            ]
           ],
           "sequentialminus": [
            [
             0,
             "#0d0887"
            ],
            [
             0.1111111111111111,
             "#46039f"
            ],
            [
             0.2222222222222222,
             "#7201a8"
            ],
            [
             0.3333333333333333,
             "#9c179e"
            ],
            [
             0.4444444444444444,
             "#bd3786"
            ],
            [
             0.5555555555555556,
             "#d8576b"
            ],
            [
             0.6666666666666666,
             "#ed7953"
            ],
            [
             0.7777777777777778,
             "#fb9f3a"
            ],
            [
             0.8888888888888888,
             "#fdca26"
            ],
            [
             1,
             "#f0f921"
            ]
           ]
          },
          "colorway": [
           "#636efa",
           "#EF553B",
           "#00cc96",
           "#ab63fa",
           "#FFA15A",
           "#19d3f3",
           "#FF6692",
           "#B6E880",
           "#FF97FF",
           "#FECB52"
          ],
          "font": {
           "color": "#2a3f5f"
          },
          "geo": {
           "bgcolor": "white",
           "lakecolor": "white",
           "landcolor": "#E5ECF6",
           "showlakes": true,
           "showland": true,
           "subunitcolor": "white"
          },
          "hoverlabel": {
           "align": "left"
          },
          "hovermode": "closest",
          "mapbox": {
           "style": "light"
          },
          "paper_bgcolor": "white",
          "plot_bgcolor": "#E5ECF6",
          "polar": {
           "angularaxis": {
            "gridcolor": "white",
            "linecolor": "white",
            "ticks": ""
           },
           "bgcolor": "#E5ECF6",
           "radialaxis": {
            "gridcolor": "white",
            "linecolor": "white",
            "ticks": ""
           }
          },
          "scene": {
           "xaxis": {
            "backgroundcolor": "#E5ECF6",
            "gridcolor": "white",
            "gridwidth": 2,
            "linecolor": "white",
            "showbackground": true,
            "ticks": "",
            "zerolinecolor": "white"
           },
           "yaxis": {
            "backgroundcolor": "#E5ECF6",
            "gridcolor": "white",
            "gridwidth": 2,
            "linecolor": "white",
            "showbackground": true,
            "ticks": "",
            "zerolinecolor": "white"
           },
           "zaxis": {
            "backgroundcolor": "#E5ECF6",
            "gridcolor": "white",
            "gridwidth": 2,
            "linecolor": "white",
            "showbackground": true,
            "ticks": "",
            "zerolinecolor": "white"
           }
          },
          "shapedefaults": {
           "line": {
            "color": "#2a3f5f"
           }
          },
          "ternary": {
           "aaxis": {
            "gridcolor": "white",
            "linecolor": "white",
            "ticks": ""
           },
           "baxis": {
            "gridcolor": "white",
            "linecolor": "white",
            "ticks": ""
           },
           "bgcolor": "#E5ECF6",
           "caxis": {
            "gridcolor": "white",
            "linecolor": "white",
            "ticks": ""
           }
          },
          "title": {
           "x": 0.05
          },
          "xaxis": {
           "automargin": true,
           "gridcolor": "white",
           "linecolor": "white",
           "ticks": "",
           "title": {
            "standoff": 15
           },
           "zerolinecolor": "white",
           "zerolinewidth": 2
          },
          "yaxis": {
           "automargin": true,
           "gridcolor": "white",
           "linecolor": "white",
           "ticks": "",
           "title": {
            "standoff": 15
           },
           "zerolinecolor": "white",
           "zerolinewidth": 2
          }
         }
        },
        "xaxis": {
         "anchor": "y",
         "domain": [
          0,
          1
         ],
         "title": {
          "text": "type"
         }
        },
        "yaxis": {
         "anchor": "x",
         "domain": [
          0,
          1
         ],
         "title": {
          "text": "sum of distance"
         }
        }
       }
      }
     },
     "metadata": {},
     "output_type": "display_data"
    },
    {
     "data": {
      "application/vnd.plotly.v1+json": {
       "config": {
        "plotlyServerURL": "https://plot.ly"
       },
       "data": [
        {
         "hovertemplate": "type=Run<br>start_date=%{x}<br>moving_time=%{y}<extra></extra>",
         "legendgroup": "Run",
         "line": {
          "color": "#636efa",
          "dash": "solid"
         },
         "marker": {
          "symbol": "circle"
         },
         "mode": "lines",
         "name": "Run",
         "orientation": "v",
         "showlegend": true,
         "type": "scatter",
         "x": [
          "2023-12-09T14:09:19Z",
          "2023-12-07T22:31:50Z",
          "2023-12-03T14:18:13Z",
          "2023-12-02T14:41:14Z",
          "2023-12-01T22:06:05Z",
          "2023-11-29T22:22:51Z",
          "2023-11-26T14:16:39Z",
          "2023-11-09T22:46:38Z",
          "2023-11-07T22:31:51Z",
          "2023-11-04T20:20:18Z",
          "2023-11-02T22:25:15Z",
          "2023-11-01T22:08:35Z",
          "2023-10-31T22:13:17Z",
          "2023-10-29T22:03:13Z",
          "2023-10-28T12:55:44Z",
          "2023-10-23T13:11:55Z",
          "2023-10-19T23:22:33Z",
          "2023-10-12T22:27:56Z",
          "2023-10-10T22:46:51Z",
          "2023-10-10T22:46:43Z",
          "2023-10-08T22:26:49Z",
          "2023-10-04T22:33:38Z",
          "2023-10-01T22:22:23Z",
          "2023-09-28T21:54:23Z",
          "2023-09-26T22:13:37Z",
          "2023-09-20T22:22:55Z",
          "2023-09-12T23:33:27Z",
          "2023-09-10T23:01:35Z",
          "2023-09-07T23:41:00Z",
          "2023-09-05T23:19:51Z",
          "2023-09-03T10:40:50Z",
          "2023-08-31T22:51:40Z",
          "2023-08-18T21:45:19Z",
          "2023-08-17T22:38:25Z",
          "2023-08-06T11:28:11Z",
          "2023-08-02T22:36:39Z",
          "2023-07-31T23:10:00Z",
          "2023-07-27T12:00:00Z",
          "2023-07-25T23:33:05Z",
          "2023-07-23T11:16:58Z",
          "2023-07-17T22:17:37Z",
          "2023-07-14T22:17:07Z",
          "2023-07-13T22:54:20Z",
          "2023-07-12T13:11:57Z",
          "2023-07-09T21:20:57Z",
          "2023-07-07T22:17:30Z",
          "2023-07-05T21:34:26Z",
          "2023-06-29T22:35:40Z",
          "2023-06-25T23:18:27Z",
          "2023-06-23T22:39:04Z",
          "2023-06-18T12:39:23Z",
          "2023-06-11T18:01:45Z",
          "2023-05-28T11:02:45Z",
          "2023-05-14T21:10:38Z",
          "2023-05-14T11:56:01Z",
          "2023-05-12T21:50:00Z",
          "2023-05-07T21:55:57Z",
          "2023-04-26T21:24:37Z",
          "2023-04-22T12:39:51Z",
          "2023-04-16T13:10:51Z",
          "2023-04-09T13:15:51Z",
          "2023-03-19T13:29:19Z",
          "2023-03-05T12:07:47Z",
          "2023-03-02T11:38:12Z",
          "2023-02-19T21:51:04Z",
          "2023-02-12T12:06:05Z",
          "2022-12-21T19:20:42Z",
          "2022-12-03T20:41:28Z",
          "2022-11-23T11:31:44Z",
          "2022-11-13T11:59:20Z",
          "2022-10-15T12:03:03Z",
          "2022-10-09T11:52:32Z",
          "2022-09-18T11:13:06Z",
          "2022-09-07T11:03:40Z",
          "2022-08-31T13:17:10Z",
          "2022-08-27T12:22:34Z",
          "2022-08-24T12:32:16Z",
          "2022-08-20T12:28:52Z",
          "2022-08-07T11:02:21Z",
          "2022-08-03T11:44:12Z",
          "2022-07-31T12:24:41Z",
          "2022-07-24T12:47:17Z",
          "2022-07-18T12:38:45Z",
          "2022-07-10T14:40:05Z",
          "2022-07-10T12:53:17Z",
          "2022-07-03T14:10:13Z",
          "2022-07-03T12:31:25Z",
          "2022-06-25T13:04:56Z",
          "2022-06-18T13:43:07Z",
          "2022-06-12T13:20:44Z",
          "2022-05-28T15:11:38Z",
          "2022-05-22T11:13:30Z",
          "2022-05-21T11:27:40Z",
          "2022-03-16T16:12:54Z"
         ],
         "xaxis": "x",
         "y": [
          4023,
          722,
          7370,
          1791,
          4128,
          2913,
          2545,
          4027,
          1974,
          14536,
          1936,
          4326,
          1924,
          2035,
          7174,
          1948,
          2449,
          2730,
          2049,
          2058,
          4228,
          1988,
          2116,
          2160,
          1092,
          1259,
          1118,
          10264,
          182,
          1883,
          6891,
          566,
          1014,
          1778,
          10059,
          1929,
          1997,
          1200,
          1860,
          6601,
          2810,
          1310,
          2074,
          3118,
          3293,
          2077,
          938,
          2358,
          4586,
          811,
          4087,
          1932,
          2831,
          1350,
          982,
          1880,
          4197,
          884,
          1124,
          1824,
          2257,
          9200,
          9617,
          5376,
          4411,
          4815,
          9275,
          5828,
          5838,
          2965,
          3865,
          2282,
          4138,
          4421,
          85,
          4768,
          2007,
          6724,
          5172,
          2199,
          5174,
          5459,
          2906,
          1328,
          4645,
          1880,
          4915,
          4205,
          5277,
          3900,
          3334,
          2263,
          2182,
          955
         ],
         "yaxis": "y"
        },
        {
         "hovertemplate": "type=Hike<br>start_date=%{x}<br>moving_time=%{y}<extra></extra>",
         "legendgroup": "Hike",
         "line": {
          "color": "#EF553B",
          "dash": "solid"
         },
         "marker": {
          "symbol": "circle"
         },
         "mode": "lines",
         "name": "Hike",
         "orientation": "v",
         "showlegend": true,
         "type": "scatter",
         "x": [
          "2023-10-21T15:02:30Z"
         ],
         "xaxis": "x",
         "y": [
          6116
         ],
         "yaxis": "y"
        },
        {
         "hovertemplate": "type=Workout<br>start_date=%{x}<br>moving_time=%{y}<extra></extra>",
         "legendgroup": "Workout",
         "line": {
          "color": "#00cc96",
          "dash": "solid"
         },
         "marker": {
          "symbol": "circle"
         },
         "mode": "lines",
         "name": "Workout",
         "orientation": "v",
         "showlegend": true,
         "type": "scatter",
         "x": [
          "2023-10-15T18:17:29Z",
          "2022-10-13T11:48:24Z",
          "2022-10-07T11:57:31Z",
          "2022-09-02T11:54:10Z",
          "2022-09-01T11:42:46Z",
          "2022-08-31T11:47:53Z",
          "2022-08-30T12:59:41Z"
         ],
         "xaxis": "x",
         "y": [
          2564,
          8575,
          8293,
          5181,
          8646,
          5931,
          4433
         ],
         "yaxis": "y"
        },
        {
         "hovertemplate": "type=Walk<br>start_date=%{x}<br>moving_time=%{y}<extra></extra>",
         "legendgroup": "Walk",
         "line": {
          "color": "#ab63fa",
          "dash": "solid"
         },
         "marker": {
          "symbol": "circle"
         },
         "mode": "lines",
         "name": "Walk",
         "orientation": "v",
         "showlegend": true,
         "type": "scatter",
         "x": [
          "2023-10-01T23:25:32Z",
          "2022-11-13T12:54:52Z",
          "2022-10-15T15:04:34Z"
         ],
         "xaxis": "x",
         "y": [
          1348,
          255,
          855
         ],
         "yaxis": "y"
        }
       ],
       "layout": {
        "legend": {
         "title": {
          "text": "type"
         },
         "tracegroupgap": 0
        },
        "margin": {
         "t": 60
        },
        "template": {
         "data": {
          "bar": [
           {
            "error_x": {
             "color": "#2a3f5f"
            },
            "error_y": {
             "color": "#2a3f5f"
            },
            "marker": {
             "line": {
              "color": "#E5ECF6",
              "width": 0.5
             },
             "pattern": {
              "fillmode": "overlay",
              "size": 10,
              "solidity": 0.2
             }
            },
            "type": "bar"
           }
          ],
          "barpolar": [
           {
            "marker": {
             "line": {
              "color": "#E5ECF6",
              "width": 0.5
             },
             "pattern": {
              "fillmode": "overlay",
              "size": 10,
              "solidity": 0.2
             }
            },
            "type": "barpolar"
           }
          ],
          "carpet": [
           {
            "aaxis": {
             "endlinecolor": "#2a3f5f",
             "gridcolor": "white",
             "linecolor": "white",
             "minorgridcolor": "white",
             "startlinecolor": "#2a3f5f"
            },
            "baxis": {
             "endlinecolor": "#2a3f5f",
             "gridcolor": "white",
             "linecolor": "white",
             "minorgridcolor": "white",
             "startlinecolor": "#2a3f5f"
            },
            "type": "carpet"
           }
          ],
          "choropleth": [
           {
            "colorbar": {
             "outlinewidth": 0,
             "ticks": ""
            },
            "type": "choropleth"
           }
          ],
          "contour": [
           {
            "colorbar": {
             "outlinewidth": 0,
             "ticks": ""
            },
            "colorscale": [
             [
              0,
              "#0d0887"
             ],
             [
              0.1111111111111111,
              "#46039f"
             ],
             [
              0.2222222222222222,
              "#7201a8"
             ],
             [
              0.3333333333333333,
              "#9c179e"
             ],
             [
              0.4444444444444444,
              "#bd3786"
             ],
             [
              0.5555555555555556,
              "#d8576b"
             ],
             [
              0.6666666666666666,
              "#ed7953"
             ],
             [
              0.7777777777777778,
              "#fb9f3a"
             ],
             [
              0.8888888888888888,
              "#fdca26"
             ],
             [
              1,
              "#f0f921"
             ]
            ],
            "type": "contour"
           }
          ],
          "contourcarpet": [
           {
            "colorbar": {
             "outlinewidth": 0,
             "ticks": ""
            },
            "type": "contourcarpet"
           }
          ],
          "heatmap": [
           {
            "colorbar": {
             "outlinewidth": 0,
             "ticks": ""
            },
            "colorscale": [
             [
              0,
              "#0d0887"
             ],
             [
              0.1111111111111111,
              "#46039f"
             ],
             [
              0.2222222222222222,
              "#7201a8"
             ],
             [
              0.3333333333333333,
              "#9c179e"
             ],
             [
              0.4444444444444444,
              "#bd3786"
             ],
             [
              0.5555555555555556,
              "#d8576b"
             ],
             [
              0.6666666666666666,
              "#ed7953"
             ],
             [
              0.7777777777777778,
              "#fb9f3a"
             ],
             [
              0.8888888888888888,
              "#fdca26"
             ],
             [
              1,
              "#f0f921"
             ]
            ],
            "type": "heatmap"
           }
          ],
          "heatmapgl": [
           {
            "colorbar": {
             "outlinewidth": 0,
             "ticks": ""
            },
            "colorscale": [
             [
              0,
              "#0d0887"
             ],
             [
              0.1111111111111111,
              "#46039f"
             ],
             [
              0.2222222222222222,
              "#7201a8"
             ],
             [
              0.3333333333333333,
              "#9c179e"
             ],
             [
              0.4444444444444444,
              "#bd3786"
             ],
             [
              0.5555555555555556,
              "#d8576b"
             ],
             [
              0.6666666666666666,
              "#ed7953"
             ],
             [
              0.7777777777777778,
              "#fb9f3a"
             ],
             [
              0.8888888888888888,
              "#fdca26"
             ],
             [
              1,
              "#f0f921"
             ]
            ],
            "type": "heatmapgl"
           }
          ],
          "histogram": [
           {
            "marker": {
             "pattern": {
              "fillmode": "overlay",
              "size": 10,
              "solidity": 0.2
             }
            },
            "type": "histogram"
           }
          ],
          "histogram2d": [
           {
            "colorbar": {
             "outlinewidth": 0,
             "ticks": ""
            },
            "colorscale": [
             [
              0,
              "#0d0887"
             ],
             [
              0.1111111111111111,
              "#46039f"
             ],
             [
              0.2222222222222222,
              "#7201a8"
             ],
             [
              0.3333333333333333,
              "#9c179e"
             ],
             [
              0.4444444444444444,
              "#bd3786"
             ],
             [
              0.5555555555555556,
              "#d8576b"
             ],
             [
              0.6666666666666666,
              "#ed7953"
             ],
             [
              0.7777777777777778,
              "#fb9f3a"
             ],
             [
              0.8888888888888888,
              "#fdca26"
             ],
             [
              1,
              "#f0f921"
             ]
            ],
            "type": "histogram2d"
           }
          ],
          "histogram2dcontour": [
           {
            "colorbar": {
             "outlinewidth": 0,
             "ticks": ""
            },
            "colorscale": [
             [
              0,
              "#0d0887"
             ],
             [
              0.1111111111111111,
              "#46039f"
             ],
             [
              0.2222222222222222,
              "#7201a8"
             ],
             [
              0.3333333333333333,
              "#9c179e"
             ],
             [
              0.4444444444444444,
              "#bd3786"
             ],
             [
              0.5555555555555556,
              "#d8576b"
             ],
             [
              0.6666666666666666,
              "#ed7953"
             ],
             [
              0.7777777777777778,
              "#fb9f3a"
             ],
             [
              0.8888888888888888,
              "#fdca26"
             ],
             [
              1,
              "#f0f921"
             ]
            ],
            "type": "histogram2dcontour"
           }
          ],
          "mesh3d": [
           {
            "colorbar": {
             "outlinewidth": 0,
             "ticks": ""
            },
            "type": "mesh3d"
           }
          ],
          "parcoords": [
           {
            "line": {
             "colorbar": {
              "outlinewidth": 0,
              "ticks": ""
             }
            },
            "type": "parcoords"
           }
          ],
          "pie": [
           {
            "automargin": true,
            "type": "pie"
           }
          ],
          "scatter": [
           {
            "fillpattern": {
             "fillmode": "overlay",
             "size": 10,
             "solidity": 0.2
            },
            "type": "scatter"
           }
          ],
          "scatter3d": [
           {
            "line": {
             "colorbar": {
              "outlinewidth": 0,
              "ticks": ""
             }
            },
            "marker": {
             "colorbar": {
              "outlinewidth": 0,
              "ticks": ""
             }
            },
            "type": "scatter3d"
           }
          ],
          "scattercarpet": [
           {
            "marker": {
             "colorbar": {
              "outlinewidth": 0,
              "ticks": ""
             }
            },
            "type": "scattercarpet"
           }
          ],
          "scattergeo": [
           {
            "marker": {
             "colorbar": {
              "outlinewidth": 0,
              "ticks": ""
             }
            },
            "type": "scattergeo"
           }
          ],
          "scattergl": [
           {
            "marker": {
             "colorbar": {
              "outlinewidth": 0,
              "ticks": ""
             }
            },
            "type": "scattergl"
           }
          ],
          "scattermapbox": [
           {
            "marker": {
             "colorbar": {
              "outlinewidth": 0,
              "ticks": ""
             }
            },
            "type": "scattermapbox"
           }
          ],
          "scatterpolar": [
           {
            "marker": {
             "colorbar": {
              "outlinewidth": 0,
              "ticks": ""
             }
            },
            "type": "scatterpolar"
           }
          ],
          "scatterpolargl": [
           {
            "marker": {
             "colorbar": {
              "outlinewidth": 0,
              "ticks": ""
             }
            },
            "type": "scatterpolargl"
           }
          ],
          "scatterternary": [
           {
            "marker": {
             "colorbar": {
              "outlinewidth": 0,
              "ticks": ""
             }
            },
            "type": "scatterternary"
           }
          ],
          "surface": [
           {
            "colorbar": {
             "outlinewidth": 0,
             "ticks": ""
            },
            "colorscale": [
             [
              0,
              "#0d0887"
             ],
             [
              0.1111111111111111,
              "#46039f"
             ],
             [
              0.2222222222222222,
              "#7201a8"
             ],
             [
              0.3333333333333333,
              "#9c179e"
             ],
             [
              0.4444444444444444,
              "#bd3786"
             ],
             [
              0.5555555555555556,
              "#d8576b"
             ],
             [
              0.6666666666666666,
              "#ed7953"
             ],
             [
              0.7777777777777778,
              "#fb9f3a"
             ],
             [
              0.8888888888888888,
              "#fdca26"
             ],
             [
              1,
              "#f0f921"
             ]
            ],
            "type": "surface"
           }
          ],
          "table": [
           {
            "cells": {
             "fill": {
              "color": "#EBF0F8"
             },
             "line": {
              "color": "white"
             }
            },
            "header": {
             "fill": {
              "color": "#C8D4E3"
             },
             "line": {
              "color": "white"
             }
            },
            "type": "table"
           }
          ]
         },
         "layout": {
          "annotationdefaults": {
           "arrowcolor": "#2a3f5f",
           "arrowhead": 0,
           "arrowwidth": 1
          },
          "autotypenumbers": "strict",
          "coloraxis": {
           "colorbar": {
            "outlinewidth": 0,
            "ticks": ""
           }
          },
          "colorscale": {
           "diverging": [
            [
             0,
             "#8e0152"
            ],
            [
             0.1,
             "#c51b7d"
            ],
            [
             0.2,
             "#de77ae"
            ],
            [
             0.3,
             "#f1b6da"
            ],
            [
             0.4,
             "#fde0ef"
            ],
            [
             0.5,
             "#f7f7f7"
            ],
            [
             0.6,
             "#e6f5d0"
            ],
            [
             0.7,
             "#b8e186"
            ],
            [
             0.8,
             "#7fbc41"
            ],
            [
             0.9,
             "#4d9221"
            ],
            [
             1,
             "#276419"
            ]
           ],
           "sequential": [
            [
             0,
             "#0d0887"
            ],
            [
             0.1111111111111111,
             "#46039f"
            ],
            [
             0.2222222222222222,
             "#7201a8"
            ],
            [
             0.3333333333333333,
             "#9c179e"
            ],
            [
             0.4444444444444444,
             "#bd3786"
            ],
            [
             0.5555555555555556,
             "#d8576b"
            ],
            [
             0.6666666666666666,
             "#ed7953"
            ],
            [
             0.7777777777777778,
             "#fb9f3a"
            ],
            [
             0.8888888888888888,
             "#fdca26"
            ],
            [
             1,
             "#f0f921"
            ]
           ],
           "sequentialminus": [
            [
             0,
             "#0d0887"
            ],
            [
             0.1111111111111111,
             "#46039f"
            ],
            [
             0.2222222222222222,
             "#7201a8"
            ],
            [
             0.3333333333333333,
             "#9c179e"
            ],
            [
             0.4444444444444444,
             "#bd3786"
            ],
            [
             0.5555555555555556,
             "#d8576b"
            ],
            [
             0.6666666666666666,
             "#ed7953"
            ],
            [
             0.7777777777777778,
             "#fb9f3a"
            ],
            [
             0.8888888888888888,
             "#fdca26"
            ],
            [
             1,
             "#f0f921"
            ]
           ]
          },
          "colorway": [
           "#636efa",
           "#EF553B",
           "#00cc96",
           "#ab63fa",
           "#FFA15A",
           "#19d3f3",
           "#FF6692",
           "#B6E880",
           "#FF97FF",
           "#FECB52"
          ],
          "font": {
           "color": "#2a3f5f"
          },
          "geo": {
           "bgcolor": "white",
           "lakecolor": "white",
           "landcolor": "#E5ECF6",
           "showlakes": true,
           "showland": true,
           "subunitcolor": "white"
          },
          "hoverlabel": {
           "align": "left"
          },
          "hovermode": "closest",
          "mapbox": {
           "style": "light"
          },
          "paper_bgcolor": "white",
          "plot_bgcolor": "#E5ECF6",
          "polar": {
           "angularaxis": {
            "gridcolor": "white",
            "linecolor": "white",
            "ticks": ""
           },
           "bgcolor": "#E5ECF6",
           "radialaxis": {
            "gridcolor": "white",
            "linecolor": "white",
            "ticks": ""
           }
          },
          "scene": {
           "xaxis": {
            "backgroundcolor": "#E5ECF6",
            "gridcolor": "white",
            "gridwidth": 2,
            "linecolor": "white",
            "showbackground": true,
            "ticks": "",
            "zerolinecolor": "white"
           },
           "yaxis": {
            "backgroundcolor": "#E5ECF6",
            "gridcolor": "white",
            "gridwidth": 2,
            "linecolor": "white",
            "showbackground": true,
            "ticks": "",
            "zerolinecolor": "white"
           },
           "zaxis": {
            "backgroundcolor": "#E5ECF6",
            "gridcolor": "white",
            "gridwidth": 2,
            "linecolor": "white",
            "showbackground": true,
            "ticks": "",
            "zerolinecolor": "white"
           }
          },
          "shapedefaults": {
           "line": {
            "color": "#2a3f5f"
           }
          },
          "ternary": {
           "aaxis": {
            "gridcolor": "white",
            "linecolor": "white",
            "ticks": ""
           },
           "baxis": {
            "gridcolor": "white",
            "linecolor": "white",
            "ticks": ""
           },
           "bgcolor": "#E5ECF6",
           "caxis": {
            "gridcolor": "white",
            "linecolor": "white",
            "ticks": ""
           }
          },
          "title": {
           "x": 0.05
          },
          "xaxis": {
           "automargin": true,
           "gridcolor": "white",
           "linecolor": "white",
           "ticks": "",
           "title": {
            "standoff": 15
           },
           "zerolinecolor": "white",
           "zerolinewidth": 2
          },
          "yaxis": {
           "automargin": true,
           "gridcolor": "white",
           "linecolor": "white",
           "ticks": "",
           "title": {
            "standoff": 15
           },
           "zerolinecolor": "white",
           "zerolinewidth": 2
          }
         }
        },
        "xaxis": {
         "anchor": "y",
         "domain": [
          0,
          1
         ],
         "title": {
          "text": "start_date"
         }
        },
        "yaxis": {
         "anchor": "x",
         "domain": [
          0,
          1
         ],
         "title": {
          "text": "moving_time"
         }
        }
       }
      }
     },
     "metadata": {},
     "output_type": "display_data"
    },
    {
     "data": {
      "application/vnd.plotly.v1+json": {
       "config": {
        "plotlyServerURL": "https://plot.ly"
       },
       "data": [
        {
         "alignmentgroup": "True",
         "bingroup": "x",
         "histfunc": "sum",
         "hovertemplate": "type=%{x}<br>sum of moving_time=%{y}<extra></extra>",
         "legendgroup": "",
         "marker": {
          "color": "#636efa",
          "pattern": {
           "shape": ""
          }
         },
         "name": "",
         "offsetgroup": "",
         "orientation": "v",
         "showlegend": false,
         "type": "histogram",
         "x": [
          "Run",
          "Run",
          "Run",
          "Run",
          "Run",
          "Run",
          "Run",
          "Run",
          "Run",
          "Run",
          "Run",
          "Run",
          "Run",
          "Run",
          "Run",
          "Run",
          "Hike",
          "Run",
          "Workout",
          "Run",
          "Run",
          "Run",
          "Run",
          "Run",
          "Walk",
          "Run",
          "Run",
          "Run",
          "Run",
          "Run",
          "Run",
          "Run",
          "Run",
          "Run",
          "Run",
          "Run",
          "Run",
          "Run",
          "Run",
          "Run",
          "Run",
          "Run",
          "Run",
          "Run",
          "Run",
          "Run",
          "Run",
          "Run",
          "Run",
          "Run",
          "Run",
          "Run",
          "Run",
          "Run",
          "Run",
          "Run",
          "Run",
          "Run",
          "Run",
          "Run",
          "Run",
          "Run",
          "Run",
          "Run",
          "Run",
          "Run",
          "Run",
          "Run",
          "Run",
          "Run",
          "Run",
          "Run",
          "Walk",
          "Run",
          "Walk",
          "Run",
          "Workout",
          "Run",
          "Workout",
          "Run",
          "Run",
          "Workout",
          "Workout",
          "Workout",
          "Run",
          "Workout",
          "Run",
          "Run",
          "Run",
          "Run",
          "Run",
          "Run",
          "Run",
          "Run",
          "Run",
          "Run",
          "Run",
          "Run",
          "Run",
          "Run",
          "Run",
          "Run",
          "Run",
          "Run",
          "Run"
         ],
         "xaxis": "x",
         "y": [
          4023,
          722,
          7370,
          1791,
          4128,
          2913,
          2545,
          4027,
          1974,
          14536,
          1936,
          4326,
          1924,
          2035,
          7174,
          1948,
          6116,
          2449,
          2564,
          2730,
          2049,
          2058,
          4228,
          1988,
          1348,
          2116,
          2160,
          1092,
          1259,
          1118,
          10264,
          182,
          1883,
          6891,
          566,
          1014,
          1778,
          10059,
          1929,
          1997,
          1200,
          1860,
          6601,
          2810,
          1310,
          2074,
          3118,
          3293,
          2077,
          938,
          2358,
          4586,
          811,
          4087,
          1932,
          2831,
          1350,
          982,
          1880,
          4197,
          884,
          1124,
          1824,
          2257,
          9200,
          9617,
          5376,
          4411,
          4815,
          9275,
          5828,
          5838,
          255,
          2965,
          855,
          3865,
          8575,
          2282,
          8293,
          4138,
          4421,
          5181,
          8646,
          5931,
          85,
          4433,
          4768,
          2007,
          6724,
          5172,
          2199,
          5174,
          5459,
          2906,
          1328,
          4645,
          1880,
          4915,
          4205,
          5277,
          3900,
          3334,
          2263,
          2182,
          955
         ],
         "yaxis": "y"
        }
       ],
       "layout": {
        "barmode": "relative",
        "legend": {
         "tracegroupgap": 0
        },
        "margin": {
         "t": 60
        },
        "template": {
         "data": {
          "bar": [
           {
            "error_x": {
             "color": "#2a3f5f"
            },
            "error_y": {
             "color": "#2a3f5f"
            },
            "marker": {
             "line": {
              "color": "#E5ECF6",
              "width": 0.5
             },
             "pattern": {
              "fillmode": "overlay",
              "size": 10,
              "solidity": 0.2
             }
            },
            "type": "bar"
           }
          ],
          "barpolar": [
           {
            "marker": {
             "line": {
              "color": "#E5ECF6",
              "width": 0.5
             },
             "pattern": {
              "fillmode": "overlay",
              "size": 10,
              "solidity": 0.2
             }
            },
            "type": "barpolar"
           }
          ],
          "carpet": [
           {
            "aaxis": {
             "endlinecolor": "#2a3f5f",
             "gridcolor": "white",
             "linecolor": "white",
             "minorgridcolor": "white",
             "startlinecolor": "#2a3f5f"
            },
            "baxis": {
             "endlinecolor": "#2a3f5f",
             "gridcolor": "white",
             "linecolor": "white",
             "minorgridcolor": "white",
             "startlinecolor": "#2a3f5f"
            },
            "type": "carpet"
           }
          ],
          "choropleth": [
           {
            "colorbar": {
             "outlinewidth": 0,
             "ticks": ""
            },
            "type": "choropleth"
           }
          ],
          "contour": [
           {
            "colorbar": {
             "outlinewidth": 0,
             "ticks": ""
            },
            "colorscale": [
             [
              0,
              "#0d0887"
             ],
             [
              0.1111111111111111,
              "#46039f"
             ],
             [
              0.2222222222222222,
              "#7201a8"
             ],
             [
              0.3333333333333333,
              "#9c179e"
             ],
             [
              0.4444444444444444,
              "#bd3786"
             ],
             [
              0.5555555555555556,
              "#d8576b"
             ],
             [
              0.6666666666666666,
              "#ed7953"
             ],
             [
              0.7777777777777778,
              "#fb9f3a"
             ],
             [
              0.8888888888888888,
              "#fdca26"
             ],
             [
              1,
              "#f0f921"
             ]
            ],
            "type": "contour"
           }
          ],
          "contourcarpet": [
           {
            "colorbar": {
             "outlinewidth": 0,
             "ticks": ""
            },
            "type": "contourcarpet"
           }
          ],
          "heatmap": [
           {
            "colorbar": {
             "outlinewidth": 0,
             "ticks": ""
            },
            "colorscale": [
             [
              0,
              "#0d0887"
             ],
             [
              0.1111111111111111,
              "#46039f"
             ],
             [
              0.2222222222222222,
              "#7201a8"
             ],
             [
              0.3333333333333333,
              "#9c179e"
             ],
             [
              0.4444444444444444,
              "#bd3786"
             ],
             [
              0.5555555555555556,
              "#d8576b"
             ],
             [
              0.6666666666666666,
              "#ed7953"
             ],
             [
              0.7777777777777778,
              "#fb9f3a"
             ],
             [
              0.8888888888888888,
              "#fdca26"
             ],
             [
              1,
              "#f0f921"
             ]
            ],
            "type": "heatmap"
           }
          ],
          "heatmapgl": [
           {
            "colorbar": {
             "outlinewidth": 0,
             "ticks": ""
            },
            "colorscale": [
             [
              0,
              "#0d0887"
             ],
             [
              0.1111111111111111,
              "#46039f"
             ],
             [
              0.2222222222222222,
              "#7201a8"
             ],
             [
              0.3333333333333333,
              "#9c179e"
             ],
             [
              0.4444444444444444,
              "#bd3786"
             ],
             [
              0.5555555555555556,
              "#d8576b"
             ],
             [
              0.6666666666666666,
              "#ed7953"
             ],
             [
              0.7777777777777778,
              "#fb9f3a"
             ],
             [
              0.8888888888888888,
              "#fdca26"
             ],
             [
              1,
              "#f0f921"
             ]
            ],
            "type": "heatmapgl"
           }
          ],
          "histogram": [
           {
            "marker": {
             "pattern": {
              "fillmode": "overlay",
              "size": 10,
              "solidity": 0.2
             }
            },
            "type": "histogram"
           }
          ],
          "histogram2d": [
           {
            "colorbar": {
             "outlinewidth": 0,
             "ticks": ""
            },
            "colorscale": [
             [
              0,
              "#0d0887"
             ],
             [
              0.1111111111111111,
              "#46039f"
             ],
             [
              0.2222222222222222,
              "#7201a8"
             ],
             [
              0.3333333333333333,
              "#9c179e"
             ],
             [
              0.4444444444444444,
              "#bd3786"
             ],
             [
              0.5555555555555556,
              "#d8576b"
             ],
             [
              0.6666666666666666,
              "#ed7953"
             ],
             [
              0.7777777777777778,
              "#fb9f3a"
             ],
             [
              0.8888888888888888,
              "#fdca26"
             ],
             [
              1,
              "#f0f921"
             ]
            ],
            "type": "histogram2d"
           }
          ],
          "histogram2dcontour": [
           {
            "colorbar": {
             "outlinewidth": 0,
             "ticks": ""
            },
            "colorscale": [
             [
              0,
              "#0d0887"
             ],
             [
              0.1111111111111111,
              "#46039f"
             ],
             [
              0.2222222222222222,
              "#7201a8"
             ],
             [
              0.3333333333333333,
              "#9c179e"
             ],
             [
              0.4444444444444444,
              "#bd3786"
             ],
             [
              0.5555555555555556,
              "#d8576b"
             ],
             [
              0.6666666666666666,
              "#ed7953"
             ],
             [
              0.7777777777777778,
              "#fb9f3a"
             ],
             [
              0.8888888888888888,
              "#fdca26"
             ],
             [
              1,
              "#f0f921"
             ]
            ],
            "type": "histogram2dcontour"
           }
          ],
          "mesh3d": [
           {
            "colorbar": {
             "outlinewidth": 0,
             "ticks": ""
            },
            "type": "mesh3d"
           }
          ],
          "parcoords": [
           {
            "line": {
             "colorbar": {
              "outlinewidth": 0,
              "ticks": ""
             }
            },
            "type": "parcoords"
           }
          ],
          "pie": [
           {
            "automargin": true,
            "type": "pie"
           }
          ],
          "scatter": [
           {
            "fillpattern": {
             "fillmode": "overlay",
             "size": 10,
             "solidity": 0.2
            },
            "type": "scatter"
           }
          ],
          "scatter3d": [
           {
            "line": {
             "colorbar": {
              "outlinewidth": 0,
              "ticks": ""
             }
            },
            "marker": {
             "colorbar": {
              "outlinewidth": 0,
              "ticks": ""
             }
            },
            "type": "scatter3d"
           }
          ],
          "scattercarpet": [
           {
            "marker": {
             "colorbar": {
              "outlinewidth": 0,
              "ticks": ""
             }
            },
            "type": "scattercarpet"
           }
          ],
          "scattergeo": [
           {
            "marker": {
             "colorbar": {
              "outlinewidth": 0,
              "ticks": ""
             }
            },
            "type": "scattergeo"
           }
          ],
          "scattergl": [
           {
            "marker": {
             "colorbar": {
              "outlinewidth": 0,
              "ticks": ""
             }
            },
            "type": "scattergl"
           }
          ],
          "scattermapbox": [
           {
            "marker": {
             "colorbar": {
              "outlinewidth": 0,
              "ticks": ""
             }
            },
            "type": "scattermapbox"
           }
          ],
          "scatterpolar": [
           {
            "marker": {
             "colorbar": {
              "outlinewidth": 0,
              "ticks": ""
             }
            },
            "type": "scatterpolar"
           }
          ],
          "scatterpolargl": [
           {
            "marker": {
             "colorbar": {
              "outlinewidth": 0,
              "ticks": ""
             }
            },
            "type": "scatterpolargl"
           }
          ],
          "scatterternary": [
           {
            "marker": {
             "colorbar": {
              "outlinewidth": 0,
              "ticks": ""
             }
            },
            "type": "scatterternary"
           }
          ],
          "surface": [
           {
            "colorbar": {
             "outlinewidth": 0,
             "ticks": ""
            },
            "colorscale": [
             [
              0,
              "#0d0887"
             ],
             [
              0.1111111111111111,
              "#46039f"
             ],
             [
              0.2222222222222222,
              "#7201a8"
             ],
             [
              0.3333333333333333,
              "#9c179e"
             ],
             [
              0.4444444444444444,
              "#bd3786"
             ],
             [
              0.5555555555555556,
              "#d8576b"
             ],
             [
              0.6666666666666666,
              "#ed7953"
             ],
             [
              0.7777777777777778,
              "#fb9f3a"
             ],
             [
              0.8888888888888888,
              "#fdca26"
             ],
             [
              1,
              "#f0f921"
             ]
            ],
            "type": "surface"
           }
          ],
          "table": [
           {
            "cells": {
             "fill": {
              "color": "#EBF0F8"
             },
             "line": {
              "color": "white"
             }
            },
            "header": {
             "fill": {
              "color": "#C8D4E3"
             },
             "line": {
              "color": "white"
             }
            },
            "type": "table"
           }
          ]
         },
         "layout": {
          "annotationdefaults": {
           "arrowcolor": "#2a3f5f",
           "arrowhead": 0,
           "arrowwidth": 1
          },
          "autotypenumbers": "strict",
          "coloraxis": {
           "colorbar": {
            "outlinewidth": 0,
            "ticks": ""
           }
          },
          "colorscale": {
           "diverging": [
            [
             0,
             "#8e0152"
            ],
            [
             0.1,
             "#c51b7d"
            ],
            [
             0.2,
             "#de77ae"
            ],
            [
             0.3,
             "#f1b6da"
            ],
            [
             0.4,
             "#fde0ef"
            ],
            [
             0.5,
             "#f7f7f7"
            ],
            [
             0.6,
             "#e6f5d0"
            ],
            [
             0.7,
             "#b8e186"
            ],
            [
             0.8,
             "#7fbc41"
            ],
            [
             0.9,
             "#4d9221"
            ],
            [
             1,
             "#276419"
            ]
           ],
           "sequential": [
            [
             0,
             "#0d0887"
            ],
            [
             0.1111111111111111,
             "#46039f"
            ],
            [
             0.2222222222222222,
             "#7201a8"
            ],
            [
             0.3333333333333333,
             "#9c179e"
            ],
            [
             0.4444444444444444,
             "#bd3786"
            ],
            [
             0.5555555555555556,
             "#d8576b"
            ],
            [
             0.6666666666666666,
             "#ed7953"
            ],
            [
             0.7777777777777778,
             "#fb9f3a"
            ],
            [
             0.8888888888888888,
             "#fdca26"
            ],
            [
             1,
             "#f0f921"
            ]
           ],
           "sequentialminus": [
            [
             0,
             "#0d0887"
            ],
            [
             0.1111111111111111,
             "#46039f"
            ],
            [
             0.2222222222222222,
             "#7201a8"
            ],
            [
             0.3333333333333333,
             "#9c179e"
            ],
            [
             0.4444444444444444,
             "#bd3786"
            ],
            [
             0.5555555555555556,
             "#d8576b"
            ],
            [
             0.6666666666666666,
             "#ed7953"
            ],
            [
             0.7777777777777778,
             "#fb9f3a"
            ],
            [
             0.8888888888888888,
             "#fdca26"
            ],
            [
             1,
             "#f0f921"
            ]
           ]
          },
          "colorway": [
           "#636efa",
           "#EF553B",
           "#00cc96",
           "#ab63fa",
           "#FFA15A",
           "#19d3f3",
           "#FF6692",
           "#B6E880",
           "#FF97FF",
           "#FECB52"
          ],
          "font": {
           "color": "#2a3f5f"
          },
          "geo": {
           "bgcolor": "white",
           "lakecolor": "white",
           "landcolor": "#E5ECF6",
           "showlakes": true,
           "showland": true,
           "subunitcolor": "white"
          },
          "hoverlabel": {
           "align": "left"
          },
          "hovermode": "closest",
          "mapbox": {
           "style": "light"
          },
          "paper_bgcolor": "white",
          "plot_bgcolor": "#E5ECF6",
          "polar": {
           "angularaxis": {
            "gridcolor": "white",
            "linecolor": "white",
            "ticks": ""
           },
           "bgcolor": "#E5ECF6",
           "radialaxis": {
            "gridcolor": "white",
            "linecolor": "white",
            "ticks": ""
           }
          },
          "scene": {
           "xaxis": {
            "backgroundcolor": "#E5ECF6",
            "gridcolor": "white",
            "gridwidth": 2,
            "linecolor": "white",
            "showbackground": true,
            "ticks": "",
            "zerolinecolor": "white"
           },
           "yaxis": {
            "backgroundcolor": "#E5ECF6",
            "gridcolor": "white",
            "gridwidth": 2,
            "linecolor": "white",
            "showbackground": true,
            "ticks": "",
            "zerolinecolor": "white"
           },
           "zaxis": {
            "backgroundcolor": "#E5ECF6",
            "gridcolor": "white",
            "gridwidth": 2,
            "linecolor": "white",
            "showbackground": true,
            "ticks": "",
            "zerolinecolor": "white"
           }
          },
          "shapedefaults": {
           "line": {
            "color": "#2a3f5f"
           }
          },
          "ternary": {
           "aaxis": {
            "gridcolor": "white",
            "linecolor": "white",
            "ticks": ""
           },
           "baxis": {
            "gridcolor": "white",
            "linecolor": "white",
            "ticks": ""
           },
           "bgcolor": "#E5ECF6",
           "caxis": {
            "gridcolor": "white",
            "linecolor": "white",
            "ticks": ""
           }
          },
          "title": {
           "x": 0.05
          },
          "xaxis": {
           "automargin": true,
           "gridcolor": "white",
           "linecolor": "white",
           "ticks": "",
           "title": {
            "standoff": 15
           },
           "zerolinecolor": "white",
           "zerolinewidth": 2
          },
          "yaxis": {
           "automargin": true,
           "gridcolor": "white",
           "linecolor": "white",
           "ticks": "",
           "title": {
            "standoff": 15
           },
           "zerolinecolor": "white",
           "zerolinewidth": 2
          }
         }
        },
        "xaxis": {
         "anchor": "y",
         "domain": [
          0,
          1
         ],
         "title": {
          "text": "type"
         }
        },
        "yaxis": {
         "anchor": "x",
         "domain": [
          0,
          1
         ],
         "title": {
          "text": "sum of moving_time"
         }
        }
       }
      }
     },
     "metadata": {},
     "output_type": "display_data"
    },
    {
     "data": {
      "application/vnd.plotly.v1+json": {
       "config": {
        "plotlyServerURL": "https://plot.ly"
       },
       "data": [
        {
         "hovertemplate": "type=Run<br>start_date=%{x}<br>elapsed_time=%{y}<extra></extra>",
         "legendgroup": "Run",
         "line": {
          "color": "#636efa",
          "dash": "solid"
         },
         "marker": {
          "symbol": "circle"
         },
         "mode": "lines",
         "name": "Run",
         "orientation": "v",
         "showlegend": true,
         "type": "scatter",
         "x": [
          "2023-12-09T14:09:19Z",
          "2023-12-07T22:31:50Z",
          "2023-12-03T14:18:13Z",
          "2023-12-02T14:41:14Z",
          "2023-12-01T22:06:05Z",
          "2023-11-29T22:22:51Z",
          "2023-11-26T14:16:39Z",
          "2023-11-09T22:46:38Z",
          "2023-11-07T22:31:51Z",
          "2023-11-04T20:20:18Z",
          "2023-11-02T22:25:15Z",
          "2023-11-01T22:08:35Z",
          "2023-10-31T22:13:17Z",
          "2023-10-29T22:03:13Z",
          "2023-10-28T12:55:44Z",
          "2023-10-23T13:11:55Z",
          "2023-10-19T23:22:33Z",
          "2023-10-12T22:27:56Z",
          "2023-10-10T22:46:51Z",
          "2023-10-10T22:46:43Z",
          "2023-10-08T22:26:49Z",
          "2023-10-04T22:33:38Z",
          "2023-10-01T22:22:23Z",
          "2023-09-28T21:54:23Z",
          "2023-09-26T22:13:37Z",
          "2023-09-20T22:22:55Z",
          "2023-09-12T23:33:27Z",
          "2023-09-10T23:01:35Z",
          "2023-09-07T23:41:00Z",
          "2023-09-05T23:19:51Z",
          "2023-09-03T10:40:50Z",
          "2023-08-31T22:51:40Z",
          "2023-08-18T21:45:19Z",
          "2023-08-17T22:38:25Z",
          "2023-08-06T11:28:11Z",
          "2023-08-02T22:36:39Z",
          "2023-07-31T23:10:00Z",
          "2023-07-27T12:00:00Z",
          "2023-07-25T23:33:05Z",
          "2023-07-23T11:16:58Z",
          "2023-07-17T22:17:37Z",
          "2023-07-14T22:17:07Z",
          "2023-07-13T22:54:20Z",
          "2023-07-12T13:11:57Z",
          "2023-07-09T21:20:57Z",
          "2023-07-07T22:17:30Z",
          "2023-07-05T21:34:26Z",
          "2023-06-29T22:35:40Z",
          "2023-06-25T23:18:27Z",
          "2023-06-23T22:39:04Z",
          "2023-06-18T12:39:23Z",
          "2023-06-11T18:01:45Z",
          "2023-05-28T11:02:45Z",
          "2023-05-14T21:10:38Z",
          "2023-05-14T11:56:01Z",
          "2023-05-12T21:50:00Z",
          "2023-05-07T21:55:57Z",
          "2023-04-26T21:24:37Z",
          "2023-04-22T12:39:51Z",
          "2023-04-16T13:10:51Z",
          "2023-04-09T13:15:51Z",
          "2023-03-19T13:29:19Z",
          "2023-03-05T12:07:47Z",
          "2023-03-02T11:38:12Z",
          "2023-02-19T21:51:04Z",
          "2023-02-12T12:06:05Z",
          "2022-12-21T19:20:42Z",
          "2022-12-03T20:41:28Z",
          "2022-11-23T11:31:44Z",
          "2022-11-13T11:59:20Z",
          "2022-10-15T12:03:03Z",
          "2022-10-09T11:52:32Z",
          "2022-09-18T11:13:06Z",
          "2022-09-07T11:03:40Z",
          "2022-08-31T13:17:10Z",
          "2022-08-27T12:22:34Z",
          "2022-08-24T12:32:16Z",
          "2022-08-20T12:28:52Z",
          "2022-08-07T11:02:21Z",
          "2022-08-03T11:44:12Z",
          "2022-07-31T12:24:41Z",
          "2022-07-24T12:47:17Z",
          "2022-07-18T12:38:45Z",
          "2022-07-10T14:40:05Z",
          "2022-07-10T12:53:17Z",
          "2022-07-03T14:10:13Z",
          "2022-07-03T12:31:25Z",
          "2022-06-25T13:04:56Z",
          "2022-06-18T13:43:07Z",
          "2022-06-12T13:20:44Z",
          "2022-05-28T15:11:38Z",
          "2022-05-22T11:13:30Z",
          "2022-05-21T11:27:40Z",
          "2022-03-16T16:12:54Z"
         ],
         "xaxis": "x",
         "y": [
          4617,
          62993,
          7462,
          2170,
          4221,
          2983,
          2735,
          4037,
          2012,
          15709,
          2051,
          4672,
          2560,
          2101,
          8239,
          1951,
          2824,
          2735,
          2049,
          2066,
          4727,
          2002,
          2116,
          2248,
          1092,
          1259,
          1121,
          10523,
          217,
          1883,
          7121,
          573,
          1017,
          1778,
          10507,
          1929,
          2013,
          1200,
          1860,
          6627,
          2821,
          1313,
          2090,
          3462,
          4352,
          2253,
          1018,
          3471,
          4953,
          951,
          4101,
          2354,
          3017,
          1490,
          33260,
          1880,
          4795,
          2042,
          2292,
          3695,
          3496,
          9241,
          10154,
          5386,
          4453,
          4937,
          9323,
          6081,
          5905,
          3021,
          3888,
          2593,
          4471,
          4664,
          362,
          4768,
          2044,
          6794,
          5213,
          2237,
          5370,
          5749,
          3058,
          1657,
          5119,
          8503,
          5051,
          4439,
          5681,
          4113,
          3555,
          2478,
          2426,
          1009
         ],
         "yaxis": "y"
        },
        {
         "hovertemplate": "type=Hike<br>start_date=%{x}<br>elapsed_time=%{y}<extra></extra>",
         "legendgroup": "Hike",
         "line": {
          "color": "#EF553B",
          "dash": "solid"
         },
         "marker": {
          "symbol": "circle"
         },
         "mode": "lines",
         "name": "Hike",
         "orientation": "v",
         "showlegend": true,
         "type": "scatter",
         "x": [
          "2023-10-21T15:02:30Z"
         ],
         "xaxis": "x",
         "y": [
          7263
         ],
         "yaxis": "y"
        },
        {
         "hovertemplate": "type=Workout<br>start_date=%{x}<br>elapsed_time=%{y}<extra></extra>",
         "legendgroup": "Workout",
         "line": {
          "color": "#00cc96",
          "dash": "solid"
         },
         "marker": {
          "symbol": "circle"
         },
         "mode": "lines",
         "name": "Workout",
         "orientation": "v",
         "showlegend": true,
         "type": "scatter",
         "x": [
          "2023-10-15T18:17:29Z",
          "2022-10-13T11:48:24Z",
          "2022-10-07T11:57:31Z",
          "2022-09-02T11:54:10Z",
          "2022-09-01T11:42:46Z",
          "2022-08-31T11:47:53Z",
          "2022-08-30T12:59:41Z"
         ],
         "xaxis": "x",
         "y": [
          2564,
          8575,
          8293,
          5181,
          8646,
          5931,
          4433
         ],
         "yaxis": "y"
        },
        {
         "hovertemplate": "type=Walk<br>start_date=%{x}<br>elapsed_time=%{y}<extra></extra>",
         "legendgroup": "Walk",
         "line": {
          "color": "#ab63fa",
          "dash": "solid"
         },
         "marker": {
          "symbol": "circle"
         },
         "mode": "lines",
         "name": "Walk",
         "orientation": "v",
         "showlegend": true,
         "type": "scatter",
         "x": [
          "2023-10-01T23:25:32Z",
          "2022-11-13T12:54:52Z",
          "2022-10-15T15:04:34Z"
         ],
         "xaxis": "x",
         "y": [
          1401,
          255,
          1699
         ],
         "yaxis": "y"
        }
       ],
       "layout": {
        "legend": {
         "title": {
          "text": "type"
         },
         "tracegroupgap": 0
        },
        "margin": {
         "t": 60
        },
        "template": {
         "data": {
          "bar": [
           {
            "error_x": {
             "color": "#2a3f5f"
            },
            "error_y": {
             "color": "#2a3f5f"
            },
            "marker": {
             "line": {
              "color": "#E5ECF6",
              "width": 0.5
             },
             "pattern": {
              "fillmode": "overlay",
              "size": 10,
              "solidity": 0.2
             }
            },
            "type": "bar"
           }
          ],
          "barpolar": [
           {
            "marker": {
             "line": {
              "color": "#E5ECF6",
              "width": 0.5
             },
             "pattern": {
              "fillmode": "overlay",
              "size": 10,
              "solidity": 0.2
             }
            },
            "type": "barpolar"
           }
          ],
          "carpet": [
           {
            "aaxis": {
             "endlinecolor": "#2a3f5f",
             "gridcolor": "white",
             "linecolor": "white",
             "minorgridcolor": "white",
             "startlinecolor": "#2a3f5f"
            },
            "baxis": {
             "endlinecolor": "#2a3f5f",
             "gridcolor": "white",
             "linecolor": "white",
             "minorgridcolor": "white",
             "startlinecolor": "#2a3f5f"
            },
            "type": "carpet"
           }
          ],
          "choropleth": [
           {
            "colorbar": {
             "outlinewidth": 0,
             "ticks": ""
            },
            "type": "choropleth"
           }
          ],
          "contour": [
           {
            "colorbar": {
             "outlinewidth": 0,
             "ticks": ""
            },
            "colorscale": [
             [
              0,
              "#0d0887"
             ],
             [
              0.1111111111111111,
              "#46039f"
             ],
             [
              0.2222222222222222,
              "#7201a8"
             ],
             [
              0.3333333333333333,
              "#9c179e"
             ],
             [
              0.4444444444444444,
              "#bd3786"
             ],
             [
              0.5555555555555556,
              "#d8576b"
             ],
             [
              0.6666666666666666,
              "#ed7953"
             ],
             [
              0.7777777777777778,
              "#fb9f3a"
             ],
             [
              0.8888888888888888,
              "#fdca26"
             ],
             [
              1,
              "#f0f921"
             ]
            ],
            "type": "contour"
           }
          ],
          "contourcarpet": [
           {
            "colorbar": {
             "outlinewidth": 0,
             "ticks": ""
            },
            "type": "contourcarpet"
           }
          ],
          "heatmap": [
           {
            "colorbar": {
             "outlinewidth": 0,
             "ticks": ""
            },
            "colorscale": [
             [
              0,
              "#0d0887"
             ],
             [
              0.1111111111111111,
              "#46039f"
             ],
             [
              0.2222222222222222,
              "#7201a8"
             ],
             [
              0.3333333333333333,
              "#9c179e"
             ],
             [
              0.4444444444444444,
              "#bd3786"
             ],
             [
              0.5555555555555556,
              "#d8576b"
             ],
             [
              0.6666666666666666,
              "#ed7953"
             ],
             [
              0.7777777777777778,
              "#fb9f3a"
             ],
             [
              0.8888888888888888,
              "#fdca26"
             ],
             [
              1,
              "#f0f921"
             ]
            ],
            "type": "heatmap"
           }
          ],
          "heatmapgl": [
           {
            "colorbar": {
             "outlinewidth": 0,
             "ticks": ""
            },
            "colorscale": [
             [
              0,
              "#0d0887"
             ],
             [
              0.1111111111111111,
              "#46039f"
             ],
             [
              0.2222222222222222,
              "#7201a8"
             ],
             [
              0.3333333333333333,
              "#9c179e"
             ],
             [
              0.4444444444444444,
              "#bd3786"
             ],
             [
              0.5555555555555556,
              "#d8576b"
             ],
             [
              0.6666666666666666,
              "#ed7953"
             ],
             [
              0.7777777777777778,
              "#fb9f3a"
             ],
             [
              0.8888888888888888,
              "#fdca26"
             ],
             [
              1,
              "#f0f921"
             ]
            ],
            "type": "heatmapgl"
           }
          ],
          "histogram": [
           {
            "marker": {
             "pattern": {
              "fillmode": "overlay",
              "size": 10,
              "solidity": 0.2
             }
            },
            "type": "histogram"
           }
          ],
          "histogram2d": [
           {
            "colorbar": {
             "outlinewidth": 0,
             "ticks": ""
            },
            "colorscale": [
             [
              0,
              "#0d0887"
             ],
             [
              0.1111111111111111,
              "#46039f"
             ],
             [
              0.2222222222222222,
              "#7201a8"
             ],
             [
              0.3333333333333333,
              "#9c179e"
             ],
             [
              0.4444444444444444,
              "#bd3786"
             ],
             [
              0.5555555555555556,
              "#d8576b"
             ],
             [
              0.6666666666666666,
              "#ed7953"
             ],
             [
              0.7777777777777778,
              "#fb9f3a"
             ],
             [
              0.8888888888888888,
              "#fdca26"
             ],
             [
              1,
              "#f0f921"
             ]
            ],
            "type": "histogram2d"
           }
          ],
          "histogram2dcontour": [
           {
            "colorbar": {
             "outlinewidth": 0,
             "ticks": ""
            },
            "colorscale": [
             [
              0,
              "#0d0887"
             ],
             [
              0.1111111111111111,
              "#46039f"
             ],
             [
              0.2222222222222222,
              "#7201a8"
             ],
             [
              0.3333333333333333,
              "#9c179e"
             ],
             [
              0.4444444444444444,
              "#bd3786"
             ],
             [
              0.5555555555555556,
              "#d8576b"
             ],
             [
              0.6666666666666666,
              "#ed7953"
             ],
             [
              0.7777777777777778,
              "#fb9f3a"
             ],
             [
              0.8888888888888888,
              "#fdca26"
             ],
             [
              1,
              "#f0f921"
             ]
            ],
            "type": "histogram2dcontour"
           }
          ],
          "mesh3d": [
           {
            "colorbar": {
             "outlinewidth": 0,
             "ticks": ""
            },
            "type": "mesh3d"
           }
          ],
          "parcoords": [
           {
            "line": {
             "colorbar": {
              "outlinewidth": 0,
              "ticks": ""
             }
            },
            "type": "parcoords"
           }
          ],
          "pie": [
           {
            "automargin": true,
            "type": "pie"
           }
          ],
          "scatter": [
           {
            "fillpattern": {
             "fillmode": "overlay",
             "size": 10,
             "solidity": 0.2
            },
            "type": "scatter"
           }
          ],
          "scatter3d": [
           {
            "line": {
             "colorbar": {
              "outlinewidth": 0,
              "ticks": ""
             }
            },
            "marker": {
             "colorbar": {
              "outlinewidth": 0,
              "ticks": ""
             }
            },
            "type": "scatter3d"
           }
          ],
          "scattercarpet": [
           {
            "marker": {
             "colorbar": {
              "outlinewidth": 0,
              "ticks": ""
             }
            },
            "type": "scattercarpet"
           }
          ],
          "scattergeo": [
           {
            "marker": {
             "colorbar": {
              "outlinewidth": 0,
              "ticks": ""
             }
            },
            "type": "scattergeo"
           }
          ],
          "scattergl": [
           {
            "marker": {
             "colorbar": {
              "outlinewidth": 0,
              "ticks": ""
             }
            },
            "type": "scattergl"
           }
          ],
          "scattermapbox": [
           {
            "marker": {
             "colorbar": {
              "outlinewidth": 0,
              "ticks": ""
             }
            },
            "type": "scattermapbox"
           }
          ],
          "scatterpolar": [
           {
            "marker": {
             "colorbar": {
              "outlinewidth": 0,
              "ticks": ""
             }
            },
            "type": "scatterpolar"
           }
          ],
          "scatterpolargl": [
           {
            "marker": {
             "colorbar": {
              "outlinewidth": 0,
              "ticks": ""
             }
            },
            "type": "scatterpolargl"
           }
          ],
          "scatterternary": [
           {
            "marker": {
             "colorbar": {
              "outlinewidth": 0,
              "ticks": ""
             }
            },
            "type": "scatterternary"
           }
          ],
          "surface": [
           {
            "colorbar": {
             "outlinewidth": 0,
             "ticks": ""
            },
            "colorscale": [
             [
              0,
              "#0d0887"
             ],
             [
              0.1111111111111111,
              "#46039f"
             ],
             [
              0.2222222222222222,
              "#7201a8"
             ],
             [
              0.3333333333333333,
              "#9c179e"
             ],
             [
              0.4444444444444444,
              "#bd3786"
             ],
             [
              0.5555555555555556,
              "#d8576b"
             ],
             [
              0.6666666666666666,
              "#ed7953"
             ],
             [
              0.7777777777777778,
              "#fb9f3a"
             ],
             [
              0.8888888888888888,
              "#fdca26"
             ],
             [
              1,
              "#f0f921"
             ]
            ],
            "type": "surface"
           }
          ],
          "table": [
           {
            "cells": {
             "fill": {
              "color": "#EBF0F8"
             },
             "line": {
              "color": "white"
             }
            },
            "header": {
             "fill": {
              "color": "#C8D4E3"
             },
             "line": {
              "color": "white"
             }
            },
            "type": "table"
           }
          ]
         },
         "layout": {
          "annotationdefaults": {
           "arrowcolor": "#2a3f5f",
           "arrowhead": 0,
           "arrowwidth": 1
          },
          "autotypenumbers": "strict",
          "coloraxis": {
           "colorbar": {
            "outlinewidth": 0,
            "ticks": ""
           }
          },
          "colorscale": {
           "diverging": [
            [
             0,
             "#8e0152"
            ],
            [
             0.1,
             "#c51b7d"
            ],
            [
             0.2,
             "#de77ae"
            ],
            [
             0.3,
             "#f1b6da"
            ],
            [
             0.4,
             "#fde0ef"
            ],
            [
             0.5,
             "#f7f7f7"
            ],
            [
             0.6,
             "#e6f5d0"
            ],
            [
             0.7,
             "#b8e186"
            ],
            [
             0.8,
             "#7fbc41"
            ],
            [
             0.9,
             "#4d9221"
            ],
            [
             1,
             "#276419"
            ]
           ],
           "sequential": [
            [
             0,
             "#0d0887"
            ],
            [
             0.1111111111111111,
             "#46039f"
            ],
            [
             0.2222222222222222,
             "#7201a8"
            ],
            [
             0.3333333333333333,
             "#9c179e"
            ],
            [
             0.4444444444444444,
             "#bd3786"
            ],
            [
             0.5555555555555556,
             "#d8576b"
            ],
            [
             0.6666666666666666,
             "#ed7953"
            ],
            [
             0.7777777777777778,
             "#fb9f3a"
            ],
            [
             0.8888888888888888,
             "#fdca26"
            ],
            [
             1,
             "#f0f921"
            ]
           ],
           "sequentialminus": [
            [
             0,
             "#0d0887"
            ],
            [
             0.1111111111111111,
             "#46039f"
            ],
            [
             0.2222222222222222,
             "#7201a8"
            ],
            [
             0.3333333333333333,
             "#9c179e"
            ],
            [
             0.4444444444444444,
             "#bd3786"
            ],
            [
             0.5555555555555556,
             "#d8576b"
            ],
            [
             0.6666666666666666,
             "#ed7953"
            ],
            [
             0.7777777777777778,
             "#fb9f3a"
            ],
            [
             0.8888888888888888,
             "#fdca26"
            ],
            [
             1,
             "#f0f921"
            ]
           ]
          },
          "colorway": [
           "#636efa",
           "#EF553B",
           "#00cc96",
           "#ab63fa",
           "#FFA15A",
           "#19d3f3",
           "#FF6692",
           "#B6E880",
           "#FF97FF",
           "#FECB52"
          ],
          "font": {
           "color": "#2a3f5f"
          },
          "geo": {
           "bgcolor": "white",
           "lakecolor": "white",
           "landcolor": "#E5ECF6",
           "showlakes": true,
           "showland": true,
           "subunitcolor": "white"
          },
          "hoverlabel": {
           "align": "left"
          },
          "hovermode": "closest",
          "mapbox": {
           "style": "light"
          },
          "paper_bgcolor": "white",
          "plot_bgcolor": "#E5ECF6",
          "polar": {
           "angularaxis": {
            "gridcolor": "white",
            "linecolor": "white",
            "ticks": ""
           },
           "bgcolor": "#E5ECF6",
           "radialaxis": {
            "gridcolor": "white",
            "linecolor": "white",
            "ticks": ""
           }
          },
          "scene": {
           "xaxis": {
            "backgroundcolor": "#E5ECF6",
            "gridcolor": "white",
            "gridwidth": 2,
            "linecolor": "white",
            "showbackground": true,
            "ticks": "",
            "zerolinecolor": "white"
           },
           "yaxis": {
            "backgroundcolor": "#E5ECF6",
            "gridcolor": "white",
            "gridwidth": 2,
            "linecolor": "white",
            "showbackground": true,
            "ticks": "",
            "zerolinecolor": "white"
           },
           "zaxis": {
            "backgroundcolor": "#E5ECF6",
            "gridcolor": "white",
            "gridwidth": 2,
            "linecolor": "white",
            "showbackground": true,
            "ticks": "",
            "zerolinecolor": "white"
           }
          },
          "shapedefaults": {
           "line": {
            "color": "#2a3f5f"
           }
          },
          "ternary": {
           "aaxis": {
            "gridcolor": "white",
            "linecolor": "white",
            "ticks": ""
           },
           "baxis": {
            "gridcolor": "white",
            "linecolor": "white",
            "ticks": ""
           },
           "bgcolor": "#E5ECF6",
           "caxis": {
            "gridcolor": "white",
            "linecolor": "white",
            "ticks": ""
           }
          },
          "title": {
           "x": 0.05
          },
          "xaxis": {
           "automargin": true,
           "gridcolor": "white",
           "linecolor": "white",
           "ticks": "",
           "title": {
            "standoff": 15
           },
           "zerolinecolor": "white",
           "zerolinewidth": 2
          },
          "yaxis": {
           "automargin": true,
           "gridcolor": "white",
           "linecolor": "white",
           "ticks": "",
           "title": {
            "standoff": 15
           },
           "zerolinecolor": "white",
           "zerolinewidth": 2
          }
         }
        },
        "xaxis": {
         "anchor": "y",
         "domain": [
          0,
          1
         ],
         "title": {
          "text": "start_date"
         }
        },
        "yaxis": {
         "anchor": "x",
         "domain": [
          0,
          1
         ],
         "title": {
          "text": "elapsed_time"
         }
        }
       }
      }
     },
     "metadata": {},
     "output_type": "display_data"
    },
    {
     "data": {
      "application/vnd.plotly.v1+json": {
       "config": {
        "plotlyServerURL": "https://plot.ly"
       },
       "data": [
        {
         "alignmentgroup": "True",
         "bingroup": "x",
         "histfunc": "sum",
         "hovertemplate": "type=%{x}<br>sum of elapsed_time=%{y}<extra></extra>",
         "legendgroup": "",
         "marker": {
          "color": "#636efa",
          "pattern": {
           "shape": ""
          }
         },
         "name": "",
         "offsetgroup": "",
         "orientation": "v",
         "showlegend": false,
         "type": "histogram",
         "x": [
          "Run",
          "Run",
          "Run",
          "Run",
          "Run",
          "Run",
          "Run",
          "Run",
          "Run",
          "Run",
          "Run",
          "Run",
          "Run",
          "Run",
          "Run",
          "Run",
          "Hike",
          "Run",
          "Workout",
          "Run",
          "Run",
          "Run",
          "Run",
          "Run",
          "Walk",
          "Run",
          "Run",
          "Run",
          "Run",
          "Run",
          "Run",
          "Run",
          "Run",
          "Run",
          "Run",
          "Run",
          "Run",
          "Run",
          "Run",
          "Run",
          "Run",
          "Run",
          "Run",
          "Run",
          "Run",
          "Run",
          "Run",
          "Run",
          "Run",
          "Run",
          "Run",
          "Run",
          "Run",
          "Run",
          "Run",
          "Run",
          "Run",
          "Run",
          "Run",
          "Run",
          "Run",
          "Run",
          "Run",
          "Run",
          "Run",
          "Run",
          "Run",
          "Run",
          "Run",
          "Run",
          "Run",
          "Run",
          "Walk",
          "Run",
          "Walk",
          "Run",
          "Workout",
          "Run",
          "Workout",
          "Run",
          "Run",
          "Workout",
          "Workout",
          "Workout",
          "Run",
          "Workout",
          "Run",
          "Run",
          "Run",
          "Run",
          "Run",
          "Run",
          "Run",
          "Run",
          "Run",
          "Run",
          "Run",
          "Run",
          "Run",
          "Run",
          "Run",
          "Run",
          "Run",
          "Run",
          "Run"
         ],
         "xaxis": "x",
         "y": [
          4617,
          62993,
          7462,
          2170,
          4221,
          2983,
          2735,
          4037,
          2012,
          15709,
          2051,
          4672,
          2560,
          2101,
          8239,
          1951,
          7263,
          2824,
          2564,
          2735,
          2049,
          2066,
          4727,
          2002,
          1401,
          2116,
          2248,
          1092,
          1259,
          1121,
          10523,
          217,
          1883,
          7121,
          573,
          1017,
          1778,
          10507,
          1929,
          2013,
          1200,
          1860,
          6627,
          2821,
          1313,
          2090,
          3462,
          4352,
          2253,
          1018,
          3471,
          4953,
          951,
          4101,
          2354,
          3017,
          1490,
          33260,
          1880,
          4795,
          2042,
          2292,
          3695,
          3496,
          9241,
          10154,
          5386,
          4453,
          4937,
          9323,
          6081,
          5905,
          255,
          3021,
          1699,
          3888,
          8575,
          2593,
          8293,
          4471,
          4664,
          5181,
          8646,
          5931,
          362,
          4433,
          4768,
          2044,
          6794,
          5213,
          2237,
          5370,
          5749,
          3058,
          1657,
          5119,
          8503,
          5051,
          4439,
          5681,
          4113,
          3555,
          2478,
          2426,
          1009
         ],
         "yaxis": "y"
        }
       ],
       "layout": {
        "barmode": "relative",
        "legend": {
         "tracegroupgap": 0
        },
        "margin": {
         "t": 60
        },
        "template": {
         "data": {
          "bar": [
           {
            "error_x": {
             "color": "#2a3f5f"
            },
            "error_y": {
             "color": "#2a3f5f"
            },
            "marker": {
             "line": {
              "color": "#E5ECF6",
              "width": 0.5
             },
             "pattern": {
              "fillmode": "overlay",
              "size": 10,
              "solidity": 0.2
             }
            },
            "type": "bar"
           }
          ],
          "barpolar": [
           {
            "marker": {
             "line": {
              "color": "#E5ECF6",
              "width": 0.5
             },
             "pattern": {
              "fillmode": "overlay",
              "size": 10,
              "solidity": 0.2
             }
            },
            "type": "barpolar"
           }
          ],
          "carpet": [
           {
            "aaxis": {
             "endlinecolor": "#2a3f5f",
             "gridcolor": "white",
             "linecolor": "white",
             "minorgridcolor": "white",
             "startlinecolor": "#2a3f5f"
            },
            "baxis": {
             "endlinecolor": "#2a3f5f",
             "gridcolor": "white",
             "linecolor": "white",
             "minorgridcolor": "white",
             "startlinecolor": "#2a3f5f"
            },
            "type": "carpet"
           }
          ],
          "choropleth": [
           {
            "colorbar": {
             "outlinewidth": 0,
             "ticks": ""
            },
            "type": "choropleth"
           }
          ],
          "contour": [
           {
            "colorbar": {
             "outlinewidth": 0,
             "ticks": ""
            },
            "colorscale": [
             [
              0,
              "#0d0887"
             ],
             [
              0.1111111111111111,
              "#46039f"
             ],
             [
              0.2222222222222222,
              "#7201a8"
             ],
             [
              0.3333333333333333,
              "#9c179e"
             ],
             [
              0.4444444444444444,
              "#bd3786"
             ],
             [
              0.5555555555555556,
              "#d8576b"
             ],
             [
              0.6666666666666666,
              "#ed7953"
             ],
             [
              0.7777777777777778,
              "#fb9f3a"
             ],
             [
              0.8888888888888888,
              "#fdca26"
             ],
             [
              1,
              "#f0f921"
             ]
            ],
            "type": "contour"
           }
          ],
          "contourcarpet": [
           {
            "colorbar": {
             "outlinewidth": 0,
             "ticks": ""
            },
            "type": "contourcarpet"
           }
          ],
          "heatmap": [
           {
            "colorbar": {
             "outlinewidth": 0,
             "ticks": ""
            },
            "colorscale": [
             [
              0,
              "#0d0887"
             ],
             [
              0.1111111111111111,
              "#46039f"
             ],
             [
              0.2222222222222222,
              "#7201a8"
             ],
             [
              0.3333333333333333,
              "#9c179e"
             ],
             [
              0.4444444444444444,
              "#bd3786"
             ],
             [
              0.5555555555555556,
              "#d8576b"
             ],
             [
              0.6666666666666666,
              "#ed7953"
             ],
             [
              0.7777777777777778,
              "#fb9f3a"
             ],
             [
              0.8888888888888888,
              "#fdca26"
             ],
             [
              1,
              "#f0f921"
             ]
            ],
            "type": "heatmap"
           }
          ],
          "heatmapgl": [
           {
            "colorbar": {
             "outlinewidth": 0,
             "ticks": ""
            },
            "colorscale": [
             [
              0,
              "#0d0887"
             ],
             [
              0.1111111111111111,
              "#46039f"
             ],
             [
              0.2222222222222222,
              "#7201a8"
             ],
             [
              0.3333333333333333,
              "#9c179e"
             ],
             [
              0.4444444444444444,
              "#bd3786"
             ],
             [
              0.5555555555555556,
              "#d8576b"
             ],
             [
              0.6666666666666666,
              "#ed7953"
             ],
             [
              0.7777777777777778,
              "#fb9f3a"
             ],
             [
              0.8888888888888888,
              "#fdca26"
             ],
             [
              1,
              "#f0f921"
             ]
            ],
            "type": "heatmapgl"
           }
          ],
          "histogram": [
           {
            "marker": {
             "pattern": {
              "fillmode": "overlay",
              "size": 10,
              "solidity": 0.2
             }
            },
            "type": "histogram"
           }
          ],
          "histogram2d": [
           {
            "colorbar": {
             "outlinewidth": 0,
             "ticks": ""
            },
            "colorscale": [
             [
              0,
              "#0d0887"
             ],
             [
              0.1111111111111111,
              "#46039f"
             ],
             [
              0.2222222222222222,
              "#7201a8"
             ],
             [
              0.3333333333333333,
              "#9c179e"
             ],
             [
              0.4444444444444444,
              "#bd3786"
             ],
             [
              0.5555555555555556,
              "#d8576b"
             ],
             [
              0.6666666666666666,
              "#ed7953"
             ],
             [
              0.7777777777777778,
              "#fb9f3a"
             ],
             [
              0.8888888888888888,
              "#fdca26"
             ],
             [
              1,
              "#f0f921"
             ]
            ],
            "type": "histogram2d"
           }
          ],
          "histogram2dcontour": [
           {
            "colorbar": {
             "outlinewidth": 0,
             "ticks": ""
            },
            "colorscale": [
             [
              0,
              "#0d0887"
             ],
             [
              0.1111111111111111,
              "#46039f"
             ],
             [
              0.2222222222222222,
              "#7201a8"
             ],
             [
              0.3333333333333333,
              "#9c179e"
             ],
             [
              0.4444444444444444,
              "#bd3786"
             ],
             [
              0.5555555555555556,
              "#d8576b"
             ],
             [
              0.6666666666666666,
              "#ed7953"
             ],
             [
              0.7777777777777778,
              "#fb9f3a"
             ],
             [
              0.8888888888888888,
              "#fdca26"
             ],
             [
              1,
              "#f0f921"
             ]
            ],
            "type": "histogram2dcontour"
           }
          ],
          "mesh3d": [
           {
            "colorbar": {
             "outlinewidth": 0,
             "ticks": ""
            },
            "type": "mesh3d"
           }
          ],
          "parcoords": [
           {
            "line": {
             "colorbar": {
              "outlinewidth": 0,
              "ticks": ""
             }
            },
            "type": "parcoords"
           }
          ],
          "pie": [
           {
            "automargin": true,
            "type": "pie"
           }
          ],
          "scatter": [
           {
            "fillpattern": {
             "fillmode": "overlay",
             "size": 10,
             "solidity": 0.2
            },
            "type": "scatter"
           }
          ],
          "scatter3d": [
           {
            "line": {
             "colorbar": {
              "outlinewidth": 0,
              "ticks": ""
             }
            },
            "marker": {
             "colorbar": {
              "outlinewidth": 0,
              "ticks": ""
             }
            },
            "type": "scatter3d"
           }
          ],
          "scattercarpet": [
           {
            "marker": {
             "colorbar": {
              "outlinewidth": 0,
              "ticks": ""
             }
            },
            "type": "scattercarpet"
           }
          ],
          "scattergeo": [
           {
            "marker": {
             "colorbar": {
              "outlinewidth": 0,
              "ticks": ""
             }
            },
            "type": "scattergeo"
           }
          ],
          "scattergl": [
           {
            "marker": {
             "colorbar": {
              "outlinewidth": 0,
              "ticks": ""
             }
            },
            "type": "scattergl"
           }
          ],
          "scattermapbox": [
           {
            "marker": {
             "colorbar": {
              "outlinewidth": 0,
              "ticks": ""
             }
            },
            "type": "scattermapbox"
           }
          ],
          "scatterpolar": [
           {
            "marker": {
             "colorbar": {
              "outlinewidth": 0,
              "ticks": ""
             }
            },
            "type": "scatterpolar"
           }
          ],
          "scatterpolargl": [
           {
            "marker": {
             "colorbar": {
              "outlinewidth": 0,
              "ticks": ""
             }
            },
            "type": "scatterpolargl"
           }
          ],
          "scatterternary": [
           {
            "marker": {
             "colorbar": {
              "outlinewidth": 0,
              "ticks": ""
             }
            },
            "type": "scatterternary"
           }
          ],
          "surface": [
           {
            "colorbar": {
             "outlinewidth": 0,
             "ticks": ""
            },
            "colorscale": [
             [
              0,
              "#0d0887"
             ],
             [
              0.1111111111111111,
              "#46039f"
             ],
             [
              0.2222222222222222,
              "#7201a8"
             ],
             [
              0.3333333333333333,
              "#9c179e"
             ],
             [
              0.4444444444444444,
              "#bd3786"
             ],
             [
              0.5555555555555556,
              "#d8576b"
             ],
             [
              0.6666666666666666,
              "#ed7953"
             ],
             [
              0.7777777777777778,
              "#fb9f3a"
             ],
             [
              0.8888888888888888,
              "#fdca26"
             ],
             [
              1,
              "#f0f921"
             ]
            ],
            "type": "surface"
           }
          ],
          "table": [
           {
            "cells": {
             "fill": {
              "color": "#EBF0F8"
             },
             "line": {
              "color": "white"
             }
            },
            "header": {
             "fill": {
              "color": "#C8D4E3"
             },
             "line": {
              "color": "white"
             }
            },
            "type": "table"
           }
          ]
         },
         "layout": {
          "annotationdefaults": {
           "arrowcolor": "#2a3f5f",
           "arrowhead": 0,
           "arrowwidth": 1
          },
          "autotypenumbers": "strict",
          "coloraxis": {
           "colorbar": {
            "outlinewidth": 0,
            "ticks": ""
           }
          },
          "colorscale": {
           "diverging": [
            [
             0,
             "#8e0152"
            ],
            [
             0.1,
             "#c51b7d"
            ],
            [
             0.2,
             "#de77ae"
            ],
            [
             0.3,
             "#f1b6da"
            ],
            [
             0.4,
             "#fde0ef"
            ],
            [
             0.5,
             "#f7f7f7"
            ],
            [
             0.6,
             "#e6f5d0"
            ],
            [
             0.7,
             "#b8e186"
            ],
            [
             0.8,
             "#7fbc41"
            ],
            [
             0.9,
             "#4d9221"
            ],
            [
             1,
             "#276419"
            ]
           ],
           "sequential": [
            [
             0,
             "#0d0887"
            ],
            [
             0.1111111111111111,
             "#46039f"
            ],
            [
             0.2222222222222222,
             "#7201a8"
            ],
            [
             0.3333333333333333,
             "#9c179e"
            ],
            [
             0.4444444444444444,
             "#bd3786"
            ],
            [
             0.5555555555555556,
             "#d8576b"
            ],
            [
             0.6666666666666666,
             "#ed7953"
            ],
            [
             0.7777777777777778,
             "#fb9f3a"
            ],
            [
             0.8888888888888888,
             "#fdca26"
            ],
            [
             1,
             "#f0f921"
            ]
           ],
           "sequentialminus": [
            [
             0,
             "#0d0887"
            ],
            [
             0.1111111111111111,
             "#46039f"
            ],
            [
             0.2222222222222222,
             "#7201a8"
            ],
            [
             0.3333333333333333,
             "#9c179e"
            ],
            [
             0.4444444444444444,
             "#bd3786"
            ],
            [
             0.5555555555555556,
             "#d8576b"
            ],
            [
             0.6666666666666666,
             "#ed7953"
            ],
            [
             0.7777777777777778,
             "#fb9f3a"
            ],
            [
             0.8888888888888888,
             "#fdca26"
            ],
            [
             1,
             "#f0f921"
            ]
           ]
          },
          "colorway": [
           "#636efa",
           "#EF553B",
           "#00cc96",
           "#ab63fa",
           "#FFA15A",
           "#19d3f3",
           "#FF6692",
           "#B6E880",
           "#FF97FF",
           "#FECB52"
          ],
          "font": {
           "color": "#2a3f5f"
          },
          "geo": {
           "bgcolor": "white",
           "lakecolor": "white",
           "landcolor": "#E5ECF6",
           "showlakes": true,
           "showland": true,
           "subunitcolor": "white"
          },
          "hoverlabel": {
           "align": "left"
          },
          "hovermode": "closest",
          "mapbox": {
           "style": "light"
          },
          "paper_bgcolor": "white",
          "plot_bgcolor": "#E5ECF6",
          "polar": {
           "angularaxis": {
            "gridcolor": "white",
            "linecolor": "white",
            "ticks": ""
           },
           "bgcolor": "#E5ECF6",
           "radialaxis": {
            "gridcolor": "white",
            "linecolor": "white",
            "ticks": ""
           }
          },
          "scene": {
           "xaxis": {
            "backgroundcolor": "#E5ECF6",
            "gridcolor": "white",
            "gridwidth": 2,
            "linecolor": "white",
            "showbackground": true,
            "ticks": "",
            "zerolinecolor": "white"
           },
           "yaxis": {
            "backgroundcolor": "#E5ECF6",
            "gridcolor": "white",
            "gridwidth": 2,
            "linecolor": "white",
            "showbackground": true,
            "ticks": "",
            "zerolinecolor": "white"
           },
           "zaxis": {
            "backgroundcolor": "#E5ECF6",
            "gridcolor": "white",
            "gridwidth": 2,
            "linecolor": "white",
            "showbackground": true,
            "ticks": "",
            "zerolinecolor": "white"
           }
          },
          "shapedefaults": {
           "line": {
            "color": "#2a3f5f"
           }
          },
          "ternary": {
           "aaxis": {
            "gridcolor": "white",
            "linecolor": "white",
            "ticks": ""
           },
           "baxis": {
            "gridcolor": "white",
            "linecolor": "white",
            "ticks": ""
           },
           "bgcolor": "#E5ECF6",
           "caxis": {
            "gridcolor": "white",
            "linecolor": "white",
            "ticks": ""
           }
          },
          "title": {
           "x": 0.05
          },
          "xaxis": {
           "automargin": true,
           "gridcolor": "white",
           "linecolor": "white",
           "ticks": "",
           "title": {
            "standoff": 15
           },
           "zerolinecolor": "white",
           "zerolinewidth": 2
          },
          "yaxis": {
           "automargin": true,
           "gridcolor": "white",
           "linecolor": "white",
           "ticks": "",
           "title": {
            "standoff": 15
           },
           "zerolinecolor": "white",
           "zerolinewidth": 2
          }
         }
        },
        "xaxis": {
         "anchor": "y",
         "domain": [
          0,
          1
         ],
         "title": {
          "text": "type"
         }
        },
        "yaxis": {
         "anchor": "x",
         "domain": [
          0,
          1
         ],
         "title": {
          "text": "sum of elapsed_time"
         }
        }
       }
      }
     },
     "metadata": {},
     "output_type": "display_data"
    },
    {
     "data": {
      "application/vnd.plotly.v1+json": {
       "config": {
        "plotlyServerURL": "https://plot.ly"
       },
       "data": [
        {
         "hovertemplate": "type=Run<br>start_date=%{x}<br>total_elevation_gain=%{y}<extra></extra>",
         "legendgroup": "Run",
         "line": {
          "color": "#636efa",
          "dash": "solid"
         },
         "marker": {
          "symbol": "circle"
         },
         "mode": "lines",
         "name": "Run",
         "orientation": "v",
         "showlegend": true,
         "type": "scatter",
         "x": [
          "2023-12-09T14:09:19Z",
          "2023-12-07T22:31:50Z",
          "2023-12-03T14:18:13Z",
          "2023-12-02T14:41:14Z",
          "2023-12-01T22:06:05Z",
          "2023-11-29T22:22:51Z",
          "2023-11-26T14:16:39Z",
          "2023-11-09T22:46:38Z",
          "2023-11-07T22:31:51Z",
          "2023-11-04T20:20:18Z",
          "2023-11-02T22:25:15Z",
          "2023-11-01T22:08:35Z",
          "2023-10-31T22:13:17Z",
          "2023-10-29T22:03:13Z",
          "2023-10-28T12:55:44Z",
          "2023-10-23T13:11:55Z",
          "2023-10-19T23:22:33Z",
          "2023-10-12T22:27:56Z",
          "2023-10-10T22:46:51Z",
          "2023-10-10T22:46:43Z",
          "2023-10-08T22:26:49Z",
          "2023-10-04T22:33:38Z",
          "2023-10-01T22:22:23Z",
          "2023-09-28T21:54:23Z",
          "2023-09-26T22:13:37Z",
          "2023-09-20T22:22:55Z",
          "2023-09-12T23:33:27Z",
          "2023-09-10T23:01:35Z",
          "2023-09-07T23:41:00Z",
          "2023-09-05T23:19:51Z",
          "2023-09-03T10:40:50Z",
          "2023-08-31T22:51:40Z",
          "2023-08-18T21:45:19Z",
          "2023-08-17T22:38:25Z",
          "2023-08-06T11:28:11Z",
          "2023-08-02T22:36:39Z",
          "2023-07-31T23:10:00Z",
          "2023-07-27T12:00:00Z",
          "2023-07-25T23:33:05Z",
          "2023-07-23T11:16:58Z",
          "2023-07-17T22:17:37Z",
          "2023-07-14T22:17:07Z",
          "2023-07-13T22:54:20Z",
          "2023-07-12T13:11:57Z",
          "2023-07-09T21:20:57Z",
          "2023-07-07T22:17:30Z",
          "2023-07-05T21:34:26Z",
          "2023-06-29T22:35:40Z",
          "2023-06-25T23:18:27Z",
          "2023-06-23T22:39:04Z",
          "2023-06-18T12:39:23Z",
          "2023-06-11T18:01:45Z",
          "2023-05-28T11:02:45Z",
          "2023-05-14T21:10:38Z",
          "2023-05-14T11:56:01Z",
          "2023-05-12T21:50:00Z",
          "2023-05-07T21:55:57Z",
          "2023-04-26T21:24:37Z",
          "2023-04-22T12:39:51Z",
          "2023-04-16T13:10:51Z",
          "2023-04-09T13:15:51Z",
          "2023-03-19T13:29:19Z",
          "2023-03-05T12:07:47Z",
          "2023-03-02T11:38:12Z",
          "2023-02-19T21:51:04Z",
          "2023-02-12T12:06:05Z",
          "2022-12-21T19:20:42Z",
          "2022-12-03T20:41:28Z",
          "2022-11-23T11:31:44Z",
          "2022-11-13T11:59:20Z",
          "2022-10-15T12:03:03Z",
          "2022-10-09T11:52:32Z",
          "2022-09-18T11:13:06Z",
          "2022-09-07T11:03:40Z",
          "2022-08-31T13:17:10Z",
          "2022-08-27T12:22:34Z",
          "2022-08-24T12:32:16Z",
          "2022-08-20T12:28:52Z",
          "2022-08-07T11:02:21Z",
          "2022-08-03T11:44:12Z",
          "2022-07-31T12:24:41Z",
          "2022-07-24T12:47:17Z",
          "2022-07-18T12:38:45Z",
          "2022-07-10T14:40:05Z",
          "2022-07-10T12:53:17Z",
          "2022-07-03T14:10:13Z",
          "2022-07-03T12:31:25Z",
          "2022-06-25T13:04:56Z",
          "2022-06-18T13:43:07Z",
          "2022-06-12T13:20:44Z",
          "2022-05-28T15:11:38Z",
          "2022-05-22T11:13:30Z",
          "2022-05-21T11:27:40Z",
          "2022-03-16T16:12:54Z"
         ],
         "xaxis": "x",
         "y": [
          91.4,
          0,
          68.4,
          3.9,
          6.3,
          9.8,
          5,
          0,
          5,
          5.2,
          32.3,
          5.2,
          56.2,
          9.1,
          92.9,
          46.8,
          7.4,
          3.7,
          0,
          0,
          4.3,
          2.4,
          0,
          6.1,
          4.4,
          2.1,
          3.9,
          7,
          0,
          7.3,
          0,
          0,
          0,
          0,
          2.2,
          0,
          2.4,
          0,
          0,
          3.1,
          3,
          2.6,
          0,
          3.1,
          5,
          11.6,
          0,
          2.1,
          3.2,
          2.9,
          2.4,
          0,
          89.2,
          38.5,
          17,
          0,
          79.7,
          39,
          0,
          22.4,
          20.8,
          157.8,
          100.9,
          147,
          60.9,
          96.2,
          151.1,
          118.6,
          161.7,
          76.6,
          100.4,
          64,
          88.1,
          124.7,
          10.2,
          91.3,
          0,
          65.3,
          5.5,
          0,
          0,
          5.2,
          0,
          2.1,
          0,
          7.2,
          0,
          6.2,
          150,
          116.6,
          88.2,
          56.6,
          55,
          38.5
         ],
         "yaxis": "y"
        },
        {
         "hovertemplate": "type=Hike<br>start_date=%{x}<br>total_elevation_gain=%{y}<extra></extra>",
         "legendgroup": "Hike",
         "line": {
          "color": "#EF553B",
          "dash": "solid"
         },
         "marker": {
          "symbol": "circle"
         },
         "mode": "lines",
         "name": "Hike",
         "orientation": "v",
         "showlegend": true,
         "type": "scatter",
         "x": [
          "2023-10-21T15:02:30Z"
         ],
         "xaxis": "x",
         "y": [
          290.4
         ],
         "yaxis": "y"
        },
        {
         "hovertemplate": "type=Workout<br>start_date=%{x}<br>total_elevation_gain=%{y}<extra></extra>",
         "legendgroup": "Workout",
         "line": {
          "color": "#00cc96",
          "dash": "solid"
         },
         "marker": {
          "symbol": "circle"
         },
         "mode": "lines",
         "name": "Workout",
         "orientation": "v",
         "showlegend": true,
         "type": "scatter",
         "x": [
          "2023-10-15T18:17:29Z",
          "2022-10-13T11:48:24Z",
          "2022-10-07T11:57:31Z",
          "2022-09-02T11:54:10Z",
          "2022-09-01T11:42:46Z",
          "2022-08-31T11:47:53Z",
          "2022-08-30T12:59:41Z"
         ],
         "xaxis": "x",
         "y": [
          0,
          0,
          0,
          0,
          0,
          0,
          0
         ],
         "yaxis": "y"
        },
        {
         "hovertemplate": "type=Walk<br>start_date=%{x}<br>total_elevation_gain=%{y}<extra></extra>",
         "legendgroup": "Walk",
         "line": {
          "color": "#ab63fa",
          "dash": "solid"
         },
         "marker": {
          "symbol": "circle"
         },
         "mode": "lines",
         "name": "Walk",
         "orientation": "v",
         "showlegend": true,
         "type": "scatter",
         "x": [
          "2023-10-01T23:25:32Z",
          "2022-11-13T12:54:52Z",
          "2022-10-15T15:04:34Z"
         ],
         "xaxis": "x",
         "y": [
          4.9,
          0,
          6.6
         ],
         "yaxis": "y"
        }
       ],
       "layout": {
        "legend": {
         "title": {
          "text": "type"
         },
         "tracegroupgap": 0
        },
        "margin": {
         "t": 60
        },
        "template": {
         "data": {
          "bar": [
           {
            "error_x": {
             "color": "#2a3f5f"
            },
            "error_y": {
             "color": "#2a3f5f"
            },
            "marker": {
             "line": {
              "color": "#E5ECF6",
              "width": 0.5
             },
             "pattern": {
              "fillmode": "overlay",
              "size": 10,
              "solidity": 0.2
             }
            },
            "type": "bar"
           }
          ],
          "barpolar": [
           {
            "marker": {
             "line": {
              "color": "#E5ECF6",
              "width": 0.5
             },
             "pattern": {
              "fillmode": "overlay",
              "size": 10,
              "solidity": 0.2
             }
            },
            "type": "barpolar"
           }
          ],
          "carpet": [
           {
            "aaxis": {
             "endlinecolor": "#2a3f5f",
             "gridcolor": "white",
             "linecolor": "white",
             "minorgridcolor": "white",
             "startlinecolor": "#2a3f5f"
            },
            "baxis": {
             "endlinecolor": "#2a3f5f",
             "gridcolor": "white",
             "linecolor": "white",
             "minorgridcolor": "white",
             "startlinecolor": "#2a3f5f"
            },
            "type": "carpet"
           }
          ],
          "choropleth": [
           {
            "colorbar": {
             "outlinewidth": 0,
             "ticks": ""
            },
            "type": "choropleth"
           }
          ],
          "contour": [
           {
            "colorbar": {
             "outlinewidth": 0,
             "ticks": ""
            },
            "colorscale": [
             [
              0,
              "#0d0887"
             ],
             [
              0.1111111111111111,
              "#46039f"
             ],
             [
              0.2222222222222222,
              "#7201a8"
             ],
             [
              0.3333333333333333,
              "#9c179e"
             ],
             [
              0.4444444444444444,
              "#bd3786"
             ],
             [
              0.5555555555555556,
              "#d8576b"
             ],
             [
              0.6666666666666666,
              "#ed7953"
             ],
             [
              0.7777777777777778,
              "#fb9f3a"
             ],
             [
              0.8888888888888888,
              "#fdca26"
             ],
             [
              1,
              "#f0f921"
             ]
            ],
            "type": "contour"
           }
          ],
          "contourcarpet": [
           {
            "colorbar": {
             "outlinewidth": 0,
             "ticks": ""
            },
            "type": "contourcarpet"
           }
          ],
          "heatmap": [
           {
            "colorbar": {
             "outlinewidth": 0,
             "ticks": ""
            },
            "colorscale": [
             [
              0,
              "#0d0887"
             ],
             [
              0.1111111111111111,
              "#46039f"
             ],
             [
              0.2222222222222222,
              "#7201a8"
             ],
             [
              0.3333333333333333,
              "#9c179e"
             ],
             [
              0.4444444444444444,
              "#bd3786"
             ],
             [
              0.5555555555555556,
              "#d8576b"
             ],
             [
              0.6666666666666666,
              "#ed7953"
             ],
             [
              0.7777777777777778,
              "#fb9f3a"
             ],
             [
              0.8888888888888888,
              "#fdca26"
             ],
             [
              1,
              "#f0f921"
             ]
            ],
            "type": "heatmap"
           }
          ],
          "heatmapgl": [
           {
            "colorbar": {
             "outlinewidth": 0,
             "ticks": ""
            },
            "colorscale": [
             [
              0,
              "#0d0887"
             ],
             [
              0.1111111111111111,
              "#46039f"
             ],
             [
              0.2222222222222222,
              "#7201a8"
             ],
             [
              0.3333333333333333,
              "#9c179e"
             ],
             [
              0.4444444444444444,
              "#bd3786"
             ],
             [
              0.5555555555555556,
              "#d8576b"
             ],
             [
              0.6666666666666666,
              "#ed7953"
             ],
             [
              0.7777777777777778,
              "#fb9f3a"
             ],
             [
              0.8888888888888888,
              "#fdca26"
             ],
             [
              1,
              "#f0f921"
             ]
            ],
            "type": "heatmapgl"
           }
          ],
          "histogram": [
           {
            "marker": {
             "pattern": {
              "fillmode": "overlay",
              "size": 10,
              "solidity": 0.2
             }
            },
            "type": "histogram"
           }
          ],
          "histogram2d": [
           {
            "colorbar": {
             "outlinewidth": 0,
             "ticks": ""
            },
            "colorscale": [
             [
              0,
              "#0d0887"
             ],
             [
              0.1111111111111111,
              "#46039f"
             ],
             [
              0.2222222222222222,
              "#7201a8"
             ],
             [
              0.3333333333333333,
              "#9c179e"
             ],
             [
              0.4444444444444444,
              "#bd3786"
             ],
             [
              0.5555555555555556,
              "#d8576b"
             ],
             [
              0.6666666666666666,
              "#ed7953"
             ],
             [
              0.7777777777777778,
              "#fb9f3a"
             ],
             [
              0.8888888888888888,
              "#fdca26"
             ],
             [
              1,
              "#f0f921"
             ]
            ],
            "type": "histogram2d"
           }
          ],
          "histogram2dcontour": [
           {
            "colorbar": {
             "outlinewidth": 0,
             "ticks": ""
            },
            "colorscale": [
             [
              0,
              "#0d0887"
             ],
             [
              0.1111111111111111,
              "#46039f"
             ],
             [
              0.2222222222222222,
              "#7201a8"
             ],
             [
              0.3333333333333333,
              "#9c179e"
             ],
             [
              0.4444444444444444,
              "#bd3786"
             ],
             [
              0.5555555555555556,
              "#d8576b"
             ],
             [
              0.6666666666666666,
              "#ed7953"
             ],
             [
              0.7777777777777778,
              "#fb9f3a"
             ],
             [
              0.8888888888888888,
              "#fdca26"
             ],
             [
              1,
              "#f0f921"
             ]
            ],
            "type": "histogram2dcontour"
           }
          ],
          "mesh3d": [
           {
            "colorbar": {
             "outlinewidth": 0,
             "ticks": ""
            },
            "type": "mesh3d"
           }
          ],
          "parcoords": [
           {
            "line": {
             "colorbar": {
              "outlinewidth": 0,
              "ticks": ""
             }
            },
            "type": "parcoords"
           }
          ],
          "pie": [
           {
            "automargin": true,
            "type": "pie"
           }
          ],
          "scatter": [
           {
            "fillpattern": {
             "fillmode": "overlay",
             "size": 10,
             "solidity": 0.2
            },
            "type": "scatter"
           }
          ],
          "scatter3d": [
           {
            "line": {
             "colorbar": {
              "outlinewidth": 0,
              "ticks": ""
             }
            },
            "marker": {
             "colorbar": {
              "outlinewidth": 0,
              "ticks": ""
             }
            },
            "type": "scatter3d"
           }
          ],
          "scattercarpet": [
           {
            "marker": {
             "colorbar": {
              "outlinewidth": 0,
              "ticks": ""
             }
            },
            "type": "scattercarpet"
           }
          ],
          "scattergeo": [
           {
            "marker": {
             "colorbar": {
              "outlinewidth": 0,
              "ticks": ""
             }
            },
            "type": "scattergeo"
           }
          ],
          "scattergl": [
           {
            "marker": {
             "colorbar": {
              "outlinewidth": 0,
              "ticks": ""
             }
            },
            "type": "scattergl"
           }
          ],
          "scattermapbox": [
           {
            "marker": {
             "colorbar": {
              "outlinewidth": 0,
              "ticks": ""
             }
            },
            "type": "scattermapbox"
           }
          ],
          "scatterpolar": [
           {
            "marker": {
             "colorbar": {
              "outlinewidth": 0,
              "ticks": ""
             }
            },
            "type": "scatterpolar"
           }
          ],
          "scatterpolargl": [
           {
            "marker": {
             "colorbar": {
              "outlinewidth": 0,
              "ticks": ""
             }
            },
            "type": "scatterpolargl"
           }
          ],
          "scatterternary": [
           {
            "marker": {
             "colorbar": {
              "outlinewidth": 0,
              "ticks": ""
             }
            },
            "type": "scatterternary"
           }
          ],
          "surface": [
           {
            "colorbar": {
             "outlinewidth": 0,
             "ticks": ""
            },
            "colorscale": [
             [
              0,
              "#0d0887"
             ],
             [
              0.1111111111111111,
              "#46039f"
             ],
             [
              0.2222222222222222,
              "#7201a8"
             ],
             [
              0.3333333333333333,
              "#9c179e"
             ],
             [
              0.4444444444444444,
              "#bd3786"
             ],
             [
              0.5555555555555556,
              "#d8576b"
             ],
             [
              0.6666666666666666,
              "#ed7953"
             ],
             [
              0.7777777777777778,
              "#fb9f3a"
             ],
             [
              0.8888888888888888,
              "#fdca26"
             ],
             [
              1,
              "#f0f921"
             ]
            ],
            "type": "surface"
           }
          ],
          "table": [
           {
            "cells": {
             "fill": {
              "color": "#EBF0F8"
             },
             "line": {
              "color": "white"
             }
            },
            "header": {
             "fill": {
              "color": "#C8D4E3"
             },
             "line": {
              "color": "white"
             }
            },
            "type": "table"
           }
          ]
         },
         "layout": {
          "annotationdefaults": {
           "arrowcolor": "#2a3f5f",
           "arrowhead": 0,
           "arrowwidth": 1
          },
          "autotypenumbers": "strict",
          "coloraxis": {
           "colorbar": {
            "outlinewidth": 0,
            "ticks": ""
           }
          },
          "colorscale": {
           "diverging": [
            [
             0,
             "#8e0152"
            ],
            [
             0.1,
             "#c51b7d"
            ],
            [
             0.2,
             "#de77ae"
            ],
            [
             0.3,
             "#f1b6da"
            ],
            [
             0.4,
             "#fde0ef"
            ],
            [
             0.5,
             "#f7f7f7"
            ],
            [
             0.6,
             "#e6f5d0"
            ],
            [
             0.7,
             "#b8e186"
            ],
            [
             0.8,
             "#7fbc41"
            ],
            [
             0.9,
             "#4d9221"
            ],
            [
             1,
             "#276419"
            ]
           ],
           "sequential": [
            [
             0,
             "#0d0887"
            ],
            [
             0.1111111111111111,
             "#46039f"
            ],
            [
             0.2222222222222222,
             "#7201a8"
            ],
            [
             0.3333333333333333,
             "#9c179e"
            ],
            [
             0.4444444444444444,
             "#bd3786"
            ],
            [
             0.5555555555555556,
             "#d8576b"
            ],
            [
             0.6666666666666666,
             "#ed7953"
            ],
            [
             0.7777777777777778,
             "#fb9f3a"
            ],
            [
             0.8888888888888888,
             "#fdca26"
            ],
            [
             1,
             "#f0f921"
            ]
           ],
           "sequentialminus": [
            [
             0,
             "#0d0887"
            ],
            [
             0.1111111111111111,
             "#46039f"
            ],
            [
             0.2222222222222222,
             "#7201a8"
            ],
            [
             0.3333333333333333,
             "#9c179e"
            ],
            [
             0.4444444444444444,
             "#bd3786"
            ],
            [
             0.5555555555555556,
             "#d8576b"
            ],
            [
             0.6666666666666666,
             "#ed7953"
            ],
            [
             0.7777777777777778,
             "#fb9f3a"
            ],
            [
             0.8888888888888888,
             "#fdca26"
            ],
            [
             1,
             "#f0f921"
            ]
           ]
          },
          "colorway": [
           "#636efa",
           "#EF553B",
           "#00cc96",
           "#ab63fa",
           "#FFA15A",
           "#19d3f3",
           "#FF6692",
           "#B6E880",
           "#FF97FF",
           "#FECB52"
          ],
          "font": {
           "color": "#2a3f5f"
          },
          "geo": {
           "bgcolor": "white",
           "lakecolor": "white",
           "landcolor": "#E5ECF6",
           "showlakes": true,
           "showland": true,
           "subunitcolor": "white"
          },
          "hoverlabel": {
           "align": "left"
          },
          "hovermode": "closest",
          "mapbox": {
           "style": "light"
          },
          "paper_bgcolor": "white",
          "plot_bgcolor": "#E5ECF6",
          "polar": {
           "angularaxis": {
            "gridcolor": "white",
            "linecolor": "white",
            "ticks": ""
           },
           "bgcolor": "#E5ECF6",
           "radialaxis": {
            "gridcolor": "white",
            "linecolor": "white",
            "ticks": ""
           }
          },
          "scene": {
           "xaxis": {
            "backgroundcolor": "#E5ECF6",
            "gridcolor": "white",
            "gridwidth": 2,
            "linecolor": "white",
            "showbackground": true,
            "ticks": "",
            "zerolinecolor": "white"
           },
           "yaxis": {
            "backgroundcolor": "#E5ECF6",
            "gridcolor": "white",
            "gridwidth": 2,
            "linecolor": "white",
            "showbackground": true,
            "ticks": "",
            "zerolinecolor": "white"
           },
           "zaxis": {
            "backgroundcolor": "#E5ECF6",
            "gridcolor": "white",
            "gridwidth": 2,
            "linecolor": "white",
            "showbackground": true,
            "ticks": "",
            "zerolinecolor": "white"
           }
          },
          "shapedefaults": {
           "line": {
            "color": "#2a3f5f"
           }
          },
          "ternary": {
           "aaxis": {
            "gridcolor": "white",
            "linecolor": "white",
            "ticks": ""
           },
           "baxis": {
            "gridcolor": "white",
            "linecolor": "white",
            "ticks": ""
           },
           "bgcolor": "#E5ECF6",
           "caxis": {
            "gridcolor": "white",
            "linecolor": "white",
            "ticks": ""
           }
          },
          "title": {
           "x": 0.05
          },
          "xaxis": {
           "automargin": true,
           "gridcolor": "white",
           "linecolor": "white",
           "ticks": "",
           "title": {
            "standoff": 15
           },
           "zerolinecolor": "white",
           "zerolinewidth": 2
          },
          "yaxis": {
           "automargin": true,
           "gridcolor": "white",
           "linecolor": "white",
           "ticks": "",
           "title": {
            "standoff": 15
           },
           "zerolinecolor": "white",
           "zerolinewidth": 2
          }
         }
        },
        "xaxis": {
         "anchor": "y",
         "domain": [
          0,
          1
         ],
         "title": {
          "text": "start_date"
         }
        },
        "yaxis": {
         "anchor": "x",
         "domain": [
          0,
          1
         ],
         "title": {
          "text": "total_elevation_gain"
         }
        }
       }
      }
     },
     "metadata": {},
     "output_type": "display_data"
    },
    {
     "data": {
      "application/vnd.plotly.v1+json": {
       "config": {
        "plotlyServerURL": "https://plot.ly"
       },
       "data": [
        {
         "alignmentgroup": "True",
         "bingroup": "x",
         "histfunc": "sum",
         "hovertemplate": "type=%{x}<br>sum of total_elevation_gain=%{y}<extra></extra>",
         "legendgroup": "",
         "marker": {
          "color": "#636efa",
          "pattern": {
           "shape": ""
          }
         },
         "name": "",
         "offsetgroup": "",
         "orientation": "v",
         "showlegend": false,
         "type": "histogram",
         "x": [
          "Run",
          "Run",
          "Run",
          "Run",
          "Run",
          "Run",
          "Run",
          "Run",
          "Run",
          "Run",
          "Run",
          "Run",
          "Run",
          "Run",
          "Run",
          "Run",
          "Hike",
          "Run",
          "Workout",
          "Run",
          "Run",
          "Run",
          "Run",
          "Run",
          "Walk",
          "Run",
          "Run",
          "Run",
          "Run",
          "Run",
          "Run",
          "Run",
          "Run",
          "Run",
          "Run",
          "Run",
          "Run",
          "Run",
          "Run",
          "Run",
          "Run",
          "Run",
          "Run",
          "Run",
          "Run",
          "Run",
          "Run",
          "Run",
          "Run",
          "Run",
          "Run",
          "Run",
          "Run",
          "Run",
          "Run",
          "Run",
          "Run",
          "Run",
          "Run",
          "Run",
          "Run",
          "Run",
          "Run",
          "Run",
          "Run",
          "Run",
          "Run",
          "Run",
          "Run",
          "Run",
          "Run",
          "Run",
          "Walk",
          "Run",
          "Walk",
          "Run",
          "Workout",
          "Run",
          "Workout",
          "Run",
          "Run",
          "Workout",
          "Workout",
          "Workout",
          "Run",
          "Workout",
          "Run",
          "Run",
          "Run",
          "Run",
          "Run",
          "Run",
          "Run",
          "Run",
          "Run",
          "Run",
          "Run",
          "Run",
          "Run",
          "Run",
          "Run",
          "Run",
          "Run",
          "Run",
          "Run"
         ],
         "xaxis": "x",
         "y": [
          91.4,
          0,
          68.4,
          3.9,
          6.3,
          9.8,
          5,
          0,
          5,
          5.2,
          32.3,
          5.2,
          56.2,
          9.1,
          92.9,
          46.8,
          290.4,
          7.4,
          0,
          3.7,
          0,
          0,
          4.3,
          2.4,
          4.9,
          0,
          6.1,
          4.4,
          2.1,
          3.9,
          7,
          0,
          7.3,
          0,
          0,
          0,
          0,
          2.2,
          0,
          2.4,
          0,
          0,
          3.1,
          3,
          2.6,
          0,
          3.1,
          5,
          11.6,
          0,
          2.1,
          3.2,
          2.9,
          2.4,
          0,
          89.2,
          38.5,
          17,
          0,
          79.7,
          39,
          0,
          22.4,
          20.8,
          157.8,
          100.9,
          147,
          60.9,
          96.2,
          151.1,
          118.6,
          161.7,
          0,
          76.6,
          6.6,
          100.4,
          0,
          64,
          0,
          88.1,
          124.7,
          0,
          0,
          0,
          10.2,
          0,
          91.3,
          0,
          65.3,
          5.5,
          0,
          0,
          5.2,
          0,
          2.1,
          0,
          7.2,
          0,
          6.2,
          150,
          116.6,
          88.2,
          56.6,
          55,
          38.5
         ],
         "yaxis": "y"
        }
       ],
       "layout": {
        "barmode": "relative",
        "legend": {
         "tracegroupgap": 0
        },
        "margin": {
         "t": 60
        },
        "template": {
         "data": {
          "bar": [
           {
            "error_x": {
             "color": "#2a3f5f"
            },
            "error_y": {
             "color": "#2a3f5f"
            },
            "marker": {
             "line": {
              "color": "#E5ECF6",
              "width": 0.5
             },
             "pattern": {
              "fillmode": "overlay",
              "size": 10,
              "solidity": 0.2
             }
            },
            "type": "bar"
           }
          ],
          "barpolar": [
           {
            "marker": {
             "line": {
              "color": "#E5ECF6",
              "width": 0.5
             },
             "pattern": {
              "fillmode": "overlay",
              "size": 10,
              "solidity": 0.2
             }
            },
            "type": "barpolar"
           }
          ],
          "carpet": [
           {
            "aaxis": {
             "endlinecolor": "#2a3f5f",
             "gridcolor": "white",
             "linecolor": "white",
             "minorgridcolor": "white",
             "startlinecolor": "#2a3f5f"
            },
            "baxis": {
             "endlinecolor": "#2a3f5f",
             "gridcolor": "white",
             "linecolor": "white",
             "minorgridcolor": "white",
             "startlinecolor": "#2a3f5f"
            },
            "type": "carpet"
           }
          ],
          "choropleth": [
           {
            "colorbar": {
             "outlinewidth": 0,
             "ticks": ""
            },
            "type": "choropleth"
           }
          ],
          "contour": [
           {
            "colorbar": {
             "outlinewidth": 0,
             "ticks": ""
            },
            "colorscale": [
             [
              0,
              "#0d0887"
             ],
             [
              0.1111111111111111,
              "#46039f"
             ],
             [
              0.2222222222222222,
              "#7201a8"
             ],
             [
              0.3333333333333333,
              "#9c179e"
             ],
             [
              0.4444444444444444,
              "#bd3786"
             ],
             [
              0.5555555555555556,
              "#d8576b"
             ],
             [
              0.6666666666666666,
              "#ed7953"
             ],
             [
              0.7777777777777778,
              "#fb9f3a"
             ],
             [
              0.8888888888888888,
              "#fdca26"
             ],
             [
              1,
              "#f0f921"
             ]
            ],
            "type": "contour"
           }
          ],
          "contourcarpet": [
           {
            "colorbar": {
             "outlinewidth": 0,
             "ticks": ""
            },
            "type": "contourcarpet"
           }
          ],
          "heatmap": [
           {
            "colorbar": {
             "outlinewidth": 0,
             "ticks": ""
            },
            "colorscale": [
             [
              0,
              "#0d0887"
             ],
             [
              0.1111111111111111,
              "#46039f"
             ],
             [
              0.2222222222222222,
              "#7201a8"
             ],
             [
              0.3333333333333333,
              "#9c179e"
             ],
             [
              0.4444444444444444,
              "#bd3786"
             ],
             [
              0.5555555555555556,
              "#d8576b"
             ],
             [
              0.6666666666666666,
              "#ed7953"
             ],
             [
              0.7777777777777778,
              "#fb9f3a"
             ],
             [
              0.8888888888888888,
              "#fdca26"
             ],
             [
              1,
              "#f0f921"
             ]
            ],
            "type": "heatmap"
           }
          ],
          "heatmapgl": [
           {
            "colorbar": {
             "outlinewidth": 0,
             "ticks": ""
            },
            "colorscale": [
             [
              0,
              "#0d0887"
             ],
             [
              0.1111111111111111,
              "#46039f"
             ],
             [
              0.2222222222222222,
              "#7201a8"
             ],
             [
              0.3333333333333333,
              "#9c179e"
             ],
             [
              0.4444444444444444,
              "#bd3786"
             ],
             [
              0.5555555555555556,
              "#d8576b"
             ],
             [
              0.6666666666666666,
              "#ed7953"
             ],
             [
              0.7777777777777778,
              "#fb9f3a"
             ],
             [
              0.8888888888888888,
              "#fdca26"
             ],
             [
              1,
              "#f0f921"
             ]
            ],
            "type": "heatmapgl"
           }
          ],
          "histogram": [
           {
            "marker": {
             "pattern": {
              "fillmode": "overlay",
              "size": 10,
              "solidity": 0.2
             }
            },
            "type": "histogram"
           }
          ],
          "histogram2d": [
           {
            "colorbar": {
             "outlinewidth": 0,
             "ticks": ""
            },
            "colorscale": [
             [
              0,
              "#0d0887"
             ],
             [
              0.1111111111111111,
              "#46039f"
             ],
             [
              0.2222222222222222,
              "#7201a8"
             ],
             [
              0.3333333333333333,
              "#9c179e"
             ],
             [
              0.4444444444444444,
              "#bd3786"
             ],
             [
              0.5555555555555556,
              "#d8576b"
             ],
             [
              0.6666666666666666,
              "#ed7953"
             ],
             [
              0.7777777777777778,
              "#fb9f3a"
             ],
             [
              0.8888888888888888,
              "#fdca26"
             ],
             [
              1,
              "#f0f921"
             ]
            ],
            "type": "histogram2d"
           }
          ],
          "histogram2dcontour": [
           {
            "colorbar": {
             "outlinewidth": 0,
             "ticks": ""
            },
            "colorscale": [
             [
              0,
              "#0d0887"
             ],
             [
              0.1111111111111111,
              "#46039f"
             ],
             [
              0.2222222222222222,
              "#7201a8"
             ],
             [
              0.3333333333333333,
              "#9c179e"
             ],
             [
              0.4444444444444444,
              "#bd3786"
             ],
             [
              0.5555555555555556,
              "#d8576b"
             ],
             [
              0.6666666666666666,
              "#ed7953"
             ],
             [
              0.7777777777777778,
              "#fb9f3a"
             ],
             [
              0.8888888888888888,
              "#fdca26"
             ],
             [
              1,
              "#f0f921"
             ]
            ],
            "type": "histogram2dcontour"
           }
          ],
          "mesh3d": [
           {
            "colorbar": {
             "outlinewidth": 0,
             "ticks": ""
            },
            "type": "mesh3d"
           }
          ],
          "parcoords": [
           {
            "line": {
             "colorbar": {
              "outlinewidth": 0,
              "ticks": ""
             }
            },
            "type": "parcoords"
           }
          ],
          "pie": [
           {
            "automargin": true,
            "type": "pie"
           }
          ],
          "scatter": [
           {
            "fillpattern": {
             "fillmode": "overlay",
             "size": 10,
             "solidity": 0.2
            },
            "type": "scatter"
           }
          ],
          "scatter3d": [
           {
            "line": {
             "colorbar": {
              "outlinewidth": 0,
              "ticks": ""
             }
            },
            "marker": {
             "colorbar": {
              "outlinewidth": 0,
              "ticks": ""
             }
            },
            "type": "scatter3d"
           }
          ],
          "scattercarpet": [
           {
            "marker": {
             "colorbar": {
              "outlinewidth": 0,
              "ticks": ""
             }
            },
            "type": "scattercarpet"
           }
          ],
          "scattergeo": [
           {
            "marker": {
             "colorbar": {
              "outlinewidth": 0,
              "ticks": ""
             }
            },
            "type": "scattergeo"
           }
          ],
          "scattergl": [
           {
            "marker": {
             "colorbar": {
              "outlinewidth": 0,
              "ticks": ""
             }
            },
            "type": "scattergl"
           }
          ],
          "scattermapbox": [
           {
            "marker": {
             "colorbar": {
              "outlinewidth": 0,
              "ticks": ""
             }
            },
            "type": "scattermapbox"
           }
          ],
          "scatterpolar": [
           {
            "marker": {
             "colorbar": {
              "outlinewidth": 0,
              "ticks": ""
             }
            },
            "type": "scatterpolar"
           }
          ],
          "scatterpolargl": [
           {
            "marker": {
             "colorbar": {
              "outlinewidth": 0,
              "ticks": ""
             }
            },
            "type": "scatterpolargl"
           }
          ],
          "scatterternary": [
           {
            "marker": {
             "colorbar": {
              "outlinewidth": 0,
              "ticks": ""
             }
            },
            "type": "scatterternary"
           }
          ],
          "surface": [
           {
            "colorbar": {
             "outlinewidth": 0,
             "ticks": ""
            },
            "colorscale": [
             [
              0,
              "#0d0887"
             ],
             [
              0.1111111111111111,
              "#46039f"
             ],
             [
              0.2222222222222222,
              "#7201a8"
             ],
             [
              0.3333333333333333,
              "#9c179e"
             ],
             [
              0.4444444444444444,
              "#bd3786"
             ],
             [
              0.5555555555555556,
              "#d8576b"
             ],
             [
              0.6666666666666666,
              "#ed7953"
             ],
             [
              0.7777777777777778,
              "#fb9f3a"
             ],
             [
              0.8888888888888888,
              "#fdca26"
             ],
             [
              1,
              "#f0f921"
             ]
            ],
            "type": "surface"
           }
          ],
          "table": [
           {
            "cells": {
             "fill": {
              "color": "#EBF0F8"
             },
             "line": {
              "color": "white"
             }
            },
            "header": {
             "fill": {
              "color": "#C8D4E3"
             },
             "line": {
              "color": "white"
             }
            },
            "type": "table"
           }
          ]
         },
         "layout": {
          "annotationdefaults": {
           "arrowcolor": "#2a3f5f",
           "arrowhead": 0,
           "arrowwidth": 1
          },
          "autotypenumbers": "strict",
          "coloraxis": {
           "colorbar": {
            "outlinewidth": 0,
            "ticks": ""
           }
          },
          "colorscale": {
           "diverging": [
            [
             0,
             "#8e0152"
            ],
            [
             0.1,
             "#c51b7d"
            ],
            [
             0.2,
             "#de77ae"
            ],
            [
             0.3,
             "#f1b6da"
            ],
            [
             0.4,
             "#fde0ef"
            ],
            [
             0.5,
             "#f7f7f7"
            ],
            [
             0.6,
             "#e6f5d0"
            ],
            [
             0.7,
             "#b8e186"
            ],
            [
             0.8,
             "#7fbc41"
            ],
            [
             0.9,
             "#4d9221"
            ],
            [
             1,
             "#276419"
            ]
           ],
           "sequential": [
            [
             0,
             "#0d0887"
            ],
            [
             0.1111111111111111,
             "#46039f"
            ],
            [
             0.2222222222222222,
             "#7201a8"
            ],
            [
             0.3333333333333333,
             "#9c179e"
            ],
            [
             0.4444444444444444,
             "#bd3786"
            ],
            [
             0.5555555555555556,
             "#d8576b"
            ],
            [
             0.6666666666666666,
             "#ed7953"
            ],
            [
             0.7777777777777778,
             "#fb9f3a"
            ],
            [
             0.8888888888888888,
             "#fdca26"
            ],
            [
             1,
             "#f0f921"
            ]
           ],
           "sequentialminus": [
            [
             0,
             "#0d0887"
            ],
            [
             0.1111111111111111,
             "#46039f"
            ],
            [
             0.2222222222222222,
             "#7201a8"
            ],
            [
             0.3333333333333333,
             "#9c179e"
            ],
            [
             0.4444444444444444,
             "#bd3786"
            ],
            [
             0.5555555555555556,
             "#d8576b"
            ],
            [
             0.6666666666666666,
             "#ed7953"
            ],
            [
             0.7777777777777778,
             "#fb9f3a"
            ],
            [
             0.8888888888888888,
             "#fdca26"
            ],
            [
             1,
             "#f0f921"
            ]
           ]
          },
          "colorway": [
           "#636efa",
           "#EF553B",
           "#00cc96",
           "#ab63fa",
           "#FFA15A",
           "#19d3f3",
           "#FF6692",
           "#B6E880",
           "#FF97FF",
           "#FECB52"
          ],
          "font": {
           "color": "#2a3f5f"
          },
          "geo": {
           "bgcolor": "white",
           "lakecolor": "white",
           "landcolor": "#E5ECF6",
           "showlakes": true,
           "showland": true,
           "subunitcolor": "white"
          },
          "hoverlabel": {
           "align": "left"
          },
          "hovermode": "closest",
          "mapbox": {
           "style": "light"
          },
          "paper_bgcolor": "white",
          "plot_bgcolor": "#E5ECF6",
          "polar": {
           "angularaxis": {
            "gridcolor": "white",
            "linecolor": "white",
            "ticks": ""
           },
           "bgcolor": "#E5ECF6",
           "radialaxis": {
            "gridcolor": "white",
            "linecolor": "white",
            "ticks": ""
           }
          },
          "scene": {
           "xaxis": {
            "backgroundcolor": "#E5ECF6",
            "gridcolor": "white",
            "gridwidth": 2,
            "linecolor": "white",
            "showbackground": true,
            "ticks": "",
            "zerolinecolor": "white"
           },
           "yaxis": {
            "backgroundcolor": "#E5ECF6",
            "gridcolor": "white",
            "gridwidth": 2,
            "linecolor": "white",
            "showbackground": true,
            "ticks": "",
            "zerolinecolor": "white"
           },
           "zaxis": {
            "backgroundcolor": "#E5ECF6",
            "gridcolor": "white",
            "gridwidth": 2,
            "linecolor": "white",
            "showbackground": true,
            "ticks": "",
            "zerolinecolor": "white"
           }
          },
          "shapedefaults": {
           "line": {
            "color": "#2a3f5f"
           }
          },
          "ternary": {
           "aaxis": {
            "gridcolor": "white",
            "linecolor": "white",
            "ticks": ""
           },
           "baxis": {
            "gridcolor": "white",
            "linecolor": "white",
            "ticks": ""
           },
           "bgcolor": "#E5ECF6",
           "caxis": {
            "gridcolor": "white",
            "linecolor": "white",
            "ticks": ""
           }
          },
          "title": {
           "x": 0.05
          },
          "xaxis": {
           "automargin": true,
           "gridcolor": "white",
           "linecolor": "white",
           "ticks": "",
           "title": {
            "standoff": 15
           },
           "zerolinecolor": "white",
           "zerolinewidth": 2
          },
          "yaxis": {
           "automargin": true,
           "gridcolor": "white",
           "linecolor": "white",
           "ticks": "",
           "title": {
            "standoff": 15
           },
           "zerolinecolor": "white",
           "zerolinewidth": 2
          }
         }
        },
        "xaxis": {
         "anchor": "y",
         "domain": [
          0,
          1
         ],
         "title": {
          "text": "type"
         }
        },
        "yaxis": {
         "anchor": "x",
         "domain": [
          0,
          1
         ],
         "title": {
          "text": "sum of total_elevation_gain"
         }
        }
       }
      }
     },
     "metadata": {},
     "output_type": "display_data"
    },
    {
     "data": {
      "application/vnd.plotly.v1+json": {
       "config": {
        "plotlyServerURL": "https://plot.ly"
       },
       "data": [
        {
         "hovertemplate": "type=Run<br>start_date=%{x}<br>kudos_count=%{y}<extra></extra>",
         "legendgroup": "Run",
         "line": {
          "color": "#636efa",
          "dash": "solid"
         },
         "marker": {
          "symbol": "circle"
         },
         "mode": "lines",
         "name": "Run",
         "orientation": "v",
         "showlegend": true,
         "type": "scatter",
         "x": [
          "2023-12-09T14:09:19Z",
          "2023-12-07T22:31:50Z",
          "2023-12-03T14:18:13Z",
          "2023-12-02T14:41:14Z",
          "2023-12-01T22:06:05Z",
          "2023-11-29T22:22:51Z",
          "2023-11-26T14:16:39Z",
          "2023-11-09T22:46:38Z",
          "2023-11-07T22:31:51Z",
          "2023-11-04T20:20:18Z",
          "2023-11-02T22:25:15Z",
          "2023-11-01T22:08:35Z",
          "2023-10-31T22:13:17Z",
          "2023-10-29T22:03:13Z",
          "2023-10-28T12:55:44Z",
          "2023-10-23T13:11:55Z",
          "2023-10-19T23:22:33Z",
          "2023-10-12T22:27:56Z",
          "2023-10-10T22:46:51Z",
          "2023-10-10T22:46:43Z",
          "2023-10-08T22:26:49Z",
          "2023-10-04T22:33:38Z",
          "2023-10-01T22:22:23Z",
          "2023-09-28T21:54:23Z",
          "2023-09-26T22:13:37Z",
          "2023-09-20T22:22:55Z",
          "2023-09-12T23:33:27Z",
          "2023-09-10T23:01:35Z",
          "2023-09-07T23:41:00Z",
          "2023-09-05T23:19:51Z",
          "2023-09-03T10:40:50Z",
          "2023-08-31T22:51:40Z",
          "2023-08-18T21:45:19Z",
          "2023-08-17T22:38:25Z",
          "2023-08-06T11:28:11Z",
          "2023-08-02T22:36:39Z",
          "2023-07-31T23:10:00Z",
          "2023-07-27T12:00:00Z",
          "2023-07-25T23:33:05Z",
          "2023-07-23T11:16:58Z",
          "2023-07-17T22:17:37Z",
          "2023-07-14T22:17:07Z",
          "2023-07-13T22:54:20Z",
          "2023-07-12T13:11:57Z",
          "2023-07-09T21:20:57Z",
          "2023-07-07T22:17:30Z",
          "2023-07-05T21:34:26Z",
          "2023-06-29T22:35:40Z",
          "2023-06-25T23:18:27Z",
          "2023-06-23T22:39:04Z",
          "2023-06-18T12:39:23Z",
          "2023-06-11T18:01:45Z",
          "2023-05-28T11:02:45Z",
          "2023-05-14T21:10:38Z",
          "2023-05-14T11:56:01Z",
          "2023-05-12T21:50:00Z",
          "2023-05-07T21:55:57Z",
          "2023-04-26T21:24:37Z",
          "2023-04-22T12:39:51Z",
          "2023-04-16T13:10:51Z",
          "2023-04-09T13:15:51Z",
          "2023-03-19T13:29:19Z",
          "2023-03-05T12:07:47Z",
          "2023-03-02T11:38:12Z",
          "2023-02-19T21:51:04Z",
          "2023-02-12T12:06:05Z",
          "2022-12-21T19:20:42Z",
          "2022-12-03T20:41:28Z",
          "2022-11-23T11:31:44Z",
          "2022-11-13T11:59:20Z",
          "2022-10-15T12:03:03Z",
          "2022-10-09T11:52:32Z",
          "2022-09-18T11:13:06Z",
          "2022-09-07T11:03:40Z",
          "2022-08-31T13:17:10Z",
          "2022-08-27T12:22:34Z",
          "2022-08-24T12:32:16Z",
          "2022-08-20T12:28:52Z",
          "2022-08-07T11:02:21Z",
          "2022-08-03T11:44:12Z",
          "2022-07-31T12:24:41Z",
          "2022-07-24T12:47:17Z",
          "2022-07-18T12:38:45Z",
          "2022-07-10T14:40:05Z",
          "2022-07-10T12:53:17Z",
          "2022-07-03T14:10:13Z",
          "2022-07-03T12:31:25Z",
          "2022-06-25T13:04:56Z",
          "2022-06-18T13:43:07Z",
          "2022-06-12T13:20:44Z",
          "2022-05-28T15:11:38Z",
          "2022-05-22T11:13:30Z",
          "2022-05-21T11:27:40Z",
          "2022-03-16T16:12:54Z"
         ],
         "xaxis": "x",
         "y": [
          4,
          0,
          5,
          2,
          5,
          2,
          2,
          2,
          3,
          2,
          1,
          2,
          2,
          2,
          3,
          2,
          1,
          0,
          1,
          1,
          2,
          2,
          1,
          1,
          2,
          1,
          0,
          0,
          0,
          0,
          0,
          0,
          1,
          2,
          1,
          2,
          1,
          2,
          2,
          2,
          2,
          1,
          2,
          2,
          1,
          1,
          2,
          2,
          2,
          0,
          2,
          1,
          1,
          1,
          1,
          1,
          1,
          0,
          0,
          0,
          0,
          0,
          0,
          0,
          0,
          0,
          0,
          1,
          1,
          0,
          0,
          0,
          0,
          0,
          0,
          0,
          0,
          0,
          0,
          0,
          0,
          0,
          0,
          0,
          0,
          0,
          0,
          0,
          0,
          0,
          0,
          0,
          0,
          0
         ],
         "yaxis": "y"
        },
        {
         "hovertemplate": "type=Hike<br>start_date=%{x}<br>kudos_count=%{y}<extra></extra>",
         "legendgroup": "Hike",
         "line": {
          "color": "#EF553B",
          "dash": "solid"
         },
         "marker": {
          "symbol": "circle"
         },
         "mode": "lines",
         "name": "Hike",
         "orientation": "v",
         "showlegend": true,
         "type": "scatter",
         "x": [
          "2023-10-21T15:02:30Z"
         ],
         "xaxis": "x",
         "y": [
          1
         ],
         "yaxis": "y"
        },
        {
         "hovertemplate": "type=Workout<br>start_date=%{x}<br>kudos_count=%{y}<extra></extra>",
         "legendgroup": "Workout",
         "line": {
          "color": "#00cc96",
          "dash": "solid"
         },
         "marker": {
          "symbol": "circle"
         },
         "mode": "lines",
         "name": "Workout",
         "orientation": "v",
         "showlegend": true,
         "type": "scatter",
         "x": [
          "2023-10-15T18:17:29Z",
          "2022-10-13T11:48:24Z",
          "2022-10-07T11:57:31Z",
          "2022-09-02T11:54:10Z",
          "2022-09-01T11:42:46Z",
          "2022-08-31T11:47:53Z",
          "2022-08-30T12:59:41Z"
         ],
         "xaxis": "x",
         "y": [
          1,
          0,
          0,
          0,
          0,
          0,
          0
         ],
         "yaxis": "y"
        },
        {
         "hovertemplate": "type=Walk<br>start_date=%{x}<br>kudos_count=%{y}<extra></extra>",
         "legendgroup": "Walk",
         "line": {
          "color": "#ab63fa",
          "dash": "solid"
         },
         "marker": {
          "symbol": "circle"
         },
         "mode": "lines",
         "name": "Walk",
         "orientation": "v",
         "showlegend": true,
         "type": "scatter",
         "x": [
          "2023-10-01T23:25:32Z",
          "2022-11-13T12:54:52Z",
          "2022-10-15T15:04:34Z"
         ],
         "xaxis": "x",
         "y": [
          0,
          0,
          0
         ],
         "yaxis": "y"
        }
       ],
       "layout": {
        "legend": {
         "title": {
          "text": "type"
         },
         "tracegroupgap": 0
        },
        "margin": {
         "t": 60
        },
        "template": {
         "data": {
          "bar": [
           {
            "error_x": {
             "color": "#2a3f5f"
            },
            "error_y": {
             "color": "#2a3f5f"
            },
            "marker": {
             "line": {
              "color": "#E5ECF6",
              "width": 0.5
             },
             "pattern": {
              "fillmode": "overlay",
              "size": 10,
              "solidity": 0.2
             }
            },
            "type": "bar"
           }
          ],
          "barpolar": [
           {
            "marker": {
             "line": {
              "color": "#E5ECF6",
              "width": 0.5
             },
             "pattern": {
              "fillmode": "overlay",
              "size": 10,
              "solidity": 0.2
             }
            },
            "type": "barpolar"
           }
          ],
          "carpet": [
           {
            "aaxis": {
             "endlinecolor": "#2a3f5f",
             "gridcolor": "white",
             "linecolor": "white",
             "minorgridcolor": "white",
             "startlinecolor": "#2a3f5f"
            },
            "baxis": {
             "endlinecolor": "#2a3f5f",
             "gridcolor": "white",
             "linecolor": "white",
             "minorgridcolor": "white",
             "startlinecolor": "#2a3f5f"
            },
            "type": "carpet"
           }
          ],
          "choropleth": [
           {
            "colorbar": {
             "outlinewidth": 0,
             "ticks": ""
            },
            "type": "choropleth"
           }
          ],
          "contour": [
           {
            "colorbar": {
             "outlinewidth": 0,
             "ticks": ""
            },
            "colorscale": [
             [
              0,
              "#0d0887"
             ],
             [
              0.1111111111111111,
              "#46039f"
             ],
             [
              0.2222222222222222,
              "#7201a8"
             ],
             [
              0.3333333333333333,
              "#9c179e"
             ],
             [
              0.4444444444444444,
              "#bd3786"
             ],
             [
              0.5555555555555556,
              "#d8576b"
             ],
             [
              0.6666666666666666,
              "#ed7953"
             ],
             [
              0.7777777777777778,
              "#fb9f3a"
             ],
             [
              0.8888888888888888,
              "#fdca26"
             ],
             [
              1,
              "#f0f921"
             ]
            ],
            "type": "contour"
           }
          ],
          "contourcarpet": [
           {
            "colorbar": {
             "outlinewidth": 0,
             "ticks": ""
            },
            "type": "contourcarpet"
           }
          ],
          "heatmap": [
           {
            "colorbar": {
             "outlinewidth": 0,
             "ticks": ""
            },
            "colorscale": [
             [
              0,
              "#0d0887"
             ],
             [
              0.1111111111111111,
              "#46039f"
             ],
             [
              0.2222222222222222,
              "#7201a8"
             ],
             [
              0.3333333333333333,
              "#9c179e"
             ],
             [
              0.4444444444444444,
              "#bd3786"
             ],
             [
              0.5555555555555556,
              "#d8576b"
             ],
             [
              0.6666666666666666,
              "#ed7953"
             ],
             [
              0.7777777777777778,
              "#fb9f3a"
             ],
             [
              0.8888888888888888,
              "#fdca26"
             ],
             [
              1,
              "#f0f921"
             ]
            ],
            "type": "heatmap"
           }
          ],
          "heatmapgl": [
           {
            "colorbar": {
             "outlinewidth": 0,
             "ticks": ""
            },
            "colorscale": [
             [
              0,
              "#0d0887"
             ],
             [
              0.1111111111111111,
              "#46039f"
             ],
             [
              0.2222222222222222,
              "#7201a8"
             ],
             [
              0.3333333333333333,
              "#9c179e"
             ],
             [
              0.4444444444444444,
              "#bd3786"
             ],
             [
              0.5555555555555556,
              "#d8576b"
             ],
             [
              0.6666666666666666,
              "#ed7953"
             ],
             [
              0.7777777777777778,
              "#fb9f3a"
             ],
             [
              0.8888888888888888,
              "#fdca26"
             ],
             [
              1,
              "#f0f921"
             ]
            ],
            "type": "heatmapgl"
           }
          ],
          "histogram": [
           {
            "marker": {
             "pattern": {
              "fillmode": "overlay",
              "size": 10,
              "solidity": 0.2
             }
            },
            "type": "histogram"
           }
          ],
          "histogram2d": [
           {
            "colorbar": {
             "outlinewidth": 0,
             "ticks": ""
            },
            "colorscale": [
             [
              0,
              "#0d0887"
             ],
             [
              0.1111111111111111,
              "#46039f"
             ],
             [
              0.2222222222222222,
              "#7201a8"
             ],
             [
              0.3333333333333333,
              "#9c179e"
             ],
             [
              0.4444444444444444,
              "#bd3786"
             ],
             [
              0.5555555555555556,
              "#d8576b"
             ],
             [
              0.6666666666666666,
              "#ed7953"
             ],
             [
              0.7777777777777778,
              "#fb9f3a"
             ],
             [
              0.8888888888888888,
              "#fdca26"
             ],
             [
              1,
              "#f0f921"
             ]
            ],
            "type": "histogram2d"
           }
          ],
          "histogram2dcontour": [
           {
            "colorbar": {
             "outlinewidth": 0,
             "ticks": ""
            },
            "colorscale": [
             [
              0,
              "#0d0887"
             ],
             [
              0.1111111111111111,
              "#46039f"
             ],
             [
              0.2222222222222222,
              "#7201a8"
             ],
             [
              0.3333333333333333,
              "#9c179e"
             ],
             [
              0.4444444444444444,
              "#bd3786"
             ],
             [
              0.5555555555555556,
              "#d8576b"
             ],
             [
              0.6666666666666666,
              "#ed7953"
             ],
             [
              0.7777777777777778,
              "#fb9f3a"
             ],
             [
              0.8888888888888888,
              "#fdca26"
             ],
             [
              1,
              "#f0f921"
             ]
            ],
            "type": "histogram2dcontour"
           }
          ],
          "mesh3d": [
           {
            "colorbar": {
             "outlinewidth": 0,
             "ticks": ""
            },
            "type": "mesh3d"
           }
          ],
          "parcoords": [
           {
            "line": {
             "colorbar": {
              "outlinewidth": 0,
              "ticks": ""
             }
            },
            "type": "parcoords"
           }
          ],
          "pie": [
           {
            "automargin": true,
            "type": "pie"
           }
          ],
          "scatter": [
           {
            "fillpattern": {
             "fillmode": "overlay",
             "size": 10,
             "solidity": 0.2
            },
            "type": "scatter"
           }
          ],
          "scatter3d": [
           {
            "line": {
             "colorbar": {
              "outlinewidth": 0,
              "ticks": ""
             }
            },
            "marker": {
             "colorbar": {
              "outlinewidth": 0,
              "ticks": ""
             }
            },
            "type": "scatter3d"
           }
          ],
          "scattercarpet": [
           {
            "marker": {
             "colorbar": {
              "outlinewidth": 0,
              "ticks": ""
             }
            },
            "type": "scattercarpet"
           }
          ],
          "scattergeo": [
           {
            "marker": {
             "colorbar": {
              "outlinewidth": 0,
              "ticks": ""
             }
            },
            "type": "scattergeo"
           }
          ],
          "scattergl": [
           {
            "marker": {
             "colorbar": {
              "outlinewidth": 0,
              "ticks": ""
             }
            },
            "type": "scattergl"
           }
          ],
          "scattermapbox": [
           {
            "marker": {
             "colorbar": {
              "outlinewidth": 0,
              "ticks": ""
             }
            },
            "type": "scattermapbox"
           }
          ],
          "scatterpolar": [
           {
            "marker": {
             "colorbar": {
              "outlinewidth": 0,
              "ticks": ""
             }
            },
            "type": "scatterpolar"
           }
          ],
          "scatterpolargl": [
           {
            "marker": {
             "colorbar": {
              "outlinewidth": 0,
              "ticks": ""
             }
            },
            "type": "scatterpolargl"
           }
          ],
          "scatterternary": [
           {
            "marker": {
             "colorbar": {
              "outlinewidth": 0,
              "ticks": ""
             }
            },
            "type": "scatterternary"
           }
          ],
          "surface": [
           {
            "colorbar": {
             "outlinewidth": 0,
             "ticks": ""
            },
            "colorscale": [
             [
              0,
              "#0d0887"
             ],
             [
              0.1111111111111111,
              "#46039f"
             ],
             [
              0.2222222222222222,
              "#7201a8"
             ],
             [
              0.3333333333333333,
              "#9c179e"
             ],
             [
              0.4444444444444444,
              "#bd3786"
             ],
             [
              0.5555555555555556,
              "#d8576b"
             ],
             [
              0.6666666666666666,
              "#ed7953"
             ],
             [
              0.7777777777777778,
              "#fb9f3a"
             ],
             [
              0.8888888888888888,
              "#fdca26"
             ],
             [
              1,
              "#f0f921"
             ]
            ],
            "type": "surface"
           }
          ],
          "table": [
           {
            "cells": {
             "fill": {
              "color": "#EBF0F8"
             },
             "line": {
              "color": "white"
             }
            },
            "header": {
             "fill": {
              "color": "#C8D4E3"
             },
             "line": {
              "color": "white"
             }
            },
            "type": "table"
           }
          ]
         },
         "layout": {
          "annotationdefaults": {
           "arrowcolor": "#2a3f5f",
           "arrowhead": 0,
           "arrowwidth": 1
          },
          "autotypenumbers": "strict",
          "coloraxis": {
           "colorbar": {
            "outlinewidth": 0,
            "ticks": ""
           }
          },
          "colorscale": {
           "diverging": [
            [
             0,
             "#8e0152"
            ],
            [
             0.1,
             "#c51b7d"
            ],
            [
             0.2,
             "#de77ae"
            ],
            [
             0.3,
             "#f1b6da"
            ],
            [
             0.4,
             "#fde0ef"
            ],
            [
             0.5,
             "#f7f7f7"
            ],
            [
             0.6,
             "#e6f5d0"
            ],
            [
             0.7,
             "#b8e186"
            ],
            [
             0.8,
             "#7fbc41"
            ],
            [
             0.9,
             "#4d9221"
            ],
            [
             1,
             "#276419"
            ]
           ],
           "sequential": [
            [
             0,
             "#0d0887"
            ],
            [
             0.1111111111111111,
             "#46039f"
            ],
            [
             0.2222222222222222,
             "#7201a8"
            ],
            [
             0.3333333333333333,
             "#9c179e"
            ],
            [
             0.4444444444444444,
             "#bd3786"
            ],
            [
             0.5555555555555556,
             "#d8576b"
            ],
            [
             0.6666666666666666,
             "#ed7953"
            ],
            [
             0.7777777777777778,
             "#fb9f3a"
            ],
            [
             0.8888888888888888,
             "#fdca26"
            ],
            [
             1,
             "#f0f921"
            ]
           ],
           "sequentialminus": [
            [
             0,
             "#0d0887"
            ],
            [
             0.1111111111111111,
             "#46039f"
            ],
            [
             0.2222222222222222,
             "#7201a8"
            ],
            [
             0.3333333333333333,
             "#9c179e"
            ],
            [
             0.4444444444444444,
             "#bd3786"
            ],
            [
             0.5555555555555556,
             "#d8576b"
            ],
            [
             0.6666666666666666,
             "#ed7953"
            ],
            [
             0.7777777777777778,
             "#fb9f3a"
            ],
            [
             0.8888888888888888,
             "#fdca26"
            ],
            [
             1,
             "#f0f921"
            ]
           ]
          },
          "colorway": [
           "#636efa",
           "#EF553B",
           "#00cc96",
           "#ab63fa",
           "#FFA15A",
           "#19d3f3",
           "#FF6692",
           "#B6E880",
           "#FF97FF",
           "#FECB52"
          ],
          "font": {
           "color": "#2a3f5f"
          },
          "geo": {
           "bgcolor": "white",
           "lakecolor": "white",
           "landcolor": "#E5ECF6",
           "showlakes": true,
           "showland": true,
           "subunitcolor": "white"
          },
          "hoverlabel": {
           "align": "left"
          },
          "hovermode": "closest",
          "mapbox": {
           "style": "light"
          },
          "paper_bgcolor": "white",
          "plot_bgcolor": "#E5ECF6",
          "polar": {
           "angularaxis": {
            "gridcolor": "white",
            "linecolor": "white",
            "ticks": ""
           },
           "bgcolor": "#E5ECF6",
           "radialaxis": {
            "gridcolor": "white",
            "linecolor": "white",
            "ticks": ""
           }
          },
          "scene": {
           "xaxis": {
            "backgroundcolor": "#E5ECF6",
            "gridcolor": "white",
            "gridwidth": 2,
            "linecolor": "white",
            "showbackground": true,
            "ticks": "",
            "zerolinecolor": "white"
           },
           "yaxis": {
            "backgroundcolor": "#E5ECF6",
            "gridcolor": "white",
            "gridwidth": 2,
            "linecolor": "white",
            "showbackground": true,
            "ticks": "",
            "zerolinecolor": "white"
           },
           "zaxis": {
            "backgroundcolor": "#E5ECF6",
            "gridcolor": "white",
            "gridwidth": 2,
            "linecolor": "white",
            "showbackground": true,
            "ticks": "",
            "zerolinecolor": "white"
           }
          },
          "shapedefaults": {
           "line": {
            "color": "#2a3f5f"
           }
          },
          "ternary": {
           "aaxis": {
            "gridcolor": "white",
            "linecolor": "white",
            "ticks": ""
           },
           "baxis": {
            "gridcolor": "white",
            "linecolor": "white",
            "ticks": ""
           },
           "bgcolor": "#E5ECF6",
           "caxis": {
            "gridcolor": "white",
            "linecolor": "white",
            "ticks": ""
           }
          },
          "title": {
           "x": 0.05
          },
          "xaxis": {
           "automargin": true,
           "gridcolor": "white",
           "linecolor": "white",
           "ticks": "",
           "title": {
            "standoff": 15
           },
           "zerolinecolor": "white",
           "zerolinewidth": 2
          },
          "yaxis": {
           "automargin": true,
           "gridcolor": "white",
           "linecolor": "white",
           "ticks": "",
           "title": {
            "standoff": 15
           },
           "zerolinecolor": "white",
           "zerolinewidth": 2
          }
         }
        },
        "xaxis": {
         "anchor": "y",
         "domain": [
          0,
          1
         ],
         "title": {
          "text": "start_date"
         }
        },
        "yaxis": {
         "anchor": "x",
         "domain": [
          0,
          1
         ],
         "title": {
          "text": "kudos_count"
         }
        }
       }
      }
     },
     "metadata": {},
     "output_type": "display_data"
    },
    {
     "data": {
      "application/vnd.plotly.v1+json": {
       "config": {
        "plotlyServerURL": "https://plot.ly"
       },
       "data": [
        {
         "alignmentgroup": "True",
         "bingroup": "x",
         "histfunc": "sum",
         "hovertemplate": "type=%{x}<br>sum of kudos_count=%{y}<extra></extra>",
         "legendgroup": "",
         "marker": {
          "color": "#636efa",
          "pattern": {
           "shape": ""
          }
         },
         "name": "",
         "offsetgroup": "",
         "orientation": "v",
         "showlegend": false,
         "type": "histogram",
         "x": [
          "Run",
          "Run",
          "Run",
          "Run",
          "Run",
          "Run",
          "Run",
          "Run",
          "Run",
          "Run",
          "Run",
          "Run",
          "Run",
          "Run",
          "Run",
          "Run",
          "Hike",
          "Run",
          "Workout",
          "Run",
          "Run",
          "Run",
          "Run",
          "Run",
          "Walk",
          "Run",
          "Run",
          "Run",
          "Run",
          "Run",
          "Run",
          "Run",
          "Run",
          "Run",
          "Run",
          "Run",
          "Run",
          "Run",
          "Run",
          "Run",
          "Run",
          "Run",
          "Run",
          "Run",
          "Run",
          "Run",
          "Run",
          "Run",
          "Run",
          "Run",
          "Run",
          "Run",
          "Run",
          "Run",
          "Run",
          "Run",
          "Run",
          "Run",
          "Run",
          "Run",
          "Run",
          "Run",
          "Run",
          "Run",
          "Run",
          "Run",
          "Run",
          "Run",
          "Run",
          "Run",
          "Run",
          "Run",
          "Walk",
          "Run",
          "Walk",
          "Run",
          "Workout",
          "Run",
          "Workout",
          "Run",
          "Run",
          "Workout",
          "Workout",
          "Workout",
          "Run",
          "Workout",
          "Run",
          "Run",
          "Run",
          "Run",
          "Run",
          "Run",
          "Run",
          "Run",
          "Run",
          "Run",
          "Run",
          "Run",
          "Run",
          "Run",
          "Run",
          "Run",
          "Run",
          "Run",
          "Run"
         ],
         "xaxis": "x",
         "y": [
          4,
          0,
          5,
          2,
          5,
          2,
          2,
          2,
          3,
          2,
          1,
          2,
          2,
          2,
          3,
          2,
          1,
          1,
          1,
          0,
          1,
          1,
          2,
          2,
          0,
          1,
          1,
          2,
          1,
          0,
          0,
          0,
          0,
          0,
          0,
          1,
          2,
          1,
          2,
          1,
          2,
          2,
          2,
          2,
          1,
          2,
          2,
          1,
          1,
          2,
          2,
          2,
          0,
          2,
          1,
          1,
          1,
          1,
          1,
          1,
          0,
          0,
          0,
          0,
          0,
          0,
          0,
          0,
          0,
          0,
          1,
          1,
          0,
          0,
          0,
          0,
          0,
          0,
          0,
          0,
          0,
          0,
          0,
          0,
          0,
          0,
          0,
          0,
          0,
          0,
          0,
          0,
          0,
          0,
          0,
          0,
          0,
          0,
          0,
          0,
          0,
          0,
          0,
          0,
          0
         ],
         "yaxis": "y"
        }
       ],
       "layout": {
        "barmode": "relative",
        "legend": {
         "tracegroupgap": 0
        },
        "margin": {
         "t": 60
        },
        "template": {
         "data": {
          "bar": [
           {
            "error_x": {
             "color": "#2a3f5f"
            },
            "error_y": {
             "color": "#2a3f5f"
            },
            "marker": {
             "line": {
              "color": "#E5ECF6",
              "width": 0.5
             },
             "pattern": {
              "fillmode": "overlay",
              "size": 10,
              "solidity": 0.2
             }
            },
            "type": "bar"
           }
          ],
          "barpolar": [
           {
            "marker": {
             "line": {
              "color": "#E5ECF6",
              "width": 0.5
             },
             "pattern": {
              "fillmode": "overlay",
              "size": 10,
              "solidity": 0.2
             }
            },
            "type": "barpolar"
           }
          ],
          "carpet": [
           {
            "aaxis": {
             "endlinecolor": "#2a3f5f",
             "gridcolor": "white",
             "linecolor": "white",
             "minorgridcolor": "white",
             "startlinecolor": "#2a3f5f"
            },
            "baxis": {
             "endlinecolor": "#2a3f5f",
             "gridcolor": "white",
             "linecolor": "white",
             "minorgridcolor": "white",
             "startlinecolor": "#2a3f5f"
            },
            "type": "carpet"
           }
          ],
          "choropleth": [
           {
            "colorbar": {
             "outlinewidth": 0,
             "ticks": ""
            },
            "type": "choropleth"
           }
          ],
          "contour": [
           {
            "colorbar": {
             "outlinewidth": 0,
             "ticks": ""
            },
            "colorscale": [
             [
              0,
              "#0d0887"
             ],
             [
              0.1111111111111111,
              "#46039f"
             ],
             [
              0.2222222222222222,
              "#7201a8"
             ],
             [
              0.3333333333333333,
              "#9c179e"
             ],
             [
              0.4444444444444444,
              "#bd3786"
             ],
             [
              0.5555555555555556,
              "#d8576b"
             ],
             [
              0.6666666666666666,
              "#ed7953"
             ],
             [
              0.7777777777777778,
              "#fb9f3a"
             ],
             [
              0.8888888888888888,
              "#fdca26"
             ],
             [
              1,
              "#f0f921"
             ]
            ],
            "type": "contour"
           }
          ],
          "contourcarpet": [
           {
            "colorbar": {
             "outlinewidth": 0,
             "ticks": ""
            },
            "type": "contourcarpet"
           }
          ],
          "heatmap": [
           {
            "colorbar": {
             "outlinewidth": 0,
             "ticks": ""
            },
            "colorscale": [
             [
              0,
              "#0d0887"
             ],
             [
              0.1111111111111111,
              "#46039f"
             ],
             [
              0.2222222222222222,
              "#7201a8"
             ],
             [
              0.3333333333333333,
              "#9c179e"
             ],
             [
              0.4444444444444444,
              "#bd3786"
             ],
             [
              0.5555555555555556,
              "#d8576b"
             ],
             [
              0.6666666666666666,
              "#ed7953"
             ],
             [
              0.7777777777777778,
              "#fb9f3a"
             ],
             [
              0.8888888888888888,
              "#fdca26"
             ],
             [
              1,
              "#f0f921"
             ]
            ],
            "type": "heatmap"
           }
          ],
          "heatmapgl": [
           {
            "colorbar": {
             "outlinewidth": 0,
             "ticks": ""
            },
            "colorscale": [
             [
              0,
              "#0d0887"
             ],
             [
              0.1111111111111111,
              "#46039f"
             ],
             [
              0.2222222222222222,
              "#7201a8"
             ],
             [
              0.3333333333333333,
              "#9c179e"
             ],
             [
              0.4444444444444444,
              "#bd3786"
             ],
             [
              0.5555555555555556,
              "#d8576b"
             ],
             [
              0.6666666666666666,
              "#ed7953"
             ],
             [
              0.7777777777777778,
              "#fb9f3a"
             ],
             [
              0.8888888888888888,
              "#fdca26"
             ],
             [
              1,
              "#f0f921"
             ]
            ],
            "type": "heatmapgl"
           }
          ],
          "histogram": [
           {
            "marker": {
             "pattern": {
              "fillmode": "overlay",
              "size": 10,
              "solidity": 0.2
             }
            },
            "type": "histogram"
           }
          ],
          "histogram2d": [
           {
            "colorbar": {
             "outlinewidth": 0,
             "ticks": ""
            },
            "colorscale": [
             [
              0,
              "#0d0887"
             ],
             [
              0.1111111111111111,
              "#46039f"
             ],
             [
              0.2222222222222222,
              "#7201a8"
             ],
             [
              0.3333333333333333,
              "#9c179e"
             ],
             [
              0.4444444444444444,
              "#bd3786"
             ],
             [
              0.5555555555555556,
              "#d8576b"
             ],
             [
              0.6666666666666666,
              "#ed7953"
             ],
             [
              0.7777777777777778,
              "#fb9f3a"
             ],
             [
              0.8888888888888888,
              "#fdca26"
             ],
             [
              1,
              "#f0f921"
             ]
            ],
            "type": "histogram2d"
           }
          ],
          "histogram2dcontour": [
           {
            "colorbar": {
             "outlinewidth": 0,
             "ticks": ""
            },
            "colorscale": [
             [
              0,
              "#0d0887"
             ],
             [
              0.1111111111111111,
              "#46039f"
             ],
             [
              0.2222222222222222,
              "#7201a8"
             ],
             [
              0.3333333333333333,
              "#9c179e"
             ],
             [
              0.4444444444444444,
              "#bd3786"
             ],
             [
              0.5555555555555556,
              "#d8576b"
             ],
             [
              0.6666666666666666,
              "#ed7953"
             ],
             [
              0.7777777777777778,
              "#fb9f3a"
             ],
             [
              0.8888888888888888,
              "#fdca26"
             ],
             [
              1,
              "#f0f921"
             ]
            ],
            "type": "histogram2dcontour"
           }
          ],
          "mesh3d": [
           {
            "colorbar": {
             "outlinewidth": 0,
             "ticks": ""
            },
            "type": "mesh3d"
           }
          ],
          "parcoords": [
           {
            "line": {
             "colorbar": {
              "outlinewidth": 0,
              "ticks": ""
             }
            },
            "type": "parcoords"
           }
          ],
          "pie": [
           {
            "automargin": true,
            "type": "pie"
           }
          ],
          "scatter": [
           {
            "fillpattern": {
             "fillmode": "overlay",
             "size": 10,
             "solidity": 0.2
            },
            "type": "scatter"
           }
          ],
          "scatter3d": [
           {
            "line": {
             "colorbar": {
              "outlinewidth": 0,
              "ticks": ""
             }
            },
            "marker": {
             "colorbar": {
              "outlinewidth": 0,
              "ticks": ""
             }
            },
            "type": "scatter3d"
           }
          ],
          "scattercarpet": [
           {
            "marker": {
             "colorbar": {
              "outlinewidth": 0,
              "ticks": ""
             }
            },
            "type": "scattercarpet"
           }
          ],
          "scattergeo": [
           {
            "marker": {
             "colorbar": {
              "outlinewidth": 0,
              "ticks": ""
             }
            },
            "type": "scattergeo"
           }
          ],
          "scattergl": [
           {
            "marker": {
             "colorbar": {
              "outlinewidth": 0,
              "ticks": ""
             }
            },
            "type": "scattergl"
           }
          ],
          "scattermapbox": [
           {
            "marker": {
             "colorbar": {
              "outlinewidth": 0,
              "ticks": ""
             }
            },
            "type": "scattermapbox"
           }
          ],
          "scatterpolar": [
           {
            "marker": {
             "colorbar": {
              "outlinewidth": 0,
              "ticks": ""
             }
            },
            "type": "scatterpolar"
           }
          ],
          "scatterpolargl": [
           {
            "marker": {
             "colorbar": {
              "outlinewidth": 0,
              "ticks": ""
             }
            },
            "type": "scatterpolargl"
           }
          ],
          "scatterternary": [
           {
            "marker": {
             "colorbar": {
              "outlinewidth": 0,
              "ticks": ""
             }
            },
            "type": "scatterternary"
           }
          ],
          "surface": [
           {
            "colorbar": {
             "outlinewidth": 0,
             "ticks": ""
            },
            "colorscale": [
             [
              0,
              "#0d0887"
             ],
             [
              0.1111111111111111,
              "#46039f"
             ],
             [
              0.2222222222222222,
              "#7201a8"
             ],
             [
              0.3333333333333333,
              "#9c179e"
             ],
             [
              0.4444444444444444,
              "#bd3786"
             ],
             [
              0.5555555555555556,
              "#d8576b"
             ],
             [
              0.6666666666666666,
              "#ed7953"
             ],
             [
              0.7777777777777778,
              "#fb9f3a"
             ],
             [
              0.8888888888888888,
              "#fdca26"
             ],
             [
              1,
              "#f0f921"
             ]
            ],
            "type": "surface"
           }
          ],
          "table": [
           {
            "cells": {
             "fill": {
              "color": "#EBF0F8"
             },
             "line": {
              "color": "white"
             }
            },
            "header": {
             "fill": {
              "color": "#C8D4E3"
             },
             "line": {
              "color": "white"
             }
            },
            "type": "table"
           }
          ]
         },
         "layout": {
          "annotationdefaults": {
           "arrowcolor": "#2a3f5f",
           "arrowhead": 0,
           "arrowwidth": 1
          },
          "autotypenumbers": "strict",
          "coloraxis": {
           "colorbar": {
            "outlinewidth": 0,
            "ticks": ""
           }
          },
          "colorscale": {
           "diverging": [
            [
             0,
             "#8e0152"
            ],
            [
             0.1,
             "#c51b7d"
            ],
            [
             0.2,
             "#de77ae"
            ],
            [
             0.3,
             "#f1b6da"
            ],
            [
             0.4,
             "#fde0ef"
            ],
            [
             0.5,
             "#f7f7f7"
            ],
            [
             0.6,
             "#e6f5d0"
            ],
            [
             0.7,
             "#b8e186"
            ],
            [
             0.8,
             "#7fbc41"
            ],
            [
             0.9,
             "#4d9221"
            ],
            [
             1,
             "#276419"
            ]
           ],
           "sequential": [
            [
             0,
             "#0d0887"
            ],
            [
             0.1111111111111111,
             "#46039f"
            ],
            [
             0.2222222222222222,
             "#7201a8"
            ],
            [
             0.3333333333333333,
             "#9c179e"
            ],
            [
             0.4444444444444444,
             "#bd3786"
            ],
            [
             0.5555555555555556,
             "#d8576b"
            ],
            [
             0.6666666666666666,
             "#ed7953"
            ],
            [
             0.7777777777777778,
             "#fb9f3a"
            ],
            [
             0.8888888888888888,
             "#fdca26"
            ],
            [
             1,
             "#f0f921"
            ]
           ],
           "sequentialminus": [
            [
             0,
             "#0d0887"
            ],
            [
             0.1111111111111111,
             "#46039f"
            ],
            [
             0.2222222222222222,
             "#7201a8"
            ],
            [
             0.3333333333333333,
             "#9c179e"
            ],
            [
             0.4444444444444444,
             "#bd3786"
            ],
            [
             0.5555555555555556,
             "#d8576b"
            ],
            [
             0.6666666666666666,
             "#ed7953"
            ],
            [
             0.7777777777777778,
             "#fb9f3a"
            ],
            [
             0.8888888888888888,
             "#fdca26"
            ],
            [
             1,
             "#f0f921"
            ]
           ]
          },
          "colorway": [
           "#636efa",
           "#EF553B",
           "#00cc96",
           "#ab63fa",
           "#FFA15A",
           "#19d3f3",
           "#FF6692",
           "#B6E880",
           "#FF97FF",
           "#FECB52"
          ],
          "font": {
           "color": "#2a3f5f"
          },
          "geo": {
           "bgcolor": "white",
           "lakecolor": "white",
           "landcolor": "#E5ECF6",
           "showlakes": true,
           "showland": true,
           "subunitcolor": "white"
          },
          "hoverlabel": {
           "align": "left"
          },
          "hovermode": "closest",
          "mapbox": {
           "style": "light"
          },
          "paper_bgcolor": "white",
          "plot_bgcolor": "#E5ECF6",
          "polar": {
           "angularaxis": {
            "gridcolor": "white",
            "linecolor": "white",
            "ticks": ""
           },
           "bgcolor": "#E5ECF6",
           "radialaxis": {
            "gridcolor": "white",
            "linecolor": "white",
            "ticks": ""
           }
          },
          "scene": {
           "xaxis": {
            "backgroundcolor": "#E5ECF6",
            "gridcolor": "white",
            "gridwidth": 2,
            "linecolor": "white",
            "showbackground": true,
            "ticks": "",
            "zerolinecolor": "white"
           },
           "yaxis": {
            "backgroundcolor": "#E5ECF6",
            "gridcolor": "white",
            "gridwidth": 2,
            "linecolor": "white",
            "showbackground": true,
            "ticks": "",
            "zerolinecolor": "white"
           },
           "zaxis": {
            "backgroundcolor": "#E5ECF6",
            "gridcolor": "white",
            "gridwidth": 2,
            "linecolor": "white",
            "showbackground": true,
            "ticks": "",
            "zerolinecolor": "white"
           }
          },
          "shapedefaults": {
           "line": {
            "color": "#2a3f5f"
           }
          },
          "ternary": {
           "aaxis": {
            "gridcolor": "white",
            "linecolor": "white",
            "ticks": ""
           },
           "baxis": {
            "gridcolor": "white",
            "linecolor": "white",
            "ticks": ""
           },
           "bgcolor": "#E5ECF6",
           "caxis": {
            "gridcolor": "white",
            "linecolor": "white",
            "ticks": ""
           }
          },
          "title": {
           "x": 0.05
          },
          "xaxis": {
           "automargin": true,
           "gridcolor": "white",
           "linecolor": "white",
           "ticks": "",
           "title": {
            "standoff": 15
           },
           "zerolinecolor": "white",
           "zerolinewidth": 2
          },
          "yaxis": {
           "automargin": true,
           "gridcolor": "white",
           "linecolor": "white",
           "ticks": "",
           "title": {
            "standoff": 15
           },
           "zerolinecolor": "white",
           "zerolinewidth": 2
          }
         }
        },
        "xaxis": {
         "anchor": "y",
         "domain": [
          0,
          1
         ],
         "title": {
          "text": "type"
         }
        },
        "yaxis": {
         "anchor": "x",
         "domain": [
          0,
          1
         ],
         "title": {
          "text": "sum of kudos_count"
         }
        }
       }
      }
     },
     "metadata": {},
     "output_type": "display_data"
    },
    {
     "data": {
      "application/vnd.plotly.v1+json": {
       "config": {
        "plotlyServerURL": "https://plot.ly"
       },
       "data": [
        {
         "hovertemplate": "type=Run<br>start_date=%{x}<br>average_speed=%{y}<extra></extra>",
         "legendgroup": "Run",
         "line": {
          "color": "#636efa",
          "dash": "solid"
         },
         "marker": {
          "symbol": "circle"
         },
         "mode": "lines",
         "name": "Run",
         "orientation": "v",
         "showlegend": true,
         "type": "scatter",
         "x": [
          "2023-12-09T14:09:19Z",
          "2023-12-07T22:31:50Z",
          "2023-12-03T14:18:13Z",
          "2023-12-02T14:41:14Z",
          "2023-12-01T22:06:05Z",
          "2023-11-29T22:22:51Z",
          "2023-11-26T14:16:39Z",
          "2023-11-09T22:46:38Z",
          "2023-11-07T22:31:51Z",
          "2023-11-04T20:20:18Z",
          "2023-11-02T22:25:15Z",
          "2023-11-01T22:08:35Z",
          "2023-10-31T22:13:17Z",
          "2023-10-29T22:03:13Z",
          "2023-10-28T12:55:44Z",
          "2023-10-23T13:11:55Z",
          "2023-10-19T23:22:33Z",
          "2023-10-12T22:27:56Z",
          "2023-10-10T22:46:51Z",
          "2023-10-10T22:46:43Z",
          "2023-10-08T22:26:49Z",
          "2023-10-04T22:33:38Z",
          "2023-10-01T22:22:23Z",
          "2023-09-28T21:54:23Z",
          "2023-09-26T22:13:37Z",
          "2023-09-20T22:22:55Z",
          "2023-09-12T23:33:27Z",
          "2023-09-10T23:01:35Z",
          "2023-09-07T23:41:00Z",
          "2023-09-05T23:19:51Z",
          "2023-09-03T10:40:50Z",
          "2023-08-31T22:51:40Z",
          "2023-08-18T21:45:19Z",
          "2023-08-17T22:38:25Z",
          "2023-08-06T11:28:11Z",
          "2023-08-02T22:36:39Z",
          "2023-07-31T23:10:00Z",
          "2023-07-27T12:00:00Z",
          "2023-07-25T23:33:05Z",
          "2023-07-23T11:16:58Z",
          "2023-07-17T22:17:37Z",
          "2023-07-14T22:17:07Z",
          "2023-07-13T22:54:20Z",
          "2023-07-12T13:11:57Z",
          "2023-07-09T21:20:57Z",
          "2023-07-07T22:17:30Z",
          "2023-07-05T21:34:26Z",
          "2023-06-29T22:35:40Z",
          "2023-06-25T23:18:27Z",
          "2023-06-23T22:39:04Z",
          "2023-06-18T12:39:23Z",
          "2023-06-11T18:01:45Z",
          "2023-05-28T11:02:45Z",
          "2023-05-14T21:10:38Z",
          "2023-05-14T11:56:01Z",
          "2023-05-12T21:50:00Z",
          "2023-05-07T21:55:57Z",
          "2023-04-26T21:24:37Z",
          "2023-04-22T12:39:51Z",
          "2023-04-16T13:10:51Z",
          "2023-04-09T13:15:51Z",
          "2023-03-19T13:29:19Z",
          "2023-03-05T12:07:47Z",
          "2023-03-02T11:38:12Z",
          "2023-02-19T21:51:04Z",
          "2023-02-12T12:06:05Z",
          "2022-12-21T19:20:42Z",
          "2022-12-03T20:41:28Z",
          "2022-11-23T11:31:44Z",
          "2022-11-13T11:59:20Z",
          "2022-10-15T12:03:03Z",
          "2022-10-09T11:52:32Z",
          "2022-09-18T11:13:06Z",
          "2022-09-07T11:03:40Z",
          "2022-08-31T13:17:10Z",
          "2022-08-27T12:22:34Z",
          "2022-08-24T12:32:16Z",
          "2022-08-20T12:28:52Z",
          "2022-08-07T11:02:21Z",
          "2022-08-03T11:44:12Z",
          "2022-07-31T12:24:41Z",
          "2022-07-24T12:47:17Z",
          "2022-07-18T12:38:45Z",
          "2022-07-10T14:40:05Z",
          "2022-07-10T12:53:17Z",
          "2022-07-03T14:10:13Z",
          "2022-07-03T12:31:25Z",
          "2022-06-25T13:04:56Z",
          "2022-06-18T13:43:07Z",
          "2022-06-12T13:20:44Z",
          "2022-05-28T15:11:38Z",
          "2022-05-22T11:13:30Z",
          "2022-05-21T11:27:40Z",
          "2022-03-16T16:12:54Z"
         ],
         "xaxis": "x",
         "y": [
          2.704,
          1.807,
          2.375,
          1.931,
          2.449,
          2.298,
          2.561,
          2.517,
          2.566,
          2.215,
          2.531,
          2.327,
          2.64,
          2.473,
          2.478,
          2.607,
          2.487,
          1.499,
          2.483,
          2.559,
          2.384,
          2.564,
          2.513,
          2.512,
          2.7,
          2.527,
          2.662,
          2.231,
          2.333,
          2.678,
          2.349,
          2.848,
          2.969,
          2.837,
          2.121,
          2.618,
          2.66,
          2.608,
          2.729,
          2.271,
          2.488,
          2.515,
          2.621,
          2.413,
          2.287,
          2.636,
          3.179,
          1.306,
          2.578,
          2.741,
          2.572,
          2.765,
          2.513,
          2.5,
          2.451,
          2.739,
          2.41,
          2.649,
          2.242,
          2.868,
          2.04,
          2.413,
          2.233,
          2.277,
          1.415,
          2.12,
          2.35,
          2.269,
          2.26,
          2.339,
          2.658,
          2.255,
          2.502,
          2.32,
          6.085,
          2.158,
          2.52,
          1.931,
          2.008,
          2.386,
          1.935,
          1.743,
          1.85,
          1.496,
          2.207,
          1.839,
          2.096,
          1.741,
          2.002,
          2.015,
          1.82,
          2.027,
          1.977,
          2.739
         ],
         "yaxis": "y"
        },
        {
         "hovertemplate": "type=Hike<br>start_date=%{x}<br>average_speed=%{y}<extra></extra>",
         "legendgroup": "Hike",
         "line": {
          "color": "#EF553B",
          "dash": "solid"
         },
         "marker": {
          "symbol": "circle"
         },
         "mode": "lines",
         "name": "Hike",
         "orientation": "v",
         "showlegend": true,
         "type": "scatter",
         "x": [
          "2023-10-21T15:02:30Z"
         ],
         "xaxis": "x",
         "y": [
          0.75
         ],
         "yaxis": "y"
        },
        {
         "hovertemplate": "type=Workout<br>start_date=%{x}<br>average_speed=%{y}<extra></extra>",
         "legendgroup": "Workout",
         "line": {
          "color": "#00cc96",
          "dash": "solid"
         },
         "marker": {
          "symbol": "circle"
         },
         "mode": "lines",
         "name": "Workout",
         "orientation": "v",
         "showlegend": true,
         "type": "scatter",
         "x": [
          "2023-10-15T18:17:29Z",
          "2022-10-13T11:48:24Z",
          "2022-10-07T11:57:31Z",
          "2022-09-02T11:54:10Z",
          "2022-09-01T11:42:46Z",
          "2022-08-31T11:47:53Z",
          "2022-08-30T12:59:41Z"
         ],
         "xaxis": "x",
         "y": [
          0,
          0,
          0,
          0,
          0,
          0,
          0
         ],
         "yaxis": "y"
        },
        {
         "hovertemplate": "type=Walk<br>start_date=%{x}<br>average_speed=%{y}<extra></extra>",
         "legendgroup": "Walk",
         "line": {
          "color": "#ab63fa",
          "dash": "solid"
         },
         "marker": {
          "symbol": "circle"
         },
         "mode": "lines",
         "name": "Walk",
         "orientation": "v",
         "showlegend": true,
         "type": "scatter",
         "x": [
          "2023-10-01T23:25:32Z",
          "2022-11-13T12:54:52Z",
          "2022-10-15T15:04:34Z"
         ],
         "xaxis": "x",
         "y": [
          1.383,
          2.238,
          1.232
         ],
         "yaxis": "y"
        }
       ],
       "layout": {
        "legend": {
         "title": {
          "text": "type"
         },
         "tracegroupgap": 0
        },
        "margin": {
         "t": 60
        },
        "template": {
         "data": {
          "bar": [
           {
            "error_x": {
             "color": "#2a3f5f"
            },
            "error_y": {
             "color": "#2a3f5f"
            },
            "marker": {
             "line": {
              "color": "#E5ECF6",
              "width": 0.5
             },
             "pattern": {
              "fillmode": "overlay",
              "size": 10,
              "solidity": 0.2
             }
            },
            "type": "bar"
           }
          ],
          "barpolar": [
           {
            "marker": {
             "line": {
              "color": "#E5ECF6",
              "width": 0.5
             },
             "pattern": {
              "fillmode": "overlay",
              "size": 10,
              "solidity": 0.2
             }
            },
            "type": "barpolar"
           }
          ],
          "carpet": [
           {
            "aaxis": {
             "endlinecolor": "#2a3f5f",
             "gridcolor": "white",
             "linecolor": "white",
             "minorgridcolor": "white",
             "startlinecolor": "#2a3f5f"
            },
            "baxis": {
             "endlinecolor": "#2a3f5f",
             "gridcolor": "white",
             "linecolor": "white",
             "minorgridcolor": "white",
             "startlinecolor": "#2a3f5f"
            },
            "type": "carpet"
           }
          ],
          "choropleth": [
           {
            "colorbar": {
             "outlinewidth": 0,
             "ticks": ""
            },
            "type": "choropleth"
           }
          ],
          "contour": [
           {
            "colorbar": {
             "outlinewidth": 0,
             "ticks": ""
            },
            "colorscale": [
             [
              0,
              "#0d0887"
             ],
             [
              0.1111111111111111,
              "#46039f"
             ],
             [
              0.2222222222222222,
              "#7201a8"
             ],
             [
              0.3333333333333333,
              "#9c179e"
             ],
             [
              0.4444444444444444,
              "#bd3786"
             ],
             [
              0.5555555555555556,
              "#d8576b"
             ],
             [
              0.6666666666666666,
              "#ed7953"
             ],
             [
              0.7777777777777778,
              "#fb9f3a"
             ],
             [
              0.8888888888888888,
              "#fdca26"
             ],
             [
              1,
              "#f0f921"
             ]
            ],
            "type": "contour"
           }
          ],
          "contourcarpet": [
           {
            "colorbar": {
             "outlinewidth": 0,
             "ticks": ""
            },
            "type": "contourcarpet"
           }
          ],
          "heatmap": [
           {
            "colorbar": {
             "outlinewidth": 0,
             "ticks": ""
            },
            "colorscale": [
             [
              0,
              "#0d0887"
             ],
             [
              0.1111111111111111,
              "#46039f"
             ],
             [
              0.2222222222222222,
              "#7201a8"
             ],
             [
              0.3333333333333333,
              "#9c179e"
             ],
             [
              0.4444444444444444,
              "#bd3786"
             ],
             [
              0.5555555555555556,
              "#d8576b"
             ],
             [
              0.6666666666666666,
              "#ed7953"
             ],
             [
              0.7777777777777778,
              "#fb9f3a"
             ],
             [
              0.8888888888888888,
              "#fdca26"
             ],
             [
              1,
              "#f0f921"
             ]
            ],
            "type": "heatmap"
           }
          ],
          "heatmapgl": [
           {
            "colorbar": {
             "outlinewidth": 0,
             "ticks": ""
            },
            "colorscale": [
             [
              0,
              "#0d0887"
             ],
             [
              0.1111111111111111,
              "#46039f"
             ],
             [
              0.2222222222222222,
              "#7201a8"
             ],
             [
              0.3333333333333333,
              "#9c179e"
             ],
             [
              0.4444444444444444,
              "#bd3786"
             ],
             [
              0.5555555555555556,
              "#d8576b"
             ],
             [
              0.6666666666666666,
              "#ed7953"
             ],
             [
              0.7777777777777778,
              "#fb9f3a"
             ],
             [
              0.8888888888888888,
              "#fdca26"
             ],
             [
              1,
              "#f0f921"
             ]
            ],
            "type": "heatmapgl"
           }
          ],
          "histogram": [
           {
            "marker": {
             "pattern": {
              "fillmode": "overlay",
              "size": 10,
              "solidity": 0.2
             }
            },
            "type": "histogram"
           }
          ],
          "histogram2d": [
           {
            "colorbar": {
             "outlinewidth": 0,
             "ticks": ""
            },
            "colorscale": [
             [
              0,
              "#0d0887"
             ],
             [
              0.1111111111111111,
              "#46039f"
             ],
             [
              0.2222222222222222,
              "#7201a8"
             ],
             [
              0.3333333333333333,
              "#9c179e"
             ],
             [
              0.4444444444444444,
              "#bd3786"
             ],
             [
              0.5555555555555556,
              "#d8576b"
             ],
             [
              0.6666666666666666,
              "#ed7953"
             ],
             [
              0.7777777777777778,
              "#fb9f3a"
             ],
             [
              0.8888888888888888,
              "#fdca26"
             ],
             [
              1,
              "#f0f921"
             ]
            ],
            "type": "histogram2d"
           }
          ],
          "histogram2dcontour": [
           {
            "colorbar": {
             "outlinewidth": 0,
             "ticks": ""
            },
            "colorscale": [
             [
              0,
              "#0d0887"
             ],
             [
              0.1111111111111111,
              "#46039f"
             ],
             [
              0.2222222222222222,
              "#7201a8"
             ],
             [
              0.3333333333333333,
              "#9c179e"
             ],
             [
              0.4444444444444444,
              "#bd3786"
             ],
             [
              0.5555555555555556,
              "#d8576b"
             ],
             [
              0.6666666666666666,
              "#ed7953"
             ],
             [
              0.7777777777777778,
              "#fb9f3a"
             ],
             [
              0.8888888888888888,
              "#fdca26"
             ],
             [
              1,
              "#f0f921"
             ]
            ],
            "type": "histogram2dcontour"
           }
          ],
          "mesh3d": [
           {
            "colorbar": {
             "outlinewidth": 0,
             "ticks": ""
            },
            "type": "mesh3d"
           }
          ],
          "parcoords": [
           {
            "line": {
             "colorbar": {
              "outlinewidth": 0,
              "ticks": ""
             }
            },
            "type": "parcoords"
           }
          ],
          "pie": [
           {
            "automargin": true,
            "type": "pie"
           }
          ],
          "scatter": [
           {
            "fillpattern": {
             "fillmode": "overlay",
             "size": 10,
             "solidity": 0.2
            },
            "type": "scatter"
           }
          ],
          "scatter3d": [
           {
            "line": {
             "colorbar": {
              "outlinewidth": 0,
              "ticks": ""
             }
            },
            "marker": {
             "colorbar": {
              "outlinewidth": 0,
              "ticks": ""
             }
            },
            "type": "scatter3d"
           }
          ],
          "scattercarpet": [
           {
            "marker": {
             "colorbar": {
              "outlinewidth": 0,
              "ticks": ""
             }
            },
            "type": "scattercarpet"
           }
          ],
          "scattergeo": [
           {
            "marker": {
             "colorbar": {
              "outlinewidth": 0,
              "ticks": ""
             }
            },
            "type": "scattergeo"
           }
          ],
          "scattergl": [
           {
            "marker": {
             "colorbar": {
              "outlinewidth": 0,
              "ticks": ""
             }
            },
            "type": "scattergl"
           }
          ],
          "scattermapbox": [
           {
            "marker": {
             "colorbar": {
              "outlinewidth": 0,
              "ticks": ""
             }
            },
            "type": "scattermapbox"
           }
          ],
          "scatterpolar": [
           {
            "marker": {
             "colorbar": {
              "outlinewidth": 0,
              "ticks": ""
             }
            },
            "type": "scatterpolar"
           }
          ],
          "scatterpolargl": [
           {
            "marker": {
             "colorbar": {
              "outlinewidth": 0,
              "ticks": ""
             }
            },
            "type": "scatterpolargl"
           }
          ],
          "scatterternary": [
           {
            "marker": {
             "colorbar": {
              "outlinewidth": 0,
              "ticks": ""
             }
            },
            "type": "scatterternary"
           }
          ],
          "surface": [
           {
            "colorbar": {
             "outlinewidth": 0,
             "ticks": ""
            },
            "colorscale": [
             [
              0,
              "#0d0887"
             ],
             [
              0.1111111111111111,
              "#46039f"
             ],
             [
              0.2222222222222222,
              "#7201a8"
             ],
             [
              0.3333333333333333,
              "#9c179e"
             ],
             [
              0.4444444444444444,
              "#bd3786"
             ],
             [
              0.5555555555555556,
              "#d8576b"
             ],
             [
              0.6666666666666666,
              "#ed7953"
             ],
             [
              0.7777777777777778,
              "#fb9f3a"
             ],
             [
              0.8888888888888888,
              "#fdca26"
             ],
             [
              1,
              "#f0f921"
             ]
            ],
            "type": "surface"
           }
          ],
          "table": [
           {
            "cells": {
             "fill": {
              "color": "#EBF0F8"
             },
             "line": {
              "color": "white"
             }
            },
            "header": {
             "fill": {
              "color": "#C8D4E3"
             },
             "line": {
              "color": "white"
             }
            },
            "type": "table"
           }
          ]
         },
         "layout": {
          "annotationdefaults": {
           "arrowcolor": "#2a3f5f",
           "arrowhead": 0,
           "arrowwidth": 1
          },
          "autotypenumbers": "strict",
          "coloraxis": {
           "colorbar": {
            "outlinewidth": 0,
            "ticks": ""
           }
          },
          "colorscale": {
           "diverging": [
            [
             0,
             "#8e0152"
            ],
            [
             0.1,
             "#c51b7d"
            ],
            [
             0.2,
             "#de77ae"
            ],
            [
             0.3,
             "#f1b6da"
            ],
            [
             0.4,
             "#fde0ef"
            ],
            [
             0.5,
             "#f7f7f7"
            ],
            [
             0.6,
             "#e6f5d0"
            ],
            [
             0.7,
             "#b8e186"
            ],
            [
             0.8,
             "#7fbc41"
            ],
            [
             0.9,
             "#4d9221"
            ],
            [
             1,
             "#276419"
            ]
           ],
           "sequential": [
            [
             0,
             "#0d0887"
            ],
            [
             0.1111111111111111,
             "#46039f"
            ],
            [
             0.2222222222222222,
             "#7201a8"
            ],
            [
             0.3333333333333333,
             "#9c179e"
            ],
            [
             0.4444444444444444,
             "#bd3786"
            ],
            [
             0.5555555555555556,
             "#d8576b"
            ],
            [
             0.6666666666666666,
             "#ed7953"
            ],
            [
             0.7777777777777778,
             "#fb9f3a"
            ],
            [
             0.8888888888888888,
             "#fdca26"
            ],
            [
             1,
             "#f0f921"
            ]
           ],
           "sequentialminus": [
            [
             0,
             "#0d0887"
            ],
            [
             0.1111111111111111,
             "#46039f"
            ],
            [
             0.2222222222222222,
             "#7201a8"
            ],
            [
             0.3333333333333333,
             "#9c179e"
            ],
            [
             0.4444444444444444,
             "#bd3786"
            ],
            [
             0.5555555555555556,
             "#d8576b"
            ],
            [
             0.6666666666666666,
             "#ed7953"
            ],
            [
             0.7777777777777778,
             "#fb9f3a"
            ],
            [
             0.8888888888888888,
             "#fdca26"
            ],
            [
             1,
             "#f0f921"
            ]
           ]
          },
          "colorway": [
           "#636efa",
           "#EF553B",
           "#00cc96",
           "#ab63fa",
           "#FFA15A",
           "#19d3f3",
           "#FF6692",
           "#B6E880",
           "#FF97FF",
           "#FECB52"
          ],
          "font": {
           "color": "#2a3f5f"
          },
          "geo": {
           "bgcolor": "white",
           "lakecolor": "white",
           "landcolor": "#E5ECF6",
           "showlakes": true,
           "showland": true,
           "subunitcolor": "white"
          },
          "hoverlabel": {
           "align": "left"
          },
          "hovermode": "closest",
          "mapbox": {
           "style": "light"
          },
          "paper_bgcolor": "white",
          "plot_bgcolor": "#E5ECF6",
          "polar": {
           "angularaxis": {
            "gridcolor": "white",
            "linecolor": "white",
            "ticks": ""
           },
           "bgcolor": "#E5ECF6",
           "radialaxis": {
            "gridcolor": "white",
            "linecolor": "white",
            "ticks": ""
           }
          },
          "scene": {
           "xaxis": {
            "backgroundcolor": "#E5ECF6",
            "gridcolor": "white",
            "gridwidth": 2,
            "linecolor": "white",
            "showbackground": true,
            "ticks": "",
            "zerolinecolor": "white"
           },
           "yaxis": {
            "backgroundcolor": "#E5ECF6",
            "gridcolor": "white",
            "gridwidth": 2,
            "linecolor": "white",
            "showbackground": true,
            "ticks": "",
            "zerolinecolor": "white"
           },
           "zaxis": {
            "backgroundcolor": "#E5ECF6",
            "gridcolor": "white",
            "gridwidth": 2,
            "linecolor": "white",
            "showbackground": true,
            "ticks": "",
            "zerolinecolor": "white"
           }
          },
          "shapedefaults": {
           "line": {
            "color": "#2a3f5f"
           }
          },
          "ternary": {
           "aaxis": {
            "gridcolor": "white",
            "linecolor": "white",
            "ticks": ""
           },
           "baxis": {
            "gridcolor": "white",
            "linecolor": "white",
            "ticks": ""
           },
           "bgcolor": "#E5ECF6",
           "caxis": {
            "gridcolor": "white",
            "linecolor": "white",
            "ticks": ""
           }
          },
          "title": {
           "x": 0.05
          },
          "xaxis": {
           "automargin": true,
           "gridcolor": "white",
           "linecolor": "white",
           "ticks": "",
           "title": {
            "standoff": 15
           },
           "zerolinecolor": "white",
           "zerolinewidth": 2
          },
          "yaxis": {
           "automargin": true,
           "gridcolor": "white",
           "linecolor": "white",
           "ticks": "",
           "title": {
            "standoff": 15
           },
           "zerolinecolor": "white",
           "zerolinewidth": 2
          }
         }
        },
        "xaxis": {
         "anchor": "y",
         "domain": [
          0,
          1
         ],
         "title": {
          "text": "start_date"
         }
        },
        "yaxis": {
         "anchor": "x",
         "domain": [
          0,
          1
         ],
         "title": {
          "text": "average_speed"
         }
        }
       }
      }
     },
     "metadata": {},
     "output_type": "display_data"
    },
    {
     "data": {
      "application/vnd.plotly.v1+json": {
       "config": {
        "plotlyServerURL": "https://plot.ly"
       },
       "data": [
        {
         "alignmentgroup": "True",
         "bingroup": "x",
         "histfunc": "sum",
         "hovertemplate": "type=%{x}<br>sum of average_speed=%{y}<extra></extra>",
         "legendgroup": "",
         "marker": {
          "color": "#636efa",
          "pattern": {
           "shape": ""
          }
         },
         "name": "",
         "offsetgroup": "",
         "orientation": "v",
         "showlegend": false,
         "type": "histogram",
         "x": [
          "Run",
          "Run",
          "Run",
          "Run",
          "Run",
          "Run",
          "Run",
          "Run",
          "Run",
          "Run",
          "Run",
          "Run",
          "Run",
          "Run",
          "Run",
          "Run",
          "Hike",
          "Run",
          "Workout",
          "Run",
          "Run",
          "Run",
          "Run",
          "Run",
          "Walk",
          "Run",
          "Run",
          "Run",
          "Run",
          "Run",
          "Run",
          "Run",
          "Run",
          "Run",
          "Run",
          "Run",
          "Run",
          "Run",
          "Run",
          "Run",
          "Run",
          "Run",
          "Run",
          "Run",
          "Run",
          "Run",
          "Run",
          "Run",
          "Run",
          "Run",
          "Run",
          "Run",
          "Run",
          "Run",
          "Run",
          "Run",
          "Run",
          "Run",
          "Run",
          "Run",
          "Run",
          "Run",
          "Run",
          "Run",
          "Run",
          "Run",
          "Run",
          "Run",
          "Run",
          "Run",
          "Run",
          "Run",
          "Walk",
          "Run",
          "Walk",
          "Run",
          "Workout",
          "Run",
          "Workout",
          "Run",
          "Run",
          "Workout",
          "Workout",
          "Workout",
          "Run",
          "Workout",
          "Run",
          "Run",
          "Run",
          "Run",
          "Run",
          "Run",
          "Run",
          "Run",
          "Run",
          "Run",
          "Run",
          "Run",
          "Run",
          "Run",
          "Run",
          "Run",
          "Run",
          "Run",
          "Run"
         ],
         "xaxis": "x",
         "y": [
          2.704,
          1.807,
          2.375,
          1.931,
          2.449,
          2.298,
          2.561,
          2.517,
          2.566,
          2.215,
          2.531,
          2.327,
          2.64,
          2.473,
          2.478,
          2.607,
          0.75,
          2.487,
          0,
          1.499,
          2.483,
          2.559,
          2.384,
          2.564,
          1.383,
          2.513,
          2.512,
          2.7,
          2.527,
          2.662,
          2.231,
          2.333,
          2.678,
          2.349,
          2.848,
          2.969,
          2.837,
          2.121,
          2.618,
          2.66,
          2.608,
          2.729,
          2.271,
          2.488,
          2.515,
          2.621,
          2.413,
          2.287,
          2.636,
          3.179,
          1.306,
          2.578,
          2.741,
          2.572,
          2.765,
          2.513,
          2.5,
          2.451,
          2.739,
          2.41,
          2.649,
          2.242,
          2.868,
          2.04,
          2.413,
          2.233,
          2.277,
          1.415,
          2.12,
          2.35,
          2.269,
          2.26,
          2.238,
          2.339,
          1.232,
          2.658,
          0,
          2.255,
          0,
          2.502,
          2.32,
          0,
          0,
          0,
          6.085,
          0,
          2.158,
          2.52,
          1.931,
          2.008,
          2.386,
          1.935,
          1.743,
          1.85,
          1.496,
          2.207,
          1.839,
          2.096,
          1.741,
          2.002,
          2.015,
          1.82,
          2.027,
          1.977,
          2.739
         ],
         "yaxis": "y"
        }
       ],
       "layout": {
        "barmode": "relative",
        "legend": {
         "tracegroupgap": 0
        },
        "margin": {
         "t": 60
        },
        "template": {
         "data": {
          "bar": [
           {
            "error_x": {
             "color": "#2a3f5f"
            },
            "error_y": {
             "color": "#2a3f5f"
            },
            "marker": {
             "line": {
              "color": "#E5ECF6",
              "width": 0.5
             },
             "pattern": {
              "fillmode": "overlay",
              "size": 10,
              "solidity": 0.2
             }
            },
            "type": "bar"
           }
          ],
          "barpolar": [
           {
            "marker": {
             "line": {
              "color": "#E5ECF6",
              "width": 0.5
             },
             "pattern": {
              "fillmode": "overlay",
              "size": 10,
              "solidity": 0.2
             }
            },
            "type": "barpolar"
           }
          ],
          "carpet": [
           {
            "aaxis": {
             "endlinecolor": "#2a3f5f",
             "gridcolor": "white",
             "linecolor": "white",
             "minorgridcolor": "white",
             "startlinecolor": "#2a3f5f"
            },
            "baxis": {
             "endlinecolor": "#2a3f5f",
             "gridcolor": "white",
             "linecolor": "white",
             "minorgridcolor": "white",
             "startlinecolor": "#2a3f5f"
            },
            "type": "carpet"
           }
          ],
          "choropleth": [
           {
            "colorbar": {
             "outlinewidth": 0,
             "ticks": ""
            },
            "type": "choropleth"
           }
          ],
          "contour": [
           {
            "colorbar": {
             "outlinewidth": 0,
             "ticks": ""
            },
            "colorscale": [
             [
              0,
              "#0d0887"
             ],
             [
              0.1111111111111111,
              "#46039f"
             ],
             [
              0.2222222222222222,
              "#7201a8"
             ],
             [
              0.3333333333333333,
              "#9c179e"
             ],
             [
              0.4444444444444444,
              "#bd3786"
             ],
             [
              0.5555555555555556,
              "#d8576b"
             ],
             [
              0.6666666666666666,
              "#ed7953"
             ],
             [
              0.7777777777777778,
              "#fb9f3a"
             ],
             [
              0.8888888888888888,
              "#fdca26"
             ],
             [
              1,
              "#f0f921"
             ]
            ],
            "type": "contour"
           }
          ],
          "contourcarpet": [
           {
            "colorbar": {
             "outlinewidth": 0,
             "ticks": ""
            },
            "type": "contourcarpet"
           }
          ],
          "heatmap": [
           {
            "colorbar": {
             "outlinewidth": 0,
             "ticks": ""
            },
            "colorscale": [
             [
              0,
              "#0d0887"
             ],
             [
              0.1111111111111111,
              "#46039f"
             ],
             [
              0.2222222222222222,
              "#7201a8"
             ],
             [
              0.3333333333333333,
              "#9c179e"
             ],
             [
              0.4444444444444444,
              "#bd3786"
             ],
             [
              0.5555555555555556,
              "#d8576b"
             ],
             [
              0.6666666666666666,
              "#ed7953"
             ],
             [
              0.7777777777777778,
              "#fb9f3a"
             ],
             [
              0.8888888888888888,
              "#fdca26"
             ],
             [
              1,
              "#f0f921"
             ]
            ],
            "type": "heatmap"
           }
          ],
          "heatmapgl": [
           {
            "colorbar": {
             "outlinewidth": 0,
             "ticks": ""
            },
            "colorscale": [
             [
              0,
              "#0d0887"
             ],
             [
              0.1111111111111111,
              "#46039f"
             ],
             [
              0.2222222222222222,
              "#7201a8"
             ],
             [
              0.3333333333333333,
              "#9c179e"
             ],
             [
              0.4444444444444444,
              "#bd3786"
             ],
             [
              0.5555555555555556,
              "#d8576b"
             ],
             [
              0.6666666666666666,
              "#ed7953"
             ],
             [
              0.7777777777777778,
              "#fb9f3a"
             ],
             [
              0.8888888888888888,
              "#fdca26"
             ],
             [
              1,
              "#f0f921"
             ]
            ],
            "type": "heatmapgl"
           }
          ],
          "histogram": [
           {
            "marker": {
             "pattern": {
              "fillmode": "overlay",
              "size": 10,
              "solidity": 0.2
             }
            },
            "type": "histogram"
           }
          ],
          "histogram2d": [
           {
            "colorbar": {
             "outlinewidth": 0,
             "ticks": ""
            },
            "colorscale": [
             [
              0,
              "#0d0887"
             ],
             [
              0.1111111111111111,
              "#46039f"
             ],
             [
              0.2222222222222222,
              "#7201a8"
             ],
             [
              0.3333333333333333,
              "#9c179e"
             ],
             [
              0.4444444444444444,
              "#bd3786"
             ],
             [
              0.5555555555555556,
              "#d8576b"
             ],
             [
              0.6666666666666666,
              "#ed7953"
             ],
             [
              0.7777777777777778,
              "#fb9f3a"
             ],
             [
              0.8888888888888888,
              "#fdca26"
             ],
             [
              1,
              "#f0f921"
             ]
            ],
            "type": "histogram2d"
           }
          ],
          "histogram2dcontour": [
           {
            "colorbar": {
             "outlinewidth": 0,
             "ticks": ""
            },
            "colorscale": [
             [
              0,
              "#0d0887"
             ],
             [
              0.1111111111111111,
              "#46039f"
             ],
             [
              0.2222222222222222,
              "#7201a8"
             ],
             [
              0.3333333333333333,
              "#9c179e"
             ],
             [
              0.4444444444444444,
              "#bd3786"
             ],
             [
              0.5555555555555556,
              "#d8576b"
             ],
             [
              0.6666666666666666,
              "#ed7953"
             ],
             [
              0.7777777777777778,
              "#fb9f3a"
             ],
             [
              0.8888888888888888,
              "#fdca26"
             ],
             [
              1,
              "#f0f921"
             ]
            ],
            "type": "histogram2dcontour"
           }
          ],
          "mesh3d": [
           {
            "colorbar": {
             "outlinewidth": 0,
             "ticks": ""
            },
            "type": "mesh3d"
           }
          ],
          "parcoords": [
           {
            "line": {
             "colorbar": {
              "outlinewidth": 0,
              "ticks": ""
             }
            },
            "type": "parcoords"
           }
          ],
          "pie": [
           {
            "automargin": true,
            "type": "pie"
           }
          ],
          "scatter": [
           {
            "fillpattern": {
             "fillmode": "overlay",
             "size": 10,
             "solidity": 0.2
            },
            "type": "scatter"
           }
          ],
          "scatter3d": [
           {
            "line": {
             "colorbar": {
              "outlinewidth": 0,
              "ticks": ""
             }
            },
            "marker": {
             "colorbar": {
              "outlinewidth": 0,
              "ticks": ""
             }
            },
            "type": "scatter3d"
           }
          ],
          "scattercarpet": [
           {
            "marker": {
             "colorbar": {
              "outlinewidth": 0,
              "ticks": ""
             }
            },
            "type": "scattercarpet"
           }
          ],
          "scattergeo": [
           {
            "marker": {
             "colorbar": {
              "outlinewidth": 0,
              "ticks": ""
             }
            },
            "type": "scattergeo"
           }
          ],
          "scattergl": [
           {
            "marker": {
             "colorbar": {
              "outlinewidth": 0,
              "ticks": ""
             }
            },
            "type": "scattergl"
           }
          ],
          "scattermapbox": [
           {
            "marker": {
             "colorbar": {
              "outlinewidth": 0,
              "ticks": ""
             }
            },
            "type": "scattermapbox"
           }
          ],
          "scatterpolar": [
           {
            "marker": {
             "colorbar": {
              "outlinewidth": 0,
              "ticks": ""
             }
            },
            "type": "scatterpolar"
           }
          ],
          "scatterpolargl": [
           {
            "marker": {
             "colorbar": {
              "outlinewidth": 0,
              "ticks": ""
             }
            },
            "type": "scatterpolargl"
           }
          ],
          "scatterternary": [
           {
            "marker": {
             "colorbar": {
              "outlinewidth": 0,
              "ticks": ""
             }
            },
            "type": "scatterternary"
           }
          ],
          "surface": [
           {
            "colorbar": {
             "outlinewidth": 0,
             "ticks": ""
            },
            "colorscale": [
             [
              0,
              "#0d0887"
             ],
             [
              0.1111111111111111,
              "#46039f"
             ],
             [
              0.2222222222222222,
              "#7201a8"
             ],
             [
              0.3333333333333333,
              "#9c179e"
             ],
             [
              0.4444444444444444,
              "#bd3786"
             ],
             [
              0.5555555555555556,
              "#d8576b"
             ],
             [
              0.6666666666666666,
              "#ed7953"
             ],
             [
              0.7777777777777778,
              "#fb9f3a"
             ],
             [
              0.8888888888888888,
              "#fdca26"
             ],
             [
              1,
              "#f0f921"
             ]
            ],
            "type": "surface"
           }
          ],
          "table": [
           {
            "cells": {
             "fill": {
              "color": "#EBF0F8"
             },
             "line": {
              "color": "white"
             }
            },
            "header": {
             "fill": {
              "color": "#C8D4E3"
             },
             "line": {
              "color": "white"
             }
            },
            "type": "table"
           }
          ]
         },
         "layout": {
          "annotationdefaults": {
           "arrowcolor": "#2a3f5f",
           "arrowhead": 0,
           "arrowwidth": 1
          },
          "autotypenumbers": "strict",
          "coloraxis": {
           "colorbar": {
            "outlinewidth": 0,
            "ticks": ""
           }
          },
          "colorscale": {
           "diverging": [
            [
             0,
             "#8e0152"
            ],
            [
             0.1,
             "#c51b7d"
            ],
            [
             0.2,
             "#de77ae"
            ],
            [
             0.3,
             "#f1b6da"
            ],
            [
             0.4,
             "#fde0ef"
            ],
            [
             0.5,
             "#f7f7f7"
            ],
            [
             0.6,
             "#e6f5d0"
            ],
            [
             0.7,
             "#b8e186"
            ],
            [
             0.8,
             "#7fbc41"
            ],
            [
             0.9,
             "#4d9221"
            ],
            [
             1,
             "#276419"
            ]
           ],
           "sequential": [
            [
             0,
             "#0d0887"
            ],
            [
             0.1111111111111111,
             "#46039f"
            ],
            [
             0.2222222222222222,
             "#7201a8"
            ],
            [
             0.3333333333333333,
             "#9c179e"
            ],
            [
             0.4444444444444444,
             "#bd3786"
            ],
            [
             0.5555555555555556,
             "#d8576b"
            ],
            [
             0.6666666666666666,
             "#ed7953"
            ],
            [
             0.7777777777777778,
             "#fb9f3a"
            ],
            [
             0.8888888888888888,
             "#fdca26"
            ],
            [
             1,
             "#f0f921"
            ]
           ],
           "sequentialminus": [
            [
             0,
             "#0d0887"
            ],
            [
             0.1111111111111111,
             "#46039f"
            ],
            [
             0.2222222222222222,
             "#7201a8"
            ],
            [
             0.3333333333333333,
             "#9c179e"
            ],
            [
             0.4444444444444444,
             "#bd3786"
            ],
            [
             0.5555555555555556,
             "#d8576b"
            ],
            [
             0.6666666666666666,
             "#ed7953"
            ],
            [
             0.7777777777777778,
             "#fb9f3a"
            ],
            [
             0.8888888888888888,
             "#fdca26"
            ],
            [
             1,
             "#f0f921"
            ]
           ]
          },
          "colorway": [
           "#636efa",
           "#EF553B",
           "#00cc96",
           "#ab63fa",
           "#FFA15A",
           "#19d3f3",
           "#FF6692",
           "#B6E880",
           "#FF97FF",
           "#FECB52"
          ],
          "font": {
           "color": "#2a3f5f"
          },
          "geo": {
           "bgcolor": "white",
           "lakecolor": "white",
           "landcolor": "#E5ECF6",
           "showlakes": true,
           "showland": true,
           "subunitcolor": "white"
          },
          "hoverlabel": {
           "align": "left"
          },
          "hovermode": "closest",
          "mapbox": {
           "style": "light"
          },
          "paper_bgcolor": "white",
          "plot_bgcolor": "#E5ECF6",
          "polar": {
           "angularaxis": {
            "gridcolor": "white",
            "linecolor": "white",
            "ticks": ""
           },
           "bgcolor": "#E5ECF6",
           "radialaxis": {
            "gridcolor": "white",
            "linecolor": "white",
            "ticks": ""
           }
          },
          "scene": {
           "xaxis": {
            "backgroundcolor": "#E5ECF6",
            "gridcolor": "white",
            "gridwidth": 2,
            "linecolor": "white",
            "showbackground": true,
            "ticks": "",
            "zerolinecolor": "white"
           },
           "yaxis": {
            "backgroundcolor": "#E5ECF6",
            "gridcolor": "white",
            "gridwidth": 2,
            "linecolor": "white",
            "showbackground": true,
            "ticks": "",
            "zerolinecolor": "white"
           },
           "zaxis": {
            "backgroundcolor": "#E5ECF6",
            "gridcolor": "white",
            "gridwidth": 2,
            "linecolor": "white",
            "showbackground": true,
            "ticks": "",
            "zerolinecolor": "white"
           }
          },
          "shapedefaults": {
           "line": {
            "color": "#2a3f5f"
           }
          },
          "ternary": {
           "aaxis": {
            "gridcolor": "white",
            "linecolor": "white",
            "ticks": ""
           },
           "baxis": {
            "gridcolor": "white",
            "linecolor": "white",
            "ticks": ""
           },
           "bgcolor": "#E5ECF6",
           "caxis": {
            "gridcolor": "white",
            "linecolor": "white",
            "ticks": ""
           }
          },
          "title": {
           "x": 0.05
          },
          "xaxis": {
           "automargin": true,
           "gridcolor": "white",
           "linecolor": "white",
           "ticks": "",
           "title": {
            "standoff": 15
           },
           "zerolinecolor": "white",
           "zerolinewidth": 2
          },
          "yaxis": {
           "automargin": true,
           "gridcolor": "white",
           "linecolor": "white",
           "ticks": "",
           "title": {
            "standoff": 15
           },
           "zerolinecolor": "white",
           "zerolinewidth": 2
          }
         }
        },
        "xaxis": {
         "anchor": "y",
         "domain": [
          0,
          1
         ],
         "title": {
          "text": "type"
         }
        },
        "yaxis": {
         "anchor": "x",
         "domain": [
          0,
          1
         ],
         "title": {
          "text": "sum of average_speed"
         }
        }
       }
      }
     },
     "metadata": {},
     "output_type": "display_data"
    },
    {
     "data": {
      "application/vnd.plotly.v1+json": {
       "config": {
        "plotlyServerURL": "https://plot.ly"
       },
       "data": [
        {
         "hovertemplate": "type=Run<br>start_date=%{x}<br>max_speed=%{y}<extra></extra>",
         "legendgroup": "Run",
         "line": {
          "color": "#636efa",
          "dash": "solid"
         },
         "marker": {
          "symbol": "circle"
         },
         "mode": "lines",
         "name": "Run",
         "orientation": "v",
         "showlegend": true,
         "type": "scatter",
         "x": [
          "2023-12-09T14:09:19Z",
          "2023-12-07T22:31:50Z",
          "2023-12-03T14:18:13Z",
          "2023-12-02T14:41:14Z",
          "2023-12-01T22:06:05Z",
          "2023-11-29T22:22:51Z",
          "2023-11-26T14:16:39Z",
          "2023-11-09T22:46:38Z",
          "2023-11-07T22:31:51Z",
          "2023-11-04T20:20:18Z",
          "2023-11-02T22:25:15Z",
          "2023-11-01T22:08:35Z",
          "2023-10-31T22:13:17Z",
          "2023-10-29T22:03:13Z",
          "2023-10-28T12:55:44Z",
          "2023-10-23T13:11:55Z",
          "2023-10-19T23:22:33Z",
          "2023-10-12T22:27:56Z",
          "2023-10-10T22:46:51Z",
          "2023-10-10T22:46:43Z",
          "2023-10-08T22:26:49Z",
          "2023-10-04T22:33:38Z",
          "2023-10-01T22:22:23Z",
          "2023-09-28T21:54:23Z",
          "2023-09-26T22:13:37Z",
          "2023-09-20T22:22:55Z",
          "2023-09-12T23:33:27Z",
          "2023-09-10T23:01:35Z",
          "2023-09-07T23:41:00Z",
          "2023-09-05T23:19:51Z",
          "2023-09-03T10:40:50Z",
          "2023-08-31T22:51:40Z",
          "2023-08-18T21:45:19Z",
          "2023-08-17T22:38:25Z",
          "2023-08-06T11:28:11Z",
          "2023-08-02T22:36:39Z",
          "2023-07-31T23:10:00Z",
          "2023-07-27T12:00:00Z",
          "2023-07-25T23:33:05Z",
          "2023-07-23T11:16:58Z",
          "2023-07-17T22:17:37Z",
          "2023-07-14T22:17:07Z",
          "2023-07-13T22:54:20Z",
          "2023-07-12T13:11:57Z",
          "2023-07-09T21:20:57Z",
          "2023-07-07T22:17:30Z",
          "2023-07-05T21:34:26Z",
          "2023-06-29T22:35:40Z",
          "2023-06-25T23:18:27Z",
          "2023-06-23T22:39:04Z",
          "2023-06-18T12:39:23Z",
          "2023-06-11T18:01:45Z",
          "2023-05-28T11:02:45Z",
          "2023-05-14T21:10:38Z",
          "2023-05-14T11:56:01Z",
          "2023-05-12T21:50:00Z",
          "2023-05-07T21:55:57Z",
          "2023-04-26T21:24:37Z",
          "2023-04-22T12:39:51Z",
          "2023-04-16T13:10:51Z",
          "2023-04-09T13:15:51Z",
          "2023-03-19T13:29:19Z",
          "2023-03-05T12:07:47Z",
          "2023-03-02T11:38:12Z",
          "2023-02-19T21:51:04Z",
          "2023-02-12T12:06:05Z",
          "2022-12-21T19:20:42Z",
          "2022-12-03T20:41:28Z",
          "2022-11-23T11:31:44Z",
          "2022-11-13T11:59:20Z",
          "2022-10-15T12:03:03Z",
          "2022-10-09T11:52:32Z",
          "2022-09-18T11:13:06Z",
          "2022-09-07T11:03:40Z",
          "2022-08-31T13:17:10Z",
          "2022-08-27T12:22:34Z",
          "2022-08-24T12:32:16Z",
          "2022-08-20T12:28:52Z",
          "2022-08-07T11:02:21Z",
          "2022-08-03T11:44:12Z",
          "2022-07-31T12:24:41Z",
          "2022-07-24T12:47:17Z",
          "2022-07-18T12:38:45Z",
          "2022-07-10T14:40:05Z",
          "2022-07-10T12:53:17Z",
          "2022-07-03T14:10:13Z",
          "2022-07-03T12:31:25Z",
          "2022-06-25T13:04:56Z",
          "2022-06-18T13:43:07Z",
          "2022-06-12T13:20:44Z",
          "2022-05-28T15:11:38Z",
          "2022-05-22T11:13:30Z",
          "2022-05-21T11:27:40Z",
          "2022-03-16T16:12:54Z"
         ],
         "xaxis": "x",
         "y": [
          6.228,
          4.044,
          6.778,
          4.522,
          5.462,
          4.972,
          4.738,
          8.032,
          5.092,
          10.26,
          5.144,
          3.78,
          4.313,
          15.858,
          4.278,
          3.814,
          4.175,
          5.714,
          4.092,
          3.869,
          4.828,
          7.114,
          4.234,
          5.666,
          5.305,
          8.114,
          6.034,
          10.566,
          8.234,
          6.132,
          4.817,
          4.794,
          9.524,
          5.556,
          13.091,
          4.05,
          5.012,
          0,
          5.142,
          4.601,
          5.262,
          4.956,
          8.796,
          8.062,
          5.102,
          6.186,
          7.2,
          3.335,
          6.318,
          5.238,
          4.868,
          4.512,
          4.33,
          3.356,
          3.346,
          0,
          3.988,
          3.948,
          4.308,
          4.07,
          6.336,
          7.514,
          3.304,
          3.882,
          7.522,
          4.023,
          4.442,
          3.56,
          3.506,
          3.5,
          5.218,
          3.244,
          4.066,
          3.8,
          18.281,
          3.084,
          5.738,
          6.703,
          5.574,
          4.586,
          4.206,
          4.456,
          4.018,
          5.508,
          4.472,
          9.919,
          5.975,
          4.65,
          3.502,
          3.326,
          3.172,
          3.557,
          3.874,
          4.77
         ],
         "yaxis": "y"
        },
        {
         "hovertemplate": "type=Hike<br>start_date=%{x}<br>max_speed=%{y}<extra></extra>",
         "legendgroup": "Hike",
         "line": {
          "color": "#EF553B",
          "dash": "solid"
         },
         "marker": {
          "symbol": "circle"
         },
         "mode": "lines",
         "name": "Hike",
         "orientation": "v",
         "showlegend": true,
         "type": "scatter",
         "x": [
          "2023-10-21T15:02:30Z"
         ],
         "xaxis": "x",
         "y": [
          2.511
         ],
         "yaxis": "y"
        },
        {
         "hovertemplate": "type=Workout<br>start_date=%{x}<br>max_speed=%{y}<extra></extra>",
         "legendgroup": "Workout",
         "line": {
          "color": "#00cc96",
          "dash": "solid"
         },
         "marker": {
          "symbol": "circle"
         },
         "mode": "lines",
         "name": "Workout",
         "orientation": "v",
         "showlegend": true,
         "type": "scatter",
         "x": [
          "2023-10-15T18:17:29Z",
          "2022-10-13T11:48:24Z",
          "2022-10-07T11:57:31Z",
          "2022-09-02T11:54:10Z",
          "2022-09-01T11:42:46Z",
          "2022-08-31T11:47:53Z",
          "2022-08-30T12:59:41Z"
         ],
         "xaxis": "x",
         "y": [
          0,
          0,
          0,
          0,
          0,
          0,
          0
         ],
         "yaxis": "y"
        },
        {
         "hovertemplate": "type=Walk<br>start_date=%{x}<br>max_speed=%{y}<extra></extra>",
         "legendgroup": "Walk",
         "line": {
          "color": "#ab63fa",
          "dash": "solid"
         },
         "marker": {
          "symbol": "circle"
         },
         "mode": "lines",
         "name": "Walk",
         "orientation": "v",
         "showlegend": true,
         "type": "scatter",
         "x": [
          "2023-10-01T23:25:32Z",
          "2022-11-13T12:54:52Z",
          "2022-10-15T15:04:34Z"
         ],
         "xaxis": "x",
         "y": [
          3.572,
          3.73,
          5.515
         ],
         "yaxis": "y"
        }
       ],
       "layout": {
        "legend": {
         "title": {
          "text": "type"
         },
         "tracegroupgap": 0
        },
        "margin": {
         "t": 60
        },
        "template": {
         "data": {
          "bar": [
           {
            "error_x": {
             "color": "#2a3f5f"
            },
            "error_y": {
             "color": "#2a3f5f"
            },
            "marker": {
             "line": {
              "color": "#E5ECF6",
              "width": 0.5
             },
             "pattern": {
              "fillmode": "overlay",
              "size": 10,
              "solidity": 0.2
             }
            },
            "type": "bar"
           }
          ],
          "barpolar": [
           {
            "marker": {
             "line": {
              "color": "#E5ECF6",
              "width": 0.5
             },
             "pattern": {
              "fillmode": "overlay",
              "size": 10,
              "solidity": 0.2
             }
            },
            "type": "barpolar"
           }
          ],
          "carpet": [
           {
            "aaxis": {
             "endlinecolor": "#2a3f5f",
             "gridcolor": "white",
             "linecolor": "white",
             "minorgridcolor": "white",
             "startlinecolor": "#2a3f5f"
            },
            "baxis": {
             "endlinecolor": "#2a3f5f",
             "gridcolor": "white",
             "linecolor": "white",
             "minorgridcolor": "white",
             "startlinecolor": "#2a3f5f"
            },
            "type": "carpet"
           }
          ],
          "choropleth": [
           {
            "colorbar": {
             "outlinewidth": 0,
             "ticks": ""
            },
            "type": "choropleth"
           }
          ],
          "contour": [
           {
            "colorbar": {
             "outlinewidth": 0,
             "ticks": ""
            },
            "colorscale": [
             [
              0,
              "#0d0887"
             ],
             [
              0.1111111111111111,
              "#46039f"
             ],
             [
              0.2222222222222222,
              "#7201a8"
             ],
             [
              0.3333333333333333,
              "#9c179e"
             ],
             [
              0.4444444444444444,
              "#bd3786"
             ],
             [
              0.5555555555555556,
              "#d8576b"
             ],
             [
              0.6666666666666666,
              "#ed7953"
             ],
             [
              0.7777777777777778,
              "#fb9f3a"
             ],
             [
              0.8888888888888888,
              "#fdca26"
             ],
             [
              1,
              "#f0f921"
             ]
            ],
            "type": "contour"
           }
          ],
          "contourcarpet": [
           {
            "colorbar": {
             "outlinewidth": 0,
             "ticks": ""
            },
            "type": "contourcarpet"
           }
          ],
          "heatmap": [
           {
            "colorbar": {
             "outlinewidth": 0,
             "ticks": ""
            },
            "colorscale": [
             [
              0,
              "#0d0887"
             ],
             [
              0.1111111111111111,
              "#46039f"
             ],
             [
              0.2222222222222222,
              "#7201a8"
             ],
             [
              0.3333333333333333,
              "#9c179e"
             ],
             [
              0.4444444444444444,
              "#bd3786"
             ],
             [
              0.5555555555555556,
              "#d8576b"
             ],
             [
              0.6666666666666666,
              "#ed7953"
             ],
             [
              0.7777777777777778,
              "#fb9f3a"
             ],
             [
              0.8888888888888888,
              "#fdca26"
             ],
             [
              1,
              "#f0f921"
             ]
            ],
            "type": "heatmap"
           }
          ],
          "heatmapgl": [
           {
            "colorbar": {
             "outlinewidth": 0,
             "ticks": ""
            },
            "colorscale": [
             [
              0,
              "#0d0887"
             ],
             [
              0.1111111111111111,
              "#46039f"
             ],
             [
              0.2222222222222222,
              "#7201a8"
             ],
             [
              0.3333333333333333,
              "#9c179e"
             ],
             [
              0.4444444444444444,
              "#bd3786"
             ],
             [
              0.5555555555555556,
              "#d8576b"
             ],
             [
              0.6666666666666666,
              "#ed7953"
             ],
             [
              0.7777777777777778,
              "#fb9f3a"
             ],
             [
              0.8888888888888888,
              "#fdca26"
             ],
             [
              1,
              "#f0f921"
             ]
            ],
            "type": "heatmapgl"
           }
          ],
          "histogram": [
           {
            "marker": {
             "pattern": {
              "fillmode": "overlay",
              "size": 10,
              "solidity": 0.2
             }
            },
            "type": "histogram"
           }
          ],
          "histogram2d": [
           {
            "colorbar": {
             "outlinewidth": 0,
             "ticks": ""
            },
            "colorscale": [
             [
              0,
              "#0d0887"
             ],
             [
              0.1111111111111111,
              "#46039f"
             ],
             [
              0.2222222222222222,
              "#7201a8"
             ],
             [
              0.3333333333333333,
              "#9c179e"
             ],
             [
              0.4444444444444444,
              "#bd3786"
             ],
             [
              0.5555555555555556,
              "#d8576b"
             ],
             [
              0.6666666666666666,
              "#ed7953"
             ],
             [
              0.7777777777777778,
              "#fb9f3a"
             ],
             [
              0.8888888888888888,
              "#fdca26"
             ],
             [
              1,
              "#f0f921"
             ]
            ],
            "type": "histogram2d"
           }
          ],
          "histogram2dcontour": [
           {
            "colorbar": {
             "outlinewidth": 0,
             "ticks": ""
            },
            "colorscale": [
             [
              0,
              "#0d0887"
             ],
             [
              0.1111111111111111,
              "#46039f"
             ],
             [
              0.2222222222222222,
              "#7201a8"
             ],
             [
              0.3333333333333333,
              "#9c179e"
             ],
             [
              0.4444444444444444,
              "#bd3786"
             ],
             [
              0.5555555555555556,
              "#d8576b"
             ],
             [
              0.6666666666666666,
              "#ed7953"
             ],
             [
              0.7777777777777778,
              "#fb9f3a"
             ],
             [
              0.8888888888888888,
              "#fdca26"
             ],
             [
              1,
              "#f0f921"
             ]
            ],
            "type": "histogram2dcontour"
           }
          ],
          "mesh3d": [
           {
            "colorbar": {
             "outlinewidth": 0,
             "ticks": ""
            },
            "type": "mesh3d"
           }
          ],
          "parcoords": [
           {
            "line": {
             "colorbar": {
              "outlinewidth": 0,
              "ticks": ""
             }
            },
            "type": "parcoords"
           }
          ],
          "pie": [
           {
            "automargin": true,
            "type": "pie"
           }
          ],
          "scatter": [
           {
            "fillpattern": {
             "fillmode": "overlay",
             "size": 10,
             "solidity": 0.2
            },
            "type": "scatter"
           }
          ],
          "scatter3d": [
           {
            "line": {
             "colorbar": {
              "outlinewidth": 0,
              "ticks": ""
             }
            },
            "marker": {
             "colorbar": {
              "outlinewidth": 0,
              "ticks": ""
             }
            },
            "type": "scatter3d"
           }
          ],
          "scattercarpet": [
           {
            "marker": {
             "colorbar": {
              "outlinewidth": 0,
              "ticks": ""
             }
            },
            "type": "scattercarpet"
           }
          ],
          "scattergeo": [
           {
            "marker": {
             "colorbar": {
              "outlinewidth": 0,
              "ticks": ""
             }
            },
            "type": "scattergeo"
           }
          ],
          "scattergl": [
           {
            "marker": {
             "colorbar": {
              "outlinewidth": 0,
              "ticks": ""
             }
            },
            "type": "scattergl"
           }
          ],
          "scattermapbox": [
           {
            "marker": {
             "colorbar": {
              "outlinewidth": 0,
              "ticks": ""
             }
            },
            "type": "scattermapbox"
           }
          ],
          "scatterpolar": [
           {
            "marker": {
             "colorbar": {
              "outlinewidth": 0,
              "ticks": ""
             }
            },
            "type": "scatterpolar"
           }
          ],
          "scatterpolargl": [
           {
            "marker": {
             "colorbar": {
              "outlinewidth": 0,
              "ticks": ""
             }
            },
            "type": "scatterpolargl"
           }
          ],
          "scatterternary": [
           {
            "marker": {
             "colorbar": {
              "outlinewidth": 0,
              "ticks": ""
             }
            },
            "type": "scatterternary"
           }
          ],
          "surface": [
           {
            "colorbar": {
             "outlinewidth": 0,
             "ticks": ""
            },
            "colorscale": [
             [
              0,
              "#0d0887"
             ],
             [
              0.1111111111111111,
              "#46039f"
             ],
             [
              0.2222222222222222,
              "#7201a8"
             ],
             [
              0.3333333333333333,
              "#9c179e"
             ],
             [
              0.4444444444444444,
              "#bd3786"
             ],
             [
              0.5555555555555556,
              "#d8576b"
             ],
             [
              0.6666666666666666,
              "#ed7953"
             ],
             [
              0.7777777777777778,
              "#fb9f3a"
             ],
             [
              0.8888888888888888,
              "#fdca26"
             ],
             [
              1,
              "#f0f921"
             ]
            ],
            "type": "surface"
           }
          ],
          "table": [
           {
            "cells": {
             "fill": {
              "color": "#EBF0F8"
             },
             "line": {
              "color": "white"
             }
            },
            "header": {
             "fill": {
              "color": "#C8D4E3"
             },
             "line": {
              "color": "white"
             }
            },
            "type": "table"
           }
          ]
         },
         "layout": {
          "annotationdefaults": {
           "arrowcolor": "#2a3f5f",
           "arrowhead": 0,
           "arrowwidth": 1
          },
          "autotypenumbers": "strict",
          "coloraxis": {
           "colorbar": {
            "outlinewidth": 0,
            "ticks": ""
           }
          },
          "colorscale": {
           "diverging": [
            [
             0,
             "#8e0152"
            ],
            [
             0.1,
             "#c51b7d"
            ],
            [
             0.2,
             "#de77ae"
            ],
            [
             0.3,
             "#f1b6da"
            ],
            [
             0.4,
             "#fde0ef"
            ],
            [
             0.5,
             "#f7f7f7"
            ],
            [
             0.6,
             "#e6f5d0"
            ],
            [
             0.7,
             "#b8e186"
            ],
            [
             0.8,
             "#7fbc41"
            ],
            [
             0.9,
             "#4d9221"
            ],
            [
             1,
             "#276419"
            ]
           ],
           "sequential": [
            [
             0,
             "#0d0887"
            ],
            [
             0.1111111111111111,
             "#46039f"
            ],
            [
             0.2222222222222222,
             "#7201a8"
            ],
            [
             0.3333333333333333,
             "#9c179e"
            ],
            [
             0.4444444444444444,
             "#bd3786"
            ],
            [
             0.5555555555555556,
             "#d8576b"
            ],
            [
             0.6666666666666666,
             "#ed7953"
            ],
            [
             0.7777777777777778,
             "#fb9f3a"
            ],
            [
             0.8888888888888888,
             "#fdca26"
            ],
            [
             1,
             "#f0f921"
            ]
           ],
           "sequentialminus": [
            [
             0,
             "#0d0887"
            ],
            [
             0.1111111111111111,
             "#46039f"
            ],
            [
             0.2222222222222222,
             "#7201a8"
            ],
            [
             0.3333333333333333,
             "#9c179e"
            ],
            [
             0.4444444444444444,
             "#bd3786"
            ],
            [
             0.5555555555555556,
             "#d8576b"
            ],
            [
             0.6666666666666666,
             "#ed7953"
            ],
            [
             0.7777777777777778,
             "#fb9f3a"
            ],
            [
             0.8888888888888888,
             "#fdca26"
            ],
            [
             1,
             "#f0f921"
            ]
           ]
          },
          "colorway": [
           "#636efa",
           "#EF553B",
           "#00cc96",
           "#ab63fa",
           "#FFA15A",
           "#19d3f3",
           "#FF6692",
           "#B6E880",
           "#FF97FF",
           "#FECB52"
          ],
          "font": {
           "color": "#2a3f5f"
          },
          "geo": {
           "bgcolor": "white",
           "lakecolor": "white",
           "landcolor": "#E5ECF6",
           "showlakes": true,
           "showland": true,
           "subunitcolor": "white"
          },
          "hoverlabel": {
           "align": "left"
          },
          "hovermode": "closest",
          "mapbox": {
           "style": "light"
          },
          "paper_bgcolor": "white",
          "plot_bgcolor": "#E5ECF6",
          "polar": {
           "angularaxis": {
            "gridcolor": "white",
            "linecolor": "white",
            "ticks": ""
           },
           "bgcolor": "#E5ECF6",
           "radialaxis": {
            "gridcolor": "white",
            "linecolor": "white",
            "ticks": ""
           }
          },
          "scene": {
           "xaxis": {
            "backgroundcolor": "#E5ECF6",
            "gridcolor": "white",
            "gridwidth": 2,
            "linecolor": "white",
            "showbackground": true,
            "ticks": "",
            "zerolinecolor": "white"
           },
           "yaxis": {
            "backgroundcolor": "#E5ECF6",
            "gridcolor": "white",
            "gridwidth": 2,
            "linecolor": "white",
            "showbackground": true,
            "ticks": "",
            "zerolinecolor": "white"
           },
           "zaxis": {
            "backgroundcolor": "#E5ECF6",
            "gridcolor": "white",
            "gridwidth": 2,
            "linecolor": "white",
            "showbackground": true,
            "ticks": "",
            "zerolinecolor": "white"
           }
          },
          "shapedefaults": {
           "line": {
            "color": "#2a3f5f"
           }
          },
          "ternary": {
           "aaxis": {
            "gridcolor": "white",
            "linecolor": "white",
            "ticks": ""
           },
           "baxis": {
            "gridcolor": "white",
            "linecolor": "white",
            "ticks": ""
           },
           "bgcolor": "#E5ECF6",
           "caxis": {
            "gridcolor": "white",
            "linecolor": "white",
            "ticks": ""
           }
          },
          "title": {
           "x": 0.05
          },
          "xaxis": {
           "automargin": true,
           "gridcolor": "white",
           "linecolor": "white",
           "ticks": "",
           "title": {
            "standoff": 15
           },
           "zerolinecolor": "white",
           "zerolinewidth": 2
          },
          "yaxis": {
           "automargin": true,
           "gridcolor": "white",
           "linecolor": "white",
           "ticks": "",
           "title": {
            "standoff": 15
           },
           "zerolinecolor": "white",
           "zerolinewidth": 2
          }
         }
        },
        "xaxis": {
         "anchor": "y",
         "domain": [
          0,
          1
         ],
         "title": {
          "text": "start_date"
         }
        },
        "yaxis": {
         "anchor": "x",
         "domain": [
          0,
          1
         ],
         "title": {
          "text": "max_speed"
         }
        }
       }
      }
     },
     "metadata": {},
     "output_type": "display_data"
    },
    {
     "data": {
      "application/vnd.plotly.v1+json": {
       "config": {
        "plotlyServerURL": "https://plot.ly"
       },
       "data": [
        {
         "alignmentgroup": "True",
         "bingroup": "x",
         "histfunc": "sum",
         "hovertemplate": "type=%{x}<br>sum of max_speed=%{y}<extra></extra>",
         "legendgroup": "",
         "marker": {
          "color": "#636efa",
          "pattern": {
           "shape": ""
          }
         },
         "name": "",
         "offsetgroup": "",
         "orientation": "v",
         "showlegend": false,
         "type": "histogram",
         "x": [
          "Run",
          "Run",
          "Run",
          "Run",
          "Run",
          "Run",
          "Run",
          "Run",
          "Run",
          "Run",
          "Run",
          "Run",
          "Run",
          "Run",
          "Run",
          "Run",
          "Hike",
          "Run",
          "Workout",
          "Run",
          "Run",
          "Run",
          "Run",
          "Run",
          "Walk",
          "Run",
          "Run",
          "Run",
          "Run",
          "Run",
          "Run",
          "Run",
          "Run",
          "Run",
          "Run",
          "Run",
          "Run",
          "Run",
          "Run",
          "Run",
          "Run",
          "Run",
          "Run",
          "Run",
          "Run",
          "Run",
          "Run",
          "Run",
          "Run",
          "Run",
          "Run",
          "Run",
          "Run",
          "Run",
          "Run",
          "Run",
          "Run",
          "Run",
          "Run",
          "Run",
          "Run",
          "Run",
          "Run",
          "Run",
          "Run",
          "Run",
          "Run",
          "Run",
          "Run",
          "Run",
          "Run",
          "Run",
          "Walk",
          "Run",
          "Walk",
          "Run",
          "Workout",
          "Run",
          "Workout",
          "Run",
          "Run",
          "Workout",
          "Workout",
          "Workout",
          "Run",
          "Workout",
          "Run",
          "Run",
          "Run",
          "Run",
          "Run",
          "Run",
          "Run",
          "Run",
          "Run",
          "Run",
          "Run",
          "Run",
          "Run",
          "Run",
          "Run",
          "Run",
          "Run",
          "Run",
          "Run"
         ],
         "xaxis": "x",
         "y": [
          6.228,
          4.044,
          6.778,
          4.522,
          5.462,
          4.972,
          4.738,
          8.032,
          5.092,
          10.26,
          5.144,
          3.78,
          4.313,
          15.858,
          4.278,
          3.814,
          2.511,
          4.175,
          0,
          5.714,
          4.092,
          3.869,
          4.828,
          7.114,
          3.572,
          4.234,
          5.666,
          5.305,
          8.114,
          6.034,
          10.566,
          8.234,
          6.132,
          4.817,
          4.794,
          9.524,
          5.556,
          13.091,
          4.05,
          5.012,
          0,
          5.142,
          4.601,
          5.262,
          4.956,
          8.796,
          8.062,
          5.102,
          6.186,
          7.2,
          3.335,
          6.318,
          5.238,
          4.868,
          4.512,
          4.33,
          3.356,
          3.346,
          0,
          3.988,
          3.948,
          4.308,
          4.07,
          6.336,
          7.514,
          3.304,
          3.882,
          7.522,
          4.023,
          4.442,
          3.56,
          3.506,
          3.73,
          3.5,
          5.515,
          5.218,
          0,
          3.244,
          0,
          4.066,
          3.8,
          0,
          0,
          0,
          18.281,
          0,
          3.084,
          5.738,
          6.703,
          5.574,
          4.586,
          4.206,
          4.456,
          4.018,
          5.508,
          4.472,
          9.919,
          5.975,
          4.65,
          3.502,
          3.326,
          3.172,
          3.557,
          3.874,
          4.77
         ],
         "yaxis": "y"
        }
       ],
       "layout": {
        "barmode": "relative",
        "legend": {
         "tracegroupgap": 0
        },
        "margin": {
         "t": 60
        },
        "template": {
         "data": {
          "bar": [
           {
            "error_x": {
             "color": "#2a3f5f"
            },
            "error_y": {
             "color": "#2a3f5f"
            },
            "marker": {
             "line": {
              "color": "#E5ECF6",
              "width": 0.5
             },
             "pattern": {
              "fillmode": "overlay",
              "size": 10,
              "solidity": 0.2
             }
            },
            "type": "bar"
           }
          ],
          "barpolar": [
           {
            "marker": {
             "line": {
              "color": "#E5ECF6",
              "width": 0.5
             },
             "pattern": {
              "fillmode": "overlay",
              "size": 10,
              "solidity": 0.2
             }
            },
            "type": "barpolar"
           }
          ],
          "carpet": [
           {
            "aaxis": {
             "endlinecolor": "#2a3f5f",
             "gridcolor": "white",
             "linecolor": "white",
             "minorgridcolor": "white",
             "startlinecolor": "#2a3f5f"
            },
            "baxis": {
             "endlinecolor": "#2a3f5f",
             "gridcolor": "white",
             "linecolor": "white",
             "minorgridcolor": "white",
             "startlinecolor": "#2a3f5f"
            },
            "type": "carpet"
           }
          ],
          "choropleth": [
           {
            "colorbar": {
             "outlinewidth": 0,
             "ticks": ""
            },
            "type": "choropleth"
           }
          ],
          "contour": [
           {
            "colorbar": {
             "outlinewidth": 0,
             "ticks": ""
            },
            "colorscale": [
             [
              0,
              "#0d0887"
             ],
             [
              0.1111111111111111,
              "#46039f"
             ],
             [
              0.2222222222222222,
              "#7201a8"
             ],
             [
              0.3333333333333333,
              "#9c179e"
             ],
             [
              0.4444444444444444,
              "#bd3786"
             ],
             [
              0.5555555555555556,
              "#d8576b"
             ],
             [
              0.6666666666666666,
              "#ed7953"
             ],
             [
              0.7777777777777778,
              "#fb9f3a"
             ],
             [
              0.8888888888888888,
              "#fdca26"
             ],
             [
              1,
              "#f0f921"
             ]
            ],
            "type": "contour"
           }
          ],
          "contourcarpet": [
           {
            "colorbar": {
             "outlinewidth": 0,
             "ticks": ""
            },
            "type": "contourcarpet"
           }
          ],
          "heatmap": [
           {
            "colorbar": {
             "outlinewidth": 0,
             "ticks": ""
            },
            "colorscale": [
             [
              0,
              "#0d0887"
             ],
             [
              0.1111111111111111,
              "#46039f"
             ],
             [
              0.2222222222222222,
              "#7201a8"
             ],
             [
              0.3333333333333333,
              "#9c179e"
             ],
             [
              0.4444444444444444,
              "#bd3786"
             ],
             [
              0.5555555555555556,
              "#d8576b"
             ],
             [
              0.6666666666666666,
              "#ed7953"
             ],
             [
              0.7777777777777778,
              "#fb9f3a"
             ],
             [
              0.8888888888888888,
              "#fdca26"
             ],
             [
              1,
              "#f0f921"
             ]
            ],
            "type": "heatmap"
           }
          ],
          "heatmapgl": [
           {
            "colorbar": {
             "outlinewidth": 0,
             "ticks": ""
            },
            "colorscale": [
             [
              0,
              "#0d0887"
             ],
             [
              0.1111111111111111,
              "#46039f"
             ],
             [
              0.2222222222222222,
              "#7201a8"
             ],
             [
              0.3333333333333333,
              "#9c179e"
             ],
             [
              0.4444444444444444,
              "#bd3786"
             ],
             [
              0.5555555555555556,
              "#d8576b"
             ],
             [
              0.6666666666666666,
              "#ed7953"
             ],
             [
              0.7777777777777778,
              "#fb9f3a"
             ],
             [
              0.8888888888888888,
              "#fdca26"
             ],
             [
              1,
              "#f0f921"
             ]
            ],
            "type": "heatmapgl"
           }
          ],
          "histogram": [
           {
            "marker": {
             "pattern": {
              "fillmode": "overlay",
              "size": 10,
              "solidity": 0.2
             }
            },
            "type": "histogram"
           }
          ],
          "histogram2d": [
           {
            "colorbar": {
             "outlinewidth": 0,
             "ticks": ""
            },
            "colorscale": [
             [
              0,
              "#0d0887"
             ],
             [
              0.1111111111111111,
              "#46039f"
             ],
             [
              0.2222222222222222,
              "#7201a8"
             ],
             [
              0.3333333333333333,
              "#9c179e"
             ],
             [
              0.4444444444444444,
              "#bd3786"
             ],
             [
              0.5555555555555556,
              "#d8576b"
             ],
             [
              0.6666666666666666,
              "#ed7953"
             ],
             [
              0.7777777777777778,
              "#fb9f3a"
             ],
             [
              0.8888888888888888,
              "#fdca26"
             ],
             [
              1,
              "#f0f921"
             ]
            ],
            "type": "histogram2d"
           }
          ],
          "histogram2dcontour": [
           {
            "colorbar": {
             "outlinewidth": 0,
             "ticks": ""
            },
            "colorscale": [
             [
              0,
              "#0d0887"
             ],
             [
              0.1111111111111111,
              "#46039f"
             ],
             [
              0.2222222222222222,
              "#7201a8"
             ],
             [
              0.3333333333333333,
              "#9c179e"
             ],
             [
              0.4444444444444444,
              "#bd3786"
             ],
             [
              0.5555555555555556,
              "#d8576b"
             ],
             [
              0.6666666666666666,
              "#ed7953"
             ],
             [
              0.7777777777777778,
              "#fb9f3a"
             ],
             [
              0.8888888888888888,
              "#fdca26"
             ],
             [
              1,
              "#f0f921"
             ]
            ],
            "type": "histogram2dcontour"
           }
          ],
          "mesh3d": [
           {
            "colorbar": {
             "outlinewidth": 0,
             "ticks": ""
            },
            "type": "mesh3d"
           }
          ],
          "parcoords": [
           {
            "line": {
             "colorbar": {
              "outlinewidth": 0,
              "ticks": ""
             }
            },
            "type": "parcoords"
           }
          ],
          "pie": [
           {
            "automargin": true,
            "type": "pie"
           }
          ],
          "scatter": [
           {
            "fillpattern": {
             "fillmode": "overlay",
             "size": 10,
             "solidity": 0.2
            },
            "type": "scatter"
           }
          ],
          "scatter3d": [
           {
            "line": {
             "colorbar": {
              "outlinewidth": 0,
              "ticks": ""
             }
            },
            "marker": {
             "colorbar": {
              "outlinewidth": 0,
              "ticks": ""
             }
            },
            "type": "scatter3d"
           }
          ],
          "scattercarpet": [
           {
            "marker": {
             "colorbar": {
              "outlinewidth": 0,
              "ticks": ""
             }
            },
            "type": "scattercarpet"
           }
          ],
          "scattergeo": [
           {
            "marker": {
             "colorbar": {
              "outlinewidth": 0,
              "ticks": ""
             }
            },
            "type": "scattergeo"
           }
          ],
          "scattergl": [
           {
            "marker": {
             "colorbar": {
              "outlinewidth": 0,
              "ticks": ""
             }
            },
            "type": "scattergl"
           }
          ],
          "scattermapbox": [
           {
            "marker": {
             "colorbar": {
              "outlinewidth": 0,
              "ticks": ""
             }
            },
            "type": "scattermapbox"
           }
          ],
          "scatterpolar": [
           {
            "marker": {
             "colorbar": {
              "outlinewidth": 0,
              "ticks": ""
             }
            },
            "type": "scatterpolar"
           }
          ],
          "scatterpolargl": [
           {
            "marker": {
             "colorbar": {
              "outlinewidth": 0,
              "ticks": ""
             }
            },
            "type": "scatterpolargl"
           }
          ],
          "scatterternary": [
           {
            "marker": {
             "colorbar": {
              "outlinewidth": 0,
              "ticks": ""
             }
            },
            "type": "scatterternary"
           }
          ],
          "surface": [
           {
            "colorbar": {
             "outlinewidth": 0,
             "ticks": ""
            },
            "colorscale": [
             [
              0,
              "#0d0887"
             ],
             [
              0.1111111111111111,
              "#46039f"
             ],
             [
              0.2222222222222222,
              "#7201a8"
             ],
             [
              0.3333333333333333,
              "#9c179e"
             ],
             [
              0.4444444444444444,
              "#bd3786"
             ],
             [
              0.5555555555555556,
              "#d8576b"
             ],
             [
              0.6666666666666666,
              "#ed7953"
             ],
             [
              0.7777777777777778,
              "#fb9f3a"
             ],
             [
              0.8888888888888888,
              "#fdca26"
             ],
             [
              1,
              "#f0f921"
             ]
            ],
            "type": "surface"
           }
          ],
          "table": [
           {
            "cells": {
             "fill": {
              "color": "#EBF0F8"
             },
             "line": {
              "color": "white"
             }
            },
            "header": {
             "fill": {
              "color": "#C8D4E3"
             },
             "line": {
              "color": "white"
             }
            },
            "type": "table"
           }
          ]
         },
         "layout": {
          "annotationdefaults": {
           "arrowcolor": "#2a3f5f",
           "arrowhead": 0,
           "arrowwidth": 1
          },
          "autotypenumbers": "strict",
          "coloraxis": {
           "colorbar": {
            "outlinewidth": 0,
            "ticks": ""
           }
          },
          "colorscale": {
           "diverging": [
            [
             0,
             "#8e0152"
            ],
            [
             0.1,
             "#c51b7d"
            ],
            [
             0.2,
             "#de77ae"
            ],
            [
             0.3,
             "#f1b6da"
            ],
            [
             0.4,
             "#fde0ef"
            ],
            [
             0.5,
             "#f7f7f7"
            ],
            [
             0.6,
             "#e6f5d0"
            ],
            [
             0.7,
             "#b8e186"
            ],
            [
             0.8,
             "#7fbc41"
            ],
            [
             0.9,
             "#4d9221"
            ],
            [
             1,
             "#276419"
            ]
           ],
           "sequential": [
            [
             0,
             "#0d0887"
            ],
            [
             0.1111111111111111,
             "#46039f"
            ],
            [
             0.2222222222222222,
             "#7201a8"
            ],
            [
             0.3333333333333333,
             "#9c179e"
            ],
            [
             0.4444444444444444,
             "#bd3786"
            ],
            [
             0.5555555555555556,
             "#d8576b"
            ],
            [
             0.6666666666666666,
             "#ed7953"
            ],
            [
             0.7777777777777778,
             "#fb9f3a"
            ],
            [
             0.8888888888888888,
             "#fdca26"
            ],
            [
             1,
             "#f0f921"
            ]
           ],
           "sequentialminus": [
            [
             0,
             "#0d0887"
            ],
            [
             0.1111111111111111,
             "#46039f"
            ],
            [
             0.2222222222222222,
             "#7201a8"
            ],
            [
             0.3333333333333333,
             "#9c179e"
            ],
            [
             0.4444444444444444,
             "#bd3786"
            ],
            [
             0.5555555555555556,
             "#d8576b"
            ],
            [
             0.6666666666666666,
             "#ed7953"
            ],
            [
             0.7777777777777778,
             "#fb9f3a"
            ],
            [
             0.8888888888888888,
             "#fdca26"
            ],
            [
             1,
             "#f0f921"
            ]
           ]
          },
          "colorway": [
           "#636efa",
           "#EF553B",
           "#00cc96",
           "#ab63fa",
           "#FFA15A",
           "#19d3f3",
           "#FF6692",
           "#B6E880",
           "#FF97FF",
           "#FECB52"
          ],
          "font": {
           "color": "#2a3f5f"
          },
          "geo": {
           "bgcolor": "white",
           "lakecolor": "white",
           "landcolor": "#E5ECF6",
           "showlakes": true,
           "showland": true,
           "subunitcolor": "white"
          },
          "hoverlabel": {
           "align": "left"
          },
          "hovermode": "closest",
          "mapbox": {
           "style": "light"
          },
          "paper_bgcolor": "white",
          "plot_bgcolor": "#E5ECF6",
          "polar": {
           "angularaxis": {
            "gridcolor": "white",
            "linecolor": "white",
            "ticks": ""
           },
           "bgcolor": "#E5ECF6",
           "radialaxis": {
            "gridcolor": "white",
            "linecolor": "white",
            "ticks": ""
           }
          },
          "scene": {
           "xaxis": {
            "backgroundcolor": "#E5ECF6",
            "gridcolor": "white",
            "gridwidth": 2,
            "linecolor": "white",
            "showbackground": true,
            "ticks": "",
            "zerolinecolor": "white"
           },
           "yaxis": {
            "backgroundcolor": "#E5ECF6",
            "gridcolor": "white",
            "gridwidth": 2,
            "linecolor": "white",
            "showbackground": true,
            "ticks": "",
            "zerolinecolor": "white"
           },
           "zaxis": {
            "backgroundcolor": "#E5ECF6",
            "gridcolor": "white",
            "gridwidth": 2,
            "linecolor": "white",
            "showbackground": true,
            "ticks": "",
            "zerolinecolor": "white"
           }
          },
          "shapedefaults": {
           "line": {
            "color": "#2a3f5f"
           }
          },
          "ternary": {
           "aaxis": {
            "gridcolor": "white",
            "linecolor": "white",
            "ticks": ""
           },
           "baxis": {
            "gridcolor": "white",
            "linecolor": "white",
            "ticks": ""
           },
           "bgcolor": "#E5ECF6",
           "caxis": {
            "gridcolor": "white",
            "linecolor": "white",
            "ticks": ""
           }
          },
          "title": {
           "x": 0.05
          },
          "xaxis": {
           "automargin": true,
           "gridcolor": "white",
           "linecolor": "white",
           "ticks": "",
           "title": {
            "standoff": 15
           },
           "zerolinecolor": "white",
           "zerolinewidth": 2
          },
          "yaxis": {
           "automargin": true,
           "gridcolor": "white",
           "linecolor": "white",
           "ticks": "",
           "title": {
            "standoff": 15
           },
           "zerolinecolor": "white",
           "zerolinewidth": 2
          }
         }
        },
        "xaxis": {
         "anchor": "y",
         "domain": [
          0,
          1
         ],
         "title": {
          "text": "type"
         }
        },
        "yaxis": {
         "anchor": "x",
         "domain": [
          0,
          1
         ],
         "title": {
          "text": "sum of max_speed"
         }
        }
       }
      }
     },
     "metadata": {},
     "output_type": "display_data"
    }
   ],
   "source": [
    "cont_cols = (\n",
    "    \"distance\",\n",
    "    \"moving_time\",\n",
    "    \"elapsed_time\",\n",
    "    \"total_elevation_gain\",\n",
    "    \"kudos_count\",\n",
    "    \"average_speed\",\n",
    "    \"max_speed\",\n",
    ")\n",
    "for col in cont_cols:\n",
    "    fig1 = px.line(data, \"start_date\", col, color=\"type\")\n",
    "    fig1.show()\n",
    "    fig2 = px.histogram(data, \"type\", col)\n",
    "    fig2.show()"
   ]
  },
  {
   "cell_type": "markdown",
   "metadata": {},
   "source": [
    "Check for skewness and kurtosis. Skewness is the measure of asymmetry of the probability distribution of a continous variable. A skewness of -1 to 1 is considered acceptable. Kurtosis is the measure of tailedness of the probability distribution of a continouse variable. A kurtosis value of -2 to 2."
   ]
  },
  {
   "cell_type": "code",
   "execution_count": 10,
   "metadata": {},
   "outputs": [
    {
     "name": "stdout",
     "output_type": "stream",
     "text": [
      "Skewness of distance: 1.5934895889435066\n",
      "Kurtosis of distance: 3.252392540915764\n",
      "Skewness of moving_time: 1.404366354542567\n",
      "Kurtosis of moving_time: 2.260747478757996\n",
      "Skewness of elapsed_time: 6.360598252087873\n",
      "Kurtosis of elapsed_time: 47.5401833619346\n",
      "Skewness of total_elevation_gain: 2.1649192823144796\n",
      "Kurtosis of total_elevation_gain: 5.7073612532609665\n",
      "Skewness of kudos_count: 1.4218115145156738\n",
      "Kurtosis of kudos_count: 2.390504995033231\n",
      "Skewness of average_speed: -0.3281567753891057\n",
      "Kurtosis of average_speed: 6.647197383202823\n",
      "Skewness of max_speed: 1.5477080073010587\n",
      "Kurtosis of max_speed: 5.548894957555968\n"
     ]
    }
   ],
   "source": [
    "for col in cont_cols:\n",
    "    print(f\"Skewness of {col}:\", skew(data[col]))\n",
    "    print(f\"Kurtosis of {col}:\", kurtosis(data[col]))"
   ]
  },
  {
   "cell_type": "markdown",
   "metadata": {},
   "source": [
    "Apply Log Transformation to evaluate impact on skewness and kurtosis."
   ]
  },
  {
   "cell_type": "code",
   "execution_count": 21,
   "metadata": {},
   "outputs": [
    {
     "name": "stdout",
     "output_type": "stream",
     "text": [
      "Skewness of distance: -0.732391837424972\n",
      "Kurtosis of distance: 1.3243355403890913\n",
      "Skewness of moving_time: -0.9826159268824273\n",
      "Kurtosis of moving_time: 2.326464261467911\n",
      "Skewness of elapsed_time: -0.09438798360714662\n",
      "Kurtosis of elapsed_time: 2.0047473049324616\n",
      "Skewness of total_elevation_gain: 0.14670236014215177\n",
      "Kurtosis of total_elevation_gain: -1.5431234170410872\n",
      "Skewness of kudos_count: 0.5757576562408753\n",
      "Kurtosis of kudos_count: -0.2764166416483054\n",
      "Skewness of average_speed: -1.0039616666331685\n",
      "Kurtosis of average_speed: 7.357739216433007\n",
      "Skewness of max_speed: 1.1536706878469605\n",
      "Kurtosis of max_speed: 1.6751444422215576\n"
     ]
    }
   ],
   "source": [
    "for col in cont_cols:\n",
    "    print(f\"Skewness of {col}:\", skew(np.log(data[data[col] > 0][col])))\n",
    "    print(f\"Kurtosis of {col}:\", kurtosis(np.log(data[data[col] > 0][col])))"
   ]
  },
  {
   "cell_type": "markdown",
   "metadata": {},
   "source": [
    "Apply Square Root Transformation to evaluate impact on skewness and kurtosis."
   ]
  },
  {
   "cell_type": "code",
   "execution_count": 22,
   "metadata": {},
   "outputs": [
    {
     "name": "stdout",
     "output_type": "stream",
     "text": [
      "Skewness of distance: 0.6475068973500417\n",
      "Kurtosis of distance: 0.5824194631416924\n",
      "Skewness of moving_time: 0.48035441982506044\n",
      "Kurtosis of moving_time: 0.043862820834660976\n",
      "Skewness of elapsed_time: 2.962151072940719\n",
      "Kurtosis of elapsed_time: 14.806947773639155\n",
      "Skewness of total_elevation_gain: 0.7202721241797174\n",
      "Kurtosis of total_elevation_gain: -0.5952934016173193\n",
      "Skewness of kudos_count: 1.1438995920738122\n",
      "Kurtosis of kudos_count: 1.446491249020875\n",
      "Skewness of average_speed: 0.6081591254042092\n",
      "Kurtosis of average_speed: 9.612991003243007\n",
      "Skewness of max_speed: 1.8381537009549378\n",
      "Kurtosis of max_speed: 4.3718317187733575\n"
     ]
    }
   ],
   "source": [
    "for col in cont_cols:\n",
    "    print(f\"Skewness of {col}:\", skew(np.sqrt(data[data[col] > 0][col])))\n",
    "    print(f\"Kurtosis of {col}:\", kurtosis(np.sqrt(data[data[col] > 0][col])))"
   ]
  },
  {
   "cell_type": "markdown",
   "metadata": {},
   "source": [
    "Categorical variables will be analyzed by checking the number of unique variables. Plots of the catrgorical variables will include histograms and boxplots."
   ]
  },
  {
   "cell_type": "code",
   "execution_count": 23,
   "metadata": {},
   "outputs": [
    {
     "name": "stdout",
     "output_type": "stream",
     "text": [
      "type ['Run' 'Hike' 'Workout' 'Walk']\n",
      "sport_type ['Run' 'Hike' 'Tennis' 'Walk' 'Workout']\n",
      "timezone ['(GMT-05:00) America/New_York' '(GMT-04:00) America/Anguilla'\n",
      " '(GMT+00:00) GMT']\n"
     ]
    }
   ],
   "source": [
    "for col in (\"type\", \"sport_type\", \"timezone\"):\n",
    "    if data[col].dtype == \"object\":\n",
    "        print(col, data[col].unique())"
   ]
  },
  {
   "cell_type": "markdown",
   "metadata": {},
   "source": [
    "Histogram plots of sport_type show that running is by far the most popular activity. The majority of activities occur in the GMT-5:00 timezone."
   ]
  },
  {
   "cell_type": "code",
   "execution_count": 29,
   "metadata": {},
   "outputs": [
    {
     "data": {
      "application/vnd.plotly.v1+json": {
       "config": {
        "plotlyServerURL": "https://plot.ly"
       },
       "data": [
        {
         "alignmentgroup": "True",
         "bingroup": "x",
         "hovertemplate": "sport_type=%{x}<br>count=%{y}<extra></extra>",
         "legendgroup": "",
         "marker": {
          "color": "#636efa",
          "pattern": {
           "shape": ""
          }
         },
         "name": "",
         "offsetgroup": "",
         "orientation": "v",
         "showlegend": false,
         "type": "histogram",
         "x": [
          "Run",
          "Run",
          "Run",
          "Run",
          "Run",
          "Run",
          "Run",
          "Run",
          "Run",
          "Run",
          "Run",
          "Run",
          "Run",
          "Run",
          "Run",
          "Run",
          "Hike",
          "Run",
          "Tennis",
          "Run",
          "Run",
          "Run",
          "Run",
          "Run",
          "Walk",
          "Run",
          "Run",
          "Run",
          "Run",
          "Run",
          "Run",
          "Run",
          "Run",
          "Run",
          "Run",
          "Run",
          "Run",
          "Run",
          "Run",
          "Run",
          "Run",
          "Run",
          "Run",
          "Run",
          "Run",
          "Run",
          "Run",
          "Run",
          "Run",
          "Run",
          "Run",
          "Run",
          "Run",
          "Run",
          "Run",
          "Run",
          "Run",
          "Run",
          "Run",
          "Run",
          "Run",
          "Run",
          "Run",
          "Run",
          "Run",
          "Run",
          "Run",
          "Run",
          "Run",
          "Run",
          "Run",
          "Run",
          "Walk",
          "Run",
          "Walk",
          "Run",
          "Workout",
          "Run",
          "Workout",
          "Run",
          "Run",
          "Workout",
          "Workout",
          "Workout",
          "Run",
          "Workout",
          "Run",
          "Run",
          "Run",
          "Run",
          "Run",
          "Run",
          "Run",
          "Run",
          "Run",
          "Run",
          "Run",
          "Run",
          "Run",
          "Run",
          "Run",
          "Run",
          "Run",
          "Run",
          "Run"
         ],
         "xaxis": "x",
         "yaxis": "y"
        }
       ],
       "layout": {
        "barmode": "relative",
        "legend": {
         "tracegroupgap": 0
        },
        "margin": {
         "t": 60
        },
        "template": {
         "data": {
          "bar": [
           {
            "error_x": {
             "color": "#2a3f5f"
            },
            "error_y": {
             "color": "#2a3f5f"
            },
            "marker": {
             "line": {
              "color": "#E5ECF6",
              "width": 0.5
             },
             "pattern": {
              "fillmode": "overlay",
              "size": 10,
              "solidity": 0.2
             }
            },
            "type": "bar"
           }
          ],
          "barpolar": [
           {
            "marker": {
             "line": {
              "color": "#E5ECF6",
              "width": 0.5
             },
             "pattern": {
              "fillmode": "overlay",
              "size": 10,
              "solidity": 0.2
             }
            },
            "type": "barpolar"
           }
          ],
          "carpet": [
           {
            "aaxis": {
             "endlinecolor": "#2a3f5f",
             "gridcolor": "white",
             "linecolor": "white",
             "minorgridcolor": "white",
             "startlinecolor": "#2a3f5f"
            },
            "baxis": {
             "endlinecolor": "#2a3f5f",
             "gridcolor": "white",
             "linecolor": "white",
             "minorgridcolor": "white",
             "startlinecolor": "#2a3f5f"
            },
            "type": "carpet"
           }
          ],
          "choropleth": [
           {
            "colorbar": {
             "outlinewidth": 0,
             "ticks": ""
            },
            "type": "choropleth"
           }
          ],
          "contour": [
           {
            "colorbar": {
             "outlinewidth": 0,
             "ticks": ""
            },
            "colorscale": [
             [
              0,
              "#0d0887"
             ],
             [
              0.1111111111111111,
              "#46039f"
             ],
             [
              0.2222222222222222,
              "#7201a8"
             ],
             [
              0.3333333333333333,
              "#9c179e"
             ],
             [
              0.4444444444444444,
              "#bd3786"
             ],
             [
              0.5555555555555556,
              "#d8576b"
             ],
             [
              0.6666666666666666,
              "#ed7953"
             ],
             [
              0.7777777777777778,
              "#fb9f3a"
             ],
             [
              0.8888888888888888,
              "#fdca26"
             ],
             [
              1,
              "#f0f921"
             ]
            ],
            "type": "contour"
           }
          ],
          "contourcarpet": [
           {
            "colorbar": {
             "outlinewidth": 0,
             "ticks": ""
            },
            "type": "contourcarpet"
           }
          ],
          "heatmap": [
           {
            "colorbar": {
             "outlinewidth": 0,
             "ticks": ""
            },
            "colorscale": [
             [
              0,
              "#0d0887"
             ],
             [
              0.1111111111111111,
              "#46039f"
             ],
             [
              0.2222222222222222,
              "#7201a8"
             ],
             [
              0.3333333333333333,
              "#9c179e"
             ],
             [
              0.4444444444444444,
              "#bd3786"
             ],
             [
              0.5555555555555556,
              "#d8576b"
             ],
             [
              0.6666666666666666,
              "#ed7953"
             ],
             [
              0.7777777777777778,
              "#fb9f3a"
             ],
             [
              0.8888888888888888,
              "#fdca26"
             ],
             [
              1,
              "#f0f921"
             ]
            ],
            "type": "heatmap"
           }
          ],
          "heatmapgl": [
           {
            "colorbar": {
             "outlinewidth": 0,
             "ticks": ""
            },
            "colorscale": [
             [
              0,
              "#0d0887"
             ],
             [
              0.1111111111111111,
              "#46039f"
             ],
             [
              0.2222222222222222,
              "#7201a8"
             ],
             [
              0.3333333333333333,
              "#9c179e"
             ],
             [
              0.4444444444444444,
              "#bd3786"
             ],
             [
              0.5555555555555556,
              "#d8576b"
             ],
             [
              0.6666666666666666,
              "#ed7953"
             ],
             [
              0.7777777777777778,
              "#fb9f3a"
             ],
             [
              0.8888888888888888,
              "#fdca26"
             ],
             [
              1,
              "#f0f921"
             ]
            ],
            "type": "heatmapgl"
           }
          ],
          "histogram": [
           {
            "marker": {
             "pattern": {
              "fillmode": "overlay",
              "size": 10,
              "solidity": 0.2
             }
            },
            "type": "histogram"
           }
          ],
          "histogram2d": [
           {
            "colorbar": {
             "outlinewidth": 0,
             "ticks": ""
            },
            "colorscale": [
             [
              0,
              "#0d0887"
             ],
             [
              0.1111111111111111,
              "#46039f"
             ],
             [
              0.2222222222222222,
              "#7201a8"
             ],
             [
              0.3333333333333333,
              "#9c179e"
             ],
             [
              0.4444444444444444,
              "#bd3786"
             ],
             [
              0.5555555555555556,
              "#d8576b"
             ],
             [
              0.6666666666666666,
              "#ed7953"
             ],
             [
              0.7777777777777778,
              "#fb9f3a"
             ],
             [
              0.8888888888888888,
              "#fdca26"
             ],
             [
              1,
              "#f0f921"
             ]
            ],
            "type": "histogram2d"
           }
          ],
          "histogram2dcontour": [
           {
            "colorbar": {
             "outlinewidth": 0,
             "ticks": ""
            },
            "colorscale": [
             [
              0,
              "#0d0887"
             ],
             [
              0.1111111111111111,
              "#46039f"
             ],
             [
              0.2222222222222222,
              "#7201a8"
             ],
             [
              0.3333333333333333,
              "#9c179e"
             ],
             [
              0.4444444444444444,
              "#bd3786"
             ],
             [
              0.5555555555555556,
              "#d8576b"
             ],
             [
              0.6666666666666666,
              "#ed7953"
             ],
             [
              0.7777777777777778,
              "#fb9f3a"
             ],
             [
              0.8888888888888888,
              "#fdca26"
             ],
             [
              1,
              "#f0f921"
             ]
            ],
            "type": "histogram2dcontour"
           }
          ],
          "mesh3d": [
           {
            "colorbar": {
             "outlinewidth": 0,
             "ticks": ""
            },
            "type": "mesh3d"
           }
          ],
          "parcoords": [
           {
            "line": {
             "colorbar": {
              "outlinewidth": 0,
              "ticks": ""
             }
            },
            "type": "parcoords"
           }
          ],
          "pie": [
           {
            "automargin": true,
            "type": "pie"
           }
          ],
          "scatter": [
           {
            "fillpattern": {
             "fillmode": "overlay",
             "size": 10,
             "solidity": 0.2
            },
            "type": "scatter"
           }
          ],
          "scatter3d": [
           {
            "line": {
             "colorbar": {
              "outlinewidth": 0,
              "ticks": ""
             }
            },
            "marker": {
             "colorbar": {
              "outlinewidth": 0,
              "ticks": ""
             }
            },
            "type": "scatter3d"
           }
          ],
          "scattercarpet": [
           {
            "marker": {
             "colorbar": {
              "outlinewidth": 0,
              "ticks": ""
             }
            },
            "type": "scattercarpet"
           }
          ],
          "scattergeo": [
           {
            "marker": {
             "colorbar": {
              "outlinewidth": 0,
              "ticks": ""
             }
            },
            "type": "scattergeo"
           }
          ],
          "scattergl": [
           {
            "marker": {
             "colorbar": {
              "outlinewidth": 0,
              "ticks": ""
             }
            },
            "type": "scattergl"
           }
          ],
          "scattermapbox": [
           {
            "marker": {
             "colorbar": {
              "outlinewidth": 0,
              "ticks": ""
             }
            },
            "type": "scattermapbox"
           }
          ],
          "scatterpolar": [
           {
            "marker": {
             "colorbar": {
              "outlinewidth": 0,
              "ticks": ""
             }
            },
            "type": "scatterpolar"
           }
          ],
          "scatterpolargl": [
           {
            "marker": {
             "colorbar": {
              "outlinewidth": 0,
              "ticks": ""
             }
            },
            "type": "scatterpolargl"
           }
          ],
          "scatterternary": [
           {
            "marker": {
             "colorbar": {
              "outlinewidth": 0,
              "ticks": ""
             }
            },
            "type": "scatterternary"
           }
          ],
          "surface": [
           {
            "colorbar": {
             "outlinewidth": 0,
             "ticks": ""
            },
            "colorscale": [
             [
              0,
              "#0d0887"
             ],
             [
              0.1111111111111111,
              "#46039f"
             ],
             [
              0.2222222222222222,
              "#7201a8"
             ],
             [
              0.3333333333333333,
              "#9c179e"
             ],
             [
              0.4444444444444444,
              "#bd3786"
             ],
             [
              0.5555555555555556,
              "#d8576b"
             ],
             [
              0.6666666666666666,
              "#ed7953"
             ],
             [
              0.7777777777777778,
              "#fb9f3a"
             ],
             [
              0.8888888888888888,
              "#fdca26"
             ],
             [
              1,
              "#f0f921"
             ]
            ],
            "type": "surface"
           }
          ],
          "table": [
           {
            "cells": {
             "fill": {
              "color": "#EBF0F8"
             },
             "line": {
              "color": "white"
             }
            },
            "header": {
             "fill": {
              "color": "#C8D4E3"
             },
             "line": {
              "color": "white"
             }
            },
            "type": "table"
           }
          ]
         },
         "layout": {
          "annotationdefaults": {
           "arrowcolor": "#2a3f5f",
           "arrowhead": 0,
           "arrowwidth": 1
          },
          "autotypenumbers": "strict",
          "coloraxis": {
           "colorbar": {
            "outlinewidth": 0,
            "ticks": ""
           }
          },
          "colorscale": {
           "diverging": [
            [
             0,
             "#8e0152"
            ],
            [
             0.1,
             "#c51b7d"
            ],
            [
             0.2,
             "#de77ae"
            ],
            [
             0.3,
             "#f1b6da"
            ],
            [
             0.4,
             "#fde0ef"
            ],
            [
             0.5,
             "#f7f7f7"
            ],
            [
             0.6,
             "#e6f5d0"
            ],
            [
             0.7,
             "#b8e186"
            ],
            [
             0.8,
             "#7fbc41"
            ],
            [
             0.9,
             "#4d9221"
            ],
            [
             1,
             "#276419"
            ]
           ],
           "sequential": [
            [
             0,
             "#0d0887"
            ],
            [
             0.1111111111111111,
             "#46039f"
            ],
            [
             0.2222222222222222,
             "#7201a8"
            ],
            [
             0.3333333333333333,
             "#9c179e"
            ],
            [
             0.4444444444444444,
             "#bd3786"
            ],
            [
             0.5555555555555556,
             "#d8576b"
            ],
            [
             0.6666666666666666,
             "#ed7953"
            ],
            [
             0.7777777777777778,
             "#fb9f3a"
            ],
            [
             0.8888888888888888,
             "#fdca26"
            ],
            [
             1,
             "#f0f921"
            ]
           ],
           "sequentialminus": [
            [
             0,
             "#0d0887"
            ],
            [
             0.1111111111111111,
             "#46039f"
            ],
            [
             0.2222222222222222,
             "#7201a8"
            ],
            [
             0.3333333333333333,
             "#9c179e"
            ],
            [
             0.4444444444444444,
             "#bd3786"
            ],
            [
             0.5555555555555556,
             "#d8576b"
            ],
            [
             0.6666666666666666,
             "#ed7953"
            ],
            [
             0.7777777777777778,
             "#fb9f3a"
            ],
            [
             0.8888888888888888,
             "#fdca26"
            ],
            [
             1,
             "#f0f921"
            ]
           ]
          },
          "colorway": [
           "#636efa",
           "#EF553B",
           "#00cc96",
           "#ab63fa",
           "#FFA15A",
           "#19d3f3",
           "#FF6692",
           "#B6E880",
           "#FF97FF",
           "#FECB52"
          ],
          "font": {
           "color": "#2a3f5f"
          },
          "geo": {
           "bgcolor": "white",
           "lakecolor": "white",
           "landcolor": "#E5ECF6",
           "showlakes": true,
           "showland": true,
           "subunitcolor": "white"
          },
          "hoverlabel": {
           "align": "left"
          },
          "hovermode": "closest",
          "mapbox": {
           "style": "light"
          },
          "paper_bgcolor": "white",
          "plot_bgcolor": "#E5ECF6",
          "polar": {
           "angularaxis": {
            "gridcolor": "white",
            "linecolor": "white",
            "ticks": ""
           },
           "bgcolor": "#E5ECF6",
           "radialaxis": {
            "gridcolor": "white",
            "linecolor": "white",
            "ticks": ""
           }
          },
          "scene": {
           "xaxis": {
            "backgroundcolor": "#E5ECF6",
            "gridcolor": "white",
            "gridwidth": 2,
            "linecolor": "white",
            "showbackground": true,
            "ticks": "",
            "zerolinecolor": "white"
           },
           "yaxis": {
            "backgroundcolor": "#E5ECF6",
            "gridcolor": "white",
            "gridwidth": 2,
            "linecolor": "white",
            "showbackground": true,
            "ticks": "",
            "zerolinecolor": "white"
           },
           "zaxis": {
            "backgroundcolor": "#E5ECF6",
            "gridcolor": "white",
            "gridwidth": 2,
            "linecolor": "white",
            "showbackground": true,
            "ticks": "",
            "zerolinecolor": "white"
           }
          },
          "shapedefaults": {
           "line": {
            "color": "#2a3f5f"
           }
          },
          "ternary": {
           "aaxis": {
            "gridcolor": "white",
            "linecolor": "white",
            "ticks": ""
           },
           "baxis": {
            "gridcolor": "white",
            "linecolor": "white",
            "ticks": ""
           },
           "bgcolor": "#E5ECF6",
           "caxis": {
            "gridcolor": "white",
            "linecolor": "white",
            "ticks": ""
           }
          },
          "title": {
           "x": 0.05
          },
          "xaxis": {
           "automargin": true,
           "gridcolor": "white",
           "linecolor": "white",
           "ticks": "",
           "title": {
            "standoff": 15
           },
           "zerolinecolor": "white",
           "zerolinewidth": 2
          },
          "yaxis": {
           "automargin": true,
           "gridcolor": "white",
           "linecolor": "white",
           "ticks": "",
           "title": {
            "standoff": 15
           },
           "zerolinecolor": "white",
           "zerolinewidth": 2
          }
         }
        },
        "xaxis": {
         "anchor": "y",
         "domain": [
          0,
          1
         ],
         "title": {
          "text": "sport_type"
         }
        },
        "yaxis": {
         "anchor": "x",
         "domain": [
          0,
          1
         ],
         "title": {
          "text": "count"
         }
        }
       }
      }
     },
     "metadata": {},
     "output_type": "display_data"
    }
   ],
   "source": [
    "px.histogram(data, x=\"sport_type\")"
   ]
  },
  {
   "cell_type": "code",
   "execution_count": 30,
   "metadata": {},
   "outputs": [
    {
     "data": {
      "application/vnd.plotly.v1+json": {
       "config": {
        "plotlyServerURL": "https://plot.ly"
       },
       "data": [
        {
         "alignmentgroup": "True",
         "bingroup": "x",
         "hovertemplate": "timezone=%{x}<br>count=%{y}<extra></extra>",
         "legendgroup": "",
         "marker": {
          "color": "#636efa",
          "pattern": {
           "shape": ""
          }
         },
         "name": "",
         "offsetgroup": "",
         "orientation": "v",
         "showlegend": false,
         "type": "histogram",
         "x": [
          "(GMT-05:00) America/New_York",
          "(GMT-05:00) America/New_York",
          "(GMT-05:00) America/New_York",
          "(GMT-05:00) America/New_York",
          "(GMT-05:00) America/New_York",
          "(GMT-05:00) America/New_York",
          "(GMT-05:00) America/New_York",
          "(GMT-05:00) America/New_York",
          "(GMT-05:00) America/New_York",
          "(GMT-05:00) America/New_York",
          "(GMT-05:00) America/New_York",
          "(GMT-05:00) America/New_York",
          "(GMT-05:00) America/New_York",
          "(GMT-05:00) America/New_York",
          "(GMT-05:00) America/New_York",
          "(GMT-05:00) America/New_York",
          "(GMT-05:00) America/New_York",
          "(GMT-05:00) America/New_York",
          "(GMT-04:00) America/Anguilla",
          "(GMT-05:00) America/New_York",
          "(GMT-05:00) America/New_York",
          "(GMT-05:00) America/New_York",
          "(GMT-05:00) America/New_York",
          "(GMT-05:00) America/New_York",
          "(GMT-05:00) America/New_York",
          "(GMT-05:00) America/New_York",
          "(GMT-05:00) America/New_York",
          "(GMT-05:00) America/New_York",
          "(GMT-05:00) America/New_York",
          "(GMT-05:00) America/New_York",
          "(GMT-05:00) America/New_York",
          "(GMT-05:00) America/New_York",
          "(GMT-05:00) America/New_York",
          "(GMT-05:00) America/New_York",
          "(GMT-05:00) America/New_York",
          "(GMT-05:00) America/New_York",
          "(GMT-05:00) America/New_York",
          "(GMT-05:00) America/New_York",
          "(GMT-05:00) America/New_York",
          "(GMT-05:00) America/New_York",
          "(GMT+00:00) GMT",
          "(GMT-05:00) America/New_York",
          "(GMT-05:00) America/New_York",
          "(GMT-05:00) America/New_York",
          "(GMT-05:00) America/New_York",
          "(GMT-05:00) America/New_York",
          "(GMT-05:00) America/New_York",
          "(GMT-05:00) America/New_York",
          "(GMT-05:00) America/New_York",
          "(GMT-05:00) America/New_York",
          "(GMT-05:00) America/New_York",
          "(GMT-05:00) America/New_York",
          "(GMT-05:00) America/New_York",
          "(GMT-05:00) America/New_York",
          "(GMT-05:00) America/New_York",
          "(GMT-05:00) America/New_York",
          "(GMT-05:00) America/New_York",
          "(GMT-05:00) America/New_York",
          "(GMT+00:00) GMT",
          "(GMT-05:00) America/New_York",
          "(GMT-05:00) America/New_York",
          "(GMT-05:00) America/New_York",
          "(GMT-05:00) America/New_York",
          "(GMT-05:00) America/New_York",
          "(GMT-05:00) America/New_York",
          "(GMT-05:00) America/New_York",
          "(GMT-05:00) America/New_York",
          "(GMT-05:00) America/New_York",
          "(GMT-05:00) America/New_York",
          "(GMT-05:00) America/New_York",
          "(GMT-05:00) America/New_York",
          "(GMT-05:00) America/New_York",
          "(GMT-05:00) America/New_York",
          "(GMT-05:00) America/New_York",
          "(GMT-05:00) America/New_York",
          "(GMT-05:00) America/New_York",
          "(GMT+00:00) GMT",
          "(GMT-05:00) America/New_York",
          "(GMT+00:00) GMT",
          "(GMT-05:00) America/New_York",
          "(GMT-05:00) America/New_York",
          "(GMT+00:00) GMT",
          "(GMT+00:00) GMT",
          "(GMT+00:00) GMT",
          "(GMT-05:00) America/New_York",
          "(GMT+00:00) GMT",
          "(GMT-05:00) America/New_York",
          "(GMT-05:00) America/New_York",
          "(GMT-05:00) America/New_York",
          "(GMT-05:00) America/New_York",
          "(GMT-05:00) America/New_York",
          "(GMT-05:00) America/New_York",
          "(GMT-05:00) America/New_York",
          "(GMT-05:00) America/New_York",
          "(GMT-05:00) America/New_York",
          "(GMT-05:00) America/New_York",
          "(GMT-05:00) America/New_York",
          "(GMT-05:00) America/New_York",
          "(GMT-05:00) America/New_York",
          "(GMT-05:00) America/New_York",
          "(GMT-05:00) America/New_York",
          "(GMT-05:00) America/New_York",
          "(GMT-05:00) America/New_York",
          "(GMT-05:00) America/New_York",
          "(GMT-05:00) America/New_York"
         ],
         "xaxis": "x",
         "yaxis": "y"
        }
       ],
       "layout": {
        "barmode": "relative",
        "legend": {
         "tracegroupgap": 0
        },
        "margin": {
         "t": 60
        },
        "template": {
         "data": {
          "bar": [
           {
            "error_x": {
             "color": "#2a3f5f"
            },
            "error_y": {
             "color": "#2a3f5f"
            },
            "marker": {
             "line": {
              "color": "#E5ECF6",
              "width": 0.5
             },
             "pattern": {
              "fillmode": "overlay",
              "size": 10,
              "solidity": 0.2
             }
            },
            "type": "bar"
           }
          ],
          "barpolar": [
           {
            "marker": {
             "line": {
              "color": "#E5ECF6",
              "width": 0.5
             },
             "pattern": {
              "fillmode": "overlay",
              "size": 10,
              "solidity": 0.2
             }
            },
            "type": "barpolar"
           }
          ],
          "carpet": [
           {
            "aaxis": {
             "endlinecolor": "#2a3f5f",
             "gridcolor": "white",
             "linecolor": "white",
             "minorgridcolor": "white",
             "startlinecolor": "#2a3f5f"
            },
            "baxis": {
             "endlinecolor": "#2a3f5f",
             "gridcolor": "white",
             "linecolor": "white",
             "minorgridcolor": "white",
             "startlinecolor": "#2a3f5f"
            },
            "type": "carpet"
           }
          ],
          "choropleth": [
           {
            "colorbar": {
             "outlinewidth": 0,
             "ticks": ""
            },
            "type": "choropleth"
           }
          ],
          "contour": [
           {
            "colorbar": {
             "outlinewidth": 0,
             "ticks": ""
            },
            "colorscale": [
             [
              0,
              "#0d0887"
             ],
             [
              0.1111111111111111,
              "#46039f"
             ],
             [
              0.2222222222222222,
              "#7201a8"
             ],
             [
              0.3333333333333333,
              "#9c179e"
             ],
             [
              0.4444444444444444,
              "#bd3786"
             ],
             [
              0.5555555555555556,
              "#d8576b"
             ],
             [
              0.6666666666666666,
              "#ed7953"
             ],
             [
              0.7777777777777778,
              "#fb9f3a"
             ],
             [
              0.8888888888888888,
              "#fdca26"
             ],
             [
              1,
              "#f0f921"
             ]
            ],
            "type": "contour"
           }
          ],
          "contourcarpet": [
           {
            "colorbar": {
             "outlinewidth": 0,
             "ticks": ""
            },
            "type": "contourcarpet"
           }
          ],
          "heatmap": [
           {
            "colorbar": {
             "outlinewidth": 0,
             "ticks": ""
            },
            "colorscale": [
             [
              0,
              "#0d0887"
             ],
             [
              0.1111111111111111,
              "#46039f"
             ],
             [
              0.2222222222222222,
              "#7201a8"
             ],
             [
              0.3333333333333333,
              "#9c179e"
             ],
             [
              0.4444444444444444,
              "#bd3786"
             ],
             [
              0.5555555555555556,
              "#d8576b"
             ],
             [
              0.6666666666666666,
              "#ed7953"
             ],
             [
              0.7777777777777778,
              "#fb9f3a"
             ],
             [
              0.8888888888888888,
              "#fdca26"
             ],
             [
              1,
              "#f0f921"
             ]
            ],
            "type": "heatmap"
           }
          ],
          "heatmapgl": [
           {
            "colorbar": {
             "outlinewidth": 0,
             "ticks": ""
            },
            "colorscale": [
             [
              0,
              "#0d0887"
             ],
             [
              0.1111111111111111,
              "#46039f"
             ],
             [
              0.2222222222222222,
              "#7201a8"
             ],
             [
              0.3333333333333333,
              "#9c179e"
             ],
             [
              0.4444444444444444,
              "#bd3786"
             ],
             [
              0.5555555555555556,
              "#d8576b"
             ],
             [
              0.6666666666666666,
              "#ed7953"
             ],
             [
              0.7777777777777778,
              "#fb9f3a"
             ],
             [
              0.8888888888888888,
              "#fdca26"
             ],
             [
              1,
              "#f0f921"
             ]
            ],
            "type": "heatmapgl"
           }
          ],
          "histogram": [
           {
            "marker": {
             "pattern": {
              "fillmode": "overlay",
              "size": 10,
              "solidity": 0.2
             }
            },
            "type": "histogram"
           }
          ],
          "histogram2d": [
           {
            "colorbar": {
             "outlinewidth": 0,
             "ticks": ""
            },
            "colorscale": [
             [
              0,
              "#0d0887"
             ],
             [
              0.1111111111111111,
              "#46039f"
             ],
             [
              0.2222222222222222,
              "#7201a8"
             ],
             [
              0.3333333333333333,
              "#9c179e"
             ],
             [
              0.4444444444444444,
              "#bd3786"
             ],
             [
              0.5555555555555556,
              "#d8576b"
             ],
             [
              0.6666666666666666,
              "#ed7953"
             ],
             [
              0.7777777777777778,
              "#fb9f3a"
             ],
             [
              0.8888888888888888,
              "#fdca26"
             ],
             [
              1,
              "#f0f921"
             ]
            ],
            "type": "histogram2d"
           }
          ],
          "histogram2dcontour": [
           {
            "colorbar": {
             "outlinewidth": 0,
             "ticks": ""
            },
            "colorscale": [
             [
              0,
              "#0d0887"
             ],
             [
              0.1111111111111111,
              "#46039f"
             ],
             [
              0.2222222222222222,
              "#7201a8"
             ],
             [
              0.3333333333333333,
              "#9c179e"
             ],
             [
              0.4444444444444444,
              "#bd3786"
             ],
             [
              0.5555555555555556,
              "#d8576b"
             ],
             [
              0.6666666666666666,
              "#ed7953"
             ],
             [
              0.7777777777777778,
              "#fb9f3a"
             ],
             [
              0.8888888888888888,
              "#fdca26"
             ],
             [
              1,
              "#f0f921"
             ]
            ],
            "type": "histogram2dcontour"
           }
          ],
          "mesh3d": [
           {
            "colorbar": {
             "outlinewidth": 0,
             "ticks": ""
            },
            "type": "mesh3d"
           }
          ],
          "parcoords": [
           {
            "line": {
             "colorbar": {
              "outlinewidth": 0,
              "ticks": ""
             }
            },
            "type": "parcoords"
           }
          ],
          "pie": [
           {
            "automargin": true,
            "type": "pie"
           }
          ],
          "scatter": [
           {
            "fillpattern": {
             "fillmode": "overlay",
             "size": 10,
             "solidity": 0.2
            },
            "type": "scatter"
           }
          ],
          "scatter3d": [
           {
            "line": {
             "colorbar": {
              "outlinewidth": 0,
              "ticks": ""
             }
            },
            "marker": {
             "colorbar": {
              "outlinewidth": 0,
              "ticks": ""
             }
            },
            "type": "scatter3d"
           }
          ],
          "scattercarpet": [
           {
            "marker": {
             "colorbar": {
              "outlinewidth": 0,
              "ticks": ""
             }
            },
            "type": "scattercarpet"
           }
          ],
          "scattergeo": [
           {
            "marker": {
             "colorbar": {
              "outlinewidth": 0,
              "ticks": ""
             }
            },
            "type": "scattergeo"
           }
          ],
          "scattergl": [
           {
            "marker": {
             "colorbar": {
              "outlinewidth": 0,
              "ticks": ""
             }
            },
            "type": "scattergl"
           }
          ],
          "scattermapbox": [
           {
            "marker": {
             "colorbar": {
              "outlinewidth": 0,
              "ticks": ""
             }
            },
            "type": "scattermapbox"
           }
          ],
          "scatterpolar": [
           {
            "marker": {
             "colorbar": {
              "outlinewidth": 0,
              "ticks": ""
             }
            },
            "type": "scatterpolar"
           }
          ],
          "scatterpolargl": [
           {
            "marker": {
             "colorbar": {
              "outlinewidth": 0,
              "ticks": ""
             }
            },
            "type": "scatterpolargl"
           }
          ],
          "scatterternary": [
           {
            "marker": {
             "colorbar": {
              "outlinewidth": 0,
              "ticks": ""
             }
            },
            "type": "scatterternary"
           }
          ],
          "surface": [
           {
            "colorbar": {
             "outlinewidth": 0,
             "ticks": ""
            },
            "colorscale": [
             [
              0,
              "#0d0887"
             ],
             [
              0.1111111111111111,
              "#46039f"
             ],
             [
              0.2222222222222222,
              "#7201a8"
             ],
             [
              0.3333333333333333,
              "#9c179e"
             ],
             [
              0.4444444444444444,
              "#bd3786"
             ],
             [
              0.5555555555555556,
              "#d8576b"
             ],
             [
              0.6666666666666666,
              "#ed7953"
             ],
             [
              0.7777777777777778,
              "#fb9f3a"
             ],
             [
              0.8888888888888888,
              "#fdca26"
             ],
             [
              1,
              "#f0f921"
             ]
            ],
            "type": "surface"
           }
          ],
          "table": [
           {
            "cells": {
             "fill": {
              "color": "#EBF0F8"
             },
             "line": {
              "color": "white"
             }
            },
            "header": {
             "fill": {
              "color": "#C8D4E3"
             },
             "line": {
              "color": "white"
             }
            },
            "type": "table"
           }
          ]
         },
         "layout": {
          "annotationdefaults": {
           "arrowcolor": "#2a3f5f",
           "arrowhead": 0,
           "arrowwidth": 1
          },
          "autotypenumbers": "strict",
          "coloraxis": {
           "colorbar": {
            "outlinewidth": 0,
            "ticks": ""
           }
          },
          "colorscale": {
           "diverging": [
            [
             0,
             "#8e0152"
            ],
            [
             0.1,
             "#c51b7d"
            ],
            [
             0.2,
             "#de77ae"
            ],
            [
             0.3,
             "#f1b6da"
            ],
            [
             0.4,
             "#fde0ef"
            ],
            [
             0.5,
             "#f7f7f7"
            ],
            [
             0.6,
             "#e6f5d0"
            ],
            [
             0.7,
             "#b8e186"
            ],
            [
             0.8,
             "#7fbc41"
            ],
            [
             0.9,
             "#4d9221"
            ],
            [
             1,
             "#276419"
            ]
           ],
           "sequential": [
            [
             0,
             "#0d0887"
            ],
            [
             0.1111111111111111,
             "#46039f"
            ],
            [
             0.2222222222222222,
             "#7201a8"
            ],
            [
             0.3333333333333333,
             "#9c179e"
            ],
            [
             0.4444444444444444,
             "#bd3786"
            ],
            [
             0.5555555555555556,
             "#d8576b"
            ],
            [
             0.6666666666666666,
             "#ed7953"
            ],
            [
             0.7777777777777778,
             "#fb9f3a"
            ],
            [
             0.8888888888888888,
             "#fdca26"
            ],
            [
             1,
             "#f0f921"
            ]
           ],
           "sequentialminus": [
            [
             0,
             "#0d0887"
            ],
            [
             0.1111111111111111,
             "#46039f"
            ],
            [
             0.2222222222222222,
             "#7201a8"
            ],
            [
             0.3333333333333333,
             "#9c179e"
            ],
            [
             0.4444444444444444,
             "#bd3786"
            ],
            [
             0.5555555555555556,
             "#d8576b"
            ],
            [
             0.6666666666666666,
             "#ed7953"
            ],
            [
             0.7777777777777778,
             "#fb9f3a"
            ],
            [
             0.8888888888888888,
             "#fdca26"
            ],
            [
             1,
             "#f0f921"
            ]
           ]
          },
          "colorway": [
           "#636efa",
           "#EF553B",
           "#00cc96",
           "#ab63fa",
           "#FFA15A",
           "#19d3f3",
           "#FF6692",
           "#B6E880",
           "#FF97FF",
           "#FECB52"
          ],
          "font": {
           "color": "#2a3f5f"
          },
          "geo": {
           "bgcolor": "white",
           "lakecolor": "white",
           "landcolor": "#E5ECF6",
           "showlakes": true,
           "showland": true,
           "subunitcolor": "white"
          },
          "hoverlabel": {
           "align": "left"
          },
          "hovermode": "closest",
          "mapbox": {
           "style": "light"
          },
          "paper_bgcolor": "white",
          "plot_bgcolor": "#E5ECF6",
          "polar": {
           "angularaxis": {
            "gridcolor": "white",
            "linecolor": "white",
            "ticks": ""
           },
           "bgcolor": "#E5ECF6",
           "radialaxis": {
            "gridcolor": "white",
            "linecolor": "white",
            "ticks": ""
           }
          },
          "scene": {
           "xaxis": {
            "backgroundcolor": "#E5ECF6",
            "gridcolor": "white",
            "gridwidth": 2,
            "linecolor": "white",
            "showbackground": true,
            "ticks": "",
            "zerolinecolor": "white"
           },
           "yaxis": {
            "backgroundcolor": "#E5ECF6",
            "gridcolor": "white",
            "gridwidth": 2,
            "linecolor": "white",
            "showbackground": true,
            "ticks": "",
            "zerolinecolor": "white"
           },
           "zaxis": {
            "backgroundcolor": "#E5ECF6",
            "gridcolor": "white",
            "gridwidth": 2,
            "linecolor": "white",
            "showbackground": true,
            "ticks": "",
            "zerolinecolor": "white"
           }
          },
          "shapedefaults": {
           "line": {
            "color": "#2a3f5f"
           }
          },
          "ternary": {
           "aaxis": {
            "gridcolor": "white",
            "linecolor": "white",
            "ticks": ""
           },
           "baxis": {
            "gridcolor": "white",
            "linecolor": "white",
            "ticks": ""
           },
           "bgcolor": "#E5ECF6",
           "caxis": {
            "gridcolor": "white",
            "linecolor": "white",
            "ticks": ""
           }
          },
          "title": {
           "x": 0.05
          },
          "xaxis": {
           "automargin": true,
           "gridcolor": "white",
           "linecolor": "white",
           "ticks": "",
           "title": {
            "standoff": 15
           },
           "zerolinecolor": "white",
           "zerolinewidth": 2
          },
          "yaxis": {
           "automargin": true,
           "gridcolor": "white",
           "linecolor": "white",
           "ticks": "",
           "title": {
            "standoff": 15
           },
           "zerolinecolor": "white",
           "zerolinewidth": 2
          }
         }
        },
        "xaxis": {
         "anchor": "y",
         "domain": [
          0,
          1
         ],
         "title": {
          "text": "timezone"
         }
        },
        "yaxis": {
         "anchor": "x",
         "domain": [
          0,
          1
         ],
         "title": {
          "text": "count"
         }
        }
       }
      }
     },
     "metadata": {},
     "output_type": "display_data"
    }
   ],
   "source": [
    "px.histogram(data, x=\"timezone\")"
   ]
  },
  {
   "cell_type": "markdown",
   "metadata": {},
   "source": [
    "Boxplots of the sport_type with elapsed_time and distance are shown. Running as the most varied amount of workouts via time and distance. There are a coupple of extreme data points. Running also is the most likely activity to receive a kudos."
   ]
  },
  {
   "cell_type": "code",
   "execution_count": 34,
   "metadata": {},
   "outputs": [
    {
     "data": {
      "application/vnd.plotly.v1+json": {
       "config": {
        "plotlyServerURL": "https://plot.ly"
       },
       "data": [
        {
         "alignmentgroup": "True",
         "hovertemplate": "sport_type=%{x}<br>elapsed_time=%{y}<extra></extra>",
         "legendgroup": "",
         "marker": {
          "color": "#636efa"
         },
         "name": "",
         "notched": false,
         "offsetgroup": "",
         "orientation": "v",
         "showlegend": false,
         "type": "box",
         "x": [
          "Run",
          "Run",
          "Run",
          "Run",
          "Run",
          "Run",
          "Run",
          "Run",
          "Run",
          "Run",
          "Run",
          "Run",
          "Run",
          "Run",
          "Run",
          "Run",
          "Hike",
          "Run",
          "Tennis",
          "Run",
          "Run",
          "Run",
          "Run",
          "Run",
          "Walk",
          "Run",
          "Run",
          "Run",
          "Run",
          "Run",
          "Run",
          "Run",
          "Run",
          "Run",
          "Run",
          "Run",
          "Run",
          "Run",
          "Run",
          "Run",
          "Run",
          "Run",
          "Run",
          "Run",
          "Run",
          "Run",
          "Run",
          "Run",
          "Run",
          "Run",
          "Run",
          "Run",
          "Run",
          "Run",
          "Run",
          "Run",
          "Run",
          "Run",
          "Run",
          "Run",
          "Run",
          "Run",
          "Run",
          "Run",
          "Run",
          "Run",
          "Run",
          "Run",
          "Run",
          "Run",
          "Run",
          "Run",
          "Walk",
          "Run",
          "Walk",
          "Run",
          "Workout",
          "Run",
          "Workout",
          "Run",
          "Run",
          "Workout",
          "Workout",
          "Workout",
          "Run",
          "Workout",
          "Run",
          "Run",
          "Run",
          "Run",
          "Run",
          "Run",
          "Run",
          "Run",
          "Run",
          "Run",
          "Run",
          "Run",
          "Run",
          "Run",
          "Run",
          "Run",
          "Run",
          "Run",
          "Run"
         ],
         "x0": " ",
         "xaxis": "x",
         "y": [
          4617000000000,
          62993000000000,
          7462000000000,
          2170000000000,
          4221000000000,
          2983000000000,
          2735000000000,
          4037000000000,
          2012000000000,
          15709000000000,
          2051000000000,
          4672000000000,
          2560000000000,
          2101000000000,
          8239000000000,
          1951000000000,
          7263000000000,
          2824000000000,
          2564000000000,
          2735000000000,
          2049000000000,
          2066000000000,
          4727000000000,
          2002000000000,
          1401000000000,
          2116000000000,
          2248000000000,
          1092000000000,
          1259000000000,
          1121000000000,
          10523000000000,
          217000000000,
          1883000000000,
          7121000000000,
          573000000000,
          1017000000000,
          1778000000000,
          10507000000000,
          1929000000000,
          2013000000000,
          1200000000000,
          1860000000000,
          6627000000000,
          2821000000000,
          1313000000000,
          2090000000000,
          3462000000000,
          4352000000000,
          2253000000000,
          1018000000000,
          3471000000000,
          4953000000000,
          951000000000,
          4101000000000,
          2354000000000,
          3017000000000,
          1490000000000,
          33260000000000,
          1880000000000,
          4795000000000,
          2042000000000,
          2292000000000,
          3695000000000,
          3496000000000,
          9241000000000,
          10154000000000,
          5386000000000,
          4453000000000,
          4937000000000,
          9323000000000,
          6081000000000,
          5905000000000,
          255000000000,
          3021000000000,
          1699000000000,
          3888000000000,
          8575000000000,
          2593000000000,
          8293000000000,
          4471000000000,
          4664000000000,
          5181000000000,
          8646000000000,
          5931000000000,
          362000000000,
          4433000000000,
          4768000000000,
          2044000000000,
          6794000000000,
          5213000000000,
          2237000000000,
          5370000000000,
          5749000000000,
          3058000000000,
          1657000000000,
          5119000000000,
          8503000000000,
          5051000000000,
          4439000000000,
          5681000000000,
          4113000000000,
          3555000000000,
          2478000000000,
          2426000000000,
          1009000000000
         ],
         "y0": " ",
         "yaxis": "y"
        }
       ],
       "layout": {
        "boxmode": "group",
        "legend": {
         "tracegroupgap": 0
        },
        "margin": {
         "t": 60
        },
        "template": {
         "data": {
          "bar": [
           {
            "error_x": {
             "color": "#2a3f5f"
            },
            "error_y": {
             "color": "#2a3f5f"
            },
            "marker": {
             "line": {
              "color": "#E5ECF6",
              "width": 0.5
             },
             "pattern": {
              "fillmode": "overlay",
              "size": 10,
              "solidity": 0.2
             }
            },
            "type": "bar"
           }
          ],
          "barpolar": [
           {
            "marker": {
             "line": {
              "color": "#E5ECF6",
              "width": 0.5
             },
             "pattern": {
              "fillmode": "overlay",
              "size": 10,
              "solidity": 0.2
             }
            },
            "type": "barpolar"
           }
          ],
          "carpet": [
           {
            "aaxis": {
             "endlinecolor": "#2a3f5f",
             "gridcolor": "white",
             "linecolor": "white",
             "minorgridcolor": "white",
             "startlinecolor": "#2a3f5f"
            },
            "baxis": {
             "endlinecolor": "#2a3f5f",
             "gridcolor": "white",
             "linecolor": "white",
             "minorgridcolor": "white",
             "startlinecolor": "#2a3f5f"
            },
            "type": "carpet"
           }
          ],
          "choropleth": [
           {
            "colorbar": {
             "outlinewidth": 0,
             "ticks": ""
            },
            "type": "choropleth"
           }
          ],
          "contour": [
           {
            "colorbar": {
             "outlinewidth": 0,
             "ticks": ""
            },
            "colorscale": [
             [
              0,
              "#0d0887"
             ],
             [
              0.1111111111111111,
              "#46039f"
             ],
             [
              0.2222222222222222,
              "#7201a8"
             ],
             [
              0.3333333333333333,
              "#9c179e"
             ],
             [
              0.4444444444444444,
              "#bd3786"
             ],
             [
              0.5555555555555556,
              "#d8576b"
             ],
             [
              0.6666666666666666,
              "#ed7953"
             ],
             [
              0.7777777777777778,
              "#fb9f3a"
             ],
             [
              0.8888888888888888,
              "#fdca26"
             ],
             [
              1,
              "#f0f921"
             ]
            ],
            "type": "contour"
           }
          ],
          "contourcarpet": [
           {
            "colorbar": {
             "outlinewidth": 0,
             "ticks": ""
            },
            "type": "contourcarpet"
           }
          ],
          "heatmap": [
           {
            "colorbar": {
             "outlinewidth": 0,
             "ticks": ""
            },
            "colorscale": [
             [
              0,
              "#0d0887"
             ],
             [
              0.1111111111111111,
              "#46039f"
             ],
             [
              0.2222222222222222,
              "#7201a8"
             ],
             [
              0.3333333333333333,
              "#9c179e"
             ],
             [
              0.4444444444444444,
              "#bd3786"
             ],
             [
              0.5555555555555556,
              "#d8576b"
             ],
             [
              0.6666666666666666,
              "#ed7953"
             ],
             [
              0.7777777777777778,
              "#fb9f3a"
             ],
             [
              0.8888888888888888,
              "#fdca26"
             ],
             [
              1,
              "#f0f921"
             ]
            ],
            "type": "heatmap"
           }
          ],
          "heatmapgl": [
           {
            "colorbar": {
             "outlinewidth": 0,
             "ticks": ""
            },
            "colorscale": [
             [
              0,
              "#0d0887"
             ],
             [
              0.1111111111111111,
              "#46039f"
             ],
             [
              0.2222222222222222,
              "#7201a8"
             ],
             [
              0.3333333333333333,
              "#9c179e"
             ],
             [
              0.4444444444444444,
              "#bd3786"
             ],
             [
              0.5555555555555556,
              "#d8576b"
             ],
             [
              0.6666666666666666,
              "#ed7953"
             ],
             [
              0.7777777777777778,
              "#fb9f3a"
             ],
             [
              0.8888888888888888,
              "#fdca26"
             ],
             [
              1,
              "#f0f921"
             ]
            ],
            "type": "heatmapgl"
           }
          ],
          "histogram": [
           {
            "marker": {
             "pattern": {
              "fillmode": "overlay",
              "size": 10,
              "solidity": 0.2
             }
            },
            "type": "histogram"
           }
          ],
          "histogram2d": [
           {
            "colorbar": {
             "outlinewidth": 0,
             "ticks": ""
            },
            "colorscale": [
             [
              0,
              "#0d0887"
             ],
             [
              0.1111111111111111,
              "#46039f"
             ],
             [
              0.2222222222222222,
              "#7201a8"
             ],
             [
              0.3333333333333333,
              "#9c179e"
             ],
             [
              0.4444444444444444,
              "#bd3786"
             ],
             [
              0.5555555555555556,
              "#d8576b"
             ],
             [
              0.6666666666666666,
              "#ed7953"
             ],
             [
              0.7777777777777778,
              "#fb9f3a"
             ],
             [
              0.8888888888888888,
              "#fdca26"
             ],
             [
              1,
              "#f0f921"
             ]
            ],
            "type": "histogram2d"
           }
          ],
          "histogram2dcontour": [
           {
            "colorbar": {
             "outlinewidth": 0,
             "ticks": ""
            },
            "colorscale": [
             [
              0,
              "#0d0887"
             ],
             [
              0.1111111111111111,
              "#46039f"
             ],
             [
              0.2222222222222222,
              "#7201a8"
             ],
             [
              0.3333333333333333,
              "#9c179e"
             ],
             [
              0.4444444444444444,
              "#bd3786"
             ],
             [
              0.5555555555555556,
              "#d8576b"
             ],
             [
              0.6666666666666666,
              "#ed7953"
             ],
             [
              0.7777777777777778,
              "#fb9f3a"
             ],
             [
              0.8888888888888888,
              "#fdca26"
             ],
             [
              1,
              "#f0f921"
             ]
            ],
            "type": "histogram2dcontour"
           }
          ],
          "mesh3d": [
           {
            "colorbar": {
             "outlinewidth": 0,
             "ticks": ""
            },
            "type": "mesh3d"
           }
          ],
          "parcoords": [
           {
            "line": {
             "colorbar": {
              "outlinewidth": 0,
              "ticks": ""
             }
            },
            "type": "parcoords"
           }
          ],
          "pie": [
           {
            "automargin": true,
            "type": "pie"
           }
          ],
          "scatter": [
           {
            "fillpattern": {
             "fillmode": "overlay",
             "size": 10,
             "solidity": 0.2
            },
            "type": "scatter"
           }
          ],
          "scatter3d": [
           {
            "line": {
             "colorbar": {
              "outlinewidth": 0,
              "ticks": ""
             }
            },
            "marker": {
             "colorbar": {
              "outlinewidth": 0,
              "ticks": ""
             }
            },
            "type": "scatter3d"
           }
          ],
          "scattercarpet": [
           {
            "marker": {
             "colorbar": {
              "outlinewidth": 0,
              "ticks": ""
             }
            },
            "type": "scattercarpet"
           }
          ],
          "scattergeo": [
           {
            "marker": {
             "colorbar": {
              "outlinewidth": 0,
              "ticks": ""
             }
            },
            "type": "scattergeo"
           }
          ],
          "scattergl": [
           {
            "marker": {
             "colorbar": {
              "outlinewidth": 0,
              "ticks": ""
             }
            },
            "type": "scattergl"
           }
          ],
          "scattermapbox": [
           {
            "marker": {
             "colorbar": {
              "outlinewidth": 0,
              "ticks": ""
             }
            },
            "type": "scattermapbox"
           }
          ],
          "scatterpolar": [
           {
            "marker": {
             "colorbar": {
              "outlinewidth": 0,
              "ticks": ""
             }
            },
            "type": "scatterpolar"
           }
          ],
          "scatterpolargl": [
           {
            "marker": {
             "colorbar": {
              "outlinewidth": 0,
              "ticks": ""
             }
            },
            "type": "scatterpolargl"
           }
          ],
          "scatterternary": [
           {
            "marker": {
             "colorbar": {
              "outlinewidth": 0,
              "ticks": ""
             }
            },
            "type": "scatterternary"
           }
          ],
          "surface": [
           {
            "colorbar": {
             "outlinewidth": 0,
             "ticks": ""
            },
            "colorscale": [
             [
              0,
              "#0d0887"
             ],
             [
              0.1111111111111111,
              "#46039f"
             ],
             [
              0.2222222222222222,
              "#7201a8"
             ],
             [
              0.3333333333333333,
              "#9c179e"
             ],
             [
              0.4444444444444444,
              "#bd3786"
             ],
             [
              0.5555555555555556,
              "#d8576b"
             ],
             [
              0.6666666666666666,
              "#ed7953"
             ],
             [
              0.7777777777777778,
              "#fb9f3a"
             ],
             [
              0.8888888888888888,
              "#fdca26"
             ],
             [
              1,
              "#f0f921"
             ]
            ],
            "type": "surface"
           }
          ],
          "table": [
           {
            "cells": {
             "fill": {
              "color": "#EBF0F8"
             },
             "line": {
              "color": "white"
             }
            },
            "header": {
             "fill": {
              "color": "#C8D4E3"
             },
             "line": {
              "color": "white"
             }
            },
            "type": "table"
           }
          ]
         },
         "layout": {
          "annotationdefaults": {
           "arrowcolor": "#2a3f5f",
           "arrowhead": 0,
           "arrowwidth": 1
          },
          "autotypenumbers": "strict",
          "coloraxis": {
           "colorbar": {
            "outlinewidth": 0,
            "ticks": ""
           }
          },
          "colorscale": {
           "diverging": [
            [
             0,
             "#8e0152"
            ],
            [
             0.1,
             "#c51b7d"
            ],
            [
             0.2,
             "#de77ae"
            ],
            [
             0.3,
             "#f1b6da"
            ],
            [
             0.4,
             "#fde0ef"
            ],
            [
             0.5,
             "#f7f7f7"
            ],
            [
             0.6,
             "#e6f5d0"
            ],
            [
             0.7,
             "#b8e186"
            ],
            [
             0.8,
             "#7fbc41"
            ],
            [
             0.9,
             "#4d9221"
            ],
            [
             1,
             "#276419"
            ]
           ],
           "sequential": [
            [
             0,
             "#0d0887"
            ],
            [
             0.1111111111111111,
             "#46039f"
            ],
            [
             0.2222222222222222,
             "#7201a8"
            ],
            [
             0.3333333333333333,
             "#9c179e"
            ],
            [
             0.4444444444444444,
             "#bd3786"
            ],
            [
             0.5555555555555556,
             "#d8576b"
            ],
            [
             0.6666666666666666,
             "#ed7953"
            ],
            [
             0.7777777777777778,
             "#fb9f3a"
            ],
            [
             0.8888888888888888,
             "#fdca26"
            ],
            [
             1,
             "#f0f921"
            ]
           ],
           "sequentialminus": [
            [
             0,
             "#0d0887"
            ],
            [
             0.1111111111111111,
             "#46039f"
            ],
            [
             0.2222222222222222,
             "#7201a8"
            ],
            [
             0.3333333333333333,
             "#9c179e"
            ],
            [
             0.4444444444444444,
             "#bd3786"
            ],
            [
             0.5555555555555556,
             "#d8576b"
            ],
            [
             0.6666666666666666,
             "#ed7953"
            ],
            [
             0.7777777777777778,
             "#fb9f3a"
            ],
            [
             0.8888888888888888,
             "#fdca26"
            ],
            [
             1,
             "#f0f921"
            ]
           ]
          },
          "colorway": [
           "#636efa",
           "#EF553B",
           "#00cc96",
           "#ab63fa",
           "#FFA15A",
           "#19d3f3",
           "#FF6692",
           "#B6E880",
           "#FF97FF",
           "#FECB52"
          ],
          "font": {
           "color": "#2a3f5f"
          },
          "geo": {
           "bgcolor": "white",
           "lakecolor": "white",
           "landcolor": "#E5ECF6",
           "showlakes": true,
           "showland": true,
           "subunitcolor": "white"
          },
          "hoverlabel": {
           "align": "left"
          },
          "hovermode": "closest",
          "mapbox": {
           "style": "light"
          },
          "paper_bgcolor": "white",
          "plot_bgcolor": "#E5ECF6",
          "polar": {
           "angularaxis": {
            "gridcolor": "white",
            "linecolor": "white",
            "ticks": ""
           },
           "bgcolor": "#E5ECF6",
           "radialaxis": {
            "gridcolor": "white",
            "linecolor": "white",
            "ticks": ""
           }
          },
          "scene": {
           "xaxis": {
            "backgroundcolor": "#E5ECF6",
            "gridcolor": "white",
            "gridwidth": 2,
            "linecolor": "white",
            "showbackground": true,
            "ticks": "",
            "zerolinecolor": "white"
           },
           "yaxis": {
            "backgroundcolor": "#E5ECF6",
            "gridcolor": "white",
            "gridwidth": 2,
            "linecolor": "white",
            "showbackground": true,
            "ticks": "",
            "zerolinecolor": "white"
           },
           "zaxis": {
            "backgroundcolor": "#E5ECF6",
            "gridcolor": "white",
            "gridwidth": 2,
            "linecolor": "white",
            "showbackground": true,
            "ticks": "",
            "zerolinecolor": "white"
           }
          },
          "shapedefaults": {
           "line": {
            "color": "#2a3f5f"
           }
          },
          "ternary": {
           "aaxis": {
            "gridcolor": "white",
            "linecolor": "white",
            "ticks": ""
           },
           "baxis": {
            "gridcolor": "white",
            "linecolor": "white",
            "ticks": ""
           },
           "bgcolor": "#E5ECF6",
           "caxis": {
            "gridcolor": "white",
            "linecolor": "white",
            "ticks": ""
           }
          },
          "title": {
           "x": 0.05
          },
          "xaxis": {
           "automargin": true,
           "gridcolor": "white",
           "linecolor": "white",
           "ticks": "",
           "title": {
            "standoff": 15
           },
           "zerolinecolor": "white",
           "zerolinewidth": 2
          },
          "yaxis": {
           "automargin": true,
           "gridcolor": "white",
           "linecolor": "white",
           "ticks": "",
           "title": {
            "standoff": 15
           },
           "zerolinecolor": "white",
           "zerolinewidth": 2
          }
         }
        },
        "xaxis": {
         "anchor": "y",
         "domain": [
          0,
          1
         ],
         "title": {
          "text": "sport_type"
         }
        },
        "yaxis": {
         "anchor": "x",
         "domain": [
          0,
          1
         ],
         "title": {
          "text": "elapsed_time"
         }
        }
       }
      }
     },
     "metadata": {},
     "output_type": "display_data"
    }
   ],
   "source": [
    "px.box(data, x=\"sport_type\", y=\"elapsed_time\")"
   ]
  },
  {
   "cell_type": "code",
   "execution_count": 35,
   "metadata": {},
   "outputs": [
    {
     "data": {
      "application/vnd.plotly.v1+json": {
       "config": {
        "plotlyServerURL": "https://plot.ly"
       },
       "data": [
        {
         "alignmentgroup": "True",
         "hovertemplate": "sport_type=%{x}<br>distance=%{y}<extra></extra>",
         "legendgroup": "",
         "marker": {
          "color": "#636efa"
         },
         "name": "",
         "notched": false,
         "offsetgroup": "",
         "orientation": "v",
         "showlegend": false,
         "type": "box",
         "x": [
          "Run",
          "Run",
          "Run",
          "Run",
          "Run",
          "Run",
          "Run",
          "Run",
          "Run",
          "Run",
          "Run",
          "Run",
          "Run",
          "Run",
          "Run",
          "Run",
          "Hike",
          "Run",
          "Tennis",
          "Run",
          "Run",
          "Run",
          "Run",
          "Run",
          "Walk",
          "Run",
          "Run",
          "Run",
          "Run",
          "Run",
          "Run",
          "Run",
          "Run",
          "Run",
          "Run",
          "Run",
          "Run",
          "Run",
          "Run",
          "Run",
          "Run",
          "Run",
          "Run",
          "Run",
          "Run",
          "Run",
          "Run",
          "Run",
          "Run",
          "Run",
          "Run",
          "Run",
          "Run",
          "Run",
          "Run",
          "Run",
          "Run",
          "Run",
          "Run",
          "Run",
          "Run",
          "Run",
          "Run",
          "Run",
          "Run",
          "Run",
          "Run",
          "Run",
          "Run",
          "Run",
          "Run",
          "Run",
          "Walk",
          "Run",
          "Walk",
          "Run",
          "Workout",
          "Run",
          "Workout",
          "Run",
          "Run",
          "Workout",
          "Workout",
          "Workout",
          "Run",
          "Workout",
          "Run",
          "Run",
          "Run",
          "Run",
          "Run",
          "Run",
          "Run",
          "Run",
          "Run",
          "Run",
          "Run",
          "Run",
          "Run",
          "Run",
          "Run",
          "Run",
          "Run",
          "Run",
          "Run"
         ],
         "x0": " ",
         "xaxis": "x",
         "y": [
          10879.7,
          1304.4,
          17503,
          3457.8,
          10108.2,
          6694.7,
          6518.5,
          10137.9,
          5065.6,
          32192.3,
          4900.2,
          10065.4,
          5080.1,
          5033.4,
          17774.7,
          5078.5,
          4584.9,
          6090.6,
          0,
          4093,
          5087.6,
          5266.2,
          10078.3,
          5097.6,
          1864.9,
          5317.7,
          5426.8,
          2948.4,
          3181.3,
          2976,
          22895.4,
          424.6,
          5043.5,
          16190.2,
          1611.9,
          3010.3,
          5044.5,
          21334,
          5049.4,
          5311.5,
          3130,
          5076.4,
          14991.3,
          6990.6,
          3294.3,
          5436.7,
          7523.6,
          7531.1,
          5474.7,
          2981.8,
          3080,
          11824.4,
          2222.6,
          10513.1,
          5341.4,
          7115.1,
          3374.6,
          2406.8,
          5149.9,
          10113.4,
          2342.1,
          2520.5,
          5230.5,
          4604.7,
          22201.9,
          21479,
          12240.6,
          6241,
          10207.3,
          21792.6,
          13223.8,
          13194.5,
          570.7,
          6934.9,
          1053.6,
          10334.2,
          0,
          5145,
          0,
          10352.6,
          10255.8,
          0,
          0,
          0,
          517.2,
          0,
          10287.1,
          5058.2,
          12983.3,
          10386.5,
          5247.3,
          10011.2,
          9517.1,
          5376.1,
          1986.7,
          10250.2,
          3457.6,
          10300.5,
          7321.8,
          10564.2,
          7857.2,
          6067.2,
          4587.6,
          4313.6,
          2764
         ],
         "y0": " ",
         "yaxis": "y"
        }
       ],
       "layout": {
        "boxmode": "group",
        "legend": {
         "tracegroupgap": 0
        },
        "margin": {
         "t": 60
        },
        "template": {
         "data": {
          "bar": [
           {
            "error_x": {
             "color": "#2a3f5f"
            },
            "error_y": {
             "color": "#2a3f5f"
            },
            "marker": {
             "line": {
              "color": "#E5ECF6",
              "width": 0.5
             },
             "pattern": {
              "fillmode": "overlay",
              "size": 10,
              "solidity": 0.2
             }
            },
            "type": "bar"
           }
          ],
          "barpolar": [
           {
            "marker": {
             "line": {
              "color": "#E5ECF6",
              "width": 0.5
             },
             "pattern": {
              "fillmode": "overlay",
              "size": 10,
              "solidity": 0.2
             }
            },
            "type": "barpolar"
           }
          ],
          "carpet": [
           {
            "aaxis": {
             "endlinecolor": "#2a3f5f",
             "gridcolor": "white",
             "linecolor": "white",
             "minorgridcolor": "white",
             "startlinecolor": "#2a3f5f"
            },
            "baxis": {
             "endlinecolor": "#2a3f5f",
             "gridcolor": "white",
             "linecolor": "white",
             "minorgridcolor": "white",
             "startlinecolor": "#2a3f5f"
            },
            "type": "carpet"
           }
          ],
          "choropleth": [
           {
            "colorbar": {
             "outlinewidth": 0,
             "ticks": ""
            },
            "type": "choropleth"
           }
          ],
          "contour": [
           {
            "colorbar": {
             "outlinewidth": 0,
             "ticks": ""
            },
            "colorscale": [
             [
              0,
              "#0d0887"
             ],
             [
              0.1111111111111111,
              "#46039f"
             ],
             [
              0.2222222222222222,
              "#7201a8"
             ],
             [
              0.3333333333333333,
              "#9c179e"
             ],
             [
              0.4444444444444444,
              "#bd3786"
             ],
             [
              0.5555555555555556,
              "#d8576b"
             ],
             [
              0.6666666666666666,
              "#ed7953"
             ],
             [
              0.7777777777777778,
              "#fb9f3a"
             ],
             [
              0.8888888888888888,
              "#fdca26"
             ],
             [
              1,
              "#f0f921"
             ]
            ],
            "type": "contour"
           }
          ],
          "contourcarpet": [
           {
            "colorbar": {
             "outlinewidth": 0,
             "ticks": ""
            },
            "type": "contourcarpet"
           }
          ],
          "heatmap": [
           {
            "colorbar": {
             "outlinewidth": 0,
             "ticks": ""
            },
            "colorscale": [
             [
              0,
              "#0d0887"
             ],
             [
              0.1111111111111111,
              "#46039f"
             ],
             [
              0.2222222222222222,
              "#7201a8"
             ],
             [
              0.3333333333333333,
              "#9c179e"
             ],
             [
              0.4444444444444444,
              "#bd3786"
             ],
             [
              0.5555555555555556,
              "#d8576b"
             ],
             [
              0.6666666666666666,
              "#ed7953"
             ],
             [
              0.7777777777777778,
              "#fb9f3a"
             ],
             [
              0.8888888888888888,
              "#fdca26"
             ],
             [
              1,
              "#f0f921"
             ]
            ],
            "type": "heatmap"
           }
          ],
          "heatmapgl": [
           {
            "colorbar": {
             "outlinewidth": 0,
             "ticks": ""
            },
            "colorscale": [
             [
              0,
              "#0d0887"
             ],
             [
              0.1111111111111111,
              "#46039f"
             ],
             [
              0.2222222222222222,
              "#7201a8"
             ],
             [
              0.3333333333333333,
              "#9c179e"
             ],
             [
              0.4444444444444444,
              "#bd3786"
             ],
             [
              0.5555555555555556,
              "#d8576b"
             ],
             [
              0.6666666666666666,
              "#ed7953"
             ],
             [
              0.7777777777777778,
              "#fb9f3a"
             ],
             [
              0.8888888888888888,
              "#fdca26"
             ],
             [
              1,
              "#f0f921"
             ]
            ],
            "type": "heatmapgl"
           }
          ],
          "histogram": [
           {
            "marker": {
             "pattern": {
              "fillmode": "overlay",
              "size": 10,
              "solidity": 0.2
             }
            },
            "type": "histogram"
           }
          ],
          "histogram2d": [
           {
            "colorbar": {
             "outlinewidth": 0,
             "ticks": ""
            },
            "colorscale": [
             [
              0,
              "#0d0887"
             ],
             [
              0.1111111111111111,
              "#46039f"
             ],
             [
              0.2222222222222222,
              "#7201a8"
             ],
             [
              0.3333333333333333,
              "#9c179e"
             ],
             [
              0.4444444444444444,
              "#bd3786"
             ],
             [
              0.5555555555555556,
              "#d8576b"
             ],
             [
              0.6666666666666666,
              "#ed7953"
             ],
             [
              0.7777777777777778,
              "#fb9f3a"
             ],
             [
              0.8888888888888888,
              "#fdca26"
             ],
             [
              1,
              "#f0f921"
             ]
            ],
            "type": "histogram2d"
           }
          ],
          "histogram2dcontour": [
           {
            "colorbar": {
             "outlinewidth": 0,
             "ticks": ""
            },
            "colorscale": [
             [
              0,
              "#0d0887"
             ],
             [
              0.1111111111111111,
              "#46039f"
             ],
             [
              0.2222222222222222,
              "#7201a8"
             ],
             [
              0.3333333333333333,
              "#9c179e"
             ],
             [
              0.4444444444444444,
              "#bd3786"
             ],
             [
              0.5555555555555556,
              "#d8576b"
             ],
             [
              0.6666666666666666,
              "#ed7953"
             ],
             [
              0.7777777777777778,
              "#fb9f3a"
             ],
             [
              0.8888888888888888,
              "#fdca26"
             ],
             [
              1,
              "#f0f921"
             ]
            ],
            "type": "histogram2dcontour"
           }
          ],
          "mesh3d": [
           {
            "colorbar": {
             "outlinewidth": 0,
             "ticks": ""
            },
            "type": "mesh3d"
           }
          ],
          "parcoords": [
           {
            "line": {
             "colorbar": {
              "outlinewidth": 0,
              "ticks": ""
             }
            },
            "type": "parcoords"
           }
          ],
          "pie": [
           {
            "automargin": true,
            "type": "pie"
           }
          ],
          "scatter": [
           {
            "fillpattern": {
             "fillmode": "overlay",
             "size": 10,
             "solidity": 0.2
            },
            "type": "scatter"
           }
          ],
          "scatter3d": [
           {
            "line": {
             "colorbar": {
              "outlinewidth": 0,
              "ticks": ""
             }
            },
            "marker": {
             "colorbar": {
              "outlinewidth": 0,
              "ticks": ""
             }
            },
            "type": "scatter3d"
           }
          ],
          "scattercarpet": [
           {
            "marker": {
             "colorbar": {
              "outlinewidth": 0,
              "ticks": ""
             }
            },
            "type": "scattercarpet"
           }
          ],
          "scattergeo": [
           {
            "marker": {
             "colorbar": {
              "outlinewidth": 0,
              "ticks": ""
             }
            },
            "type": "scattergeo"
           }
          ],
          "scattergl": [
           {
            "marker": {
             "colorbar": {
              "outlinewidth": 0,
              "ticks": ""
             }
            },
            "type": "scattergl"
           }
          ],
          "scattermapbox": [
           {
            "marker": {
             "colorbar": {
              "outlinewidth": 0,
              "ticks": ""
             }
            },
            "type": "scattermapbox"
           }
          ],
          "scatterpolar": [
           {
            "marker": {
             "colorbar": {
              "outlinewidth": 0,
              "ticks": ""
             }
            },
            "type": "scatterpolar"
           }
          ],
          "scatterpolargl": [
           {
            "marker": {
             "colorbar": {
              "outlinewidth": 0,
              "ticks": ""
             }
            },
            "type": "scatterpolargl"
           }
          ],
          "scatterternary": [
           {
            "marker": {
             "colorbar": {
              "outlinewidth": 0,
              "ticks": ""
             }
            },
            "type": "scatterternary"
           }
          ],
          "surface": [
           {
            "colorbar": {
             "outlinewidth": 0,
             "ticks": ""
            },
            "colorscale": [
             [
              0,
              "#0d0887"
             ],
             [
              0.1111111111111111,
              "#46039f"
             ],
             [
              0.2222222222222222,
              "#7201a8"
             ],
             [
              0.3333333333333333,
              "#9c179e"
             ],
             [
              0.4444444444444444,
              "#bd3786"
             ],
             [
              0.5555555555555556,
              "#d8576b"
             ],
             [
              0.6666666666666666,
              "#ed7953"
             ],
             [
              0.7777777777777778,
              "#fb9f3a"
             ],
             [
              0.8888888888888888,
              "#fdca26"
             ],
             [
              1,
              "#f0f921"
             ]
            ],
            "type": "surface"
           }
          ],
          "table": [
           {
            "cells": {
             "fill": {
              "color": "#EBF0F8"
             },
             "line": {
              "color": "white"
             }
            },
            "header": {
             "fill": {
              "color": "#C8D4E3"
             },
             "line": {
              "color": "white"
             }
            },
            "type": "table"
           }
          ]
         },
         "layout": {
          "annotationdefaults": {
           "arrowcolor": "#2a3f5f",
           "arrowhead": 0,
           "arrowwidth": 1
          },
          "autotypenumbers": "strict",
          "coloraxis": {
           "colorbar": {
            "outlinewidth": 0,
            "ticks": ""
           }
          },
          "colorscale": {
           "diverging": [
            [
             0,
             "#8e0152"
            ],
            [
             0.1,
             "#c51b7d"
            ],
            [
             0.2,
             "#de77ae"
            ],
            [
             0.3,
             "#f1b6da"
            ],
            [
             0.4,
             "#fde0ef"
            ],
            [
             0.5,
             "#f7f7f7"
            ],
            [
             0.6,
             "#e6f5d0"
            ],
            [
             0.7,
             "#b8e186"
            ],
            [
             0.8,
             "#7fbc41"
            ],
            [
             0.9,
             "#4d9221"
            ],
            [
             1,
             "#276419"
            ]
           ],
           "sequential": [
            [
             0,
             "#0d0887"
            ],
            [
             0.1111111111111111,
             "#46039f"
            ],
            [
             0.2222222222222222,
             "#7201a8"
            ],
            [
             0.3333333333333333,
             "#9c179e"
            ],
            [
             0.4444444444444444,
             "#bd3786"
            ],
            [
             0.5555555555555556,
             "#d8576b"
            ],
            [
             0.6666666666666666,
             "#ed7953"
            ],
            [
             0.7777777777777778,
             "#fb9f3a"
            ],
            [
             0.8888888888888888,
             "#fdca26"
            ],
            [
             1,
             "#f0f921"
            ]
           ],
           "sequentialminus": [
            [
             0,
             "#0d0887"
            ],
            [
             0.1111111111111111,
             "#46039f"
            ],
            [
             0.2222222222222222,
             "#7201a8"
            ],
            [
             0.3333333333333333,
             "#9c179e"
            ],
            [
             0.4444444444444444,
             "#bd3786"
            ],
            [
             0.5555555555555556,
             "#d8576b"
            ],
            [
             0.6666666666666666,
             "#ed7953"
            ],
            [
             0.7777777777777778,
             "#fb9f3a"
            ],
            [
             0.8888888888888888,
             "#fdca26"
            ],
            [
             1,
             "#f0f921"
            ]
           ]
          },
          "colorway": [
           "#636efa",
           "#EF553B",
           "#00cc96",
           "#ab63fa",
           "#FFA15A",
           "#19d3f3",
           "#FF6692",
           "#B6E880",
           "#FF97FF",
           "#FECB52"
          ],
          "font": {
           "color": "#2a3f5f"
          },
          "geo": {
           "bgcolor": "white",
           "lakecolor": "white",
           "landcolor": "#E5ECF6",
           "showlakes": true,
           "showland": true,
           "subunitcolor": "white"
          },
          "hoverlabel": {
           "align": "left"
          },
          "hovermode": "closest",
          "mapbox": {
           "style": "light"
          },
          "paper_bgcolor": "white",
          "plot_bgcolor": "#E5ECF6",
          "polar": {
           "angularaxis": {
            "gridcolor": "white",
            "linecolor": "white",
            "ticks": ""
           },
           "bgcolor": "#E5ECF6",
           "radialaxis": {
            "gridcolor": "white",
            "linecolor": "white",
            "ticks": ""
           }
          },
          "scene": {
           "xaxis": {
            "backgroundcolor": "#E5ECF6",
            "gridcolor": "white",
            "gridwidth": 2,
            "linecolor": "white",
            "showbackground": true,
            "ticks": "",
            "zerolinecolor": "white"
           },
           "yaxis": {
            "backgroundcolor": "#E5ECF6",
            "gridcolor": "white",
            "gridwidth": 2,
            "linecolor": "white",
            "showbackground": true,
            "ticks": "",
            "zerolinecolor": "white"
           },
           "zaxis": {
            "backgroundcolor": "#E5ECF6",
            "gridcolor": "white",
            "gridwidth": 2,
            "linecolor": "white",
            "showbackground": true,
            "ticks": "",
            "zerolinecolor": "white"
           }
          },
          "shapedefaults": {
           "line": {
            "color": "#2a3f5f"
           }
          },
          "ternary": {
           "aaxis": {
            "gridcolor": "white",
            "linecolor": "white",
            "ticks": ""
           },
           "baxis": {
            "gridcolor": "white",
            "linecolor": "white",
            "ticks": ""
           },
           "bgcolor": "#E5ECF6",
           "caxis": {
            "gridcolor": "white",
            "linecolor": "white",
            "ticks": ""
           }
          },
          "title": {
           "x": 0.05
          },
          "xaxis": {
           "automargin": true,
           "gridcolor": "white",
           "linecolor": "white",
           "ticks": "",
           "title": {
            "standoff": 15
           },
           "zerolinecolor": "white",
           "zerolinewidth": 2
          },
          "yaxis": {
           "automargin": true,
           "gridcolor": "white",
           "linecolor": "white",
           "ticks": "",
           "title": {
            "standoff": 15
           },
           "zerolinecolor": "white",
           "zerolinewidth": 2
          }
         }
        },
        "xaxis": {
         "anchor": "y",
         "domain": [
          0,
          1
         ],
         "title": {
          "text": "sport_type"
         }
        },
        "yaxis": {
         "anchor": "x",
         "domain": [
          0,
          1
         ],
         "title": {
          "text": "distance"
         }
        }
       }
      }
     },
     "metadata": {},
     "output_type": "display_data"
    }
   ],
   "source": [
    "px.box(data, x=\"sport_type\", y=\"distance\")"
   ]
  },
  {
   "cell_type": "code",
   "execution_count": 36,
   "metadata": {},
   "outputs": [
    {
     "data": {
      "application/vnd.plotly.v1+json": {
       "config": {
        "plotlyServerURL": "https://plot.ly"
       },
       "data": [
        {
         "alignmentgroup": "True",
         "hovertemplate": "sport_type=%{x}<br>kudos_count=%{y}<extra></extra>",
         "legendgroup": "",
         "marker": {
          "color": "#636efa"
         },
         "name": "",
         "notched": false,
         "offsetgroup": "",
         "orientation": "v",
         "showlegend": false,
         "type": "box",
         "x": [
          "Run",
          "Run",
          "Run",
          "Run",
          "Run",
          "Run",
          "Run",
          "Run",
          "Run",
          "Run",
          "Run",
          "Run",
          "Run",
          "Run",
          "Run",
          "Run",
          "Hike",
          "Run",
          "Tennis",
          "Run",
          "Run",
          "Run",
          "Run",
          "Run",
          "Walk",
          "Run",
          "Run",
          "Run",
          "Run",
          "Run",
          "Run",
          "Run",
          "Run",
          "Run",
          "Run",
          "Run",
          "Run",
          "Run",
          "Run",
          "Run",
          "Run",
          "Run",
          "Run",
          "Run",
          "Run",
          "Run",
          "Run",
          "Run",
          "Run",
          "Run",
          "Run",
          "Run",
          "Run",
          "Run",
          "Run",
          "Run",
          "Run",
          "Run",
          "Run",
          "Run",
          "Run",
          "Run",
          "Run",
          "Run",
          "Run",
          "Run",
          "Run",
          "Run",
          "Run",
          "Run",
          "Run",
          "Run",
          "Walk",
          "Run",
          "Walk",
          "Run",
          "Workout",
          "Run",
          "Workout",
          "Run",
          "Run",
          "Workout",
          "Workout",
          "Workout",
          "Run",
          "Workout",
          "Run",
          "Run",
          "Run",
          "Run",
          "Run",
          "Run",
          "Run",
          "Run",
          "Run",
          "Run",
          "Run",
          "Run",
          "Run",
          "Run",
          "Run",
          "Run",
          "Run",
          "Run",
          "Run"
         ],
         "x0": " ",
         "xaxis": "x",
         "y": [
          4,
          0,
          5,
          2,
          5,
          2,
          2,
          2,
          3,
          2,
          1,
          2,
          2,
          2,
          3,
          2,
          1,
          1,
          1,
          0,
          1,
          1,
          2,
          2,
          0,
          1,
          1,
          2,
          1,
          0,
          0,
          0,
          0,
          0,
          0,
          1,
          2,
          1,
          2,
          1,
          2,
          2,
          2,
          2,
          1,
          2,
          2,
          1,
          1,
          2,
          2,
          2,
          0,
          2,
          1,
          1,
          1,
          1,
          1,
          1,
          0,
          0,
          0,
          0,
          0,
          0,
          0,
          0,
          0,
          0,
          1,
          1,
          0,
          0,
          0,
          0,
          0,
          0,
          0,
          0,
          0,
          0,
          0,
          0,
          0,
          0,
          0,
          0,
          0,
          0,
          0,
          0,
          0,
          0,
          0,
          0,
          0,
          0,
          0,
          0,
          0,
          0,
          0,
          0,
          0
         ],
         "y0": " ",
         "yaxis": "y"
        }
       ],
       "layout": {
        "boxmode": "group",
        "legend": {
         "tracegroupgap": 0
        },
        "margin": {
         "t": 60
        },
        "template": {
         "data": {
          "bar": [
           {
            "error_x": {
             "color": "#2a3f5f"
            },
            "error_y": {
             "color": "#2a3f5f"
            },
            "marker": {
             "line": {
              "color": "#E5ECF6",
              "width": 0.5
             },
             "pattern": {
              "fillmode": "overlay",
              "size": 10,
              "solidity": 0.2
             }
            },
            "type": "bar"
           }
          ],
          "barpolar": [
           {
            "marker": {
             "line": {
              "color": "#E5ECF6",
              "width": 0.5
             },
             "pattern": {
              "fillmode": "overlay",
              "size": 10,
              "solidity": 0.2
             }
            },
            "type": "barpolar"
           }
          ],
          "carpet": [
           {
            "aaxis": {
             "endlinecolor": "#2a3f5f",
             "gridcolor": "white",
             "linecolor": "white",
             "minorgridcolor": "white",
             "startlinecolor": "#2a3f5f"
            },
            "baxis": {
             "endlinecolor": "#2a3f5f",
             "gridcolor": "white",
             "linecolor": "white",
             "minorgridcolor": "white",
             "startlinecolor": "#2a3f5f"
            },
            "type": "carpet"
           }
          ],
          "choropleth": [
           {
            "colorbar": {
             "outlinewidth": 0,
             "ticks": ""
            },
            "type": "choropleth"
           }
          ],
          "contour": [
           {
            "colorbar": {
             "outlinewidth": 0,
             "ticks": ""
            },
            "colorscale": [
             [
              0,
              "#0d0887"
             ],
             [
              0.1111111111111111,
              "#46039f"
             ],
             [
              0.2222222222222222,
              "#7201a8"
             ],
             [
              0.3333333333333333,
              "#9c179e"
             ],
             [
              0.4444444444444444,
              "#bd3786"
             ],
             [
              0.5555555555555556,
              "#d8576b"
             ],
             [
              0.6666666666666666,
              "#ed7953"
             ],
             [
              0.7777777777777778,
              "#fb9f3a"
             ],
             [
              0.8888888888888888,
              "#fdca26"
             ],
             [
              1,
              "#f0f921"
             ]
            ],
            "type": "contour"
           }
          ],
          "contourcarpet": [
           {
            "colorbar": {
             "outlinewidth": 0,
             "ticks": ""
            },
            "type": "contourcarpet"
           }
          ],
          "heatmap": [
           {
            "colorbar": {
             "outlinewidth": 0,
             "ticks": ""
            },
            "colorscale": [
             [
              0,
              "#0d0887"
             ],
             [
              0.1111111111111111,
              "#46039f"
             ],
             [
              0.2222222222222222,
              "#7201a8"
             ],
             [
              0.3333333333333333,
              "#9c179e"
             ],
             [
              0.4444444444444444,
              "#bd3786"
             ],
             [
              0.5555555555555556,
              "#d8576b"
             ],
             [
              0.6666666666666666,
              "#ed7953"
             ],
             [
              0.7777777777777778,
              "#fb9f3a"
             ],
             [
              0.8888888888888888,
              "#fdca26"
             ],
             [
              1,
              "#f0f921"
             ]
            ],
            "type": "heatmap"
           }
          ],
          "heatmapgl": [
           {
            "colorbar": {
             "outlinewidth": 0,
             "ticks": ""
            },
            "colorscale": [
             [
              0,
              "#0d0887"
             ],
             [
              0.1111111111111111,
              "#46039f"
             ],
             [
              0.2222222222222222,
              "#7201a8"
             ],
             [
              0.3333333333333333,
              "#9c179e"
             ],
             [
              0.4444444444444444,
              "#bd3786"
             ],
             [
              0.5555555555555556,
              "#d8576b"
             ],
             [
              0.6666666666666666,
              "#ed7953"
             ],
             [
              0.7777777777777778,
              "#fb9f3a"
             ],
             [
              0.8888888888888888,
              "#fdca26"
             ],
             [
              1,
              "#f0f921"
             ]
            ],
            "type": "heatmapgl"
           }
          ],
          "histogram": [
           {
            "marker": {
             "pattern": {
              "fillmode": "overlay",
              "size": 10,
              "solidity": 0.2
             }
            },
            "type": "histogram"
           }
          ],
          "histogram2d": [
           {
            "colorbar": {
             "outlinewidth": 0,
             "ticks": ""
            },
            "colorscale": [
             [
              0,
              "#0d0887"
             ],
             [
              0.1111111111111111,
              "#46039f"
             ],
             [
              0.2222222222222222,
              "#7201a8"
             ],
             [
              0.3333333333333333,
              "#9c179e"
             ],
             [
              0.4444444444444444,
              "#bd3786"
             ],
             [
              0.5555555555555556,
              "#d8576b"
             ],
             [
              0.6666666666666666,
              "#ed7953"
             ],
             [
              0.7777777777777778,
              "#fb9f3a"
             ],
             [
              0.8888888888888888,
              "#fdca26"
             ],
             [
              1,
              "#f0f921"
             ]
            ],
            "type": "histogram2d"
           }
          ],
          "histogram2dcontour": [
           {
            "colorbar": {
             "outlinewidth": 0,
             "ticks": ""
            },
            "colorscale": [
             [
              0,
              "#0d0887"
             ],
             [
              0.1111111111111111,
              "#46039f"
             ],
             [
              0.2222222222222222,
              "#7201a8"
             ],
             [
              0.3333333333333333,
              "#9c179e"
             ],
             [
              0.4444444444444444,
              "#bd3786"
             ],
             [
              0.5555555555555556,
              "#d8576b"
             ],
             [
              0.6666666666666666,
              "#ed7953"
             ],
             [
              0.7777777777777778,
              "#fb9f3a"
             ],
             [
              0.8888888888888888,
              "#fdca26"
             ],
             [
              1,
              "#f0f921"
             ]
            ],
            "type": "histogram2dcontour"
           }
          ],
          "mesh3d": [
           {
            "colorbar": {
             "outlinewidth": 0,
             "ticks": ""
            },
            "type": "mesh3d"
           }
          ],
          "parcoords": [
           {
            "line": {
             "colorbar": {
              "outlinewidth": 0,
              "ticks": ""
             }
            },
            "type": "parcoords"
           }
          ],
          "pie": [
           {
            "automargin": true,
            "type": "pie"
           }
          ],
          "scatter": [
           {
            "fillpattern": {
             "fillmode": "overlay",
             "size": 10,
             "solidity": 0.2
            },
            "type": "scatter"
           }
          ],
          "scatter3d": [
           {
            "line": {
             "colorbar": {
              "outlinewidth": 0,
              "ticks": ""
             }
            },
            "marker": {
             "colorbar": {
              "outlinewidth": 0,
              "ticks": ""
             }
            },
            "type": "scatter3d"
           }
          ],
          "scattercarpet": [
           {
            "marker": {
             "colorbar": {
              "outlinewidth": 0,
              "ticks": ""
             }
            },
            "type": "scattercarpet"
           }
          ],
          "scattergeo": [
           {
            "marker": {
             "colorbar": {
              "outlinewidth": 0,
              "ticks": ""
             }
            },
            "type": "scattergeo"
           }
          ],
          "scattergl": [
           {
            "marker": {
             "colorbar": {
              "outlinewidth": 0,
              "ticks": ""
             }
            },
            "type": "scattergl"
           }
          ],
          "scattermapbox": [
           {
            "marker": {
             "colorbar": {
              "outlinewidth": 0,
              "ticks": ""
             }
            },
            "type": "scattermapbox"
           }
          ],
          "scatterpolar": [
           {
            "marker": {
             "colorbar": {
              "outlinewidth": 0,
              "ticks": ""
             }
            },
            "type": "scatterpolar"
           }
          ],
          "scatterpolargl": [
           {
            "marker": {
             "colorbar": {
              "outlinewidth": 0,
              "ticks": ""
             }
            },
            "type": "scatterpolargl"
           }
          ],
          "scatterternary": [
           {
            "marker": {
             "colorbar": {
              "outlinewidth": 0,
              "ticks": ""
             }
            },
            "type": "scatterternary"
           }
          ],
          "surface": [
           {
            "colorbar": {
             "outlinewidth": 0,
             "ticks": ""
            },
            "colorscale": [
             [
              0,
              "#0d0887"
             ],
             [
              0.1111111111111111,
              "#46039f"
             ],
             [
              0.2222222222222222,
              "#7201a8"
             ],
             [
              0.3333333333333333,
              "#9c179e"
             ],
             [
              0.4444444444444444,
              "#bd3786"
             ],
             [
              0.5555555555555556,
              "#d8576b"
             ],
             [
              0.6666666666666666,
              "#ed7953"
             ],
             [
              0.7777777777777778,
              "#fb9f3a"
             ],
             [
              0.8888888888888888,
              "#fdca26"
             ],
             [
              1,
              "#f0f921"
             ]
            ],
            "type": "surface"
           }
          ],
          "table": [
           {
            "cells": {
             "fill": {
              "color": "#EBF0F8"
             },
             "line": {
              "color": "white"
             }
            },
            "header": {
             "fill": {
              "color": "#C8D4E3"
             },
             "line": {
              "color": "white"
             }
            },
            "type": "table"
           }
          ]
         },
         "layout": {
          "annotationdefaults": {
           "arrowcolor": "#2a3f5f",
           "arrowhead": 0,
           "arrowwidth": 1
          },
          "autotypenumbers": "strict",
          "coloraxis": {
           "colorbar": {
            "outlinewidth": 0,
            "ticks": ""
           }
          },
          "colorscale": {
           "diverging": [
            [
             0,
             "#8e0152"
            ],
            [
             0.1,
             "#c51b7d"
            ],
            [
             0.2,
             "#de77ae"
            ],
            [
             0.3,
             "#f1b6da"
            ],
            [
             0.4,
             "#fde0ef"
            ],
            [
             0.5,
             "#f7f7f7"
            ],
            [
             0.6,
             "#e6f5d0"
            ],
            [
             0.7,
             "#b8e186"
            ],
            [
             0.8,
             "#7fbc41"
            ],
            [
             0.9,
             "#4d9221"
            ],
            [
             1,
             "#276419"
            ]
           ],
           "sequential": [
            [
             0,
             "#0d0887"
            ],
            [
             0.1111111111111111,
             "#46039f"
            ],
            [
             0.2222222222222222,
             "#7201a8"
            ],
            [
             0.3333333333333333,
             "#9c179e"
            ],
            [
             0.4444444444444444,
             "#bd3786"
            ],
            [
             0.5555555555555556,
             "#d8576b"
            ],
            [
             0.6666666666666666,
             "#ed7953"
            ],
            [
             0.7777777777777778,
             "#fb9f3a"
            ],
            [
             0.8888888888888888,
             "#fdca26"
            ],
            [
             1,
             "#f0f921"
            ]
           ],
           "sequentialminus": [
            [
             0,
             "#0d0887"
            ],
            [
             0.1111111111111111,
             "#46039f"
            ],
            [
             0.2222222222222222,
             "#7201a8"
            ],
            [
             0.3333333333333333,
             "#9c179e"
            ],
            [
             0.4444444444444444,
             "#bd3786"
            ],
            [
             0.5555555555555556,
             "#d8576b"
            ],
            [
             0.6666666666666666,
             "#ed7953"
            ],
            [
             0.7777777777777778,
             "#fb9f3a"
            ],
            [
             0.8888888888888888,
             "#fdca26"
            ],
            [
             1,
             "#f0f921"
            ]
           ]
          },
          "colorway": [
           "#636efa",
           "#EF553B",
           "#00cc96",
           "#ab63fa",
           "#FFA15A",
           "#19d3f3",
           "#FF6692",
           "#B6E880",
           "#FF97FF",
           "#FECB52"
          ],
          "font": {
           "color": "#2a3f5f"
          },
          "geo": {
           "bgcolor": "white",
           "lakecolor": "white",
           "landcolor": "#E5ECF6",
           "showlakes": true,
           "showland": true,
           "subunitcolor": "white"
          },
          "hoverlabel": {
           "align": "left"
          },
          "hovermode": "closest",
          "mapbox": {
           "style": "light"
          },
          "paper_bgcolor": "white",
          "plot_bgcolor": "#E5ECF6",
          "polar": {
           "angularaxis": {
            "gridcolor": "white",
            "linecolor": "white",
            "ticks": ""
           },
           "bgcolor": "#E5ECF6",
           "radialaxis": {
            "gridcolor": "white",
            "linecolor": "white",
            "ticks": ""
           }
          },
          "scene": {
           "xaxis": {
            "backgroundcolor": "#E5ECF6",
            "gridcolor": "white",
            "gridwidth": 2,
            "linecolor": "white",
            "showbackground": true,
            "ticks": "",
            "zerolinecolor": "white"
           },
           "yaxis": {
            "backgroundcolor": "#E5ECF6",
            "gridcolor": "white",
            "gridwidth": 2,
            "linecolor": "white",
            "showbackground": true,
            "ticks": "",
            "zerolinecolor": "white"
           },
           "zaxis": {
            "backgroundcolor": "#E5ECF6",
            "gridcolor": "white",
            "gridwidth": 2,
            "linecolor": "white",
            "showbackground": true,
            "ticks": "",
            "zerolinecolor": "white"
           }
          },
          "shapedefaults": {
           "line": {
            "color": "#2a3f5f"
           }
          },
          "ternary": {
           "aaxis": {
            "gridcolor": "white",
            "linecolor": "white",
            "ticks": ""
           },
           "baxis": {
            "gridcolor": "white",
            "linecolor": "white",
            "ticks": ""
           },
           "bgcolor": "#E5ECF6",
           "caxis": {
            "gridcolor": "white",
            "linecolor": "white",
            "ticks": ""
           }
          },
          "title": {
           "x": 0.05
          },
          "xaxis": {
           "automargin": true,
           "gridcolor": "white",
           "linecolor": "white",
           "ticks": "",
           "title": {
            "standoff": 15
           },
           "zerolinecolor": "white",
           "zerolinewidth": 2
          },
          "yaxis": {
           "automargin": true,
           "gridcolor": "white",
           "linecolor": "white",
           "ticks": "",
           "title": {
            "standoff": 15
           },
           "zerolinecolor": "white",
           "zerolinewidth": 2
          }
         }
        },
        "xaxis": {
         "anchor": "y",
         "domain": [
          0,
          1
         ],
         "title": {
          "text": "sport_type"
         }
        },
        "yaxis": {
         "anchor": "x",
         "domain": [
          0,
          1
         ],
         "title": {
          "text": "kudos_count"
         }
        }
       }
      }
     },
     "metadata": {},
     "output_type": "display_data"
    }
   ],
   "source": [
    "px.box(data, x=\"sport_type\", y=\"kudos_count\")"
   ]
  },
  {
   "cell_type": "markdown",
   "metadata": {},
   "source": [
    "## Data Cleaning and Feature Engineering\n",
    "\n",
    "The start_date is used to extract the Day, Month, and Year. Each column is confirmed to have no null values.\n",
    "\n",
    "The distance variables are converted to miles, the time variables are converted to minutes, the speed variables are converted to miles per hour.\n",
    "\n",
    "A pace variables is added by dividing moving_time_minutes by distace_miles."
   ]
  },
  {
   "cell_type": "code",
   "execution_count": 13,
   "metadata": {},
   "outputs": [
    {
     "data": {
      "text/plain": [
       "Sr. no.                 False\n",
       "start_date_local        False\n",
       "type                    False\n",
       "distance                False\n",
       "moving_time             False\n",
       "elapsed_time            False\n",
       "total_elevation_gain    False\n",
       "start_latlng            False\n",
       "end_latlng              False\n",
       "sport_type              False\n",
       "start_date              False\n",
       "timezone                False\n",
       "achievement_count       False\n",
       "kudos_count             False\n",
       "comment_count           False\n",
       "athlete_count           False\n",
       "photo_count             False\n",
       "average_speed           False\n",
       "max_speed               False\n",
       "year                    False\n",
       "month                   False\n",
       "day                     False\n",
       "dtype: bool"
      ]
     },
     "execution_count": 13,
     "metadata": {},
     "output_type": "execute_result"
    }
   ],
   "source": [
    "data.isnull().any()"
   ]
  },
  {
   "cell_type": "code",
   "execution_count": 31,
   "metadata": {},
   "outputs": [],
   "source": [
    "data[\"distance_miles\"] = data[\"distance\"] * 0.000621371\n",
    "data[\"moving_time\"] = pd.to_timedelta(data[\"moving_time\"], unit=\"s\")\n",
    "data[\"moving_time_minutes\"] = data[\"moving_time\"].dt.total_seconds() / 60\n",
    "data[\"elapsed_time\"] = pd.to_timedelta(data[\"elapsed_time\"], unit=\"s\")\n",
    "data[\"elapsed_time_minutes\"] = data[\"elapsed_time\"].dt.total_seconds() / 60\n",
    "data[\"average_speed_mph\"] = data[\"average_speed\"] * 2.23694\n",
    "data[\"max_speed_mph\"] = data[\"max_speed\"] * 2.23694\n",
    "data[\"pace\"] = data[\"moving_time\"] / data[\"distance_miles\"]"
   ]
  },
  {
   "cell_type": "code",
   "execution_count": 47,
   "metadata": {},
   "outputs": [
    {
     "data": {
      "application/vnd.plotly.v1+json": {
       "config": {
        "plotlyServerURL": "https://plot.ly"
       },
       "data": [
        {
         "hovertemplate": "type=Run<br>elapsed_time=%{x}<br>distance=%{y}<extra></extra>",
         "legendgroup": "Run",
         "marker": {
          "color": "#636efa",
          "symbol": "circle"
         },
         "mode": "markers",
         "name": "Run",
         "orientation": "v",
         "showlegend": true,
         "type": "scatter",
         "x": [
          4617,
          7462,
          2170,
          4221,
          2983,
          2735,
          4037,
          2012,
          15709,
          2051,
          4672,
          2560,
          2101,
          8239,
          1951,
          2824,
          2735,
          2049,
          2066,
          4727,
          2002,
          2116,
          2248,
          1092,
          1259,
          1121,
          10523,
          217,
          1883,
          7121,
          573,
          1017,
          1778,
          10507,
          1929,
          2013,
          1200,
          1860,
          6627,
          2821,
          1313,
          2090,
          3462,
          4352,
          2253,
          1018,
          3471,
          4953,
          951,
          4101,
          2354,
          3017,
          1490,
          1880,
          4795,
          2042,
          2292,
          3695,
          3496,
          9241,
          10154,
          5386,
          4453,
          4937,
          9323,
          6081,
          5905,
          3021,
          3888,
          2593,
          4471,
          4664,
          362,
          4768,
          2044,
          6794,
          5213,
          2237,
          5370,
          5749,
          3058,
          1657,
          5119,
          8503,
          5051,
          4439,
          5681,
          4113,
          3555,
          2478,
          2426,
          1009
         ],
         "xaxis": "x",
         "y": [
          10879.7,
          17503,
          3457.8,
          10108.2,
          6694.7,
          6518.5,
          10137.9,
          5065.6,
          32192.3,
          4900.2,
          10065.4,
          5080.1,
          5033.4,
          17774.7,
          5078.5,
          6090.6,
          4093,
          5087.6,
          5266.2,
          10078.3,
          5097.6,
          5317.7,
          5426.8,
          2948.4,
          3181.3,
          2976,
          22895.4,
          424.6,
          5043.5,
          16190.2,
          1611.9,
          3010.3,
          5044.5,
          21334,
          5049.4,
          5311.5,
          3130,
          5076.4,
          14991.3,
          6990.6,
          3294.3,
          5436.7,
          7523.6,
          7531.1,
          5474.7,
          2981.8,
          3080,
          11824.4,
          2222.6,
          10513.1,
          5341.4,
          7115.1,
          3374.6,
          5149.9,
          10113.4,
          2342.1,
          2520.5,
          5230.5,
          4604.7,
          22201.9,
          21479,
          12240.6,
          6241,
          10207.3,
          21792.6,
          13223.8,
          13194.5,
          6934.9,
          10334.2,
          5145,
          10352.6,
          10255.8,
          517.2,
          10287.1,
          5058.2,
          12983.3,
          10386.5,
          5247.3,
          10011.2,
          9517.1,
          5376.1,
          1986.7,
          10250.2,
          3457.6,
          10300.5,
          7321.8,
          10564.2,
          7857.2,
          6067.2,
          4587.6,
          4313.6,
          2764
         ],
         "yaxis": "y"
        },
        {
         "hovertemplate": "type=Hike<br>elapsed_time=%{x}<br>distance=%{y}<extra></extra>",
         "legendgroup": "Hike",
         "marker": {
          "color": "#EF553B",
          "symbol": "circle"
         },
         "mode": "markers",
         "name": "Hike",
         "orientation": "v",
         "showlegend": true,
         "type": "scatter",
         "x": [
          7263
         ],
         "xaxis": "x",
         "y": [
          4584.9
         ],
         "yaxis": "y"
        },
        {
         "hovertemplate": "type=Workout<br>elapsed_time=%{x}<br>distance=%{y}<extra></extra>",
         "legendgroup": "Workout",
         "marker": {
          "color": "#00cc96",
          "symbol": "circle"
         },
         "mode": "markers",
         "name": "Workout",
         "orientation": "v",
         "showlegend": true,
         "type": "scatter",
         "x": [
          2564,
          8575,
          8293,
          5181,
          8646,
          5931,
          4433
         ],
         "xaxis": "x",
         "y": [
          0,
          0,
          0,
          0,
          0,
          0,
          0
         ],
         "yaxis": "y"
        },
        {
         "hovertemplate": "type=Walk<br>elapsed_time=%{x}<br>distance=%{y}<extra></extra>",
         "legendgroup": "Walk",
         "marker": {
          "color": "#ab63fa",
          "symbol": "circle"
         },
         "mode": "markers",
         "name": "Walk",
         "orientation": "v",
         "showlegend": true,
         "type": "scatter",
         "x": [
          1401,
          255,
          1699
         ],
         "xaxis": "x",
         "y": [
          1864.9,
          570.7,
          1053.6
         ],
         "yaxis": "y"
        }
       ],
       "layout": {
        "legend": {
         "title": {
          "text": "type"
         },
         "tracegroupgap": 0
        },
        "margin": {
         "t": 60
        },
        "template": {
         "data": {
          "bar": [
           {
            "error_x": {
             "color": "#2a3f5f"
            },
            "error_y": {
             "color": "#2a3f5f"
            },
            "marker": {
             "line": {
              "color": "#E5ECF6",
              "width": 0.5
             },
             "pattern": {
              "fillmode": "overlay",
              "size": 10,
              "solidity": 0.2
             }
            },
            "type": "bar"
           }
          ],
          "barpolar": [
           {
            "marker": {
             "line": {
              "color": "#E5ECF6",
              "width": 0.5
             },
             "pattern": {
              "fillmode": "overlay",
              "size": 10,
              "solidity": 0.2
             }
            },
            "type": "barpolar"
           }
          ],
          "carpet": [
           {
            "aaxis": {
             "endlinecolor": "#2a3f5f",
             "gridcolor": "white",
             "linecolor": "white",
             "minorgridcolor": "white",
             "startlinecolor": "#2a3f5f"
            },
            "baxis": {
             "endlinecolor": "#2a3f5f",
             "gridcolor": "white",
             "linecolor": "white",
             "minorgridcolor": "white",
             "startlinecolor": "#2a3f5f"
            },
            "type": "carpet"
           }
          ],
          "choropleth": [
           {
            "colorbar": {
             "outlinewidth": 0,
             "ticks": ""
            },
            "type": "choropleth"
           }
          ],
          "contour": [
           {
            "colorbar": {
             "outlinewidth": 0,
             "ticks": ""
            },
            "colorscale": [
             [
              0,
              "#0d0887"
             ],
             [
              0.1111111111111111,
              "#46039f"
             ],
             [
              0.2222222222222222,
              "#7201a8"
             ],
             [
              0.3333333333333333,
              "#9c179e"
             ],
             [
              0.4444444444444444,
              "#bd3786"
             ],
             [
              0.5555555555555556,
              "#d8576b"
             ],
             [
              0.6666666666666666,
              "#ed7953"
             ],
             [
              0.7777777777777778,
              "#fb9f3a"
             ],
             [
              0.8888888888888888,
              "#fdca26"
             ],
             [
              1,
              "#f0f921"
             ]
            ],
            "type": "contour"
           }
          ],
          "contourcarpet": [
           {
            "colorbar": {
             "outlinewidth": 0,
             "ticks": ""
            },
            "type": "contourcarpet"
           }
          ],
          "heatmap": [
           {
            "colorbar": {
             "outlinewidth": 0,
             "ticks": ""
            },
            "colorscale": [
             [
              0,
              "#0d0887"
             ],
             [
              0.1111111111111111,
              "#46039f"
             ],
             [
              0.2222222222222222,
              "#7201a8"
             ],
             [
              0.3333333333333333,
              "#9c179e"
             ],
             [
              0.4444444444444444,
              "#bd3786"
             ],
             [
              0.5555555555555556,
              "#d8576b"
             ],
             [
              0.6666666666666666,
              "#ed7953"
             ],
             [
              0.7777777777777778,
              "#fb9f3a"
             ],
             [
              0.8888888888888888,
              "#fdca26"
             ],
             [
              1,
              "#f0f921"
             ]
            ],
            "type": "heatmap"
           }
          ],
          "heatmapgl": [
           {
            "colorbar": {
             "outlinewidth": 0,
             "ticks": ""
            },
            "colorscale": [
             [
              0,
              "#0d0887"
             ],
             [
              0.1111111111111111,
              "#46039f"
             ],
             [
              0.2222222222222222,
              "#7201a8"
             ],
             [
              0.3333333333333333,
              "#9c179e"
             ],
             [
              0.4444444444444444,
              "#bd3786"
             ],
             [
              0.5555555555555556,
              "#d8576b"
             ],
             [
              0.6666666666666666,
              "#ed7953"
             ],
             [
              0.7777777777777778,
              "#fb9f3a"
             ],
             [
              0.8888888888888888,
              "#fdca26"
             ],
             [
              1,
              "#f0f921"
             ]
            ],
            "type": "heatmapgl"
           }
          ],
          "histogram": [
           {
            "marker": {
             "pattern": {
              "fillmode": "overlay",
              "size": 10,
              "solidity": 0.2
             }
            },
            "type": "histogram"
           }
          ],
          "histogram2d": [
           {
            "colorbar": {
             "outlinewidth": 0,
             "ticks": ""
            },
            "colorscale": [
             [
              0,
              "#0d0887"
             ],
             [
              0.1111111111111111,
              "#46039f"
             ],
             [
              0.2222222222222222,
              "#7201a8"
             ],
             [
              0.3333333333333333,
              "#9c179e"
             ],
             [
              0.4444444444444444,
              "#bd3786"
             ],
             [
              0.5555555555555556,
              "#d8576b"
             ],
             [
              0.6666666666666666,
              "#ed7953"
             ],
             [
              0.7777777777777778,
              "#fb9f3a"
             ],
             [
              0.8888888888888888,
              "#fdca26"
             ],
             [
              1,
              "#f0f921"
             ]
            ],
            "type": "histogram2d"
           }
          ],
          "histogram2dcontour": [
           {
            "colorbar": {
             "outlinewidth": 0,
             "ticks": ""
            },
            "colorscale": [
             [
              0,
              "#0d0887"
             ],
             [
              0.1111111111111111,
              "#46039f"
             ],
             [
              0.2222222222222222,
              "#7201a8"
             ],
             [
              0.3333333333333333,
              "#9c179e"
             ],
             [
              0.4444444444444444,
              "#bd3786"
             ],
             [
              0.5555555555555556,
              "#d8576b"
             ],
             [
              0.6666666666666666,
              "#ed7953"
             ],
             [
              0.7777777777777778,
              "#fb9f3a"
             ],
             [
              0.8888888888888888,
              "#fdca26"
             ],
             [
              1,
              "#f0f921"
             ]
            ],
            "type": "histogram2dcontour"
           }
          ],
          "mesh3d": [
           {
            "colorbar": {
             "outlinewidth": 0,
             "ticks": ""
            },
            "type": "mesh3d"
           }
          ],
          "parcoords": [
           {
            "line": {
             "colorbar": {
              "outlinewidth": 0,
              "ticks": ""
             }
            },
            "type": "parcoords"
           }
          ],
          "pie": [
           {
            "automargin": true,
            "type": "pie"
           }
          ],
          "scatter": [
           {
            "fillpattern": {
             "fillmode": "overlay",
             "size": 10,
             "solidity": 0.2
            },
            "type": "scatter"
           }
          ],
          "scatter3d": [
           {
            "line": {
             "colorbar": {
              "outlinewidth": 0,
              "ticks": ""
             }
            },
            "marker": {
             "colorbar": {
              "outlinewidth": 0,
              "ticks": ""
             }
            },
            "type": "scatter3d"
           }
          ],
          "scattercarpet": [
           {
            "marker": {
             "colorbar": {
              "outlinewidth": 0,
              "ticks": ""
             }
            },
            "type": "scattercarpet"
           }
          ],
          "scattergeo": [
           {
            "marker": {
             "colorbar": {
              "outlinewidth": 0,
              "ticks": ""
             }
            },
            "type": "scattergeo"
           }
          ],
          "scattergl": [
           {
            "marker": {
             "colorbar": {
              "outlinewidth": 0,
              "ticks": ""
             }
            },
            "type": "scattergl"
           }
          ],
          "scattermapbox": [
           {
            "marker": {
             "colorbar": {
              "outlinewidth": 0,
              "ticks": ""
             }
            },
            "type": "scattermapbox"
           }
          ],
          "scatterpolar": [
           {
            "marker": {
             "colorbar": {
              "outlinewidth": 0,
              "ticks": ""
             }
            },
            "type": "scatterpolar"
           }
          ],
          "scatterpolargl": [
           {
            "marker": {
             "colorbar": {
              "outlinewidth": 0,
              "ticks": ""
             }
            },
            "type": "scatterpolargl"
           }
          ],
          "scatterternary": [
           {
            "marker": {
             "colorbar": {
              "outlinewidth": 0,
              "ticks": ""
             }
            },
            "type": "scatterternary"
           }
          ],
          "surface": [
           {
            "colorbar": {
             "outlinewidth": 0,
             "ticks": ""
            },
            "colorscale": [
             [
              0,
              "#0d0887"
             ],
             [
              0.1111111111111111,
              "#46039f"
             ],
             [
              0.2222222222222222,
              "#7201a8"
             ],
             [
              0.3333333333333333,
              "#9c179e"
             ],
             [
              0.4444444444444444,
              "#bd3786"
             ],
             [
              0.5555555555555556,
              "#d8576b"
             ],
             [
              0.6666666666666666,
              "#ed7953"
             ],
             [
              0.7777777777777778,
              "#fb9f3a"
             ],
             [
              0.8888888888888888,
              "#fdca26"
             ],
             [
              1,
              "#f0f921"
             ]
            ],
            "type": "surface"
           }
          ],
          "table": [
           {
            "cells": {
             "fill": {
              "color": "#EBF0F8"
             },
             "line": {
              "color": "white"
             }
            },
            "header": {
             "fill": {
              "color": "#C8D4E3"
             },
             "line": {
              "color": "white"
             }
            },
            "type": "table"
           }
          ]
         },
         "layout": {
          "annotationdefaults": {
           "arrowcolor": "#2a3f5f",
           "arrowhead": 0,
           "arrowwidth": 1
          },
          "autotypenumbers": "strict",
          "coloraxis": {
           "colorbar": {
            "outlinewidth": 0,
            "ticks": ""
           }
          },
          "colorscale": {
           "diverging": [
            [
             0,
             "#8e0152"
            ],
            [
             0.1,
             "#c51b7d"
            ],
            [
             0.2,
             "#de77ae"
            ],
            [
             0.3,
             "#f1b6da"
            ],
            [
             0.4,
             "#fde0ef"
            ],
            [
             0.5,
             "#f7f7f7"
            ],
            [
             0.6,
             "#e6f5d0"
            ],
            [
             0.7,
             "#b8e186"
            ],
            [
             0.8,
             "#7fbc41"
            ],
            [
             0.9,
             "#4d9221"
            ],
            [
             1,
             "#276419"
            ]
           ],
           "sequential": [
            [
             0,
             "#0d0887"
            ],
            [
             0.1111111111111111,
             "#46039f"
            ],
            [
             0.2222222222222222,
             "#7201a8"
            ],
            [
             0.3333333333333333,
             "#9c179e"
            ],
            [
             0.4444444444444444,
             "#bd3786"
            ],
            [
             0.5555555555555556,
             "#d8576b"
            ],
            [
             0.6666666666666666,
             "#ed7953"
            ],
            [
             0.7777777777777778,
             "#fb9f3a"
            ],
            [
             0.8888888888888888,
             "#fdca26"
            ],
            [
             1,
             "#f0f921"
            ]
           ],
           "sequentialminus": [
            [
             0,
             "#0d0887"
            ],
            [
             0.1111111111111111,
             "#46039f"
            ],
            [
             0.2222222222222222,
             "#7201a8"
            ],
            [
             0.3333333333333333,
             "#9c179e"
            ],
            [
             0.4444444444444444,
             "#bd3786"
            ],
            [
             0.5555555555555556,
             "#d8576b"
            ],
            [
             0.6666666666666666,
             "#ed7953"
            ],
            [
             0.7777777777777778,
             "#fb9f3a"
            ],
            [
             0.8888888888888888,
             "#fdca26"
            ],
            [
             1,
             "#f0f921"
            ]
           ]
          },
          "colorway": [
           "#636efa",
           "#EF553B",
           "#00cc96",
           "#ab63fa",
           "#FFA15A",
           "#19d3f3",
           "#FF6692",
           "#B6E880",
           "#FF97FF",
           "#FECB52"
          ],
          "font": {
           "color": "#2a3f5f"
          },
          "geo": {
           "bgcolor": "white",
           "lakecolor": "white",
           "landcolor": "#E5ECF6",
           "showlakes": true,
           "showland": true,
           "subunitcolor": "white"
          },
          "hoverlabel": {
           "align": "left"
          },
          "hovermode": "closest",
          "mapbox": {
           "style": "light"
          },
          "paper_bgcolor": "white",
          "plot_bgcolor": "#E5ECF6",
          "polar": {
           "angularaxis": {
            "gridcolor": "white",
            "linecolor": "white",
            "ticks": ""
           },
           "bgcolor": "#E5ECF6",
           "radialaxis": {
            "gridcolor": "white",
            "linecolor": "white",
            "ticks": ""
           }
          },
          "scene": {
           "xaxis": {
            "backgroundcolor": "#E5ECF6",
            "gridcolor": "white",
            "gridwidth": 2,
            "linecolor": "white",
            "showbackground": true,
            "ticks": "",
            "zerolinecolor": "white"
           },
           "yaxis": {
            "backgroundcolor": "#E5ECF6",
            "gridcolor": "white",
            "gridwidth": 2,
            "linecolor": "white",
            "showbackground": true,
            "ticks": "",
            "zerolinecolor": "white"
           },
           "zaxis": {
            "backgroundcolor": "#E5ECF6",
            "gridcolor": "white",
            "gridwidth": 2,
            "linecolor": "white",
            "showbackground": true,
            "ticks": "",
            "zerolinecolor": "white"
           }
          },
          "shapedefaults": {
           "line": {
            "color": "#2a3f5f"
           }
          },
          "ternary": {
           "aaxis": {
            "gridcolor": "white",
            "linecolor": "white",
            "ticks": ""
           },
           "baxis": {
            "gridcolor": "white",
            "linecolor": "white",
            "ticks": ""
           },
           "bgcolor": "#E5ECF6",
           "caxis": {
            "gridcolor": "white",
            "linecolor": "white",
            "ticks": ""
           }
          },
          "title": {
           "x": 0.05
          },
          "xaxis": {
           "automargin": true,
           "gridcolor": "white",
           "linecolor": "white",
           "ticks": "",
           "title": {
            "standoff": 15
           },
           "zerolinecolor": "white",
           "zerolinewidth": 2
          },
          "yaxis": {
           "automargin": true,
           "gridcolor": "white",
           "linecolor": "white",
           "ticks": "",
           "title": {
            "standoff": 15
           },
           "zerolinecolor": "white",
           "zerolinewidth": 2
          }
         }
        },
        "xaxis": {
         "anchor": "y",
         "domain": [
          0,
          1
         ],
         "title": {
          "text": "elapsed_time"
         }
        },
        "yaxis": {
         "anchor": "x",
         "domain": [
          0,
          1
         ],
         "title": {
          "text": "distance"
         }
        }
       }
      }
     },
     "metadata": {},
     "output_type": "display_data"
    }
   ],
   "source": [
    "px.scatter(data, \"elapsed_time\", \"distance\", color=\"type\")"
   ]
  },
  {
   "cell_type": "markdown",
   "metadata": {},
   "source": [
    "### Outliers\n",
    "\n",
    "There are 2 data points that are to the extreme for elapsed_time. These data points will be removed."
   ]
  },
  {
   "cell_type": "code",
   "execution_count": 44,
   "metadata": {},
   "outputs": [
    {
     "data": {
      "text/html": [
       "<div>\n",
       "<style scoped>\n",
       "    .dataframe tbody tr th:only-of-type {\n",
       "        vertical-align: middle;\n",
       "    }\n",
       "\n",
       "    .dataframe tbody tr th {\n",
       "        vertical-align: top;\n",
       "    }\n",
       "\n",
       "    .dataframe thead th {\n",
       "        text-align: right;\n",
       "    }\n",
       "</style>\n",
       "<table border=\"1\" class=\"dataframe\">\n",
       "  <thead>\n",
       "    <tr style=\"text-align: right;\">\n",
       "      <th></th>\n",
       "      <th>Sr. no.</th>\n",
       "      <th>start_date_local</th>\n",
       "      <th>type</th>\n",
       "      <th>distance</th>\n",
       "      <th>moving_time</th>\n",
       "      <th>elapsed_time</th>\n",
       "      <th>total_elevation_gain</th>\n",
       "      <th>start_latlng</th>\n",
       "      <th>end_latlng</th>\n",
       "      <th>sport_type</th>\n",
       "      <th>start_date</th>\n",
       "      <th>timezone</th>\n",
       "      <th>achievement_count</th>\n",
       "      <th>kudos_count</th>\n",
       "      <th>comment_count</th>\n",
       "      <th>athlete_count</th>\n",
       "      <th>photo_count</th>\n",
       "      <th>average_speed</th>\n",
       "      <th>max_speed</th>\n",
       "    </tr>\n",
       "  </thead>\n",
       "  <tbody>\n",
       "    <tr>\n",
       "      <th>0</th>\n",
       "      <td>1</td>\n",
       "      <td>2023-12-09T09:09:19Z</td>\n",
       "      <td>Run</td>\n",
       "      <td>10879.7</td>\n",
       "      <td>4023</td>\n",
       "      <td>4617</td>\n",
       "      <td>91.4</td>\n",
       "      <td>[40.70327935740352, -73.99619171395898]</td>\n",
       "      <td>[40.69340907968581, -73.97922154515982]</td>\n",
       "      <td>Run</td>\n",
       "      <td>2023-12-09T14:09:19Z</td>\n",
       "      <td>(GMT-05:00) America/New_York</td>\n",
       "      <td>4</td>\n",
       "      <td>4</td>\n",
       "      <td>0</td>\n",
       "      <td>3</td>\n",
       "      <td>0</td>\n",
       "      <td>2.704</td>\n",
       "      <td>6.228</td>\n",
       "    </tr>\n",
       "    <tr>\n",
       "      <th>2</th>\n",
       "      <td>3</td>\n",
       "      <td>2023-12-03T09:18:13Z</td>\n",
       "      <td>Run</td>\n",
       "      <td>17503.0</td>\n",
       "      <td>7370</td>\n",
       "      <td>7462</td>\n",
       "      <td>68.4</td>\n",
       "      <td>[40.74991073459387, -73.98751585744321]</td>\n",
       "      <td>[40.73538766242564, -73.9793517999351]</td>\n",
       "      <td>Run</td>\n",
       "      <td>2023-12-03T14:18:13Z</td>\n",
       "      <td>(GMT-05:00) America/New_York</td>\n",
       "      <td>2</td>\n",
       "      <td>5</td>\n",
       "      <td>0</td>\n",
       "      <td>4</td>\n",
       "      <td>0</td>\n",
       "      <td>2.375</td>\n",
       "      <td>6.778</td>\n",
       "    </tr>\n",
       "    <tr>\n",
       "      <th>3</th>\n",
       "      <td>4</td>\n",
       "      <td>2023-12-02T09:41:14Z</td>\n",
       "      <td>Run</td>\n",
       "      <td>3457.8</td>\n",
       "      <td>1791</td>\n",
       "      <td>2170</td>\n",
       "      <td>3.9</td>\n",
       "      <td>[40.72203076444566, -74.03641068376601]</td>\n",
       "      <td>[40.71398631669581, -74.03902692720294]</td>\n",
       "      <td>Run</td>\n",
       "      <td>2023-12-02T14:41:14Z</td>\n",
       "      <td>(GMT-05:00) America/New_York</td>\n",
       "      <td>0</td>\n",
       "      <td>2</td>\n",
       "      <td>0</td>\n",
       "      <td>3</td>\n",
       "      <td>0</td>\n",
       "      <td>1.931</td>\n",
       "      <td>4.522</td>\n",
       "    </tr>\n",
       "    <tr>\n",
       "      <th>4</th>\n",
       "      <td>5</td>\n",
       "      <td>2023-12-01T17:06:05Z</td>\n",
       "      <td>Run</td>\n",
       "      <td>10108.2</td>\n",
       "      <td>4128</td>\n",
       "      <td>4221</td>\n",
       "      <td>6.3</td>\n",
       "      <td>[40.72190687991679, -74.03624514117837]</td>\n",
       "      <td>[40.71669920347631, -74.03264125809073]</td>\n",
       "      <td>Run</td>\n",
       "      <td>2023-12-01T22:06:05Z</td>\n",
       "      <td>(GMT-05:00) America/New_York</td>\n",
       "      <td>4</td>\n",
       "      <td>5</td>\n",
       "      <td>0</td>\n",
       "      <td>1</td>\n",
       "      <td>0</td>\n",
       "      <td>2.449</td>\n",
       "      <td>5.462</td>\n",
       "    </tr>\n",
       "    <tr>\n",
       "      <th>5</th>\n",
       "      <td>6</td>\n",
       "      <td>2023-11-29T17:22:51Z</td>\n",
       "      <td>Run</td>\n",
       "      <td>6694.7</td>\n",
       "      <td>2913</td>\n",
       "      <td>2983</td>\n",
       "      <td>9.8</td>\n",
       "      <td>[40.72185751050711, -74.03604313731194]</td>\n",
       "      <td>[40.719508565962315, -74.03692323714495]</td>\n",
       "      <td>Run</td>\n",
       "      <td>2023-11-29T22:22:51Z</td>\n",
       "      <td>(GMT-05:00) America/New_York</td>\n",
       "      <td>1</td>\n",
       "      <td>2</td>\n",
       "      <td>1</td>\n",
       "      <td>1</td>\n",
       "      <td>0</td>\n",
       "      <td>2.298</td>\n",
       "      <td>4.972</td>\n",
       "    </tr>\n",
       "    <tr>\n",
       "      <th>...</th>\n",
       "      <td>...</td>\n",
       "      <td>...</td>\n",
       "      <td>...</td>\n",
       "      <td>...</td>\n",
       "      <td>...</td>\n",
       "      <td>...</td>\n",
       "      <td>...</td>\n",
       "      <td>...</td>\n",
       "      <td>...</td>\n",
       "      <td>...</td>\n",
       "      <td>...</td>\n",
       "      <td>...</td>\n",
       "      <td>...</td>\n",
       "      <td>...</td>\n",
       "      <td>...</td>\n",
       "      <td>...</td>\n",
       "      <td>...</td>\n",
       "      <td>...</td>\n",
       "      <td>...</td>\n",
       "    </tr>\n",
       "    <tr>\n",
       "      <th>100</th>\n",
       "      <td>101</td>\n",
       "      <td>2022-06-12T09:20:44Z</td>\n",
       "      <td>Run</td>\n",
       "      <td>7857.2</td>\n",
       "      <td>3900</td>\n",
       "      <td>4113</td>\n",
       "      <td>116.6</td>\n",
       "      <td>[39.27252494730055, -76.69631998054683]</td>\n",
       "      <td>[39.27245143800974, -76.69639013707638]</td>\n",
       "      <td>Run</td>\n",
       "      <td>2022-06-12T13:20:44Z</td>\n",
       "      <td>(GMT-05:00) America/New_York</td>\n",
       "      <td>6</td>\n",
       "      <td>0</td>\n",
       "      <td>0</td>\n",
       "      <td>1</td>\n",
       "      <td>0</td>\n",
       "      <td>2.015</td>\n",
       "      <td>3.326</td>\n",
       "    </tr>\n",
       "    <tr>\n",
       "      <th>101</th>\n",
       "      <td>102</td>\n",
       "      <td>2022-05-28T11:11:38Z</td>\n",
       "      <td>Run</td>\n",
       "      <td>6067.2</td>\n",
       "      <td>3334</td>\n",
       "      <td>3555</td>\n",
       "      <td>88.2</td>\n",
       "      <td>[39.272494772449136, -76.69640866108239]</td>\n",
       "      <td>[39.27246367558837, -76.69636884704232]</td>\n",
       "      <td>Run</td>\n",
       "      <td>2022-05-28T15:11:38Z</td>\n",
       "      <td>(GMT-05:00) America/New_York</td>\n",
       "      <td>3</td>\n",
       "      <td>0</td>\n",
       "      <td>0</td>\n",
       "      <td>1</td>\n",
       "      <td>0</td>\n",
       "      <td>1.820</td>\n",
       "      <td>3.172</td>\n",
       "    </tr>\n",
       "    <tr>\n",
       "      <th>102</th>\n",
       "      <td>103</td>\n",
       "      <td>2022-05-22T07:13:30Z</td>\n",
       "      <td>Run</td>\n",
       "      <td>4587.6</td>\n",
       "      <td>2263</td>\n",
       "      <td>2478</td>\n",
       "      <td>56.6</td>\n",
       "      <td>[39.272621758282185, -76.69633297249675]</td>\n",
       "      <td>[39.27250734530389, -76.69635468162596]</td>\n",
       "      <td>Run</td>\n",
       "      <td>2022-05-22T11:13:30Z</td>\n",
       "      <td>(GMT-05:00) America/New_York</td>\n",
       "      <td>5</td>\n",
       "      <td>0</td>\n",
       "      <td>0</td>\n",
       "      <td>1</td>\n",
       "      <td>0</td>\n",
       "      <td>2.027</td>\n",
       "      <td>3.557</td>\n",
       "    </tr>\n",
       "    <tr>\n",
       "      <th>103</th>\n",
       "      <td>104</td>\n",
       "      <td>2022-05-21T07:27:40Z</td>\n",
       "      <td>Run</td>\n",
       "      <td>4313.6</td>\n",
       "      <td>2182</td>\n",
       "      <td>2426</td>\n",
       "      <td>55.0</td>\n",
       "      <td>[39.27257808856666, -76.69626507908106]</td>\n",
       "      <td>[39.27250818349421, -76.69635669328272]</td>\n",
       "      <td>Run</td>\n",
       "      <td>2022-05-21T11:27:40Z</td>\n",
       "      <td>(GMT-05:00) America/New_York</td>\n",
       "      <td>4</td>\n",
       "      <td>0</td>\n",
       "      <td>0</td>\n",
       "      <td>1</td>\n",
       "      <td>0</td>\n",
       "      <td>1.977</td>\n",
       "      <td>3.874</td>\n",
       "    </tr>\n",
       "    <tr>\n",
       "      <th>104</th>\n",
       "      <td>105</td>\n",
       "      <td>2022-03-16T12:12:54Z</td>\n",
       "      <td>Run</td>\n",
       "      <td>2764.0</td>\n",
       "      <td>955</td>\n",
       "      <td>1009</td>\n",
       "      <td>38.5</td>\n",
       "      <td>[39.25251114182174, -76.7134093400091]</td>\n",
       "      <td>[39.252579705789685, -76.71341864392161]</td>\n",
       "      <td>Run</td>\n",
       "      <td>2022-03-16T16:12:54Z</td>\n",
       "      <td>(GMT-05:00) America/New_York</td>\n",
       "      <td>0</td>\n",
       "      <td>0</td>\n",
       "      <td>0</td>\n",
       "      <td>2</td>\n",
       "      <td>0</td>\n",
       "      <td>2.739</td>\n",
       "      <td>4.770</td>\n",
       "    </tr>\n",
       "  </tbody>\n",
       "</table>\n",
       "<p>103 rows × 19 columns</p>\n",
       "</div>"
      ],
      "text/plain": [
       "     Sr. no.      start_date_local type  distance  moving_time  elapsed_time  \\\n",
       "0          1  2023-12-09T09:09:19Z  Run   10879.7         4023          4617   \n",
       "2          3  2023-12-03T09:18:13Z  Run   17503.0         7370          7462   \n",
       "3          4  2023-12-02T09:41:14Z  Run    3457.8         1791          2170   \n",
       "4          5  2023-12-01T17:06:05Z  Run   10108.2         4128          4221   \n",
       "5          6  2023-11-29T17:22:51Z  Run    6694.7         2913          2983   \n",
       "..       ...                   ...  ...       ...          ...           ...   \n",
       "100      101  2022-06-12T09:20:44Z  Run    7857.2         3900          4113   \n",
       "101      102  2022-05-28T11:11:38Z  Run    6067.2         3334          3555   \n",
       "102      103  2022-05-22T07:13:30Z  Run    4587.6         2263          2478   \n",
       "103      104  2022-05-21T07:27:40Z  Run    4313.6         2182          2426   \n",
       "104      105  2022-03-16T12:12:54Z  Run    2764.0          955          1009   \n",
       "\n",
       "     total_elevation_gain                              start_latlng  \\\n",
       "0                    91.4   [40.70327935740352, -73.99619171395898]   \n",
       "2                    68.4   [40.74991073459387, -73.98751585744321]   \n",
       "3                     3.9   [40.72203076444566, -74.03641068376601]   \n",
       "4                     6.3   [40.72190687991679, -74.03624514117837]   \n",
       "5                     9.8   [40.72185751050711, -74.03604313731194]   \n",
       "..                    ...                                       ...   \n",
       "100                 116.6   [39.27252494730055, -76.69631998054683]   \n",
       "101                  88.2  [39.272494772449136, -76.69640866108239]   \n",
       "102                  56.6  [39.272621758282185, -76.69633297249675]   \n",
       "103                  55.0   [39.27257808856666, -76.69626507908106]   \n",
       "104                  38.5    [39.25251114182174, -76.7134093400091]   \n",
       "\n",
       "                                   end_latlng sport_type  \\\n",
       "0     [40.69340907968581, -73.97922154515982]        Run   \n",
       "2      [40.73538766242564, -73.9793517999351]        Run   \n",
       "3     [40.71398631669581, -74.03902692720294]        Run   \n",
       "4     [40.71669920347631, -74.03264125809073]        Run   \n",
       "5    [40.719508565962315, -74.03692323714495]        Run   \n",
       "..                                        ...        ...   \n",
       "100   [39.27245143800974, -76.69639013707638]        Run   \n",
       "101   [39.27246367558837, -76.69636884704232]        Run   \n",
       "102   [39.27250734530389, -76.69635468162596]        Run   \n",
       "103   [39.27250818349421, -76.69635669328272]        Run   \n",
       "104  [39.252579705789685, -76.71341864392161]        Run   \n",
       "\n",
       "               start_date                      timezone  achievement_count  \\\n",
       "0    2023-12-09T14:09:19Z  (GMT-05:00) America/New_York                  4   \n",
       "2    2023-12-03T14:18:13Z  (GMT-05:00) America/New_York                  2   \n",
       "3    2023-12-02T14:41:14Z  (GMT-05:00) America/New_York                  0   \n",
       "4    2023-12-01T22:06:05Z  (GMT-05:00) America/New_York                  4   \n",
       "5    2023-11-29T22:22:51Z  (GMT-05:00) America/New_York                  1   \n",
       "..                    ...                           ...                ...   \n",
       "100  2022-06-12T13:20:44Z  (GMT-05:00) America/New_York                  6   \n",
       "101  2022-05-28T15:11:38Z  (GMT-05:00) America/New_York                  3   \n",
       "102  2022-05-22T11:13:30Z  (GMT-05:00) America/New_York                  5   \n",
       "103  2022-05-21T11:27:40Z  (GMT-05:00) America/New_York                  4   \n",
       "104  2022-03-16T16:12:54Z  (GMT-05:00) America/New_York                  0   \n",
       "\n",
       "     kudos_count  comment_count  athlete_count  photo_count  average_speed  \\\n",
       "0              4              0              3            0          2.704   \n",
       "2              5              0              4            0          2.375   \n",
       "3              2              0              3            0          1.931   \n",
       "4              5              0              1            0          2.449   \n",
       "5              2              1              1            0          2.298   \n",
       "..           ...            ...            ...          ...            ...   \n",
       "100            0              0              1            0          2.015   \n",
       "101            0              0              1            0          1.820   \n",
       "102            0              0              1            0          2.027   \n",
       "103            0              0              1            0          1.977   \n",
       "104            0              0              2            0          2.739   \n",
       "\n",
       "     max_speed  \n",
       "0        6.228  \n",
       "2        6.778  \n",
       "3        4.522  \n",
       "4        5.462  \n",
       "5        4.972  \n",
       "..         ...  \n",
       "100      3.326  \n",
       "101      3.172  \n",
       "102      3.557  \n",
       "103      3.874  \n",
       "104      4.770  \n",
       "\n",
       "[103 rows x 19 columns]"
      ]
     },
     "execution_count": 44,
     "metadata": {},
     "output_type": "execute_result"
    }
   ],
   "source": [
    "data = data.drop(data[data[\"elapsed_time\"] == 33260].index)\n",
    "data = data.drop(data[data[\"elapsed_time\"] == 62993].index)\n",
    "data"
   ]
  },
  {
   "cell_type": "code",
   "execution_count": 46,
   "metadata": {},
   "outputs": [
    {
     "data": {
      "application/vnd.plotly.v1+json": {
       "config": {
        "plotlyServerURL": "https://plot.ly"
       },
       "data": [
        {
         "hovertemplate": "type=Run<br>elapsed_time=%{x}<br>distance=%{y}<extra></extra>",
         "legendgroup": "Run",
         "marker": {
          "color": "#636efa",
          "symbol": "circle"
         },
         "mode": "markers",
         "name": "Run",
         "orientation": "v",
         "showlegend": true,
         "type": "scatter",
         "x": [
          4617,
          7462,
          2170,
          4221,
          2983,
          2735,
          4037,
          2012,
          15709,
          2051,
          4672,
          2560,
          2101,
          8239,
          1951,
          2824,
          2735,
          2049,
          2066,
          4727,
          2002,
          2116,
          2248,
          1092,
          1259,
          1121,
          10523,
          217,
          1883,
          7121,
          573,
          1017,
          1778,
          10507,
          1929,
          2013,
          1200,
          1860,
          6627,
          2821,
          1313,
          2090,
          3462,
          4352,
          2253,
          1018,
          3471,
          4953,
          951,
          4101,
          2354,
          3017,
          1490,
          1880,
          4795,
          2042,
          2292,
          3695,
          3496,
          9241,
          10154,
          5386,
          4453,
          4937,
          9323,
          6081,
          5905,
          3021,
          3888,
          2593,
          4471,
          4664,
          362,
          4768,
          2044,
          6794,
          5213,
          2237,
          5370,
          5749,
          3058,
          1657,
          5119,
          8503,
          5051,
          4439,
          5681,
          4113,
          3555,
          2478,
          2426,
          1009
         ],
         "xaxis": "x",
         "y": [
          10879.7,
          17503,
          3457.8,
          10108.2,
          6694.7,
          6518.5,
          10137.9,
          5065.6,
          32192.3,
          4900.2,
          10065.4,
          5080.1,
          5033.4,
          17774.7,
          5078.5,
          6090.6,
          4093,
          5087.6,
          5266.2,
          10078.3,
          5097.6,
          5317.7,
          5426.8,
          2948.4,
          3181.3,
          2976,
          22895.4,
          424.6,
          5043.5,
          16190.2,
          1611.9,
          3010.3,
          5044.5,
          21334,
          5049.4,
          5311.5,
          3130,
          5076.4,
          14991.3,
          6990.6,
          3294.3,
          5436.7,
          7523.6,
          7531.1,
          5474.7,
          2981.8,
          3080,
          11824.4,
          2222.6,
          10513.1,
          5341.4,
          7115.1,
          3374.6,
          5149.9,
          10113.4,
          2342.1,
          2520.5,
          5230.5,
          4604.7,
          22201.9,
          21479,
          12240.6,
          6241,
          10207.3,
          21792.6,
          13223.8,
          13194.5,
          6934.9,
          10334.2,
          5145,
          10352.6,
          10255.8,
          517.2,
          10287.1,
          5058.2,
          12983.3,
          10386.5,
          5247.3,
          10011.2,
          9517.1,
          5376.1,
          1986.7,
          10250.2,
          3457.6,
          10300.5,
          7321.8,
          10564.2,
          7857.2,
          6067.2,
          4587.6,
          4313.6,
          2764
         ],
         "yaxis": "y"
        },
        {
         "hovertemplate": "type=Hike<br>elapsed_time=%{x}<br>distance=%{y}<extra></extra>",
         "legendgroup": "Hike",
         "marker": {
          "color": "#EF553B",
          "symbol": "circle"
         },
         "mode": "markers",
         "name": "Hike",
         "orientation": "v",
         "showlegend": true,
         "type": "scatter",
         "x": [
          7263
         ],
         "xaxis": "x",
         "y": [
          4584.9
         ],
         "yaxis": "y"
        },
        {
         "hovertemplate": "type=Workout<br>elapsed_time=%{x}<br>distance=%{y}<extra></extra>",
         "legendgroup": "Workout",
         "marker": {
          "color": "#00cc96",
          "symbol": "circle"
         },
         "mode": "markers",
         "name": "Workout",
         "orientation": "v",
         "showlegend": true,
         "type": "scatter",
         "x": [
          2564,
          8575,
          8293,
          5181,
          8646,
          5931,
          4433
         ],
         "xaxis": "x",
         "y": [
          0,
          0,
          0,
          0,
          0,
          0,
          0
         ],
         "yaxis": "y"
        },
        {
         "hovertemplate": "type=Walk<br>elapsed_time=%{x}<br>distance=%{y}<extra></extra>",
         "legendgroup": "Walk",
         "marker": {
          "color": "#ab63fa",
          "symbol": "circle"
         },
         "mode": "markers",
         "name": "Walk",
         "orientation": "v",
         "showlegend": true,
         "type": "scatter",
         "x": [
          1401,
          255,
          1699
         ],
         "xaxis": "x",
         "y": [
          1864.9,
          570.7,
          1053.6
         ],
         "yaxis": "y"
        }
       ],
       "layout": {
        "legend": {
         "title": {
          "text": "type"
         },
         "tracegroupgap": 0
        },
        "margin": {
         "t": 60
        },
        "template": {
         "data": {
          "bar": [
           {
            "error_x": {
             "color": "#2a3f5f"
            },
            "error_y": {
             "color": "#2a3f5f"
            },
            "marker": {
             "line": {
              "color": "#E5ECF6",
              "width": 0.5
             },
             "pattern": {
              "fillmode": "overlay",
              "size": 10,
              "solidity": 0.2
             }
            },
            "type": "bar"
           }
          ],
          "barpolar": [
           {
            "marker": {
             "line": {
              "color": "#E5ECF6",
              "width": 0.5
             },
             "pattern": {
              "fillmode": "overlay",
              "size": 10,
              "solidity": 0.2
             }
            },
            "type": "barpolar"
           }
          ],
          "carpet": [
           {
            "aaxis": {
             "endlinecolor": "#2a3f5f",
             "gridcolor": "white",
             "linecolor": "white",
             "minorgridcolor": "white",
             "startlinecolor": "#2a3f5f"
            },
            "baxis": {
             "endlinecolor": "#2a3f5f",
             "gridcolor": "white",
             "linecolor": "white",
             "minorgridcolor": "white",
             "startlinecolor": "#2a3f5f"
            },
            "type": "carpet"
           }
          ],
          "choropleth": [
           {
            "colorbar": {
             "outlinewidth": 0,
             "ticks": ""
            },
            "type": "choropleth"
           }
          ],
          "contour": [
           {
            "colorbar": {
             "outlinewidth": 0,
             "ticks": ""
            },
            "colorscale": [
             [
              0,
              "#0d0887"
             ],
             [
              0.1111111111111111,
              "#46039f"
             ],
             [
              0.2222222222222222,
              "#7201a8"
             ],
             [
              0.3333333333333333,
              "#9c179e"
             ],
             [
              0.4444444444444444,
              "#bd3786"
             ],
             [
              0.5555555555555556,
              "#d8576b"
             ],
             [
              0.6666666666666666,
              "#ed7953"
             ],
             [
              0.7777777777777778,
              "#fb9f3a"
             ],
             [
              0.8888888888888888,
              "#fdca26"
             ],
             [
              1,
              "#f0f921"
             ]
            ],
            "type": "contour"
           }
          ],
          "contourcarpet": [
           {
            "colorbar": {
             "outlinewidth": 0,
             "ticks": ""
            },
            "type": "contourcarpet"
           }
          ],
          "heatmap": [
           {
            "colorbar": {
             "outlinewidth": 0,
             "ticks": ""
            },
            "colorscale": [
             [
              0,
              "#0d0887"
             ],
             [
              0.1111111111111111,
              "#46039f"
             ],
             [
              0.2222222222222222,
              "#7201a8"
             ],
             [
              0.3333333333333333,
              "#9c179e"
             ],
             [
              0.4444444444444444,
              "#bd3786"
             ],
             [
              0.5555555555555556,
              "#d8576b"
             ],
             [
              0.6666666666666666,
              "#ed7953"
             ],
             [
              0.7777777777777778,
              "#fb9f3a"
             ],
             [
              0.8888888888888888,
              "#fdca26"
             ],
             [
              1,
              "#f0f921"
             ]
            ],
            "type": "heatmap"
           }
          ],
          "heatmapgl": [
           {
            "colorbar": {
             "outlinewidth": 0,
             "ticks": ""
            },
            "colorscale": [
             [
              0,
              "#0d0887"
             ],
             [
              0.1111111111111111,
              "#46039f"
             ],
             [
              0.2222222222222222,
              "#7201a8"
             ],
             [
              0.3333333333333333,
              "#9c179e"
             ],
             [
              0.4444444444444444,
              "#bd3786"
             ],
             [
              0.5555555555555556,
              "#d8576b"
             ],
             [
              0.6666666666666666,
              "#ed7953"
             ],
             [
              0.7777777777777778,
              "#fb9f3a"
             ],
             [
              0.8888888888888888,
              "#fdca26"
             ],
             [
              1,
              "#f0f921"
             ]
            ],
            "type": "heatmapgl"
           }
          ],
          "histogram": [
           {
            "marker": {
             "pattern": {
              "fillmode": "overlay",
              "size": 10,
              "solidity": 0.2
             }
            },
            "type": "histogram"
           }
          ],
          "histogram2d": [
           {
            "colorbar": {
             "outlinewidth": 0,
             "ticks": ""
            },
            "colorscale": [
             [
              0,
              "#0d0887"
             ],
             [
              0.1111111111111111,
              "#46039f"
             ],
             [
              0.2222222222222222,
              "#7201a8"
             ],
             [
              0.3333333333333333,
              "#9c179e"
             ],
             [
              0.4444444444444444,
              "#bd3786"
             ],
             [
              0.5555555555555556,
              "#d8576b"
             ],
             [
              0.6666666666666666,
              "#ed7953"
             ],
             [
              0.7777777777777778,
              "#fb9f3a"
             ],
             [
              0.8888888888888888,
              "#fdca26"
             ],
             [
              1,
              "#f0f921"
             ]
            ],
            "type": "histogram2d"
           }
          ],
          "histogram2dcontour": [
           {
            "colorbar": {
             "outlinewidth": 0,
             "ticks": ""
            },
            "colorscale": [
             [
              0,
              "#0d0887"
             ],
             [
              0.1111111111111111,
              "#46039f"
             ],
             [
              0.2222222222222222,
              "#7201a8"
             ],
             [
              0.3333333333333333,
              "#9c179e"
             ],
             [
              0.4444444444444444,
              "#bd3786"
             ],
             [
              0.5555555555555556,
              "#d8576b"
             ],
             [
              0.6666666666666666,
              "#ed7953"
             ],
             [
              0.7777777777777778,
              "#fb9f3a"
             ],
             [
              0.8888888888888888,
              "#fdca26"
             ],
             [
              1,
              "#f0f921"
             ]
            ],
            "type": "histogram2dcontour"
           }
          ],
          "mesh3d": [
           {
            "colorbar": {
             "outlinewidth": 0,
             "ticks": ""
            },
            "type": "mesh3d"
           }
          ],
          "parcoords": [
           {
            "line": {
             "colorbar": {
              "outlinewidth": 0,
              "ticks": ""
             }
            },
            "type": "parcoords"
           }
          ],
          "pie": [
           {
            "automargin": true,
            "type": "pie"
           }
          ],
          "scatter": [
           {
            "fillpattern": {
             "fillmode": "overlay",
             "size": 10,
             "solidity": 0.2
            },
            "type": "scatter"
           }
          ],
          "scatter3d": [
           {
            "line": {
             "colorbar": {
              "outlinewidth": 0,
              "ticks": ""
             }
            },
            "marker": {
             "colorbar": {
              "outlinewidth": 0,
              "ticks": ""
             }
            },
            "type": "scatter3d"
           }
          ],
          "scattercarpet": [
           {
            "marker": {
             "colorbar": {
              "outlinewidth": 0,
              "ticks": ""
             }
            },
            "type": "scattercarpet"
           }
          ],
          "scattergeo": [
           {
            "marker": {
             "colorbar": {
              "outlinewidth": 0,
              "ticks": ""
             }
            },
            "type": "scattergeo"
           }
          ],
          "scattergl": [
           {
            "marker": {
             "colorbar": {
              "outlinewidth": 0,
              "ticks": ""
             }
            },
            "type": "scattergl"
           }
          ],
          "scattermapbox": [
           {
            "marker": {
             "colorbar": {
              "outlinewidth": 0,
              "ticks": ""
             }
            },
            "type": "scattermapbox"
           }
          ],
          "scatterpolar": [
           {
            "marker": {
             "colorbar": {
              "outlinewidth": 0,
              "ticks": ""
             }
            },
            "type": "scatterpolar"
           }
          ],
          "scatterpolargl": [
           {
            "marker": {
             "colorbar": {
              "outlinewidth": 0,
              "ticks": ""
             }
            },
            "type": "scatterpolargl"
           }
          ],
          "scatterternary": [
           {
            "marker": {
             "colorbar": {
              "outlinewidth": 0,
              "ticks": ""
             }
            },
            "type": "scatterternary"
           }
          ],
          "surface": [
           {
            "colorbar": {
             "outlinewidth": 0,
             "ticks": ""
            },
            "colorscale": [
             [
              0,
              "#0d0887"
             ],
             [
              0.1111111111111111,
              "#46039f"
             ],
             [
              0.2222222222222222,
              "#7201a8"
             ],
             [
              0.3333333333333333,
              "#9c179e"
             ],
             [
              0.4444444444444444,
              "#bd3786"
             ],
             [
              0.5555555555555556,
              "#d8576b"
             ],
             [
              0.6666666666666666,
              "#ed7953"
             ],
             [
              0.7777777777777778,
              "#fb9f3a"
             ],
             [
              0.8888888888888888,
              "#fdca26"
             ],
             [
              1,
              "#f0f921"
             ]
            ],
            "type": "surface"
           }
          ],
          "table": [
           {
            "cells": {
             "fill": {
              "color": "#EBF0F8"
             },
             "line": {
              "color": "white"
             }
            },
            "header": {
             "fill": {
              "color": "#C8D4E3"
             },
             "line": {
              "color": "white"
             }
            },
            "type": "table"
           }
          ]
         },
         "layout": {
          "annotationdefaults": {
           "arrowcolor": "#2a3f5f",
           "arrowhead": 0,
           "arrowwidth": 1
          },
          "autotypenumbers": "strict",
          "coloraxis": {
           "colorbar": {
            "outlinewidth": 0,
            "ticks": ""
           }
          },
          "colorscale": {
           "diverging": [
            [
             0,
             "#8e0152"
            ],
            [
             0.1,
             "#c51b7d"
            ],
            [
             0.2,
             "#de77ae"
            ],
            [
             0.3,
             "#f1b6da"
            ],
            [
             0.4,
             "#fde0ef"
            ],
            [
             0.5,
             "#f7f7f7"
            ],
            [
             0.6,
             "#e6f5d0"
            ],
            [
             0.7,
             "#b8e186"
            ],
            [
             0.8,
             "#7fbc41"
            ],
            [
             0.9,
             "#4d9221"
            ],
            [
             1,
             "#276419"
            ]
           ],
           "sequential": [
            [
             0,
             "#0d0887"
            ],
            [
             0.1111111111111111,
             "#46039f"
            ],
            [
             0.2222222222222222,
             "#7201a8"
            ],
            [
             0.3333333333333333,
             "#9c179e"
            ],
            [
             0.4444444444444444,
             "#bd3786"
            ],
            [
             0.5555555555555556,
             "#d8576b"
            ],
            [
             0.6666666666666666,
             "#ed7953"
            ],
            [
             0.7777777777777778,
             "#fb9f3a"
            ],
            [
             0.8888888888888888,
             "#fdca26"
            ],
            [
             1,
             "#f0f921"
            ]
           ],
           "sequentialminus": [
            [
             0,
             "#0d0887"
            ],
            [
             0.1111111111111111,
             "#46039f"
            ],
            [
             0.2222222222222222,
             "#7201a8"
            ],
            [
             0.3333333333333333,
             "#9c179e"
            ],
            [
             0.4444444444444444,
             "#bd3786"
            ],
            [
             0.5555555555555556,
             "#d8576b"
            ],
            [
             0.6666666666666666,
             "#ed7953"
            ],
            [
             0.7777777777777778,
             "#fb9f3a"
            ],
            [
             0.8888888888888888,
             "#fdca26"
            ],
            [
             1,
             "#f0f921"
            ]
           ]
          },
          "colorway": [
           "#636efa",
           "#EF553B",
           "#00cc96",
           "#ab63fa",
           "#FFA15A",
           "#19d3f3",
           "#FF6692",
           "#B6E880",
           "#FF97FF",
           "#FECB52"
          ],
          "font": {
           "color": "#2a3f5f"
          },
          "geo": {
           "bgcolor": "white",
           "lakecolor": "white",
           "landcolor": "#E5ECF6",
           "showlakes": true,
           "showland": true,
           "subunitcolor": "white"
          },
          "hoverlabel": {
           "align": "left"
          },
          "hovermode": "closest",
          "mapbox": {
           "style": "light"
          },
          "paper_bgcolor": "white",
          "plot_bgcolor": "#E5ECF6",
          "polar": {
           "angularaxis": {
            "gridcolor": "white",
            "linecolor": "white",
            "ticks": ""
           },
           "bgcolor": "#E5ECF6",
           "radialaxis": {
            "gridcolor": "white",
            "linecolor": "white",
            "ticks": ""
           }
          },
          "scene": {
           "xaxis": {
            "backgroundcolor": "#E5ECF6",
            "gridcolor": "white",
            "gridwidth": 2,
            "linecolor": "white",
            "showbackground": true,
            "ticks": "",
            "zerolinecolor": "white"
           },
           "yaxis": {
            "backgroundcolor": "#E5ECF6",
            "gridcolor": "white",
            "gridwidth": 2,
            "linecolor": "white",
            "showbackground": true,
            "ticks": "",
            "zerolinecolor": "white"
           },
           "zaxis": {
            "backgroundcolor": "#E5ECF6",
            "gridcolor": "white",
            "gridwidth": 2,
            "linecolor": "white",
            "showbackground": true,
            "ticks": "",
            "zerolinecolor": "white"
           }
          },
          "shapedefaults": {
           "line": {
            "color": "#2a3f5f"
           }
          },
          "ternary": {
           "aaxis": {
            "gridcolor": "white",
            "linecolor": "white",
            "ticks": ""
           },
           "baxis": {
            "gridcolor": "white",
            "linecolor": "white",
            "ticks": ""
           },
           "bgcolor": "#E5ECF6",
           "caxis": {
            "gridcolor": "white",
            "linecolor": "white",
            "ticks": ""
           }
          },
          "title": {
           "x": 0.05
          },
          "xaxis": {
           "automargin": true,
           "gridcolor": "white",
           "linecolor": "white",
           "ticks": "",
           "title": {
            "standoff": 15
           },
           "zerolinecolor": "white",
           "zerolinewidth": 2
          },
          "yaxis": {
           "automargin": true,
           "gridcolor": "white",
           "linecolor": "white",
           "ticks": "",
           "title": {
            "standoff": 15
           },
           "zerolinecolor": "white",
           "zerolinewidth": 2
          }
         }
        },
        "xaxis": {
         "anchor": "y",
         "domain": [
          0,
          1
         ],
         "title": {
          "text": "elapsed_time"
         }
        },
        "yaxis": {
         "anchor": "x",
         "domain": [
          0,
          1
         ],
         "title": {
          "text": "distance"
         }
        }
       }
      }
     },
     "metadata": {},
     "output_type": "display_data"
    }
   ],
   "source": [
    "px.scatter(data, \"elapsed_time\", \"distance\", color=\"type\")"
   ]
  },
  {
   "cell_type": "markdown",
   "metadata": {},
   "source": [
    "### Graph location of activities."
   ]
  },
  {
   "cell_type": "code",
   "execution_count": 127,
   "metadata": {},
   "outputs": [],
   "source": [
    "# def coord(coord_str):\n",
    "#     coords = [float(coord) for coord in coord_str.strip(\"[]\").split(\", \")]\n",
    "#     return coords\n",
    "data[\"start_latlng\"] = data[\"start_latlng\"].str.replace(\"[\", \"\").str.replace(\"]\", \"\")\n",
    "data[\"end_latlng\"] = data[\"end_latlng\"].str.replace(\"[\", \"\").str.replace(\"]\", \"\")\n",
    "data[[\"start_lat\", \"start_long\"]] = data[\"start_latlng\"].str.split(\",\", expand=True)\n",
    "data[[\"end_lat\", \"end_long\"]] = data[\"end_latlng\"].str.split(\",\", expand=True)\n",
    "\n",
    "geo_df = data[data[\"start_lat\"] != \"\"]\n",
    "geo_df.loc[:, \"start_lat\"] = geo_df.loc[:, \"start_lat\"].astype(float)\n",
    "geo_df.loc[:, \"start_long\"] = geo_df.loc[:, \"start_long\"].astype(float)\n",
    "geo_df.loc[:, \"end_lat\"] = geo_df.loc[:, \"end_lat\"].astype(float)\n",
    "geo_df.loc[:, \"end_long\"] = geo_df.loc[:, \"end_long\"].astype(float)"
   ]
  },
  {
   "cell_type": "code",
   "execution_count": 128,
   "metadata": {},
   "outputs": [
    {
     "data": {
      "application/vnd.plotly.v1+json": {
       "config": {
        "plotlyServerURL": "https://plot.ly"
       },
       "data": [
        {
         "hovertemplate": "type=Run<br>distance=%{marker.size}<br>start_lat=%{lat}<br>start_long=%{lon}<extra></extra>",
         "lat": [
          40.70327935740352,
          40.7220459356904,
          40.74991073459387,
          40.72203076444566,
          40.72190687991679,
          40.72185751050711,
          40.74989422224462,
          40.72207803837955,
          40.7218580134213,
          40.721997655928135,
          40.721952226012945,
          40.7218543253839,
          40.721805123612285,
          40.721982987597585,
          40.76331012882292,
          44.04940886422992,
          40.72185818105936,
          40.721869580447674,
          40.721852481365204,
          40.72189330123365,
          40.72191341780126,
          40.721907299011946,
          40.721897492185235,
          40.721764722839,
          40.72182674892247,
          40.721857426688075,
          40.72199530899525,
          40.721847703680396,
          40.72236486710608,
          40.721935546025634,
          40.72184359654784,
          40.721826581284404,
          40.721926828846335,
          40.721895480528474,
          40.72190646082163,
          40.72178584523499,
          40.72181845083833,
          40.721832029521465,
          40.72189036756754,
          40.72198818437755,
          40.72190864011645,
          40.72229839861393,
          40.72183320298791,
          40.72186555713415,
          40.72197401896119,
          40.721904281526804,
          40.71632637642324,
          40.721878465265036,
          40.7218683231622,
          40.72195532731712,
          40.721850050613284,
          39.27250214852393,
          39.25259227864444,
          39.27248865365982,
          39.25256973132491,
          39.272519163787365,
          38.904664758592844,
          39.251450411975384,
          39.25106266513467,
          40.66512359306216,
          39.27251446992159,
          39.272493766620755,
          39.27249485626817,
          39.27247985266149,
          39.25281196832657,
          39.27253047935665,
          39.27252192981541,
          39.272521,
          39.283188823610544,
          39.27249435335398,
          39.27250097505748,
          39.27251044660807,
          39.252915317192674,
          40.77151441946626,
          40.71487764827907,
          40.71265820413828,
          40.71463239379227,
          40.71460800245404,
          40.714741945266724,
          40.71463876403868,
          40.71463180705905,
          40.71589705534279,
          40.71456139907241,
          40.7148711103946,
          40.714426366612315,
          40.71457321755588,
          39.27250860258937,
          39.27252494730055,
          39.272494772449136,
          39.272621758282185,
          39.27257808856666,
          39.25251114182174
         ],
         "legendgroup": "Run",
         "lon": [
          -73.99619171395898,
          -74.03641730546951,
          -73.98751585744321,
          -74.03641068376601,
          -74.03624514117837,
          -74.03604313731194,
          -73.98728493601084,
          -74.03637405484915,
          -74.03597440570593,
          -74.0361484978348,
          -74.03657790273428,
          -74.0359671972692,
          -74.03677185997367,
          -74.03636299073696,
          -73.96522837691009,
          -71.65654697455466,
          -74.03593090362847,
          -74.0360417123884,
          -74.03595923446119,
          -74.03619250282645,
          -74.0360364317894,
          -74.0360414609313,
          -74.03605646453798,
          -74.03636693023145,
          -74.03614858165383,
          -74.03598454780877,
          -74.03647480532527,
          -74.0359463263303,
          -74.03617104515433,
          -74.03594146482646,
          -74.0359206777066,
          -74.03603333048522,
          -74.03582654893398,
          -74.03602595441043,
          -74.03603693470359,
          -74.03596669435501,
          -74.03608228079975,
          -74.03665015473962,
          -74.03612712398171,
          -74.03618571348488,
          -74.03602737933397,
          -74.03602763079107,
          -74.03605244122446,
          -74.0360240265727,
          -74.03587675653398,
          -74.03602821752429,
          -74.03278291225433,
          -74.03610549867153,
          -74.03607456944883,
          -74.03633784502745,
          -74.0360930096358,
          -76.69633372686803,
          -76.71357312239707,
          -76.69630547985435,
          -76.71357261948287,
          -76.69635074213147,
          -77.0702749863267,
          -76.71325913630426,
          -76.71200201846659,
          -73.96134344860911,
          -76.69635736383498,
          -76.6963579505682,
          -76.69633900746703,
          -76.69631981290877,
          -76.71344169415534,
          -76.69633464887738,
          -76.69639348983765,
          -76.696334,
          -76.62045110017061,
          -76.69637680985034,
          -76.6963196452707,
          -76.69633540324867,
          -76.71251138672233,
          -73.96975452080369,
          -74.03590919449925,
          -74.00465684942901,
          -74.03594188392162,
          -74.03605839237571,
          -74.03599133715034,
          -74.03591690585017,
          -74.0359656047076,
          -74.0447517670691,
          -74.03596443124115,
          -74.04965534806252,
          -74.03611312620342,
          -74.03588220477104,
          -76.69637337327003,
          -76.69631998054683,
          -76.69640866108239,
          -76.69633297249675,
          -76.69626507908106,
          -76.7134093400091
         ],
         "marker": {
          "color": "#636efa",
          "size": [
           10879.7,
           1304.4,
           17503,
           3457.8,
           10108.2,
           6694.7,
           6518.5,
           10137.9,
           5065.6,
           32192.3,
           4900.2,
           10065.4,
           5080.1,
           5033.4,
           17774.7,
           5078.5,
           6090.6,
           4093,
           5087.6,
           5266.2,
           10078.3,
           5097.6,
           5317.7,
           5426.8,
           2948.4,
           3181.3,
           2976,
           22895.4,
           424.6,
           5043.5,
           16190.2,
           1611.9,
           3010.3,
           5044.5,
           21334,
           5049.4,
           5311.5,
           5076.4,
           14991.3,
           6990.6,
           3294.3,
           5436.7,
           7523.6,
           7531.1,
           5474.7,
           2981.8,
           3080,
           11824.4,
           2222.6,
           10513.1,
           5341.4,
           7115.1,
           3374.6,
           2406.8,
           10113.4,
           2342.1,
           2520.5,
           5230.5,
           4604.7,
           22201.9,
           21479,
           12240.6,
           6241,
           10207.3,
           21792.6,
           13223.8,
           13194.5,
           6934.9,
           10334.2,
           5145,
           10352.6,
           10255.8,
           517.2,
           10287.1,
           5058.2,
           12983.3,
           10386.5,
           5247.3,
           10011.2,
           9517.1,
           5376.1,
           1986.7,
           10250.2,
           3457.6,
           10300.5,
           7321.8,
           10564.2,
           7857.2,
           6067.2,
           4587.6,
           4313.6,
           2764
          ],
          "sizemode": "area",
          "sizeref": 80.48075
         },
         "mode": "markers",
         "name": "Run",
         "showlegend": true,
         "subplot": "mapbox",
         "type": "scattermapbox"
        },
        {
         "hovertemplate": "type=Hike<br>distance=%{marker.size}<br>start_lat=%{lat}<br>start_long=%{lon}<extra></extra>",
         "lat": [
          44.09742157906294
         ],
         "legendgroup": "Hike",
         "lon": [
          -71.68008327484131
         ],
         "marker": {
          "color": "#EF553B",
          "size": [
           4584.9
          ],
          "sizemode": "area",
          "sizeref": 80.48075
         },
         "mode": "markers",
         "name": "Hike",
         "showlegend": true,
         "subplot": "mapbox",
         "type": "scattermapbox"
        },
        {
         "hovertemplate": "type=Walk<br>distance=%{marker.size}<br>start_lat=%{lat}<br>start_long=%{lon}<extra></extra>",
         "lat": [
          40.71535239927471,
          39.251993810757995,
          39.28653035312891
         ],
         "legendgroup": "Walk",
         "lon": [
          -74.048425052315,
          -76.70930849388242,
          -76.61675987765193
         ],
         "marker": {
          "color": "#00cc96",
          "size": [
           1864.9,
           570.7,
           1053.6
          ],
          "sizemode": "area",
          "sizeref": 80.48075
         },
         "mode": "markers",
         "name": "Walk",
         "showlegend": true,
         "subplot": "mapbox",
         "type": "scattermapbox"
        },
        {
         "hovertemplate": "lat=%{lat}<br>lon=%{lon}<extra></extra>",
         "lat": [
          40.70327935740352,
          40.69340907968581
         ],
         "legendgroup": "",
         "line": {
          "color": "red"
         },
         "lon": [
          -73.99619171395898,
          -73.97922154515982
         ],
         "mode": "lines",
         "name": "",
         "showlegend": false,
         "subplot": "mapbox",
         "type": "scattermapbox"
        },
        {
         "hovertemplate": "lat=%{lat}<br>lon=%{lon}<extra></extra>",
         "lat": [
          40.7220459356904,
          40.719722136855125
         ],
         "legendgroup": "",
         "line": {
          "color": "red"
         },
         "lon": [
          -74.03641730546951,
          -74.03257705271244
         ],
         "mode": "lines",
         "name": "",
         "showlegend": false,
         "subplot": "mapbox",
         "type": "scattermapbox"
        },
        {
         "hovertemplate": "lat=%{lat}<br>lon=%{lon}<extra></extra>",
         "lat": [
          40.74991073459387,
          40.73538766242564
         ],
         "legendgroup": "",
         "line": {
          "color": "red"
         },
         "lon": [
          -73.98751585744321,
          -73.9793517999351
         ],
         "mode": "lines",
         "name": "",
         "showlegend": false,
         "subplot": "mapbox",
         "type": "scattermapbox"
        },
        {
         "hovertemplate": "lat=%{lat}<br>lon=%{lon}<extra></extra>",
         "lat": [
          40.72203076444566,
          40.71398631669581
         ],
         "legendgroup": "",
         "line": {
          "color": "red"
         },
         "lon": [
          -74.03641068376601,
          -74.03902692720294
         ],
         "mode": "lines",
         "name": "",
         "showlegend": false,
         "subplot": "mapbox",
         "type": "scattermapbox"
        },
        {
         "hovertemplate": "lat=%{lat}<br>lon=%{lon}<extra></extra>",
         "lat": [
          40.72190687991679,
          40.71669920347631
         ],
         "legendgroup": "",
         "line": {
          "color": "red"
         },
         "lon": [
          -74.03624514117837,
          -74.03264125809073
         ],
         "mode": "lines",
         "name": "",
         "showlegend": false,
         "subplot": "mapbox",
         "type": "scattermapbox"
        },
        {
         "hovertemplate": "lat=%{lat}<br>lon=%{lon}<extra></extra>",
         "lat": [
          40.72185751050711,
          40.719508565962315
         ],
         "legendgroup": "",
         "line": {
          "color": "red"
         },
         "lon": [
          -74.03604313731194,
          -74.03692323714495
         ],
         "mode": "lines",
         "name": "",
         "showlegend": false,
         "subplot": "mapbox",
         "type": "scattermapbox"
        },
        {
         "hovertemplate": "lat=%{lat}<br>lon=%{lon}<extra></extra>",
         "lat": [
          40.74989422224462,
          40.71740294806659
         ],
         "legendgroup": "",
         "line": {
          "color": "red"
         },
         "lon": [
          -73.98728493601084,
          -74.01325140148401
         ],
         "mode": "lines",
         "name": "",
         "showlegend": false,
         "subplot": "mapbox",
         "type": "scattermapbox"
        },
        {
         "hovertemplate": "lat=%{lat}<br>lon=%{lon}<extra></extra>",
         "lat": [
          40.72207803837955,
          40.7126241736114
         ],
         "legendgroup": "",
         "line": {
          "color": "red"
         },
         "lon": [
          -74.03637405484915,
          -74.04014498926699
         ],
         "mode": "lines",
         "name": "",
         "showlegend": false,
         "subplot": "mapbox",
         "type": "scattermapbox"
        },
        {
         "hovertemplate": "lat=%{lat}<br>lon=%{lon}<extra></extra>",
         "lat": [
          40.7218580134213,
          40.717102037742734
         ],
         "legendgroup": "",
         "line": {
          "color": "red"
         },
         "lon": [
          -74.03597440570593,
          -74.03721358627081
         ],
         "mode": "lines",
         "name": "",
         "showlegend": false,
         "subplot": "mapbox",
         "type": "scattermapbox"
        },
        {
         "hovertemplate": "lat=%{lat}<br>lon=%{lon}<extra></extra>",
         "lat": [
          40.721997655928135,
          40.721965469419956
         ],
         "legendgroup": "",
         "line": {
          "color": "red"
         },
         "lon": [
          -74.0361484978348,
          -74.03655661270022
         ],
         "mode": "lines",
         "name": "",
         "showlegend": false,
         "subplot": "mapbox",
         "type": "scattermapbox"
        },
        {
         "hovertemplate": "lat=%{lat}<br>lon=%{lon}<extra></extra>",
         "lat": [
          40.721952226012945,
          40.72179280221462
         ],
         "legendgroup": "",
         "line": {
          "color": "red"
         },
         "lon": [
          -74.03657790273428,
          -74.03659525327384
         ],
         "mode": "lines",
         "name": "",
         "showlegend": false,
         "subplot": "mapbox",
         "type": "scattermapbox"
        },
        {
         "hovertemplate": "lat=%{lat}<br>lon=%{lon}<extra></extra>",
         "lat": [
          40.7218543253839,
          40.71971266530454
         ],
         "legendgroup": "",
         "line": {
          "color": "red"
         },
         "lon": [
          -74.0359671972692,
          -74.04391785152256
         ],
         "mode": "lines",
         "name": "",
         "showlegend": false,
         "subplot": "mapbox",
         "type": "scattermapbox"
        },
        {
         "hovertemplate": "lat=%{lat}<br>lon=%{lon}<extra></extra>",
         "lat": [
          40.721805123612285,
          40.72345803491771
         ],
         "legendgroup": "",
         "line": {
          "color": "red"
         },
         "lon": [
          -74.03677185997367,
          -74.04614148661494
         ],
         "mode": "lines",
         "name": "",
         "showlegend": false,
         "subplot": "mapbox",
         "type": "scattermapbox"
        },
        {
         "hovertemplate": "lat=%{lat}<br>lon=%{lon}<extra></extra>",
         "lat": [
          40.721982987597585,
          40.71321040391922
         ],
         "legendgroup": "",
         "line": {
          "color": "red"
         },
         "lon": [
          -74.03636299073696,
          -74.03809829615057
         ],
         "mode": "lines",
         "name": "",
         "showlegend": false,
         "subplot": "mapbox",
         "type": "scattermapbox"
        },
        {
         "hovertemplate": "lat=%{lat}<br>lon=%{lon}<extra></extra>",
         "lat": [
          40.76331012882292,
          40.768565498292446
         ],
         "legendgroup": "",
         "line": {
          "color": "red"
         },
         "lon": [
          -73.96522837691009,
          -73.98148591630161
         ],
         "mode": "lines",
         "name": "",
         "showlegend": false,
         "subplot": "mapbox",
         "type": "scattermapbox"
        },
        {
         "hovertemplate": "lat=%{lat}<br>lon=%{lon}<extra></extra>",
         "lat": [
          44.04940886422992,
          44.04988059774041
         ],
         "legendgroup": "",
         "line": {
          "color": "red"
         },
         "lon": [
          -71.65654697455466,
          -71.65964526124299
         ],
         "mode": "lines",
         "name": "",
         "showlegend": false,
         "subplot": "mapbox",
         "type": "scattermapbox"
        },
        {
         "hovertemplate": "lat=%{lat}<br>lon=%{lon}<extra></extra>",
         "lat": [
          44.09742157906294,
          44.09736935980618
         ],
         "legendgroup": "",
         "line": {
          "color": "red"
         },
         "lon": [
          -71.68008327484131,
          -71.67967398650944
         ],
         "mode": "lines",
         "name": "",
         "showlegend": false,
         "subplot": "mapbox",
         "type": "scattermapbox"
        },
        {
         "hovertemplate": "lat=%{lat}<br>lon=%{lon}<extra></extra>",
         "lat": [
          40.72185818105936,
          40.72167386300862
         ],
         "legendgroup": "",
         "line": {
          "color": "red"
         },
         "lon": [
          -74.03593090362847,
          -74.0365753043443
         ],
         "mode": "lines",
         "name": "",
         "showlegend": false,
         "subplot": "mapbox",
         "type": "scattermapbox"
        },
        {
         "hovertemplate": "lat=%{lat}<br>lon=%{lon}<extra></extra>",
         "lat": [
          40.721869580447674,
          40.71644648909569
         ],
         "legendgroup": "",
         "line": {
          "color": "red"
         },
         "lon": [
          -74.0360417123884,
          -74.03265483677387
         ],
         "mode": "lines",
         "name": "",
         "showlegend": false,
         "subplot": "mapbox",
         "type": "scattermapbox"
        },
        {
         "hovertemplate": "lat=%{lat}<br>lon=%{lon}<extra></extra>",
         "lat": [
          40.721852481365204,
          40.72024022229016
         ],
         "legendgroup": "",
         "line": {
          "color": "red"
         },
         "lon": [
          -74.03595923446119,
          -74.03206491842866
         ],
         "mode": "lines",
         "name": "",
         "showlegend": false,
         "subplot": "mapbox",
         "type": "scattermapbox"
        },
        {
         "hovertemplate": "lat=%{lat}<br>lon=%{lon}<extra></extra>",
         "lat": [
          40.72189330123365,
          40.72021683678031
         ],
         "legendgroup": "",
         "line": {
          "color": "red"
         },
         "lon": [
          -74.03619250282645,
          -74.03184615075588
         ],
         "mode": "lines",
         "name": "",
         "showlegend": false,
         "subplot": "mapbox",
         "type": "scattermapbox"
        },
        {
         "hovertemplate": "lat=%{lat}<br>lon=%{lon}<extra></extra>",
         "lat": [
          40.72191341780126,
          40.71318165399134
         ],
         "legendgroup": "",
         "line": {
          "color": "red"
         },
         "lon": [
          -74.0360364317894,
          -74.03360391966999
         ],
         "mode": "lines",
         "name": "",
         "showlegend": false,
         "subplot": "mapbox",
         "type": "scattermapbox"
        },
        {
         "hovertemplate": "lat=%{lat}<br>lon=%{lon}<extra></extra>",
         "lat": [
          40.721907299011946,
          40.71318978443742
         ],
         "legendgroup": "",
         "line": {
          "color": "red"
         },
         "lon": [
          -74.0360414609313,
          -74.03391773812473
         ],
         "mode": "lines",
         "name": "",
         "showlegend": false,
         "subplot": "mapbox",
         "type": "scattermapbox"
        },
        {
         "hovertemplate": "lat=%{lat}<br>lon=%{lon}<extra></extra>",
         "lat": [
          40.71535239927471,
          40.721752820536494
         ],
         "legendgroup": "",
         "line": {
          "color": "red"
         },
         "lon": [
          -74.048425052315,
          -74.03677772730589
         ],
         "mode": "lines",
         "name": "",
         "showlegend": false,
         "subplot": "mapbox",
         "type": "scattermapbox"
        },
        {
         "hovertemplate": "lat=%{lat}<br>lon=%{lon}<extra></extra>",
         "lat": [
          40.721897492185235,
          40.708297519013286
         ],
         "legendgroup": "",
         "line": {
          "color": "red"
         },
         "lon": [
          -74.03605646453798,
          -74.03827909380198
         ],
         "mode": "lines",
         "name": "",
         "showlegend": false,
         "subplot": "mapbox",
         "type": "scattermapbox"
        },
        {
         "hovertemplate": "lat=%{lat}<br>lon=%{lon}<extra></extra>",
         "lat": [
          40.721764722839,
          40.7103674300015
         ],
         "legendgroup": "",
         "line": {
          "color": "red"
         },
         "lon": [
          -74.03636693023145,
          -74.0466342587024
         ],
         "mode": "lines",
         "name": "",
         "showlegend": false,
         "subplot": "mapbox",
         "type": "scattermapbox"
        },
        {
         "hovertemplate": "lat=%{lat}<br>lon=%{lon}<extra></extra>",
         "lat": [
          40.72182674892247,
          40.71518844924867
         ],
         "legendgroup": "",
         "line": {
          "color": "red"
         },
         "lon": [
          -74.03614858165383,
          -74.03781750239432
         ],
         "mode": "lines",
         "name": "",
         "showlegend": false,
         "subplot": "mapbox",
         "type": "scattermapbox"
        },
        {
         "hovertemplate": "lat=%{lat}<br>lon=%{lon}<extra></extra>",
         "lat": [
          40.721857426688075,
          40.71402152068913
         ],
         "legendgroup": "",
         "line": {
          "color": "red"
         },
         "lon": [
          -74.03598454780877,
          -74.04116640798748
         ],
         "mode": "lines",
         "name": "",
         "showlegend": false,
         "subplot": "mapbox",
         "type": "scattermapbox"
        },
        {
         "hovertemplate": "lat=%{lat}<br>lon=%{lon}<extra></extra>",
         "lat": [
          40.72199530899525,
          40.71304905228317
         ],
         "legendgroup": "",
         "line": {
          "color": "red"
         },
         "lon": [
          -74.03647480532527,
          -74.03463455848396
         ],
         "mode": "lines",
         "name": "",
         "showlegend": false,
         "subplot": "mapbox",
         "type": "scattermapbox"
        },
        {
         "hovertemplate": "lat=%{lat}<br>lon=%{lon}<extra></extra>",
         "lat": [
          40.721847703680396,
          40.72113364934921
         ],
         "legendgroup": "",
         "line": {
          "color": "red"
         },
         "lon": [
          -74.0359463263303,
          -74.03714192099869
         ],
         "mode": "lines",
         "name": "",
         "showlegend": false,
         "subplot": "mapbox",
         "type": "scattermapbox"
        },
        {
         "hovertemplate": "lat=%{lat}<br>lon=%{lon}<extra></extra>",
         "lat": [
          40.72236486710608,
          40.720487739890814
         ],
         "legendgroup": "",
         "line": {
          "color": "red"
         },
         "lon": [
          -74.03617104515433,
          -74.03362110257149
         ],
         "mode": "lines",
         "name": "",
         "showlegend": false,
         "subplot": "mapbox",
         "type": "scattermapbox"
        },
        {
         "hovertemplate": "lat=%{lat}<br>lon=%{lon}<extra></extra>",
         "lat": [
          40.721935546025634,
          40.71996772661805
         ],
         "legendgroup": "",
         "line": {
          "color": "red"
         },
         "lon": [
          -74.03594146482646,
          -74.03265240602195
         ],
         "mode": "lines",
         "name": "",
         "showlegend": false,
         "subplot": "mapbox",
         "type": "scattermapbox"
        },
        {
         "hovertemplate": "lat=%{lat}<br>lon=%{lon}<extra></extra>",
         "lat": [
          40.72184359654784,
          40.709861582145095
         ],
         "legendgroup": "",
         "line": {
          "color": "red"
         },
         "lon": [
          -74.0359206777066,
          -74.04221246950328
         ],
         "mode": "lines",
         "name": "",
         "showlegend": false,
         "subplot": "mapbox",
         "type": "scattermapbox"
        },
        {
         "hovertemplate": "lat=%{lat}<br>lon=%{lon}<extra></extra>",
         "lat": [
          40.721826581284404,
          40.71246827021241
         ],
         "legendgroup": "",
         "line": {
          "color": "red"
         },
         "lon": [
          -74.03603333048522,
          -74.03785429894924
         ],
         "mode": "lines",
         "name": "",
         "showlegend": false,
         "subplot": "mapbox",
         "type": "scattermapbox"
        },
        {
         "hovertemplate": "lat=%{lat}<br>lon=%{lon}<extra></extra>",
         "lat": [
          40.721926828846335,
          40.714762061834335
         ],
         "legendgroup": "",
         "line": {
          "color": "red"
         },
         "lon": [
          -74.03582654893398,
          -74.0331197809428
         ],
         "mode": "lines",
         "name": "",
         "showlegend": false,
         "subplot": "mapbox",
         "type": "scattermapbox"
        },
        {
         "hovertemplate": "lat=%{lat}<br>lon=%{lon}<extra></extra>",
         "lat": [
          40.721895480528474,
          40.71330185048282
         ],
         "legendgroup": "",
         "line": {
          "color": "red"
         },
         "lon": [
          -74.03602595441043,
          -74.03451402671635
         ],
         "mode": "lines",
         "name": "",
         "showlegend": false,
         "subplot": "mapbox",
         "type": "scattermapbox"
        },
        {
         "hovertemplate": "lat=%{lat}<br>lon=%{lon}<extra></extra>",
         "lat": [
          40.72190646082163,
          40.722934920340776
         ],
         "legendgroup": "",
         "line": {
          "color": "red"
         },
         "lon": [
          -74.03603693470359,
          -74.04062158428133
         ],
         "mode": "lines",
         "name": "",
         "showlegend": false,
         "subplot": "mapbox",
         "type": "scattermapbox"
        },
        {
         "hovertemplate": "lat=%{lat}<br>lon=%{lon}<extra></extra>",
         "lat": [
          40.72178584523499,
          40.721156867221
         ],
         "legendgroup": "",
         "line": {
          "color": "red"
         },
         "lon": [
          -74.03596669435501,
          -74.03356385417283
         ],
         "mode": "lines",
         "name": "",
         "showlegend": false,
         "subplot": "mapbox",
         "type": "scattermapbox"
        },
        {
         "hovertemplate": "lat=%{lat}<br>lon=%{lon}<extra></extra>",
         "lat": [
          40.72181845083833,
          40.71837415918708
         ],
         "legendgroup": "",
         "line": {
          "color": "red"
         },
         "lon": [
          -74.03608228079975,
          -74.03278735466301
         ],
         "mode": "lines",
         "name": "",
         "showlegend": false,
         "subplot": "mapbox",
         "type": "scattermapbox"
        },
        {
         "hovertemplate": "lat=%{lat}<br>lon=%{lon}<extra></extra>",
         "lat": [
          40.721832029521465,
          40.719554582610726
         ],
         "legendgroup": "",
         "line": {
          "color": "red"
         },
         "lon": [
          -74.03665015473962,
          -74.0325685031712
         ],
         "mode": "lines",
         "name": "",
         "showlegend": false,
         "subplot": "mapbox",
         "type": "scattermapbox"
        },
        {
         "hovertemplate": "lat=%{lat}<br>lon=%{lon}<extra></extra>",
         "lat": [
          40.72189036756754,
          40.720317335799336
         ],
         "legendgroup": "",
         "line": {
          "color": "red"
         },
         "lon": [
          -74.03612712398171,
          -74.03152839280665
         ],
         "mode": "lines",
         "name": "",
         "showlegend": false,
         "subplot": "mapbox",
         "type": "scattermapbox"
        },
        {
         "hovertemplate": "lat=%{lat}<br>lon=%{lon}<extra></extra>",
         "lat": [
          40.72198818437755,
          40.72198952548206
         ],
         "legendgroup": "",
         "line": {
          "color": "red"
         },
         "lon": [
          -74.03618571348488,
          -74.03616073541343
         ],
         "mode": "lines",
         "name": "",
         "showlegend": false,
         "subplot": "mapbox",
         "type": "scattermapbox"
        },
        {
         "hovertemplate": "lat=%{lat}<br>lon=%{lon}<extra></extra>",
         "lat": [
          40.72190864011645,
          40.72122048586607
         ],
         "legendgroup": "",
         "line": {
          "color": "red"
         },
         "lon": [
          -74.03602737933397,
          -74.03173232451081
         ],
         "mode": "lines",
         "name": "",
         "showlegend": false,
         "subplot": "mapbox",
         "type": "scattermapbox"
        },
        {
         "hovertemplate": "lat=%{lat}<br>lon=%{lon}<extra></extra>",
         "lat": [
          40.72229839861393,
          40.719090308994055
         ],
         "legendgroup": "",
         "line": {
          "color": "red"
         },
         "lon": [
          -74.03602763079107,
          -74.03258543461561
         ],
         "mode": "lines",
         "name": "",
         "showlegend": false,
         "subplot": "mapbox",
         "type": "scattermapbox"
        },
        {
         "hovertemplate": "lat=%{lat}<br>lon=%{lon}<extra></extra>",
         "lat": [
          40.72183320298791,
          40.710172299295664
         ],
         "legendgroup": "",
         "line": {
          "color": "red"
         },
         "lon": [
          -74.03605244122446,
          -74.04491471126676
         ],
         "mode": "lines",
         "name": "",
         "showlegend": false,
         "subplot": "mapbox",
         "type": "scattermapbox"
        },
        {
         "hovertemplate": "lat=%{lat}<br>lon=%{lon}<extra></extra>",
         "lat": [
          40.72186555713415,
          40.72163974866271
         ],
         "legendgroup": "",
         "line": {
          "color": "red"
         },
         "lon": [
          -74.0360240265727,
          -74.03653406538069
         ],
         "mode": "lines",
         "name": "",
         "showlegend": false,
         "subplot": "mapbox",
         "type": "scattermapbox"
        },
        {
         "hovertemplate": "lat=%{lat}<br>lon=%{lon}<extra></extra>",
         "lat": [
          40.72197401896119,
          40.72187913581729
         ],
         "legendgroup": "",
         "line": {
          "color": "red"
         },
         "lon": [
          -74.03587675653398,
          -74.03609468601644
         ],
         "mode": "lines",
         "name": "",
         "showlegend": false,
         "subplot": "mapbox",
         "type": "scattermapbox"
        },
        {
         "hovertemplate": "lat=%{lat}<br>lon=%{lon}<extra></extra>",
         "lat": [
          40.721904281526804,
          40.713261533528566
         ],
         "legendgroup": "",
         "line": {
          "color": "red"
         },
         "lon": [
          -74.03602821752429,
          -74.03400180861354
         ],
         "mode": "lines",
         "name": "",
         "showlegend": false,
         "subplot": "mapbox",
         "type": "scattermapbox"
        },
        {
         "hovertemplate": "lat=%{lat}<br>lon=%{lon}<extra></extra>",
         "lat": [
          40.71632637642324,
          40.714248921722174
         ],
         "legendgroup": "",
         "line": {
          "color": "red"
         },
         "lon": [
          -74.03278291225433,
          -74.03329705819488
         ],
         "mode": "lines",
         "name": "",
         "showlegend": false,
         "subplot": "mapbox",
         "type": "scattermapbox"
        },
        {
         "hovertemplate": "lat=%{lat}<br>lon=%{lon}<extra></extra>",
         "lat": [
          40.721878465265036,
          40.71934469975531
         ],
         "legendgroup": "",
         "line": {
          "color": "red"
         },
         "lon": [
          -74.03610549867153,
          -74.03229005634785
         ],
         "mode": "lines",
         "name": "",
         "showlegend": false,
         "subplot": "mapbox",
         "type": "scattermapbox"
        },
        {
         "hovertemplate": "lat=%{lat}<br>lon=%{lon}<extra></extra>",
         "lat": [
          40.7218683231622,
          40.71680288761854
         ],
         "legendgroup": "",
         "line": {
          "color": "red"
         },
         "lon": [
          -74.03607456944883,
          -74.03274393640459
         ],
         "mode": "lines",
         "name": "",
         "showlegend": false,
         "subplot": "mapbox",
         "type": "scattermapbox"
        },
        {
         "hovertemplate": "lat=%{lat}<br>lon=%{lon}<extra></extra>",
         "lat": [
          40.72195532731712,
          40.72191081941128
         ],
         "legendgroup": "",
         "line": {
          "color": "red"
         },
         "lon": [
          -74.03633784502745,
          -74.03198914602399
         ],
         "mode": "lines",
         "name": "",
         "showlegend": false,
         "subplot": "mapbox",
         "type": "scattermapbox"
        },
        {
         "hovertemplate": "lat=%{lat}<br>lon=%{lon}<extra></extra>",
         "lat": [
          40.721850050613284,
          40.70920720696449
         ],
         "legendgroup": "",
         "line": {
          "color": "red"
         },
         "lon": [
          -74.0360930096358,
          -74.03737527318299
         ],
         "mode": "lines",
         "name": "",
         "showlegend": false,
         "subplot": "mapbox",
         "type": "scattermapbox"
        },
        {
         "hovertemplate": "lat=%{lat}<br>lon=%{lon}<extra></extra>",
         "lat": [
          39.27250214852393,
          39.271901501342654
         ],
         "legendgroup": "",
         "line": {
          "color": "red"
         },
         "lon": [
          -76.69633372686803,
          -76.70297462493181
         ],
         "mode": "lines",
         "name": "",
         "showlegend": false,
         "subplot": "mapbox",
         "type": "scattermapbox"
        },
        {
         "hovertemplate": "lat=%{lat}<br>lon=%{lon}<extra></extra>",
         "lat": [
          39.25259227864444,
          39.25045447424054
         ],
         "legendgroup": "",
         "line": {
          "color": "red"
         },
         "lon": [
          -76.71357312239707,
          -76.71255019493401
         ],
         "mode": "lines",
         "name": "",
         "showlegend": false,
         "subplot": "mapbox",
         "type": "scattermapbox"
        },
        {
         "hovertemplate": "lat=%{lat}<br>lon=%{lon}<extra></extra>",
         "lat": [
          39.27248865365982,
          39.25530759617686
         ],
         "legendgroup": "",
         "line": {
          "color": "red"
         },
         "lon": [
          -76.69630547985435,
          -76.70086339116096
         ],
         "mode": "lines",
         "name": "",
         "showlegend": false,
         "subplot": "mapbox",
         "type": "scattermapbox"
        },
        {
         "hovertemplate": "lat=%{lat}<br>lon=%{lon}<extra></extra>",
         "lat": [
          39.25256973132491,
          39.25136969424784
         ],
         "legendgroup": "",
         "line": {
          "color": "red"
         },
         "lon": [
          -76.71357261948287,
          -76.71324941329658
         ],
         "mode": "lines",
         "name": "",
         "showlegend": false,
         "subplot": "mapbox",
         "type": "scattermapbox"
        },
        {
         "hovertemplate": "lat=%{lat}<br>lon=%{lon}<extra></extra>",
         "lat": [
          39.272519163787365,
          39.26936681382358
         ],
         "legendgroup": "",
         "line": {
          "color": "red"
         },
         "lon": [
          -76.69635074213147,
          -76.69188595376909
         ],
         "mode": "lines",
         "name": "",
         "showlegend": false,
         "subplot": "mapbox",
         "type": "scattermapbox"
        },
        {
         "hovertemplate": "lat=%{lat}<br>lon=%{lon}<extra></extra>",
         "lat": [
          38.904664758592844,
          38.90445336699486
         ],
         "legendgroup": "",
         "line": {
          "color": "red"
         },
         "lon": [
          -77.0702749863267,
          -77.0703595597297
         ],
         "mode": "lines",
         "name": "",
         "showlegend": false,
         "subplot": "mapbox",
         "type": "scattermapbox"
        },
        {
         "hovertemplate": "lat=%{lat}<br>lon=%{lon}<extra></extra>",
         "lat": [
          39.251450411975384,
          39.251307249069214
         ],
         "legendgroup": "",
         "line": {
          "color": "red"
         },
         "lon": [
          -76.71325913630426,
          -76.71117966994643
         ],
         "mode": "lines",
         "name": "",
         "showlegend": false,
         "subplot": "mapbox",
         "type": "scattermapbox"
        },
        {
         "hovertemplate": "lat=%{lat}<br>lon=%{lon}<extra></extra>",
         "lat": [
          39.25106266513467,
          39.25259596668184
         ],
         "legendgroup": "",
         "line": {
          "color": "red"
         },
         "lon": [
          -76.71200201846659,
          -76.70932936482131
         ],
         "mode": "lines",
         "name": "",
         "showlegend": false,
         "subplot": "mapbox",
         "type": "scattermapbox"
        },
        {
         "hovertemplate": "lat=%{lat}<br>lon=%{lon}<extra></extra>",
         "lat": [
          40.66512359306216,
          40.772895673289895
         ],
         "legendgroup": "",
         "line": {
          "color": "red"
         },
         "lon": [
          -73.96134344860911,
          -73.97658250294626
         ],
         "mode": "lines",
         "name": "",
         "showlegend": false,
         "subplot": "mapbox",
         "type": "scattermapbox"
        },
        {
         "hovertemplate": "lat=%{lat}<br>lon=%{lon}<extra></extra>",
         "lat": [
          39.27251446992159,
          39.251645458862185
         ],
         "legendgroup": "",
         "line": {
          "color": "red"
         },
         "lon": [
          -76.69635736383498,
          -76.7130200844258
         ],
         "mode": "lines",
         "name": "",
         "showlegend": false,
         "subplot": "mapbox",
         "type": "scattermapbox"
        },
        {
         "hovertemplate": "lat=%{lat}<br>lon=%{lon}<extra></extra>",
         "lat": [
          39.272493766620755,
          39.254609970375896
         ],
         "legendgroup": "",
         "line": {
          "color": "red"
         },
         "lon": [
          -76.6963579505682,
          -76.70630416832864
         ],
         "mode": "lines",
         "name": "",
         "showlegend": false,
         "subplot": "mapbox",
         "type": "scattermapbox"
        },
        {
         "hovertemplate": "lat=%{lat}<br>lon=%{lon}<extra></extra>",
         "lat": [
          39.27249485626817,
          39.25268799997866
         ],
         "legendgroup": "",
         "line": {
          "color": "red"
         },
         "lon": [
          -76.69633900746703,
          -76.71309367753565
         ],
         "mode": "lines",
         "name": "",
         "showlegend": false,
         "subplot": "mapbox",
         "type": "scattermapbox"
        },
        {
         "hovertemplate": "lat=%{lat}<br>lon=%{lon}<extra></extra>",
         "lat": [
          39.27247985266149,
          39.25345100462437
         ],
         "legendgroup": "",
         "line": {
          "color": "red"
         },
         "lon": [
          -76.69631981290877,
          -76.70696390792727
         ],
         "mode": "lines",
         "name": "",
         "showlegend": false,
         "subplot": "mapbox",
         "type": "scattermapbox"
        },
        {
         "hovertemplate": "lat=%{lat}<br>lon=%{lon}<extra></extra>",
         "lat": [
          39.25281196832657,
          39.25343122333288
         ],
         "legendgroup": "",
         "line": {
          "color": "red"
         },
         "lon": [
          -76.71344169415534,
          -76.71498136594892
         ],
         "mode": "lines",
         "name": "",
         "showlegend": false,
         "subplot": "mapbox",
         "type": "scattermapbox"
        },
        {
         "hovertemplate": "lat=%{lat}<br>lon=%{lon}<extra></extra>",
         "lat": [
          39.27253047935665,
          39.25424485467374
         ],
         "legendgroup": "",
         "line": {
          "color": "red"
         },
         "lon": [
          -76.69633464887738,
          -76.70615639537573
         ],
         "mode": "lines",
         "name": "",
         "showlegend": false,
         "subplot": "mapbox",
         "type": "scattermapbox"
        },
        {
         "hovertemplate": "lat=%{lat}<br>lon=%{lon}<extra></extra>",
         "lat": [
          39.27252192981541,
          39.252744913101196
         ],
         "legendgroup": "",
         "line": {
          "color": "red"
         },
         "lon": [
          -76.69639348983765,
          -76.70849385671318
         ],
         "mode": "lines",
         "name": "",
         "showlegend": false,
         "subplot": "mapbox",
         "type": "scattermapbox"
        },
        {
         "hovertemplate": "lat=%{lat}<br>lon=%{lon}<extra></extra>",
         "lat": [
          39.251993810757995,
          39.25326534546912
         ],
         "legendgroup": "",
         "line": {
          "color": "red"
         },
         "lon": [
          -76.70930849388242,
          -76.70722374692559
         ],
         "mode": "lines",
         "name": "",
         "showlegend": false,
         "subplot": "mapbox",
         "type": "scattermapbox"
        },
        {
         "hovertemplate": "lat=%{lat}<br>lon=%{lon}<extra></extra>",
         "lat": [
          39.272521,
          39.252674
         ],
         "legendgroup": "",
         "line": {
          "color": "red"
         },
         "lon": [
          -76.696334,
          -76.708679
         ],
         "mode": "lines",
         "name": "",
         "showlegend": false,
         "subplot": "mapbox",
         "type": "scattermapbox"
        },
        {
         "hovertemplate": "lat=%{lat}<br>lon=%{lon}<extra></extra>",
         "lat": [
          39.28653035312891,
          39.28631284274161
         ],
         "legendgroup": "",
         "line": {
          "color": "red"
         },
         "lon": [
          -76.61675987765193,
          -76.6237744409591
         ],
         "mode": "lines",
         "name": "",
         "showlegend": false,
         "subplot": "mapbox",
         "type": "scattermapbox"
        },
        {
         "hovertemplate": "lat=%{lat}<br>lon=%{lon}<extra></extra>",
         "lat": [
          39.283188823610544,
          39.286541165784
         ],
         "legendgroup": "",
         "line": {
          "color": "red"
         },
         "lon": [
          -76.62045110017061,
          -76.61391656845808
         ],
         "mode": "lines",
         "name": "",
         "showlegend": false,
         "subplot": "mapbox",
         "type": "scattermapbox"
        },
        {
         "hovertemplate": "lat=%{lat}<br>lon=%{lon}<extra></extra>",
         "lat": [
          39.27249435335398,
          39.272465938702226
         ],
         "legendgroup": "",
         "line": {
          "color": "red"
         },
         "lon": [
          -76.69637680985034,
          -76.69636432081461
         ],
         "mode": "lines",
         "name": "",
         "showlegend": false,
         "subplot": "mapbox",
         "type": "scattermapbox"
        },
        {
         "hovertemplate": "lat=%{lat}<br>lon=%{lon}<extra></extra>",
         "lat": [
          39.27250097505748,
          39.25348344258964
         ],
         "legendgroup": "",
         "line": {
          "color": "red"
         },
         "lon": [
          -76.6963196452707,
          -76.70741032809019
         ],
         "mode": "lines",
         "name": "",
         "showlegend": false,
         "subplot": "mapbox",
         "type": "scattermapbox"
        },
        {
         "hovertemplate": "lat=%{lat}<br>lon=%{lon}<extra></extra>",
         "lat": [
          39.27251044660807,
          39.27221448160708
         ],
         "legendgroup": "",
         "line": {
          "color": "red"
         },
         "lon": [
          -76.69633540324867,
          -76.69462943449616
         ],
         "mode": "lines",
         "name": "",
         "showlegend": false,
         "subplot": "mapbox",
         "type": "scattermapbox"
        },
        {
         "hovertemplate": "lat=%{lat}<br>lon=%{lon}<extra></extra>",
         "lat": [
          39.252915317192674,
          39.25302260555327
         ],
         "legendgroup": "",
         "line": {
          "color": "red"
         },
         "lon": [
          -76.71251138672233,
          -76.71257592737675
         ],
         "mode": "lines",
         "name": "",
         "showlegend": false,
         "subplot": "mapbox",
         "type": "scattermapbox"
        },
        {
         "hovertemplate": "lat=%{lat}<br>lon=%{lon}<extra></extra>",
         "lat": [
          40.77151441946626,
          40.773720452561975
         ],
         "legendgroup": "",
         "line": {
          "color": "red"
         },
         "lon": [
          -73.96975452080369,
          -73.97124256007373
         ],
         "mode": "lines",
         "name": "",
         "showlegend": false,
         "subplot": "mapbox",
         "type": "scattermapbox"
        },
        {
         "hovertemplate": "lat=%{lat}<br>lon=%{lon}<extra></extra>",
         "lat": [
          40.71487764827907,
          40.71296380832791
         ],
         "legendgroup": "",
         "line": {
          "color": "red"
         },
         "lon": [
          -74.03590919449925,
          -74.03347953222692
         ],
         "mode": "lines",
         "name": "",
         "showlegend": false,
         "subplot": "mapbox",
         "type": "scattermapbox"
        },
        {
         "hovertemplate": "lat=%{lat}<br>lon=%{lon}<extra></extra>",
         "lat": [
          40.71265820413828,
          40.767693780362606
         ],
         "legendgroup": "",
         "line": {
          "color": "red"
         },
         "lon": [
          -74.00465684942901,
          -73.96590705960989
         ],
         "mode": "lines",
         "name": "",
         "showlegend": false,
         "subplot": "mapbox",
         "type": "scattermapbox"
        },
        {
         "hovertemplate": "lat=%{lat}<br>lon=%{lon}<extra></extra>",
         "lat": [
          40.71463239379227,
          40.71241135708988
         ],
         "legendgroup": "",
         "line": {
          "color": "red"
         },
         "lon": [
          -74.03594188392162,
          -74.03357164934278
         ],
         "mode": "lines",
         "name": "",
         "showlegend": false,
         "subplot": "mapbox",
         "type": "scattermapbox"
        },
        {
         "hovertemplate": "lat=%{lat}<br>lon=%{lon}<extra></extra>",
         "lat": [
          40.71460800245404,
          40.713324984535575
         ],
         "legendgroup": "",
         "line": {
          "color": "red"
         },
         "lon": [
          -74.03605839237571,
          -74.03334341011941
         ],
         "mode": "lines",
         "name": "",
         "showlegend": false,
         "subplot": "mapbox",
         "type": "scattermapbox"
        },
        {
         "hovertemplate": "lat=%{lat}<br>lon=%{lon}<extra></extra>",
         "lat": [
          40.714741945266724,
          40.710339685902
         ],
         "legendgroup": "",
         "line": {
          "color": "red"
         },
         "lon": [
          -74.03599133715034,
          -74.04640308581293
         ],
         "mode": "lines",
         "name": "",
         "showlegend": false,
         "subplot": "mapbox",
         "type": "scattermapbox"
        },
        {
         "hovertemplate": "lat=%{lat}<br>lon=%{lon}<extra></extra>",
         "lat": [
          40.71463876403868,
          40.71441890671849
         ],
         "legendgroup": "",
         "line": {
          "color": "red"
         },
         "lon": [
          -74.03591690585017,
          -74.0346946567297
         ],
         "mode": "lines",
         "name": "",
         "showlegend": false,
         "subplot": "mapbox",
         "type": "scattermapbox"
        },
        {
         "hovertemplate": "lat=%{lat}<br>lon=%{lon}<extra></extra>",
         "lat": [
          40.71463180705905,
          40.70491491816938
         ],
         "legendgroup": "",
         "line": {
          "color": "red"
         },
         "lon": [
          -74.0359656047076,
          -74.04122499749064
         ],
         "mode": "lines",
         "name": "",
         "showlegend": false,
         "subplot": "mapbox",
         "type": "scattermapbox"
        },
        {
         "hovertemplate": "lat=%{lat}<br>lon=%{lon}<extra></extra>",
         "lat": [
          40.71589705534279,
          40.7140869833529
         ],
         "legendgroup": "",
         "line": {
          "color": "red"
         },
         "lon": [
          -74.0447517670691,
          -74.0346959978342
         ],
         "mode": "lines",
         "name": "",
         "showlegend": false,
         "subplot": "mapbox",
         "type": "scattermapbox"
        },
        {
         "hovertemplate": "lat=%{lat}<br>lon=%{lon}<extra></extra>",
         "lat": [
          40.71456139907241,
          40.71052358485758
         ],
         "legendgroup": "",
         "line": {
          "color": "red"
         },
         "lon": [
          -74.03596443124115,
          -74.04813998378813
         ],
         "mode": "lines",
         "name": "",
         "showlegend": false,
         "subplot": "mapbox",
         "type": "scattermapbox"
        },
        {
         "hovertemplate": "lat=%{lat}<br>lon=%{lon}<extra></extra>",
         "lat": [
          40.7148711103946,
          40.7147432025522
         ],
         "legendgroup": "",
         "line": {
          "color": "red"
         },
         "lon": [
          -74.04965534806252,
          -74.03541893698275
         ],
         "mode": "lines",
         "name": "",
         "showlegend": false,
         "subplot": "mapbox",
         "type": "scattermapbox"
        },
        {
         "hovertemplate": "lat=%{lat}<br>lon=%{lon}<extra></extra>",
         "lat": [
          40.714426366612315,
          40.71028796955943
         ],
         "legendgroup": "",
         "line": {
          "color": "red"
         },
         "lon": [
          -74.03611312620342,
          -74.0460607688874
         ],
         "mode": "lines",
         "name": "",
         "showlegend": false,
         "subplot": "mapbox",
         "type": "scattermapbox"
        },
        {
         "hovertemplate": "lat=%{lat}<br>lon=%{lon}<extra></extra>",
         "lat": [
          40.71457321755588,
          40.71482811123133
         ],
         "legendgroup": "",
         "line": {
          "color": "red"
         },
         "lon": [
          -74.03588220477104,
          -74.03567642904818
         ],
         "mode": "lines",
         "name": "",
         "showlegend": false,
         "subplot": "mapbox",
         "type": "scattermapbox"
        },
        {
         "hovertemplate": "lat=%{lat}<br>lon=%{lon}<extra></extra>",
         "lat": [
          39.27250860258937,
          39.27244707942009
         ],
         "legendgroup": "",
         "line": {
          "color": "red"
         },
         "lon": [
          -76.69637337327003,
          -76.69636331498623
         ],
         "mode": "lines",
         "name": "",
         "showlegend": false,
         "subplot": "mapbox",
         "type": "scattermapbox"
        },
        {
         "hovertemplate": "lat=%{lat}<br>lon=%{lon}<extra></extra>",
         "lat": [
          39.27252494730055,
          39.27245143800974
         ],
         "legendgroup": "",
         "line": {
          "color": "red"
         },
         "lon": [
          -76.69631998054683,
          -76.69639013707638
         ],
         "mode": "lines",
         "name": "",
         "showlegend": false,
         "subplot": "mapbox",
         "type": "scattermapbox"
        },
        {
         "hovertemplate": "lat=%{lat}<br>lon=%{lon}<extra></extra>",
         "lat": [
          39.272494772449136,
          39.27246367558837
         ],
         "legendgroup": "",
         "line": {
          "color": "red"
         },
         "lon": [
          -76.69640866108239,
          -76.69636884704232
         ],
         "mode": "lines",
         "name": "",
         "showlegend": false,
         "subplot": "mapbox",
         "type": "scattermapbox"
        },
        {
         "hovertemplate": "lat=%{lat}<br>lon=%{lon}<extra></extra>",
         "lat": [
          39.272621758282185,
          39.27250734530389
         ],
         "legendgroup": "",
         "line": {
          "color": "red"
         },
         "lon": [
          -76.69633297249675,
          -76.69635468162596
         ],
         "mode": "lines",
         "name": "",
         "showlegend": false,
         "subplot": "mapbox",
         "type": "scattermapbox"
        },
        {
         "hovertemplate": "lat=%{lat}<br>lon=%{lon}<extra></extra>",
         "lat": [
          39.27257808856666,
          39.27250818349421
         ],
         "legendgroup": "",
         "line": {
          "color": "red"
         },
         "lon": [
          -76.69626507908106,
          -76.69635669328272
         ],
         "mode": "lines",
         "name": "",
         "showlegend": false,
         "subplot": "mapbox",
         "type": "scattermapbox"
        },
        {
         "hovertemplate": "lat=%{lat}<br>lon=%{lon}<extra></extra>",
         "lat": [
          39.25251114182174,
          39.252579705789685
         ],
         "legendgroup": "",
         "line": {
          "color": "red"
         },
         "lon": [
          -76.7134093400091,
          -76.71341864392161
         ],
         "mode": "lines",
         "name": "",
         "showlegend": false,
         "subplot": "mapbox",
         "type": "scattermapbox"
        }
       ],
       "layout": {
        "height": 800,
        "legend": {
         "itemsizing": "constant",
         "title": {
          "text": "type"
         },
         "tracegroupgap": 0
        },
        "mapbox": {
         "center": {
          "lat": 40.34833807024424,
          "lon": -74.79038306680036
         },
         "domain": {
          "x": [
           0,
           1
          ],
          "y": [
           0,
           1
          ]
         },
         "style": "open-street-map",
         "zoom": 8
        },
        "margin": {
         "b": 0,
         "l": 0,
         "r": 0,
         "t": 0
        },
        "template": {
         "data": {
          "bar": [
           {
            "error_x": {
             "color": "#2a3f5f"
            },
            "error_y": {
             "color": "#2a3f5f"
            },
            "marker": {
             "line": {
              "color": "#E5ECF6",
              "width": 0.5
             },
             "pattern": {
              "fillmode": "overlay",
              "size": 10,
              "solidity": 0.2
             }
            },
            "type": "bar"
           }
          ],
          "barpolar": [
           {
            "marker": {
             "line": {
              "color": "#E5ECF6",
              "width": 0.5
             },
             "pattern": {
              "fillmode": "overlay",
              "size": 10,
              "solidity": 0.2
             }
            },
            "type": "barpolar"
           }
          ],
          "carpet": [
           {
            "aaxis": {
             "endlinecolor": "#2a3f5f",
             "gridcolor": "white",
             "linecolor": "white",
             "minorgridcolor": "white",
             "startlinecolor": "#2a3f5f"
            },
            "baxis": {
             "endlinecolor": "#2a3f5f",
             "gridcolor": "white",
             "linecolor": "white",
             "minorgridcolor": "white",
             "startlinecolor": "#2a3f5f"
            },
            "type": "carpet"
           }
          ],
          "choropleth": [
           {
            "colorbar": {
             "outlinewidth": 0,
             "ticks": ""
            },
            "type": "choropleth"
           }
          ],
          "contour": [
           {
            "colorbar": {
             "outlinewidth": 0,
             "ticks": ""
            },
            "colorscale": [
             [
              0,
              "#0d0887"
             ],
             [
              0.1111111111111111,
              "#46039f"
             ],
             [
              0.2222222222222222,
              "#7201a8"
             ],
             [
              0.3333333333333333,
              "#9c179e"
             ],
             [
              0.4444444444444444,
              "#bd3786"
             ],
             [
              0.5555555555555556,
              "#d8576b"
             ],
             [
              0.6666666666666666,
              "#ed7953"
             ],
             [
              0.7777777777777778,
              "#fb9f3a"
             ],
             [
              0.8888888888888888,
              "#fdca26"
             ],
             [
              1,
              "#f0f921"
             ]
            ],
            "type": "contour"
           }
          ],
          "contourcarpet": [
           {
            "colorbar": {
             "outlinewidth": 0,
             "ticks": ""
            },
            "type": "contourcarpet"
           }
          ],
          "heatmap": [
           {
            "colorbar": {
             "outlinewidth": 0,
             "ticks": ""
            },
            "colorscale": [
             [
              0,
              "#0d0887"
             ],
             [
              0.1111111111111111,
              "#46039f"
             ],
             [
              0.2222222222222222,
              "#7201a8"
             ],
             [
              0.3333333333333333,
              "#9c179e"
             ],
             [
              0.4444444444444444,
              "#bd3786"
             ],
             [
              0.5555555555555556,
              "#d8576b"
             ],
             [
              0.6666666666666666,
              "#ed7953"
             ],
             [
              0.7777777777777778,
              "#fb9f3a"
             ],
             [
              0.8888888888888888,
              "#fdca26"
             ],
             [
              1,
              "#f0f921"
             ]
            ],
            "type": "heatmap"
           }
          ],
          "heatmapgl": [
           {
            "colorbar": {
             "outlinewidth": 0,
             "ticks": ""
            },
            "colorscale": [
             [
              0,
              "#0d0887"
             ],
             [
              0.1111111111111111,
              "#46039f"
             ],
             [
              0.2222222222222222,
              "#7201a8"
             ],
             [
              0.3333333333333333,
              "#9c179e"
             ],
             [
              0.4444444444444444,
              "#bd3786"
             ],
             [
              0.5555555555555556,
              "#d8576b"
             ],
             [
              0.6666666666666666,
              "#ed7953"
             ],
             [
              0.7777777777777778,
              "#fb9f3a"
             ],
             [
              0.8888888888888888,
              "#fdca26"
             ],
             [
              1,
              "#f0f921"
             ]
            ],
            "type": "heatmapgl"
           }
          ],
          "histogram": [
           {
            "marker": {
             "pattern": {
              "fillmode": "overlay",
              "size": 10,
              "solidity": 0.2
             }
            },
            "type": "histogram"
           }
          ],
          "histogram2d": [
           {
            "colorbar": {
             "outlinewidth": 0,
             "ticks": ""
            },
            "colorscale": [
             [
              0,
              "#0d0887"
             ],
             [
              0.1111111111111111,
              "#46039f"
             ],
             [
              0.2222222222222222,
              "#7201a8"
             ],
             [
              0.3333333333333333,
              "#9c179e"
             ],
             [
              0.4444444444444444,
              "#bd3786"
             ],
             [
              0.5555555555555556,
              "#d8576b"
             ],
             [
              0.6666666666666666,
              "#ed7953"
             ],
             [
              0.7777777777777778,
              "#fb9f3a"
             ],
             [
              0.8888888888888888,
              "#fdca26"
             ],
             [
              1,
              "#f0f921"
             ]
            ],
            "type": "histogram2d"
           }
          ],
          "histogram2dcontour": [
           {
            "colorbar": {
             "outlinewidth": 0,
             "ticks": ""
            },
            "colorscale": [
             [
              0,
              "#0d0887"
             ],
             [
              0.1111111111111111,
              "#46039f"
             ],
             [
              0.2222222222222222,
              "#7201a8"
             ],
             [
              0.3333333333333333,
              "#9c179e"
             ],
             [
              0.4444444444444444,
              "#bd3786"
             ],
             [
              0.5555555555555556,
              "#d8576b"
             ],
             [
              0.6666666666666666,
              "#ed7953"
             ],
             [
              0.7777777777777778,
              "#fb9f3a"
             ],
             [
              0.8888888888888888,
              "#fdca26"
             ],
             [
              1,
              "#f0f921"
             ]
            ],
            "type": "histogram2dcontour"
           }
          ],
          "mesh3d": [
           {
            "colorbar": {
             "outlinewidth": 0,
             "ticks": ""
            },
            "type": "mesh3d"
           }
          ],
          "parcoords": [
           {
            "line": {
             "colorbar": {
              "outlinewidth": 0,
              "ticks": ""
             }
            },
            "type": "parcoords"
           }
          ],
          "pie": [
           {
            "automargin": true,
            "type": "pie"
           }
          ],
          "scatter": [
           {
            "fillpattern": {
             "fillmode": "overlay",
             "size": 10,
             "solidity": 0.2
            },
            "type": "scatter"
           }
          ],
          "scatter3d": [
           {
            "line": {
             "colorbar": {
              "outlinewidth": 0,
              "ticks": ""
             }
            },
            "marker": {
             "colorbar": {
              "outlinewidth": 0,
              "ticks": ""
             }
            },
            "type": "scatter3d"
           }
          ],
          "scattercarpet": [
           {
            "marker": {
             "colorbar": {
              "outlinewidth": 0,
              "ticks": ""
             }
            },
            "type": "scattercarpet"
           }
          ],
          "scattergeo": [
           {
            "marker": {
             "colorbar": {
              "outlinewidth": 0,
              "ticks": ""
             }
            },
            "type": "scattergeo"
           }
          ],
          "scattergl": [
           {
            "marker": {
             "colorbar": {
              "outlinewidth": 0,
              "ticks": ""
             }
            },
            "type": "scattergl"
           }
          ],
          "scattermapbox": [
           {
            "marker": {
             "colorbar": {
              "outlinewidth": 0,
              "ticks": ""
             }
            },
            "type": "scattermapbox"
           }
          ],
          "scatterpolar": [
           {
            "marker": {
             "colorbar": {
              "outlinewidth": 0,
              "ticks": ""
             }
            },
            "type": "scatterpolar"
           }
          ],
          "scatterpolargl": [
           {
            "marker": {
             "colorbar": {
              "outlinewidth": 0,
              "ticks": ""
             }
            },
            "type": "scatterpolargl"
           }
          ],
          "scatterternary": [
           {
            "marker": {
             "colorbar": {
              "outlinewidth": 0,
              "ticks": ""
             }
            },
            "type": "scatterternary"
           }
          ],
          "surface": [
           {
            "colorbar": {
             "outlinewidth": 0,
             "ticks": ""
            },
            "colorscale": [
             [
              0,
              "#0d0887"
             ],
             [
              0.1111111111111111,
              "#46039f"
             ],
             [
              0.2222222222222222,
              "#7201a8"
             ],
             [
              0.3333333333333333,
              "#9c179e"
             ],
             [
              0.4444444444444444,
              "#bd3786"
             ],
             [
              0.5555555555555556,
              "#d8576b"
             ],
             [
              0.6666666666666666,
              "#ed7953"
             ],
             [
              0.7777777777777778,
              "#fb9f3a"
             ],
             [
              0.8888888888888888,
              "#fdca26"
             ],
             [
              1,
              "#f0f921"
             ]
            ],
            "type": "surface"
           }
          ],
          "table": [
           {
            "cells": {
             "fill": {
              "color": "#EBF0F8"
             },
             "line": {
              "color": "white"
             }
            },
            "header": {
             "fill": {
              "color": "#C8D4E3"
             },
             "line": {
              "color": "white"
             }
            },
            "type": "table"
           }
          ]
         },
         "layout": {
          "annotationdefaults": {
           "arrowcolor": "#2a3f5f",
           "arrowhead": 0,
           "arrowwidth": 1
          },
          "autotypenumbers": "strict",
          "coloraxis": {
           "colorbar": {
            "outlinewidth": 0,
            "ticks": ""
           }
          },
          "colorscale": {
           "diverging": [
            [
             0,
             "#8e0152"
            ],
            [
             0.1,
             "#c51b7d"
            ],
            [
             0.2,
             "#de77ae"
            ],
            [
             0.3,
             "#f1b6da"
            ],
            [
             0.4,
             "#fde0ef"
            ],
            [
             0.5,
             "#f7f7f7"
            ],
            [
             0.6,
             "#e6f5d0"
            ],
            [
             0.7,
             "#b8e186"
            ],
            [
             0.8,
             "#7fbc41"
            ],
            [
             0.9,
             "#4d9221"
            ],
            [
             1,
             "#276419"
            ]
           ],
           "sequential": [
            [
             0,
             "#0d0887"
            ],
            [
             0.1111111111111111,
             "#46039f"
            ],
            [
             0.2222222222222222,
             "#7201a8"
            ],
            [
             0.3333333333333333,
             "#9c179e"
            ],
            [
             0.4444444444444444,
             "#bd3786"
            ],
            [
             0.5555555555555556,
             "#d8576b"
            ],
            [
             0.6666666666666666,
             "#ed7953"
            ],
            [
             0.7777777777777778,
             "#fb9f3a"
            ],
            [
             0.8888888888888888,
             "#fdca26"
            ],
            [
             1,
             "#f0f921"
            ]
           ],
           "sequentialminus": [
            [
             0,
             "#0d0887"
            ],
            [
             0.1111111111111111,
             "#46039f"
            ],
            [
             0.2222222222222222,
             "#7201a8"
            ],
            [
             0.3333333333333333,
             "#9c179e"
            ],
            [
             0.4444444444444444,
             "#bd3786"
            ],
            [
             0.5555555555555556,
             "#d8576b"
            ],
            [
             0.6666666666666666,
             "#ed7953"
            ],
            [
             0.7777777777777778,
             "#fb9f3a"
            ],
            [
             0.8888888888888888,
             "#fdca26"
            ],
            [
             1,
             "#f0f921"
            ]
           ]
          },
          "colorway": [
           "#636efa",
           "#EF553B",
           "#00cc96",
           "#ab63fa",
           "#FFA15A",
           "#19d3f3",
           "#FF6692",
           "#B6E880",
           "#FF97FF",
           "#FECB52"
          ],
          "font": {
           "color": "#2a3f5f"
          },
          "geo": {
           "bgcolor": "white",
           "lakecolor": "white",
           "landcolor": "#E5ECF6",
           "showlakes": true,
           "showland": true,
           "subunitcolor": "white"
          },
          "hoverlabel": {
           "align": "left"
          },
          "hovermode": "closest",
          "mapbox": {
           "style": "light"
          },
          "paper_bgcolor": "white",
          "plot_bgcolor": "#E5ECF6",
          "polar": {
           "angularaxis": {
            "gridcolor": "white",
            "linecolor": "white",
            "ticks": ""
           },
           "bgcolor": "#E5ECF6",
           "radialaxis": {
            "gridcolor": "white",
            "linecolor": "white",
            "ticks": ""
           }
          },
          "scene": {
           "xaxis": {
            "backgroundcolor": "#E5ECF6",
            "gridcolor": "white",
            "gridwidth": 2,
            "linecolor": "white",
            "showbackground": true,
            "ticks": "",
            "zerolinecolor": "white"
           },
           "yaxis": {
            "backgroundcolor": "#E5ECF6",
            "gridcolor": "white",
            "gridwidth": 2,
            "linecolor": "white",
            "showbackground": true,
            "ticks": "",
            "zerolinecolor": "white"
           },
           "zaxis": {
            "backgroundcolor": "#E5ECF6",
            "gridcolor": "white",
            "gridwidth": 2,
            "linecolor": "white",
            "showbackground": true,
            "ticks": "",
            "zerolinecolor": "white"
           }
          },
          "shapedefaults": {
           "line": {
            "color": "#2a3f5f"
           }
          },
          "ternary": {
           "aaxis": {
            "gridcolor": "white",
            "linecolor": "white",
            "ticks": ""
           },
           "baxis": {
            "gridcolor": "white",
            "linecolor": "white",
            "ticks": ""
           },
           "bgcolor": "#E5ECF6",
           "caxis": {
            "gridcolor": "white",
            "linecolor": "white",
            "ticks": ""
           }
          },
          "title": {
           "x": 0.05
          },
          "xaxis": {
           "automargin": true,
           "gridcolor": "white",
           "linecolor": "white",
           "ticks": "",
           "title": {
            "standoff": 15
           },
           "zerolinecolor": "white",
           "zerolinewidth": 2
          },
          "yaxis": {
           "automargin": true,
           "gridcolor": "white",
           "linecolor": "white",
           "ticks": "",
           "title": {
            "standoff": 15
           },
           "zerolinecolor": "white",
           "zerolinewidth": 2
          }
         }
        },
        "width": 800
       }
      }
     },
     "metadata": {},
     "output_type": "display_data"
    }
   ],
   "source": [
    "color_scale = [(0, 'orange'), (1,'red')]\n",
    "\n",
    "fig = px.scatter_mapbox(geo_df, \n",
    "                        lat=\"start_lat\", \n",
    "                        lon=\"start_long\", \n",
    "                        # hover_name=\"Address\", \n",
    "                        # hover_data=[\"Address\", \"Listed\"],\n",
    "                        color=\"type\",\n",
    "                        color_continuous_scale=color_scale,\n",
    "                        size=\"distance\",\n",
    "                        zoom=8, \n",
    "                        height=800,\n",
    "                        width=800)\n",
    "for i, row in geo_df.iterrows():\n",
    "    fig.add_trace(px.line_mapbox(\n",
    "        lat=[row['start_lat'], row['end_lat']],\n",
    "        lon=[row['start_long'], row['end_long']],\n",
    "        color_discrete_sequence=['red']\n",
    "    ).data[0])\n",
    "fig.update_layout(mapbox_style=\"open-street-map\")\n",
    "fig.update_layout(margin={\"r\":0,\"t\":0,\"l\":0,\"b\":0})\n",
    "fig.show()"
   ]
  }
 ],
 "metadata": {
  "kernelspec": {
   "display_name": ".venv",
   "language": "python",
   "name": "python3"
  },
  "language_info": {
   "codemirror_mode": {
    "name": "ipython",
    "version": 3
   },
   "file_extension": ".py",
   "mimetype": "text/x-python",
   "name": "python",
   "nbconvert_exporter": "python",
   "pygments_lexer": "ipython3",
   "version": "3.10.11"
  }
 },
 "nbformat": 4,
 "nbformat_minor": 2
}
